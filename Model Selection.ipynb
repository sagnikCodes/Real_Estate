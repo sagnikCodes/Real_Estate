{
 "cells": [
  {
   "cell_type": "code",
   "execution_count": 1,
   "id": "bff18128",
   "metadata": {},
   "outputs": [],
   "source": [
    "import numpy as np\n",
    "import pandas as pd\n",
    "import matplotlib.pyplot as plt\n",
    "import seaborn as sns\n",
    "from sklearn.preprocessing import PowerTransformer\n",
    "from sklearn.model_selection import KFold, cross_val_score, train_test_split\n",
    "from sklearn.linear_model import LinearRegression\n",
    "from sklearn.pipeline import Pipeline\n",
    "from sklearn.preprocessing import OneHotEncoder, StandardScaler, OrdinalEncoder\n",
    "from sklearn.compose import ColumnTransformer\n",
    "from sklearn.metrics import r2_score, mean_absolute_error, mean_squared_error"
   ]
  },
  {
   "cell_type": "code",
   "execution_count": 2,
   "id": "f85be6b8",
   "metadata": {},
   "outputs": [],
   "source": [
    "import warnings\n",
    "warnings.filterwarnings('ignore')"
   ]
  },
  {
   "cell_type": "code",
   "execution_count": 3,
   "id": "19217e2e",
   "metadata": {},
   "outputs": [],
   "source": [
    "data = pd.read_csv('flat_price_prediction_data.csv')"
   ]
  },
  {
   "cell_type": "code",
   "execution_count": 4,
   "id": "ac17e8ba",
   "metadata": {},
   "outputs": [
    {
     "data": {
      "text/plain": [
       "Index(['sector', 'num_bedrooms', 'num_bathrooms', 'num_balconies', 'age_group',\n",
       "       'super_built_up_area', 'floor_number', 'servant_room', 'furnished',\n",
       "       'Centrally Air Conditioned', 'False Ceiling Lighting',\n",
       "       'Intercom Facility', 'Private Garden / Terrace',\n",
       "       'Separate entry for servant room', 'Spacious Interiors',\n",
       "       'Swimming Pool', 'Club house / Community Center', 'Piped-gas', 'ac',\n",
       "       'geyser', 'fan', 'wardrobe', 'light', 'Low Density Society',\n",
       "       'total_num_rooms', 'price'],\n",
       "      dtype='object')"
      ]
     },
     "execution_count": 4,
     "metadata": {},
     "output_type": "execute_result"
    }
   ],
   "source": [
    "data.columns"
   ]
  },
  {
   "cell_type": "code",
   "execution_count": 4,
   "id": "bc1a47a9",
   "metadata": {},
   "outputs": [
    {
     "data": {
      "text/html": [
       "<div>\n",
       "<style scoped>\n",
       "    .dataframe tbody tr th:only-of-type {\n",
       "        vertical-align: middle;\n",
       "    }\n",
       "\n",
       "    .dataframe tbody tr th {\n",
       "        vertical-align: top;\n",
       "    }\n",
       "\n",
       "    .dataframe thead th {\n",
       "        text-align: right;\n",
       "    }\n",
       "</style>\n",
       "<table border=\"1\" class=\"dataframe\">\n",
       "  <thead>\n",
       "    <tr style=\"text-align: right;\">\n",
       "      <th></th>\n",
       "      <th>sector</th>\n",
       "      <th>num_bedrooms</th>\n",
       "      <th>num_bathrooms</th>\n",
       "      <th>num_balconies</th>\n",
       "      <th>age_group</th>\n",
       "      <th>super_built_up_area</th>\n",
       "      <th>floor_number</th>\n",
       "      <th>servant_room</th>\n",
       "      <th>furnished</th>\n",
       "      <th>Centrally Air Conditioned</th>\n",
       "      <th>...</th>\n",
       "      <th>Club house / Community Center</th>\n",
       "      <th>Piped-gas</th>\n",
       "      <th>ac</th>\n",
       "      <th>geyser</th>\n",
       "      <th>fan</th>\n",
       "      <th>wardrobe</th>\n",
       "      <th>light</th>\n",
       "      <th>Low Density Society</th>\n",
       "      <th>total_num_rooms</th>\n",
       "      <th>price</th>\n",
       "    </tr>\n",
       "  </thead>\n",
       "  <tbody>\n",
       "    <tr>\n",
       "      <th>0</th>\n",
       "      <td>sector 7</td>\n",
       "      <td>2</td>\n",
       "      <td>2.0</td>\n",
       "      <td>1.0</td>\n",
       "      <td>Moderately New Flat</td>\n",
       "      <td>1169.100000</td>\n",
       "      <td>4.0</td>\n",
       "      <td>0</td>\n",
       "      <td>0</td>\n",
       "      <td>0</td>\n",
       "      <td>...</td>\n",
       "      <td>0</td>\n",
       "      <td>0</td>\n",
       "      <td>0</td>\n",
       "      <td>0</td>\n",
       "      <td>3</td>\n",
       "      <td>1</td>\n",
       "      <td>4</td>\n",
       "      <td>0</td>\n",
       "      <td>5.0</td>\n",
       "      <td>0.45</td>\n",
       "    </tr>\n",
       "    <tr>\n",
       "      <th>1</th>\n",
       "      <td>sector 3</td>\n",
       "      <td>2</td>\n",
       "      <td>2.0</td>\n",
       "      <td>1.0</td>\n",
       "      <td>Old Flat</td>\n",
       "      <td>844.350000</td>\n",
       "      <td>1.0</td>\n",
       "      <td>0</td>\n",
       "      <td>1</td>\n",
       "      <td>0</td>\n",
       "      <td>...</td>\n",
       "      <td>0</td>\n",
       "      <td>0</td>\n",
       "      <td>0</td>\n",
       "      <td>1</td>\n",
       "      <td>4</td>\n",
       "      <td>3</td>\n",
       "      <td>3</td>\n",
       "      <td>0</td>\n",
       "      <td>5.0</td>\n",
       "      <td>0.50</td>\n",
       "    </tr>\n",
       "    <tr>\n",
       "      <th>2</th>\n",
       "      <td>sohna road</td>\n",
       "      <td>2</td>\n",
       "      <td>2.0</td>\n",
       "      <td>3.0</td>\n",
       "      <td>New Flat</td>\n",
       "      <td>772.905000</td>\n",
       "      <td>12.0</td>\n",
       "      <td>0</td>\n",
       "      <td>0</td>\n",
       "      <td>0</td>\n",
       "      <td>...</td>\n",
       "      <td>1</td>\n",
       "      <td>0</td>\n",
       "      <td>0</td>\n",
       "      <td>0</td>\n",
       "      <td>0</td>\n",
       "      <td>0</td>\n",
       "      <td>0</td>\n",
       "      <td>0</td>\n",
       "      <td>7.0</td>\n",
       "      <td>0.40</td>\n",
       "    </tr>\n",
       "    <tr>\n",
       "      <th>3</th>\n",
       "      <td>sector 61</td>\n",
       "      <td>2</td>\n",
       "      <td>2.0</td>\n",
       "      <td>2.0</td>\n",
       "      <td>Under Construction</td>\n",
       "      <td>1558.800000</td>\n",
       "      <td>2.0</td>\n",
       "      <td>0</td>\n",
       "      <td>0</td>\n",
       "      <td>0</td>\n",
       "      <td>...</td>\n",
       "      <td>1</td>\n",
       "      <td>0</td>\n",
       "      <td>0</td>\n",
       "      <td>0</td>\n",
       "      <td>0</td>\n",
       "      <td>0</td>\n",
       "      <td>0</td>\n",
       "      <td>0</td>\n",
       "      <td>7.0</td>\n",
       "      <td>1.47</td>\n",
       "    </tr>\n",
       "    <tr>\n",
       "      <th>4</th>\n",
       "      <td>sector 92</td>\n",
       "      <td>2</td>\n",
       "      <td>2.0</td>\n",
       "      <td>3.0</td>\n",
       "      <td>Under Construction</td>\n",
       "      <td>1345.000000</td>\n",
       "      <td>5.0</td>\n",
       "      <td>0</td>\n",
       "      <td>0</td>\n",
       "      <td>0</td>\n",
       "      <td>...</td>\n",
       "      <td>0</td>\n",
       "      <td>0</td>\n",
       "      <td>0</td>\n",
       "      <td>0</td>\n",
       "      <td>0</td>\n",
       "      <td>0</td>\n",
       "      <td>0</td>\n",
       "      <td>0</td>\n",
       "      <td>8.0</td>\n",
       "      <td>0.70</td>\n",
       "    </tr>\n",
       "    <tr>\n",
       "      <th>...</th>\n",
       "      <td>...</td>\n",
       "      <td>...</td>\n",
       "      <td>...</td>\n",
       "      <td>...</td>\n",
       "      <td>...</td>\n",
       "      <td>...</td>\n",
       "      <td>...</td>\n",
       "      <td>...</td>\n",
       "      <td>...</td>\n",
       "      <td>...</td>\n",
       "      <td>...</td>\n",
       "      <td>...</td>\n",
       "      <td>...</td>\n",
       "      <td>...</td>\n",
       "      <td>...</td>\n",
       "      <td>...</td>\n",
       "      <td>...</td>\n",
       "      <td>...</td>\n",
       "      <td>...</td>\n",
       "      <td>...</td>\n",
       "      <td>...</td>\n",
       "    </tr>\n",
       "    <tr>\n",
       "      <th>2833</th>\n",
       "      <td>sector 28</td>\n",
       "      <td>2</td>\n",
       "      <td>2.0</td>\n",
       "      <td>2.0</td>\n",
       "      <td>Moderately Old Flat</td>\n",
       "      <td>1280.525333</td>\n",
       "      <td>1.0</td>\n",
       "      <td>0</td>\n",
       "      <td>0</td>\n",
       "      <td>0</td>\n",
       "      <td>...</td>\n",
       "      <td>0</td>\n",
       "      <td>0</td>\n",
       "      <td>0</td>\n",
       "      <td>0</td>\n",
       "      <td>0</td>\n",
       "      <td>0</td>\n",
       "      <td>0</td>\n",
       "      <td>0</td>\n",
       "      <td>6.0</td>\n",
       "      <td>1.35</td>\n",
       "    </tr>\n",
       "    <tr>\n",
       "      <th>2834</th>\n",
       "      <td>sector 86</td>\n",
       "      <td>3</td>\n",
       "      <td>3.0</td>\n",
       "      <td>3.0</td>\n",
       "      <td>Under Construction</td>\n",
       "      <td>1895.000000</td>\n",
       "      <td>9.0</td>\n",
       "      <td>1</td>\n",
       "      <td>0</td>\n",
       "      <td>0</td>\n",
       "      <td>...</td>\n",
       "      <td>0</td>\n",
       "      <td>0</td>\n",
       "      <td>0</td>\n",
       "      <td>0</td>\n",
       "      <td>0</td>\n",
       "      <td>0</td>\n",
       "      <td>0</td>\n",
       "      <td>0</td>\n",
       "      <td>10.0</td>\n",
       "      <td>1.05</td>\n",
       "    </tr>\n",
       "    <tr>\n",
       "      <th>2835</th>\n",
       "      <td>sector 48</td>\n",
       "      <td>5</td>\n",
       "      <td>5.0</td>\n",
       "      <td>4.0</td>\n",
       "      <td>Old Flat</td>\n",
       "      <td>3905.000000</td>\n",
       "      <td>4.0</td>\n",
       "      <td>1</td>\n",
       "      <td>0</td>\n",
       "      <td>0</td>\n",
       "      <td>...</td>\n",
       "      <td>1</td>\n",
       "      <td>0</td>\n",
       "      <td>0</td>\n",
       "      <td>0</td>\n",
       "      <td>0</td>\n",
       "      <td>0</td>\n",
       "      <td>0</td>\n",
       "      <td>0</td>\n",
       "      <td>15.0</td>\n",
       "      <td>3.30</td>\n",
       "    </tr>\n",
       "    <tr>\n",
       "      <th>2836</th>\n",
       "      <td>sector 108</td>\n",
       "      <td>3</td>\n",
       "      <td>3.0</td>\n",
       "      <td>3.0</td>\n",
       "      <td>Moderately New Flat</td>\n",
       "      <td>1822.000000</td>\n",
       "      <td>3.0</td>\n",
       "      <td>0</td>\n",
       "      <td>0</td>\n",
       "      <td>0</td>\n",
       "      <td>...</td>\n",
       "      <td>1</td>\n",
       "      <td>0</td>\n",
       "      <td>0</td>\n",
       "      <td>0</td>\n",
       "      <td>0</td>\n",
       "      <td>0</td>\n",
       "      <td>0</td>\n",
       "      <td>0</td>\n",
       "      <td>10.0</td>\n",
       "      <td>0.95</td>\n",
       "    </tr>\n",
       "    <tr>\n",
       "      <th>2837</th>\n",
       "      <td>sector 24</td>\n",
       "      <td>3</td>\n",
       "      <td>4.0</td>\n",
       "      <td>4.0</td>\n",
       "      <td>Old Flat</td>\n",
       "      <td>4272.266667</td>\n",
       "      <td>9.0</td>\n",
       "      <td>1</td>\n",
       "      <td>1</td>\n",
       "      <td>0</td>\n",
       "      <td>...</td>\n",
       "      <td>0</td>\n",
       "      <td>1</td>\n",
       "      <td>7</td>\n",
       "      <td>5</td>\n",
       "      <td>10</td>\n",
       "      <td>4</td>\n",
       "      <td>25</td>\n",
       "      <td>0</td>\n",
       "      <td>15.0</td>\n",
       "      <td>5.80</td>\n",
       "    </tr>\n",
       "  </tbody>\n",
       "</table>\n",
       "<p>2838 rows × 26 columns</p>\n",
       "</div>"
      ],
      "text/plain": [
       "          sector  num_bedrooms  num_bathrooms  num_balconies  \\\n",
       "0       sector 7             2            2.0            1.0   \n",
       "1       sector 3             2            2.0            1.0   \n",
       "2     sohna road             2            2.0            3.0   \n",
       "3      sector 61             2            2.0            2.0   \n",
       "4      sector 92             2            2.0            3.0   \n",
       "...          ...           ...            ...            ...   \n",
       "2833   sector 28             2            2.0            2.0   \n",
       "2834   sector 86             3            3.0            3.0   \n",
       "2835   sector 48             5            5.0            4.0   \n",
       "2836  sector 108             3            3.0            3.0   \n",
       "2837   sector 24             3            4.0            4.0   \n",
       "\n",
       "                age_group  super_built_up_area  floor_number  servant_room  \\\n",
       "0     Moderately New Flat          1169.100000           4.0             0   \n",
       "1                Old Flat           844.350000           1.0             0   \n",
       "2                New Flat           772.905000          12.0             0   \n",
       "3      Under Construction          1558.800000           2.0             0   \n",
       "4      Under Construction          1345.000000           5.0             0   \n",
       "...                   ...                  ...           ...           ...   \n",
       "2833  Moderately Old Flat          1280.525333           1.0             0   \n",
       "2834   Under Construction          1895.000000           9.0             1   \n",
       "2835             Old Flat          3905.000000           4.0             1   \n",
       "2836  Moderately New Flat          1822.000000           3.0             0   \n",
       "2837             Old Flat          4272.266667           9.0             1   \n",
       "\n",
       "      furnished  Centrally Air Conditioned  ...  \\\n",
       "0             0                          0  ...   \n",
       "1             1                          0  ...   \n",
       "2             0                          0  ...   \n",
       "3             0                          0  ...   \n",
       "4             0                          0  ...   \n",
       "...         ...                        ...  ...   \n",
       "2833          0                          0  ...   \n",
       "2834          0                          0  ...   \n",
       "2835          0                          0  ...   \n",
       "2836          0                          0  ...   \n",
       "2837          1                          0  ...   \n",
       "\n",
       "      Club house / Community Center  Piped-gas  ac  geyser  fan  wardrobe  \\\n",
       "0                                 0          0   0       0    3         1   \n",
       "1                                 0          0   0       1    4         3   \n",
       "2                                 1          0   0       0    0         0   \n",
       "3                                 1          0   0       0    0         0   \n",
       "4                                 0          0   0       0    0         0   \n",
       "...                             ...        ...  ..     ...  ...       ...   \n",
       "2833                              0          0   0       0    0         0   \n",
       "2834                              0          0   0       0    0         0   \n",
       "2835                              1          0   0       0    0         0   \n",
       "2836                              1          0   0       0    0         0   \n",
       "2837                              0          1   7       5   10         4   \n",
       "\n",
       "      light  Low Density Society  total_num_rooms  price  \n",
       "0         4                    0              5.0   0.45  \n",
       "1         3                    0              5.0   0.50  \n",
       "2         0                    0              7.0   0.40  \n",
       "3         0                    0              7.0   1.47  \n",
       "4         0                    0              8.0   0.70  \n",
       "...     ...                  ...              ...    ...  \n",
       "2833      0                    0              6.0   1.35  \n",
       "2834      0                    0             10.0   1.05  \n",
       "2835      0                    0             15.0   3.30  \n",
       "2836      0                    0             10.0   0.95  \n",
       "2837     25                    0             15.0   5.80  \n",
       "\n",
       "[2838 rows x 26 columns]"
      ]
     },
     "execution_count": 4,
     "metadata": {},
     "output_type": "execute_result"
    }
   ],
   "source": [
    "data"
   ]
  },
  {
   "cell_type": "code",
   "execution_count": 86,
   "id": "b2296f58",
   "metadata": {},
   "outputs": [
    {
     "name": "stdout",
     "output_type": "stream",
     "text": [
      "<class 'pandas.core.frame.DataFrame'>\n",
      "RangeIndex: 2838 entries, 0 to 2837\n",
      "Data columns (total 26 columns):\n",
      " #   Column                           Non-Null Count  Dtype  \n",
      "---  ------                           --------------  -----  \n",
      " 0   sector                           2838 non-null   object \n",
      " 1   num_bedrooms                     2838 non-null   int64  \n",
      " 2   num_bathrooms                    2838 non-null   float64\n",
      " 3   num_balconies                    2838 non-null   float64\n",
      " 4   age_group                        2838 non-null   object \n",
      " 5   super_built_up_area              2838 non-null   float64\n",
      " 6   floor_number                     2838 non-null   float64\n",
      " 7   servant_room                     2838 non-null   int64  \n",
      " 8   furnished                        2838 non-null   int64  \n",
      " 9   Centrally Air Conditioned        2838 non-null   int64  \n",
      " 10  False Ceiling Lighting           2838 non-null   int64  \n",
      " 11  Intercom Facility                2838 non-null   int64  \n",
      " 12  Private Garden / Terrace         2838 non-null   int64  \n",
      " 13  Separate entry for servant room  2838 non-null   int64  \n",
      " 14  Spacious Interiors               2838 non-null   int64  \n",
      " 15  Swimming Pool                    2838 non-null   int64  \n",
      " 16  Club house / Community Center    2838 non-null   int64  \n",
      " 17  Piped-gas                        2838 non-null   int64  \n",
      " 18  ac                               2838 non-null   int64  \n",
      " 19  geyser                           2838 non-null   int64  \n",
      " 20  fan                              2838 non-null   int64  \n",
      " 21  wardrobe                         2838 non-null   int64  \n",
      " 22  light                            2838 non-null   int64  \n",
      " 23  Low Density Society              2838 non-null   int64  \n",
      " 24  total_num_rooms                  2838 non-null   float64\n",
      " 25  price                            2838 non-null   float64\n",
      "dtypes: float64(6), int64(18), object(2)\n",
      "memory usage: 576.6+ KB\n"
     ]
    }
   ],
   "source": [
    "data.info()"
   ]
  },
  {
   "cell_type": "code",
   "execution_count": 4,
   "id": "abe2f990",
   "metadata": {},
   "outputs": [],
   "source": [
    "X = data.drop(columns=['price'])\n",
    "y = data['price']"
   ]
  },
  {
   "cell_type": "code",
   "execution_count": 9,
   "id": "e8c02b4c",
   "metadata": {},
   "outputs": [],
   "source": [
    "categorical_columns = X.select_dtypes(include=['object']).columns\n",
    "numerical_columns = X.select_dtypes(exclude=['object']).columns"
   ]
  },
  {
   "cell_type": "code",
   "execution_count": 10,
   "id": "d25a9f0c",
   "metadata": {},
   "outputs": [
    {
     "data": {
      "text/plain": [
       "Index(['sector', 'age_group'], dtype='object')"
      ]
     },
     "execution_count": 10,
     "metadata": {},
     "output_type": "execute_result"
    }
   ],
   "source": [
    "categorical_columns"
   ]
  },
  {
   "cell_type": "code",
   "execution_count": 11,
   "id": "40dacb64",
   "metadata": {},
   "outputs": [
    {
     "data": {
      "text/plain": [
       "Index(['num_bedrooms', 'num_bathrooms', 'num_balconies', 'super_built_up_area',\n",
       "       'floor_number', 'servant_room', 'furnished',\n",
       "       'Centrally Air Conditioned', 'False Ceiling Lighting',\n",
       "       'Intercom Facility', 'Private Garden / Terrace',\n",
       "       'Separate entry for servant room', 'Spacious Interiors',\n",
       "       'Swimming Pool', 'Club house / Community Center', 'Piped-gas', 'ac',\n",
       "       'geyser', 'fan', 'wardrobe', 'light', 'Low Density Society',\n",
       "       'total_num_rooms'],\n",
       "      dtype='object')"
      ]
     },
     "execution_count": 11,
     "metadata": {},
     "output_type": "execute_result"
    }
   ],
   "source": [
    "numerical_columns"
   ]
  },
  {
   "cell_type": "markdown",
   "id": "1762ac3f",
   "metadata": {},
   "source": [
    "# Ordinal Encoding"
   ]
  },
  {
   "cell_type": "code",
   "execution_count": 91,
   "id": "9a5d8cdc",
   "metadata": {},
   "outputs": [],
   "source": [
    "preprocessor = ColumnTransformer(\n",
    "    transformers=[\n",
    "        ('yeo_johnson', PowerTransformer(method='yeo-johnson'), ['super_built_up_area']),\n",
    "        ('standardize', StandardScaler(), numerical_columns),\n",
    "        ('ordinal', OrdinalEncoder(handle_unknown='use_encoded_value', unknown_value=-1), categorical_columns)\n",
    "    ], \n",
    "    remainder='passthrough'\n",
    ")"
   ]
  },
  {
   "cell_type": "code",
   "execution_count": 92,
   "id": "7a7e8b7d",
   "metadata": {},
   "outputs": [],
   "source": [
    "from sklearn.linear_model import LinearRegression\n",
    "pipeline = Pipeline([\n",
    "    ('preprocessor', preprocessor),\n",
    "    ('regressor', LinearRegression())\n",
    "])"
   ]
  },
  {
   "cell_type": "code",
   "execution_count": 9,
   "id": "ecd2e30c",
   "metadata": {},
   "outputs": [],
   "source": [
    "def yeo_johnson_transform(column_series):\n",
    "    index_ = column_series.index\n",
    "    data_2d = np.array(column_series).reshape(-1, 1)\n",
    "    yeo_johnson_transformer = PowerTransformer(method='yeo-johnson')\n",
    "\n",
    "    transformed_data = yeo_johnson_transformer.fit_transform(data_2d)\n",
    "    transformed_data = pd.Series(transformed_data.flatten(), index=index_)\n",
    "    return (yeo_johnson_transformer, transformed_data)"
   ]
  },
  {
   "cell_type": "code",
   "execution_count": 10,
   "id": "e421418e",
   "metadata": {},
   "outputs": [],
   "source": [
    "transformer, y_transformed = yeo_johnson_transform(y)"
   ]
  },
  {
   "cell_type": "code",
   "execution_count": 95,
   "id": "b6e84d8d",
   "metadata": {
    "scrolled": false
   },
   "outputs": [],
   "source": [
    "# kfold = KFold(n_splits=10, shuffle=True, random_state=42)\n",
    "# scores = cross_val_score(pipeline, X, y_transformed, cv=kfold, scoring='r2')"
   ]
  },
  {
   "cell_type": "code",
   "execution_count": 96,
   "id": "0fb9e538",
   "metadata": {},
   "outputs": [],
   "source": [
    "# print(scores.mean(), scores.std())"
   ]
  },
  {
   "cell_type": "code",
   "execution_count": 97,
   "id": "a7dcf55f",
   "metadata": {},
   "outputs": [],
   "source": [
    "def get_model_performance(model_name, model):\n",
    "    \n",
    "    output = []\n",
    "    print(model_name)\n",
    "    \n",
    "    output.append(model_name)\n",
    "    \n",
    "    pipeline = Pipeline([\n",
    "        ('preprocessor', preprocessor),\n",
    "        ('regressor', model)\n",
    "    ])\n",
    "    \n",
    "    # K-fold cross-validation\n",
    "    kfold = KFold(n_splits=10, shuffle=True, random_state=42)\n",
    "    scores = cross_val_score(pipeline, X, yeo_johnson_transform(y)[1], cv=kfold, scoring='r2')\n",
    "    \n",
    "    output.append(scores.mean())\n",
    "    \n",
    "    X_train, X_test, y_train, y_test = train_test_split(X, y, test_size=0.2, random_state=42)\n",
    "\n",
    "    pipeline.fit(X_train, yeo_johnson_transform(y_train)[1])\n",
    "\n",
    "    y_pred = pipeline.predict(X_test)\n",
    "\n",
    "    y_pred = transformer.inverse_transform(y_pred.reshape(-1, 1))\n",
    "\n",
    "output.append(mean_absolute_error(y_test, y_pred))\n",
    "    \n",
    "    return output"
   ]
  },
  {
   "cell_type": "code",
   "execution_count": 98,
   "id": "df8c74ff",
   "metadata": {
    "scrolled": false
   },
   "outputs": [],
   "source": [
    "get_model_performance('lr', LinearRegression())"
   ]
  },
  {
   "cell_type": "code",
   "execution_count": 99,
   "id": "74309bbe",
   "metadata": {},
   "outputs": [],
   "source": [
    "from sklearn.linear_model import LinearRegression, Ridge, Lasso\n",
    "from sklearn.svm import SVR\n",
    "from sklearn.tree import DecisionTreeRegressor\n",
    "from sklearn.ensemble import RandomForestRegressor, ExtraTreesRegressor, GradientBoostingRegressor, AdaBoostRegressor\n",
    "from sklearn.neural_network import MLPRegressor\n",
    "from xgboost import XGBRegressor"
   ]
  },
  {
   "cell_type": "code",
   "execution_count": 100,
   "id": "8cd2d152",
   "metadata": {},
   "outputs": [],
   "source": [
    "model_dict = {\n",
    "    'linear_reg':LinearRegression(),\n",
    "    'svr':SVR(),\n",
    "    'ridge':Ridge(),\n",
    "    'LASSO':Lasso(),\n",
    "    'decision tree': DecisionTreeRegressor(),\n",
    "    'random forest':RandomForestRegressor(),\n",
    "    'extra trees': ExtraTreesRegressor(),\n",
    "    'gradient boosting': GradientBoostingRegressor(),\n",
    "    'adaboost': AdaBoostRegressor(),\n",
    "    'mlp': MLPRegressor(),\n",
    "    'xgboost':XGBRegressor()\n",
    "}"
   ]
  },
  {
   "cell_type": "code",
   "execution_count": 101,
   "id": "aace3403",
   "metadata": {
    "scrolled": false
   },
   "outputs": [],
   "source": [
    "model_output = []\n",
    "for model_name,model in model_dict.items():\n",
    "    model_output.append(get_model_performance(model_name, model))"
   ]
  },
  {
   "cell_type": "code",
   "execution_count": 102,
   "id": "84ac5341",
   "metadata": {},
   "outputs": [],
   "source": [
    "model_performance = pd.DataFrame(model_output, columns=['name','r2','mae'])\n",
    "# model_performance.sort_values(['mae'])"
   ]
  },
  {
   "cell_type": "markdown",
   "id": "6cced74c",
   "metadata": {},
   "source": [
    "# One Hot Encoding"
   ]
  },
  {
   "cell_type": "code",
   "execution_count": 103,
   "id": "577b5ce3",
   "metadata": {},
   "outputs": [],
   "source": [
    "preprocessor = ColumnTransformer(\n",
    "    transformers=[\n",
    "        ('yeo_johnson', PowerTransformer(method='yeo-johnson'), ['super_built_up_area']),\n",
    "        ('standardize', StandardScaler(), numerical_columns),\n",
    "        ('ohe', OneHotEncoder(handle_unknown='infrequent_if_exist'), categorical_columns)\n",
    "    ], \n",
    "    remainder='passthrough'\n",
    ")"
   ]
  },
  {
   "cell_type": "code",
   "execution_count": 104,
   "id": "b0f5d83a",
   "metadata": {},
   "outputs": [],
   "source": [
    "def get_model_performance(model_name, model):\n",
    "    \n",
    "    output = []\n",
    "    print(model_name)\n",
    "    \n",
    "    output.append(model_name)\n",
    "    \n",
    "    pipeline = Pipeline([\n",
    "        ('preprocessor', preprocessor),\n",
    "        ('regressor', model)\n",
    "    ])\n",
    "    \n",
    "    # K-fold cross-validation\n",
    "    kfold = KFold(n_splits=10, shuffle=True, random_state=42)\n",
    "    scores = cross_val_score(pipeline, X, yeo_johnson_transform(y)[1], cv=kfold, scoring='r2')\n",
    "    \n",
    "    output.append(scores.mean())\n",
    "    \n",
    "    X_train, X_test, y_train, y_test = train_test_split(X, y, test_size=0.2, random_state=42)\n",
    "    \n",
    "    pipeline.fit(X_train, yeo_johnson_transform(y_train)[1])\n",
    "    \n",
    "    y_pred = pipeline.predict(X_test)\n",
    "    \n",
    "    y_pred = transformer.inverse_transform(y_pred.reshape(-1, 1))\n",
    "    \n",
    "    output.append(mean_absolute_error(y_test, y_pred))\n",
    "    \n",
    "    return output"
   ]
  },
  {
   "cell_type": "code",
   "execution_count": 105,
   "id": "d2f3bd32",
   "metadata": {},
   "outputs": [],
   "source": [
    "model_output = []\n",
    "for model_name,model in model_dict.items():\n",
    "    model_output.append(get_model_performance(model_name, model))"
   ]
  },
  {
   "cell_type": "code",
   "execution_count": 106,
   "id": "5a404b35",
   "metadata": {},
   "outputs": [],
   "source": [
    "model_performance = pd.DataFrame(model_output, columns=['name','r2','mae'])\n",
    "model_performance.sort_values(['mae'])"
   ]
  },
  {
   "cell_type": "markdown",
   "id": "abee51fe",
   "metadata": {},
   "source": [
    "# Target Encoder"
   ]
  },
  {
   "cell_type": "code",
   "execution_count": 12,
   "id": "bd4bcbb9",
   "metadata": {},
   "outputs": [],
   "source": [
    "import category_encoders as ce\n",
    "\n",
    "preprocessor = ColumnTransformer(\n",
    "    transformers=[\n",
    "        ('yeo_johnson', PowerTransformer(method='yeo-johnson'), ['super_built_up_area']),\n",
    "        ('standardize', StandardScaler(), numerical_columns),\n",
    "        ('target', ce.TargetEncoder(), categorical_columns)\n",
    "    ], \n",
    "    remainder='passthrough'\n",
    ")"
   ]
  },
  {
   "cell_type": "code",
   "execution_count": null,
   "id": "ab3022ba",
   "metadata": {},
   "outputs": [],
   "source": []
  },
  {
   "cell_type": "code",
   "execution_count": 108,
   "id": "5298cce9",
   "metadata": {
    "scrolled": false
   },
   "outputs": [],
   "source": [
    "model_output = []\n",
    "for model_name,model in model_dict.items():\n",
    "    model_output.append(get_model_performance(model_name, model))"
   ]
  },
  {
   "cell_type": "code",
   "execution_count": 109,
   "id": "2b2e2e13",
   "metadata": {},
   "outputs": [],
   "source": [
    "model_performance = pd.DataFrame(model_output, columns=['name','r2','mae'])\n",
    "model_performance.sort_values(['mae'])"
   ]
  },
  {
   "cell_type": "markdown",
   "id": "a72448a4",
   "metadata": {},
   "source": [
    "# Target Encoder with XGBoost gives an MAE of 25 Lakhs!"
   ]
  },
  {
   "cell_type": "code",
   "execution_count": 11,
   "id": "9f8005ab",
   "metadata": {},
   "outputs": [],
   "source": [
    "categorical_columns = X.select_dtypes(include=['object']).columns\n",
    "numerical_columns = X.select_dtypes(exclude=['object']).columns"
   ]
  },
  {
   "cell_type": "code",
   "execution_count": 13,
   "id": "3579d706",
   "metadata": {},
   "outputs": [],
   "source": [
    "import category_encoders as ce\n",
    "from xgboost import XGBRegressor\n",
    "\n",
    "preprocessor = ColumnTransformer(\n",
    "    transformers=[\n",
    "        ('yeo_johnson', PowerTransformer(method='yeo-johnson'), ['super_built_up_area']),\n",
    "        ('standardize', StandardScaler(), numerical_columns),\n",
    "        ('target', ce.TargetEncoder(), categorical_columns)\n",
    "    ], \n",
    "    remainder='passthrough'\n",
    ")\n",
    "pipeline = Pipeline([\n",
    "    ('preprocessor', preprocessor),\n",
    "    ('model', XGBRegressor())\n",
    "])"
   ]
  },
  {
   "cell_type": "code",
   "execution_count": null,
   "id": "149d3518",
   "metadata": {},
   "outputs": [],
   "source": []
  },
  {
   "cell_type": "markdown",
   "id": "fe1fceda",
   "metadata": {},
   "source": [
    "Default Hyperparameters\n",
    "\n",
    "- learning_rate: 0.3\n",
    "- min_split_loss: 0\n",
    "- max_depth: 6\n",
    "- min_child_weight: 1\n",
    "- subsample: 1\n",
    "- colsample_bytree, colsample_bylevel, colsample_bynode: 1\n",
    "- lambda: 1\n",
    "- alpha: 0\n",
    "- tree_method: auto"
   ]
  },
  {
   "cell_type": "markdown",
   "id": "6550cf6d",
   "metadata": {},
   "source": [
    "Meaning of Hyperparameters\n",
    "\n",
    "- min_split_loss: Minimum loss that must be reduced if parent node is to be splitted.\n",
    "- max_depth: if 0 then no limit. 'exact' tree means, we need to specify the value as non 0.\n",
    "- min_child_weight: For linear regression it is min number of samples required to be in child node for parent to be splitted. More value means lesser overfitting.\n",
    "- subsample: If set to 0.5 means 50% of the training data will be randomly sampled before each boosting step. So introduces randomness and hence generalize more.\n",
    "- colsample_bytree: Fraction of total columns, which will be sampled before giving it to each tree.\n",
    "- colsample_byleve: Subsampling occurs once every level of tree.\n",
    "- colsample_bynode: It is like random forest.\n",
    "- lambda: L2 reguralization term.\n",
    "- alpha: L1 reguralization term."
   ]
  },
  {
   "cell_type": "code",
   "execution_count": 16,
   "id": "5e7d0713",
   "metadata": {},
   "outputs": [],
   "source": [
    "def get_performance_wrt_hyperparaneters(**hyperparameters):\n",
    "    pipeline = Pipeline([\n",
    "        ('preprocessor', preprocessor),\n",
    "        ('model', XGBRegressor(**hyperparameters))\n",
    "    ])\n",
    "    kfold = KFold(n_splits=10, shuffle=True, random_state=42)\n",
    "    scores = cross_val_score(pipeline, X, yeo_johnson_transform(y)[1], cv=kfold, scoring='r2')\n",
    "    print('Cross Validation Score : mean = {} and standard deviation = {}'.format(scores.mean(), scores.std()))\n",
    "\n",
    "    X_train, X_test, y_train, y_test = train_test_split(X, y, test_size=0.2, random_state=42)\n",
    "\n",
    "    pipeline.fit(X_train, yeo_johnson_transform(y_train)[1])\n",
    "\n",
    "    y_pred = pipeline.predict(X_test)\n",
    "\n",
    "    y_pred = transformer.inverse_transform(y_pred.reshape(-1, 1))\n",
    "\n",
    "    print(mean_absolute_error(y_test, y_pred))"
   ]
  },
  {
   "cell_type": "code",
   "execution_count": 18,
   "id": "ef876fe4",
   "metadata": {},
   "outputs": [
    {
     "name": "stdout",
     "output_type": "stream",
     "text": [
      "Cross Validation Score : mean = 0.8913324479528804 and standard deviation = 0.02205402536279398\n",
      "0.2721114747708952\n"
     ]
    }
   ],
   "source": [
    "get_performance_wrt_hyperparaneters(**{'learning_rate': 0.1})"
   ]
  },
  {
   "cell_type": "code",
   "execution_count": 26,
   "id": "37def96c",
   "metadata": {
    "scrolled": true
   },
   "outputs": [
    {
     "name": "stdout",
     "output_type": "stream",
     "text": [
      "min_split_loss : 0\n",
      "Cross Validation Score : mean = 0.8917229962593247 and standard deviation = 0.021733137184142392\n",
      "0.2536920588369101\n",
      "min_split_loss : 0.01\n",
      "Cross Validation Score : mean = 0.8924990526122519 and standard deviation = 0.022058201259877976\n",
      "0.2587851723063159\n",
      "min_split_loss : 0.001\n",
      "Cross Validation Score : mean = 0.8933204268770437 and standard deviation = 0.020898306196916374\n",
      "0.2558921619284321\n",
      "min_split_loss : 0.0009\n",
      "Cross Validation Score : mean = 0.8926832228031177 and standard deviation = 0.021370599917055685\n",
      "0.258395694309557\n"
     ]
    }
   ],
   "source": [
    "for min_split_loss in [0, 0.01, 0.001, 0.0009]:\n",
    "    print(f'min_split_loss : {min_split_loss}')\n",
    "    get_performance_wrt_hyperparaneters(**{'min_split_loss': min_split_loss})"
   ]
  },
  {
   "cell_type": "code",
   "execution_count": 29,
   "id": "f64c505d",
   "metadata": {},
   "outputs": [
    {
     "name": "stdout",
     "output_type": "stream",
     "text": [
      "max_depth : 3\n",
      "Cross Validation Score : mean = 0.8849974639805677 and standard deviation = 0.02140670452858811\n",
      "0.2858366379771434\n",
      "max_depth : 6\n",
      "Cross Validation Score : mean = 0.8917229962593247 and standard deviation = 0.021733137184142392\n",
      "0.2536920588369101\n",
      "max_depth : 7\n",
      "Cross Validation Score : mean = 0.8923258462531212 and standard deviation = 0.019808096073298875\n",
      "0.2732250122537076\n",
      "max_depth : 8\n",
      "Cross Validation Score : mean = 0.8853231846429847 and standard deviation = 0.018647374323609665\n",
      "0.2555941768095527\n",
      "max_depth : 10\n",
      "Cross Validation Score : mean = 0.8854133868341842 and standard deviation = 0.01929808799727534\n",
      "0.2746263324542784\n",
      "max_depth : 15\n",
      "Cross Validation Score : mean = 0.8788744236210562 and standard deviation = 0.020037143640844444\n",
      "0.28694415423232067\n"
     ]
    }
   ],
   "source": [
    "for max_depth in [3, 6, 7, 8, 10, 15]:\n",
    "    print(f'max_depth : {max_depth}')\n",
    "    get_performance_wrt_hyperparaneters(**{'max_depth': max_depth})"
   ]
  },
  {
   "cell_type": "code",
   "execution_count": 27,
   "id": "3d0fcb9d",
   "metadata": {},
   "outputs": [
    {
     "name": "stdout",
     "output_type": "stream",
     "text": [
      "learning_rate : 0.2\n",
      "Cross Validation Score : mean = 0.8955243980354792 and standard deviation = 0.02065847567774461\n",
      "0.271238154030182\n",
      "learning_rate : 0.25\n",
      "Cross Validation Score : mean = 0.8956116432322118 and standard deviation = 0.020303900856367303\n",
      "0.2814686101507133\n",
      "learning_rate : 0.3\n",
      "Cross Validation Score : mean = 0.8917229962593247 and standard deviation = 0.021733137184142392\n",
      "0.2536920588369101\n",
      "learning_rate : 0.35\n",
      "Cross Validation Score : mean = 0.8926453305320171 and standard deviation = 0.022003483609311824\n",
      "0.2672922757309927\n",
      "learning_rate : 0.4\n",
      "Cross Validation Score : mean = 0.8887423641805041 and standard deviation = 0.020692140894328224\n",
      "0.275830446582445\n",
      "learning_rate : 1\n",
      "Cross Validation Score : mean = 0.8279707064817522 and standard deviation = 0.030627561998339308\n",
      "0.3592498455668839\n"
     ]
    }
   ],
   "source": [
    "for learning_rate in [0.2, 0.25, 0.3, 0.35, 0.4, 1]:\n",
    "    print(f'learning_rate : {learning_rate}')\n",
    "    get_performance_wrt_hyperparaneters(**{'learning_rate': learning_rate})"
   ]
  },
  {
   "cell_type": "code",
   "execution_count": 30,
   "id": "c7e6948b",
   "metadata": {},
   "outputs": [
    {
     "name": "stdout",
     "output_type": "stream",
     "text": [
      "colsample_bynode : 0.5\n",
      "Cross Validation Score : mean = 0.8905738812192953 and standard deviation = 0.01812470729466061\n",
      "0.27746438337043977\n",
      "colsample_bynode : 0.6\n",
      "Cross Validation Score : mean = 0.8889737560254016 and standard deviation = 0.021613235594983713\n",
      "0.2645759413024069\n",
      "colsample_bynode : 0.7\n",
      "Cross Validation Score : mean = 0.8892852561325191 and standard deviation = 0.01992982553685962\n",
      "0.27161580172223104\n",
      "colsample_bynode : 0.8\n",
      "Cross Validation Score : mean = 0.8932259018143409 and standard deviation = 0.020801004030449544\n",
      "0.27286463080997203\n",
      "colsample_bynode : 0.9\n",
      "Cross Validation Score : mean = 0.8920464782069617 and standard deviation = 0.01953763391192177\n",
      "0.27561660429121737\n",
      "colsample_bynode : 1\n",
      "Cross Validation Score : mean = 0.8917229962593247 and standard deviation = 0.021733137184142392\n",
      "0.2536920588369101\n"
     ]
    }
   ],
   "source": [
    "for colsample_bynode in [0.5, 0.6, 0.7, 0.8, 0.9, 1]:\n",
    "    print(f'colsample_bynode : {colsample_bynode}')\n",
    "    get_performance_wrt_hyperparaneters(**{'colsample_bynode': colsample_bynode})"
   ]
  },
  {
   "cell_type": "code",
   "execution_count": 32,
   "id": "9040d6f1",
   "metadata": {},
   "outputs": [
    {
     "name": "stdout",
     "output_type": "stream",
     "text": [
      "colsample_bytree : 0.5\n",
      "Cross Validation Score : mean = 0.8905991099483532 and standard deviation = 0.015220798473881914\n",
      "0.26465144693011966\n",
      "colsample_bytree : 0.6\n",
      "Cross Validation Score : mean = 0.8948995280376995 and standard deviation = 0.018905848398649082\n",
      "0.2612301607450969\n",
      "colsample_bytree : 0.7\n",
      "Cross Validation Score : mean = 0.8931639186529476 and standard deviation = 0.0203220708628161\n",
      "0.2720492018108637\n",
      "colsample_bytree : 0.8\n",
      "Cross Validation Score : mean = 0.8937469317072726 and standard deviation = 0.02085896396825552\n",
      "0.2654019955766034\n",
      "colsample_bytree : 0.9\n",
      "Cross Validation Score : mean = 0.8957621924220598 and standard deviation = 0.01938199044852358\n",
      "0.2644769008646549\n",
      "colsample_bytree : 1\n",
      "Cross Validation Score : mean = 0.8917229962593247 and standard deviation = 0.021733137184142392\n",
      "0.2536920588369101\n"
     ]
    }
   ],
   "source": [
    "for colsample_bytree in [0.5, 0.6, 0.7, 0.8, 0.9, 1]:\n",
    "    print(f'colsample_bytree : {colsample_bytree}')\n",
    "    get_performance_wrt_hyperparaneters(**{'colsample_bytree': colsample_bytree})"
   ]
  },
  {
   "cell_type": "code",
   "execution_count": 31,
   "id": "1a355cd6",
   "metadata": {},
   "outputs": [
    {
     "name": "stdout",
     "output_type": "stream",
     "text": [
      "colsample_bylevel : 0.5\n",
      "Cross Validation Score : mean = 0.8905738812192953 and standard deviation = 0.01812470729466061\n",
      "0.27746438337043977\n",
      "colsample_bylevel : 0.6\n",
      "Cross Validation Score : mean = 0.8889737560254016 and standard deviation = 0.021613235594983713\n",
      "0.2645759413024069\n",
      "colsample_bylevel : 0.7\n",
      "Cross Validation Score : mean = 0.8892852561325191 and standard deviation = 0.01992982553685962\n",
      "0.27161580172223104\n",
      "colsample_bylevel : 0.8\n",
      "Cross Validation Score : mean = 0.8932259018143409 and standard deviation = 0.020801004030449544\n",
      "0.27286463080997203\n",
      "colsample_bylevel : 0.9\n",
      "Cross Validation Score : mean = 0.8920464782069617 and standard deviation = 0.01953763391192177\n",
      "0.27561660429121737\n",
      "colsample_bylevel : 1\n",
      "Cross Validation Score : mean = 0.8917229962593247 and standard deviation = 0.021733137184142392\n",
      "0.2536920588369101\n"
     ]
    }
   ],
   "source": [
    "for colsample_bylevel in [0.5, 0.6, 0.7, 0.8, 0.9, 1]:\n",
    "    print(f'colsample_bylevel : {colsample_bylevel}')\n",
    "    get_performance_wrt_hyperparaneters(**{'colsample_bylevel': colsample_bylevel})"
   ]
  },
  {
   "cell_type": "code",
   "execution_count": 156,
   "id": "dafda55f",
   "metadata": {
    "scrolled": false
   },
   "outputs": [
    {
     "name": "stdout",
     "output_type": "stream",
     "text": [
      "Best Hyperparameters: {'model__alpha': 0.001, 'model__colsample_bytree': 0.7092405514235083, 'model__gamma': 0.053117016148287725, 'model__lambda': 0.001, 'model__learning_rate': 0.028941172140662767, 'model__max_depth': 7, 'model__min_child_weight': 2, 'model__n_estimators': 456, 'model__subsample': 0.7583825422204908}\n"
     ]
    }
   ],
   "source": [
    "from sklearn.model_selection import RandomizedSearchCV\n",
    "from scipy.stats import randint, uniform\n",
    "\n",
    "param_distributions = {\n",
    "    'model__learning_rate': uniform(0.01, 0.5),  \n",
    "    'model__n_estimators': randint(50, 500),\n",
    "    'model__max_depth': randint(3, 12),\n",
    "    'model__min_child_weight': randint(1, 7),\n",
    "    'model__subsample': uniform(0.6, 0.3),  \n",
    "    'model__colsample_bytree': uniform(0.6, 0.3), \n",
    "    'model__gamma': uniform(0, 0.4), \n",
    "    'model__alpha': [0, 0.1, 0.01, 0.001], \n",
    "    'model__lambda': [1, 0.1, 0.01, 0.001] \n",
    "}\n",
    "\n",
    "kfold = KFold(n_splits=10, shuffle=True, random_state=1)\n",
    "rcv = RandomizedSearchCV(pipeline, param_distributions, scoring='r2', refit=True, n_iter=2000, cv=kfold, n_jobs=-1)\n",
    "rcv.fit(X, yeo_johnson_transform(y)[1])\n",
    "\n",
    "best_params = rcv.best_params_\n",
    "\n",
    "print(\"Best Hyperparameters:\", best_params)"
   ]
  },
  {
   "cell_type": "code",
   "execution_count": 157,
   "id": "a7b79c09",
   "metadata": {},
   "outputs": [
    {
     "name": "stdout",
     "output_type": "stream",
     "text": [
      "r2 score : 0.8490917661906368\n",
      "mae : 0.2561876896233626\n"
     ]
    }
   ],
   "source": [
    "pipeline.set_params(**best_params)\n",
    "\n",
    "pipeline.fit(X_train, yeo_johnson_transform(y_train)[1])\n",
    "\n",
    "y_pred = pipeline.predict(X_test)\n",
    "y_pred = transformer.inverse_transform(y_pred.reshape(-1, 1))\n",
    "\n",
    "r2 = r2_score(y_test, y_pred)\n",
    "mae = mean_absolute_error(y_test, y_pred)\n",
    "print('r2 score : {}'.format(r2))\n",
    "print('mae : {}'.format(mae))"
   ]
  },
  {
   "cell_type": "markdown",
   "id": "493e838b",
   "metadata": {},
   "source": [
    "# Seems like the default settings perform the best"
   ]
  },
  {
   "cell_type": "code",
   "execution_count": 8,
   "id": "fd12ecb2",
   "metadata": {},
   "outputs": [],
   "source": [
    "import category_encoders as ce\n",
    "from xgboost import XGBRegressor\n",
    "preprocessor = ColumnTransformer(\n",
    "    transformers=[\n",
    "        ('yeo_johnson', PowerTransformer(method='yeo-johnson'), [5]),\n",
    "        ('standardize', StandardScaler(), [1, 2, 3, 5, 6, 7, 8, 9, 10, 11, 12, 13, 14, 15, 16, 17, 18, 19, 20, 21, 22, 23, 24]),\n",
    "        ('target', ce.TargetEncoder(), [0, 4])\n",
    "    ], \n",
    "    remainder='passthrough'\n",
    ")\n",
    "pipeline = Pipeline([\n",
    "    ('preprocessor', preprocessor),\n",
    "    ('model', XGBRegressor())\n",
    "])"
   ]
  },
  {
   "cell_type": "code",
   "execution_count": 9,
   "id": "0d3d68ae",
   "metadata": {},
   "outputs": [
    {
     "data": {
      "text/html": [
       "<style>#sk-container-id-1 {color: black;}#sk-container-id-1 pre{padding: 0;}#sk-container-id-1 div.sk-toggleable {background-color: white;}#sk-container-id-1 label.sk-toggleable__label {cursor: pointer;display: block;width: 100%;margin-bottom: 0;padding: 0.3em;box-sizing: border-box;text-align: center;}#sk-container-id-1 label.sk-toggleable__label-arrow:before {content: \"▸\";float: left;margin-right: 0.25em;color: #696969;}#sk-container-id-1 label.sk-toggleable__label-arrow:hover:before {color: black;}#sk-container-id-1 div.sk-estimator:hover label.sk-toggleable__label-arrow:before {color: black;}#sk-container-id-1 div.sk-toggleable__content {max-height: 0;max-width: 0;overflow: hidden;text-align: left;background-color: #f0f8ff;}#sk-container-id-1 div.sk-toggleable__content pre {margin: 0.2em;color: black;border-radius: 0.25em;background-color: #f0f8ff;}#sk-container-id-1 input.sk-toggleable__control:checked~div.sk-toggleable__content {max-height: 200px;max-width: 100%;overflow: auto;}#sk-container-id-1 input.sk-toggleable__control:checked~label.sk-toggleable__label-arrow:before {content: \"▾\";}#sk-container-id-1 div.sk-estimator input.sk-toggleable__control:checked~label.sk-toggleable__label {background-color: #d4ebff;}#sk-container-id-1 div.sk-label input.sk-toggleable__control:checked~label.sk-toggleable__label {background-color: #d4ebff;}#sk-container-id-1 input.sk-hidden--visually {border: 0;clip: rect(1px 1px 1px 1px);clip: rect(1px, 1px, 1px, 1px);height: 1px;margin: -1px;overflow: hidden;padding: 0;position: absolute;width: 1px;}#sk-container-id-1 div.sk-estimator {font-family: monospace;background-color: #f0f8ff;border: 1px dotted black;border-radius: 0.25em;box-sizing: border-box;margin-bottom: 0.5em;}#sk-container-id-1 div.sk-estimator:hover {background-color: #d4ebff;}#sk-container-id-1 div.sk-parallel-item::after {content: \"\";width: 100%;border-bottom: 1px solid gray;flex-grow: 1;}#sk-container-id-1 div.sk-label:hover label.sk-toggleable__label {background-color: #d4ebff;}#sk-container-id-1 div.sk-serial::before {content: \"\";position: absolute;border-left: 1px solid gray;box-sizing: border-box;top: 0;bottom: 0;left: 50%;z-index: 0;}#sk-container-id-1 div.sk-serial {display: flex;flex-direction: column;align-items: center;background-color: white;padding-right: 0.2em;padding-left: 0.2em;position: relative;}#sk-container-id-1 div.sk-item {position: relative;z-index: 1;}#sk-container-id-1 div.sk-parallel {display: flex;align-items: stretch;justify-content: center;background-color: white;position: relative;}#sk-container-id-1 div.sk-item::before, #sk-container-id-1 div.sk-parallel-item::before {content: \"\";position: absolute;border-left: 1px solid gray;box-sizing: border-box;top: 0;bottom: 0;left: 50%;z-index: -1;}#sk-container-id-1 div.sk-parallel-item {display: flex;flex-direction: column;z-index: 1;position: relative;background-color: white;}#sk-container-id-1 div.sk-parallel-item:first-child::after {align-self: flex-end;width: 50%;}#sk-container-id-1 div.sk-parallel-item:last-child::after {align-self: flex-start;width: 50%;}#sk-container-id-1 div.sk-parallel-item:only-child::after {width: 0;}#sk-container-id-1 div.sk-dashed-wrapped {border: 1px dashed gray;margin: 0 0.4em 0.5em 0.4em;box-sizing: border-box;padding-bottom: 0.4em;background-color: white;}#sk-container-id-1 div.sk-label label {font-family: monospace;font-weight: bold;display: inline-block;line-height: 1.2em;}#sk-container-id-1 div.sk-label-container {text-align: center;}#sk-container-id-1 div.sk-container {/* jupyter's `normalize.less` sets `[hidden] { display: none; }` but bootstrap.min.css set `[hidden] { display: none !important; }` so we also need the `!important` here to be able to override the default hidden behavior on the sphinx rendered scikit-learn.org. See: https://github.com/scikit-learn/scikit-learn/issues/21755 */display: inline-block !important;position: relative;}#sk-container-id-1 div.sk-text-repr-fallback {display: none;}</style><div id=\"sk-container-id-1\" class=\"sk-top-container\"><div class=\"sk-text-repr-fallback\"><pre>Pipeline(steps=[(&#x27;preprocessor&#x27;,\n",
       "                 ColumnTransformer(remainder=&#x27;passthrough&#x27;,\n",
       "                                   transformers=[(&#x27;yeo_johnson&#x27;,\n",
       "                                                  PowerTransformer(), [5]),\n",
       "                                                 (&#x27;standardize&#x27;,\n",
       "                                                  StandardScaler(),\n",
       "                                                  [1, 2, 3, 5, 6, 7, 8, 9, 10,\n",
       "                                                   11, 12, 13, 14, 15, 16, 17,\n",
       "                                                   18, 19, 20, 21, 22, 23,\n",
       "                                                   24]),\n",
       "                                                 (&#x27;target&#x27;, TargetEncoder(),\n",
       "                                                  [0, 4])])),\n",
       "                (&#x27;model&#x27;,\n",
       "                 XGBRegressor(base_score=0.5, booster=&#x27;gbtree&#x27;, callbacks=None,\n",
       "                              colsample_bylevel=1, co...\n",
       "                              feature_types=None, gamma=0, gpu_id=-1,\n",
       "                              grow_policy=&#x27;depthwise&#x27;, importance_type=None,\n",
       "                              interaction_constraints=&#x27;&#x27;,\n",
       "                              learning_rate=0.300000012, max_bin=256,\n",
       "                              max_cat_threshold=64, max_cat_to_onehot=4,\n",
       "                              max_delta_step=0, max_depth=6, max_leaves=0,\n",
       "                              min_child_weight=1, missing=nan,\n",
       "                              monotone_constraints=&#x27;()&#x27;, n_estimators=100,\n",
       "                              n_jobs=0, num_parallel_tree=1, predictor=&#x27;auto&#x27;,\n",
       "                              random_state=0, ...))])</pre><b>In a Jupyter environment, please rerun this cell to show the HTML representation or trust the notebook. <br />On GitHub, the HTML representation is unable to render, please try loading this page with nbviewer.org.</b></div><div class=\"sk-container\" hidden><div class=\"sk-item sk-dashed-wrapped\"><div class=\"sk-label-container\"><div class=\"sk-label sk-toggleable\"><input class=\"sk-toggleable__control sk-hidden--visually\" id=\"sk-estimator-id-1\" type=\"checkbox\" ><label for=\"sk-estimator-id-1\" class=\"sk-toggleable__label sk-toggleable__label-arrow\">Pipeline</label><div class=\"sk-toggleable__content\"><pre>Pipeline(steps=[(&#x27;preprocessor&#x27;,\n",
       "                 ColumnTransformer(remainder=&#x27;passthrough&#x27;,\n",
       "                                   transformers=[(&#x27;yeo_johnson&#x27;,\n",
       "                                                  PowerTransformer(), [5]),\n",
       "                                                 (&#x27;standardize&#x27;,\n",
       "                                                  StandardScaler(),\n",
       "                                                  [1, 2, 3, 5, 6, 7, 8, 9, 10,\n",
       "                                                   11, 12, 13, 14, 15, 16, 17,\n",
       "                                                   18, 19, 20, 21, 22, 23,\n",
       "                                                   24]),\n",
       "                                                 (&#x27;target&#x27;, TargetEncoder(),\n",
       "                                                  [0, 4])])),\n",
       "                (&#x27;model&#x27;,\n",
       "                 XGBRegressor(base_score=0.5, booster=&#x27;gbtree&#x27;, callbacks=None,\n",
       "                              colsample_bylevel=1, co...\n",
       "                              feature_types=None, gamma=0, gpu_id=-1,\n",
       "                              grow_policy=&#x27;depthwise&#x27;, importance_type=None,\n",
       "                              interaction_constraints=&#x27;&#x27;,\n",
       "                              learning_rate=0.300000012, max_bin=256,\n",
       "                              max_cat_threshold=64, max_cat_to_onehot=4,\n",
       "                              max_delta_step=0, max_depth=6, max_leaves=0,\n",
       "                              min_child_weight=1, missing=nan,\n",
       "                              monotone_constraints=&#x27;()&#x27;, n_estimators=100,\n",
       "                              n_jobs=0, num_parallel_tree=1, predictor=&#x27;auto&#x27;,\n",
       "                              random_state=0, ...))])</pre></div></div></div><div class=\"sk-serial\"><div class=\"sk-item sk-dashed-wrapped\"><div class=\"sk-label-container\"><div class=\"sk-label sk-toggleable\"><input class=\"sk-toggleable__control sk-hidden--visually\" id=\"sk-estimator-id-2\" type=\"checkbox\" ><label for=\"sk-estimator-id-2\" class=\"sk-toggleable__label sk-toggleable__label-arrow\">preprocessor: ColumnTransformer</label><div class=\"sk-toggleable__content\"><pre>ColumnTransformer(remainder=&#x27;passthrough&#x27;,\n",
       "                  transformers=[(&#x27;yeo_johnson&#x27;, PowerTransformer(), [5]),\n",
       "                                (&#x27;standardize&#x27;, StandardScaler(),\n",
       "                                 [1, 2, 3, 5, 6, 7, 8, 9, 10, 11, 12, 13, 14,\n",
       "                                  15, 16, 17, 18, 19, 20, 21, 22, 23, 24]),\n",
       "                                (&#x27;target&#x27;, TargetEncoder(), [0, 4])])</pre></div></div></div><div class=\"sk-parallel\"><div class=\"sk-parallel-item\"><div class=\"sk-item\"><div class=\"sk-label-container\"><div class=\"sk-label sk-toggleable\"><input class=\"sk-toggleable__control sk-hidden--visually\" id=\"sk-estimator-id-3\" type=\"checkbox\" ><label for=\"sk-estimator-id-3\" class=\"sk-toggleable__label sk-toggleable__label-arrow\">yeo_johnson</label><div class=\"sk-toggleable__content\"><pre>[5]</pre></div></div></div><div class=\"sk-serial\"><div class=\"sk-item\"><div class=\"sk-estimator sk-toggleable\"><input class=\"sk-toggleable__control sk-hidden--visually\" id=\"sk-estimator-id-4\" type=\"checkbox\" ><label for=\"sk-estimator-id-4\" class=\"sk-toggleable__label sk-toggleable__label-arrow\">PowerTransformer</label><div class=\"sk-toggleable__content\"><pre>PowerTransformer()</pre></div></div></div></div></div></div><div class=\"sk-parallel-item\"><div class=\"sk-item\"><div class=\"sk-label-container\"><div class=\"sk-label sk-toggleable\"><input class=\"sk-toggleable__control sk-hidden--visually\" id=\"sk-estimator-id-5\" type=\"checkbox\" ><label for=\"sk-estimator-id-5\" class=\"sk-toggleable__label sk-toggleable__label-arrow\">standardize</label><div class=\"sk-toggleable__content\"><pre>[1, 2, 3, 5, 6, 7, 8, 9, 10, 11, 12, 13, 14, 15, 16, 17, 18, 19, 20, 21, 22, 23, 24]</pre></div></div></div><div class=\"sk-serial\"><div class=\"sk-item\"><div class=\"sk-estimator sk-toggleable\"><input class=\"sk-toggleable__control sk-hidden--visually\" id=\"sk-estimator-id-6\" type=\"checkbox\" ><label for=\"sk-estimator-id-6\" class=\"sk-toggleable__label sk-toggleable__label-arrow\">StandardScaler</label><div class=\"sk-toggleable__content\"><pre>StandardScaler()</pre></div></div></div></div></div></div><div class=\"sk-parallel-item\"><div class=\"sk-item\"><div class=\"sk-label-container\"><div class=\"sk-label sk-toggleable\"><input class=\"sk-toggleable__control sk-hidden--visually\" id=\"sk-estimator-id-7\" type=\"checkbox\" ><label for=\"sk-estimator-id-7\" class=\"sk-toggleable__label sk-toggleable__label-arrow\">target</label><div class=\"sk-toggleable__content\"><pre>[0, 4]</pre></div></div></div><div class=\"sk-serial\"><div class=\"sk-item\"><div class=\"sk-estimator sk-toggleable\"><input class=\"sk-toggleable__control sk-hidden--visually\" id=\"sk-estimator-id-8\" type=\"checkbox\" ><label for=\"sk-estimator-id-8\" class=\"sk-toggleable__label sk-toggleable__label-arrow\">TargetEncoder</label><div class=\"sk-toggleable__content\"><pre>TargetEncoder()</pre></div></div></div></div></div></div><div class=\"sk-parallel-item\"><div class=\"sk-item\"><div class=\"sk-label-container\"><div class=\"sk-label sk-toggleable\"><input class=\"sk-toggleable__control sk-hidden--visually\" id=\"sk-estimator-id-9\" type=\"checkbox\" ><label for=\"sk-estimator-id-9\" class=\"sk-toggleable__label sk-toggleable__label-arrow\">remainder</label><div class=\"sk-toggleable__content\"><pre>[]</pre></div></div></div><div class=\"sk-serial\"><div class=\"sk-item\"><div class=\"sk-estimator sk-toggleable\"><input class=\"sk-toggleable__control sk-hidden--visually\" id=\"sk-estimator-id-10\" type=\"checkbox\" ><label for=\"sk-estimator-id-10\" class=\"sk-toggleable__label sk-toggleable__label-arrow\">passthrough</label><div class=\"sk-toggleable__content\"><pre>passthrough</pre></div></div></div></div></div></div></div></div><div class=\"sk-item\"><div class=\"sk-estimator sk-toggleable\"><input class=\"sk-toggleable__control sk-hidden--visually\" id=\"sk-estimator-id-11\" type=\"checkbox\" ><label for=\"sk-estimator-id-11\" class=\"sk-toggleable__label sk-toggleable__label-arrow\">XGBRegressor</label><div class=\"sk-toggleable__content\"><pre>XGBRegressor(base_score=0.5, booster=&#x27;gbtree&#x27;, callbacks=None,\n",
       "             colsample_bylevel=1, colsample_bynode=1, colsample_bytree=1,\n",
       "             early_stopping_rounds=None, enable_categorical=False,\n",
       "             eval_metric=None, feature_types=None, gamma=0, gpu_id=-1,\n",
       "             grow_policy=&#x27;depthwise&#x27;, importance_type=None,\n",
       "             interaction_constraints=&#x27;&#x27;, learning_rate=0.300000012, max_bin=256,\n",
       "             max_cat_threshold=64, max_cat_to_onehot=4, max_delta_step=0,\n",
       "             max_depth=6, max_leaves=0, min_child_weight=1, missing=nan,\n",
       "             monotone_constraints=&#x27;()&#x27;, n_estimators=100, n_jobs=0,\n",
       "             num_parallel_tree=1, predictor=&#x27;auto&#x27;, random_state=0, ...)</pre></div></div></div></div></div></div></div>"
      ],
      "text/plain": [
       "Pipeline(steps=[('preprocessor',\n",
       "                 ColumnTransformer(remainder='passthrough',\n",
       "                                   transformers=[('yeo_johnson',\n",
       "                                                  PowerTransformer(), [5]),\n",
       "                                                 ('standardize',\n",
       "                                                  StandardScaler(),\n",
       "                                                  [1, 2, 3, 5, 6, 7, 8, 9, 10,\n",
       "                                                   11, 12, 13, 14, 15, 16, 17,\n",
       "                                                   18, 19, 20, 21, 22, 23,\n",
       "                                                   24]),\n",
       "                                                 ('target', TargetEncoder(),\n",
       "                                                  [0, 4])])),\n",
       "                ('model',\n",
       "                 XGBRegressor(base_score=0.5, booster='gbtree', callbacks=None,\n",
       "                              colsample_bylevel=1, co...\n",
       "                              feature_types=None, gamma=0, gpu_id=-1,\n",
       "                              grow_policy='depthwise', importance_type=None,\n",
       "                              interaction_constraints='',\n",
       "                              learning_rate=0.300000012, max_bin=256,\n",
       "                              max_cat_threshold=64, max_cat_to_onehot=4,\n",
       "                              max_delta_step=0, max_depth=6, max_leaves=0,\n",
       "                              min_child_weight=1, missing=nan,\n",
       "                              monotone_constraints='()', n_estimators=100,\n",
       "                              n_jobs=0, num_parallel_tree=1, predictor='auto',\n",
       "                              random_state=0, ...))])"
      ]
     },
     "execution_count": 9,
     "metadata": {},
     "output_type": "execute_result"
    }
   ],
   "source": [
    "pipeline.fit(X, y)"
   ]
  },
  {
   "cell_type": "code",
   "execution_count": 10,
   "id": "cbed3d85",
   "metadata": {},
   "outputs": [
    {
     "data": {
      "text/plain": [
       "['flat_pipeline.joblib']"
      ]
     },
     "execution_count": 10,
     "metadata": {},
     "output_type": "execute_result"
    }
   ],
   "source": [
    "import joblib\n",
    "\n",
    "joblib.dump(pipeline, 'flat_pipeline.joblib')"
   ]
  },
  {
   "cell_type": "code",
   "execution_count": null,
   "id": "2183cc69",
   "metadata": {},
   "outputs": [],
   "source": []
  }
 ],
 "metadata": {
  "kernelspec": {
   "display_name": "Python 3 (ipykernel)",
   "language": "python",
   "name": "python3"
  },
  "language_info": {
   "codemirror_mode": {
    "name": "ipython",
    "version": 3
   },
   "file_extension": ".py",
   "mimetype": "text/x-python",
   "name": "python",
   "nbconvert_exporter": "python",
   "pygments_lexer": "ipython3",
   "version": "3.9.13"
  }
 },
 "nbformat": 4,
 "nbformat_minor": 5
}
