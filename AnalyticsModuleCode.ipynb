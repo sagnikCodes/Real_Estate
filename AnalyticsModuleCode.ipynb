{
 "cells": [
  {
   "cell_type": "code",
   "execution_count": 21,
   "id": "fd5c8b40",
   "metadata": {},
   "outputs": [],
   "source": [
    "import numpy as np\n",
    "import pandas as pd\n",
    "import matplotlib.pyplot as plt\n",
    "import seaborn as sns"
   ]
  },
  {
   "cell_type": "code",
   "execution_count": 22,
   "id": "5e788dd3",
   "metadata": {},
   "outputs": [],
   "source": [
    "import warnings\n",
    "warnings.filterwarnings('ignore')"
   ]
  },
  {
   "cell_type": "code",
   "execution_count": 23,
   "id": "c81389ad",
   "metadata": {},
   "outputs": [],
   "source": [
    "data = pd.read_csv('cleaned_data_v2.csv')"
   ]
  },
  {
   "cell_type": "code",
   "execution_count": 72,
   "id": "796f004f",
   "metadata": {},
   "outputs": [
    {
     "data": {
      "text/plain": [
       "Index(['price', 'facing', 'property_id', 'sector', 'society_name',\n",
       "       'society_stars', 'num_bedrooms', 'num_bathrooms', 'num_balconies',\n",
       "       'age_group', 'super_built_up_area', 'built_up_area', 'carpet_area',\n",
       "       'price_per_sqft', 'floor_number', 'total_floors', 'servant_room',\n",
       "       'study_room', 'pooja_room', 'other_additional_room', 'store_room', 'ac',\n",
       "       'bed', 'chimney', 'curtains', 'dining', 'exhaust', 'fan', 'fridge',\n",
       "       'geyser', 'light', 'microwave', 'modular', 'sofa', 'stove', 'tv',\n",
       "       'wardrobe', 'washing', 'water', 'Airy Rooms', 'Bank Attached Property',\n",
       "       'Centrally Air Conditioned', 'Club house / Community Center',\n",
       "       'False Ceiling Lighting', 'Feng Shui / Vaastu Compliant',\n",
       "       'Fitness Centre / GYM', 'High Ceiling Height', 'Intercom Facility',\n",
       "       'Internet/wi-fi connectivity', 'Lift(s)', 'Low Density Society',\n",
       "       'Maintenance Staff', 'Natural Light', 'No open drainage around', 'Park',\n",
       "       'Piped-gas', 'Power Back-up', 'Private Garden / Terrace',\n",
       "       'Rain Water Harvesting', 'Recently Renovated', 'Security / Fire Alarm',\n",
       "       'Security Personnel', 'Separate entry for servant room',\n",
       "       'Shopping Centre', 'Spacious Interiors', 'Swimming Pool',\n",
       "       'Visitor Parking', 'Waste Disposal', 'Water Storage', 'Water purifier',\n",
       "       'Water softening plant', 'amenities_rating', 'connectivity_rating',\n",
       "       'construction_rating', 'environment_rating', 'green area_rating',\n",
       "       'lifestyle_rating', 'management_rating', 'safety_rating',\n",
       "       'nearby_locations', 'description_keywords', 'total_num_rooms',\n",
       "       'furnished', 'floor_category'],\n",
       "      dtype='object')"
      ]
     },
     "execution_count": 72,
     "metadata": {},
     "output_type": "execute_result"
    }
   ],
   "source": [
    "data.columns"
   ]
  },
  {
   "cell_type": "code",
   "execution_count": 24,
   "id": "a54dbdb1",
   "metadata": {},
   "outputs": [],
   "source": [
    "sector = data['sector'].unique().tolist()"
   ]
  },
  {
   "cell_type": "code",
   "execution_count": 32,
   "id": "1c73f6cf",
   "metadata": {},
   "outputs": [],
   "source": [
    "i = 1"
   ]
  },
  {
   "cell_type": "code",
   "execution_count": 33,
   "id": "62e7bc55",
   "metadata": {},
   "outputs": [],
   "source": [
    "from opencage.geocoder import OpenCageGeocode\n",
    "\n",
    "api_key = '3f4a8b7754704935837257021ef84407'\n",
    "geocoder = OpenCageGeocode(api_key)\n",
    "\n",
    "\n",
    "\n",
    "def get_coordinates(sector):\n",
    "    global i\n",
    "    print(i)\n",
    "    \n",
    "    i += 1\n",
    "    location = sector + ' , gurgaon'\n",
    "    results = geocoder.geocode(location)\n",
    "    \n",
    "    latitude = results[0]['geometry']['lat']\n",
    "    longitude = results[0]['geometry']['lng']\n",
    "    return latitude, longitude"
   ]
  },
  {
   "cell_type": "code",
   "execution_count": 30,
   "id": "7e2bc05b",
   "metadata": {},
   "outputs": [
    {
     "name": "stdout",
     "output_type": "stream",
     "text": [
      "2\n"
     ]
    },
    {
     "data": {
      "text/plain": [
       "(28.5128994, 76.9823615)"
      ]
     },
     "execution_count": 30,
     "metadata": {},
     "output_type": "execute_result"
    }
   ],
   "source": [
    "get_coordinates('sector 108')"
   ]
  },
  {
   "cell_type": "code",
   "execution_count": 61,
   "id": "bc76f3d6",
   "metadata": {},
   "outputs": [],
   "source": [
    "sector_data = pd.DataFrame(data['sector'].unique(), columns=['sector'])"
   ]
  },
  {
   "cell_type": "code",
   "execution_count": 62,
   "id": "e4ef0ceb",
   "metadata": {},
   "outputs": [
    {
     "data": {
      "text/plain": [
       "105"
      ]
     },
     "execution_count": 62,
     "metadata": {},
     "output_type": "execute_result"
    }
   ],
   "source": [
    "sector_data.shape[0]"
   ]
  },
  {
   "cell_type": "code",
   "execution_count": 63,
   "id": "5cc70908",
   "metadata": {},
   "outputs": [
    {
     "name": "stdout",
     "output_type": "stream",
     "text": [
      "211\n",
      "212\n",
      "213\n",
      "214\n",
      "215\n",
      "216\n",
      "217\n",
      "218\n",
      "219\n",
      "220\n",
      "221\n",
      "222\n",
      "223\n",
      "224\n",
      "225\n",
      "226\n",
      "227\n",
      "228\n",
      "229\n",
      "230\n",
      "231\n",
      "232\n",
      "233\n",
      "234\n",
      "235\n",
      "236\n",
      "237\n",
      "238\n",
      "239\n",
      "240\n",
      "241\n",
      "242\n",
      "243\n",
      "244\n",
      "245\n",
      "246\n",
      "247\n",
      "248\n",
      "249\n",
      "250\n",
      "251\n",
      "252\n",
      "253\n",
      "254\n",
      "255\n",
      "256\n",
      "257\n",
      "258\n",
      "259\n",
      "260\n",
      "261\n",
      "262\n",
      "263\n",
      "264\n",
      "265\n",
      "266\n",
      "267\n",
      "268\n",
      "269\n",
      "270\n",
      "271\n",
      "272\n",
      "273\n",
      "274\n",
      "275\n",
      "276\n",
      "277\n",
      "278\n",
      "279\n",
      "280\n",
      "281\n",
      "282\n",
      "283\n",
      "284\n",
      "285\n",
      "286\n",
      "287\n",
      "288\n",
      "289\n",
      "290\n",
      "291\n",
      "292\n",
      "293\n",
      "294\n",
      "295\n",
      "296\n",
      "297\n",
      "298\n",
      "299\n",
      "300\n",
      "301\n",
      "302\n",
      "303\n",
      "304\n",
      "305\n",
      "306\n",
      "307\n",
      "308\n",
      "309\n",
      "310\n",
      "311\n",
      "312\n",
      "313\n",
      "314\n",
      "315\n"
     ]
    }
   ],
   "source": [
    "sector_data[['latitude', 'longitude']] = np.array(sector_data['sector'].apply(get_coordinates).tolist())"
   ]
  },
  {
   "cell_type": "code",
   "execution_count": 64,
   "id": "9cfddfca",
   "metadata": {},
   "outputs": [],
   "source": [
    "price_per_sqft = data.groupby('sector')['price_per_sqft'].median().apply(lambda x: round(x, 2)).reset_index()"
   ]
  },
  {
   "cell_type": "code",
   "execution_count": 65,
   "id": "8bd39c9e",
   "metadata": {},
   "outputs": [],
   "source": [
    "super_built_up_area = data.groupby('sector')['super_built_up_area'].median().apply(lambda x: round(x, 2)).reset_index()"
   ]
  },
  {
   "cell_type": "code",
   "execution_count": 66,
   "id": "8c6b7c69",
   "metadata": {},
   "outputs": [],
   "source": [
    "sector_data = pd.merge(sector_data, price_per_sqft, on='sector')"
   ]
  },
  {
   "cell_type": "code",
   "execution_count": 67,
   "id": "fbe5b34c",
   "metadata": {},
   "outputs": [
    {
     "ename": "KeyError",
     "evalue": "\"['price_per_sqft_x'] not found in axis\"",
     "output_type": "error",
     "traceback": [
      "\u001b[1;31m---------------------------------------------------------------------------\u001b[0m",
      "\u001b[1;31mKeyError\u001b[0m                                  Traceback (most recent call last)",
      "\u001b[1;32m~\\AppData\\Local\\Temp\\ipykernel_1804\\888061254.py\u001b[0m in \u001b[0;36m<module>\u001b[1;34m\u001b[0m\n\u001b[0;32m      1\u001b[0m \u001b[0msector_data\u001b[0m \u001b[1;33m=\u001b[0m \u001b[0mpd\u001b[0m\u001b[1;33m.\u001b[0m\u001b[0mmerge\u001b[0m\u001b[1;33m(\u001b[0m\u001b[0msector_data\u001b[0m\u001b[1;33m,\u001b[0m \u001b[0msuper_built_up_area\u001b[0m\u001b[1;33m,\u001b[0m \u001b[0mon\u001b[0m\u001b[1;33m=\u001b[0m\u001b[1;34m'sector'\u001b[0m\u001b[1;33m)\u001b[0m\u001b[1;33m\u001b[0m\u001b[1;33m\u001b[0m\u001b[0m\n\u001b[1;32m----> 2\u001b[1;33m \u001b[0msector_data\u001b[0m \u001b[1;33m=\u001b[0m \u001b[0msector_data\u001b[0m\u001b[1;33m.\u001b[0m\u001b[0mdrop\u001b[0m\u001b[1;33m(\u001b[0m\u001b[0mcolumns\u001b[0m\u001b[1;33m=\u001b[0m\u001b[1;33m[\u001b[0m\u001b[1;34m'price_per_sqft_x'\u001b[0m\u001b[1;33m]\u001b[0m\u001b[1;33m)\u001b[0m\u001b[1;33m.\u001b[0m\u001b[0mrename\u001b[0m\u001b[1;33m(\u001b[0m\u001b[0mcolumns\u001b[0m\u001b[1;33m=\u001b[0m\u001b[1;33m{\u001b[0m\u001b[1;34m'price_per_sqft_y'\u001b[0m\u001b[1;33m:\u001b[0m \u001b[1;34m'price_per_sqft'\u001b[0m\u001b[1;33m}\u001b[0m\u001b[1;33m)\u001b[0m\u001b[1;33m\u001b[0m\u001b[1;33m\u001b[0m\u001b[0m\n\u001b[0m",
      "\u001b[1;32m~\\anaconda3\\lib\\site-packages\\pandas\\util\\_decorators.py\u001b[0m in \u001b[0;36mwrapper\u001b[1;34m(*args, **kwargs)\u001b[0m\n\u001b[0;32m    309\u001b[0m                     \u001b[0mstacklevel\u001b[0m\u001b[1;33m=\u001b[0m\u001b[0mstacklevel\u001b[0m\u001b[1;33m,\u001b[0m\u001b[1;33m\u001b[0m\u001b[1;33m\u001b[0m\u001b[0m\n\u001b[0;32m    310\u001b[0m                 )\n\u001b[1;32m--> 311\u001b[1;33m             \u001b[1;32mreturn\u001b[0m \u001b[0mfunc\u001b[0m\u001b[1;33m(\u001b[0m\u001b[1;33m*\u001b[0m\u001b[0margs\u001b[0m\u001b[1;33m,\u001b[0m \u001b[1;33m**\u001b[0m\u001b[0mkwargs\u001b[0m\u001b[1;33m)\u001b[0m\u001b[1;33m\u001b[0m\u001b[1;33m\u001b[0m\u001b[0m\n\u001b[0m\u001b[0;32m    312\u001b[0m \u001b[1;33m\u001b[0m\u001b[0m\n\u001b[0;32m    313\u001b[0m         \u001b[1;32mreturn\u001b[0m \u001b[0mwrapper\u001b[0m\u001b[1;33m\u001b[0m\u001b[1;33m\u001b[0m\u001b[0m\n",
      "\u001b[1;32m~\\anaconda3\\lib\\site-packages\\pandas\\core\\frame.py\u001b[0m in \u001b[0;36mdrop\u001b[1;34m(self, labels, axis, index, columns, level, inplace, errors)\u001b[0m\n\u001b[0;32m   4955\u001b[0m                 \u001b[0mweight\u001b[0m  \u001b[1;36m1.0\u001b[0m     \u001b[1;36m0.8\u001b[0m\u001b[1;33m\u001b[0m\u001b[1;33m\u001b[0m\u001b[0m\n\u001b[0;32m   4956\u001b[0m         \"\"\"\n\u001b[1;32m-> 4957\u001b[1;33m         return super().drop(\n\u001b[0m\u001b[0;32m   4958\u001b[0m             \u001b[0mlabels\u001b[0m\u001b[1;33m=\u001b[0m\u001b[0mlabels\u001b[0m\u001b[1;33m,\u001b[0m\u001b[1;33m\u001b[0m\u001b[1;33m\u001b[0m\u001b[0m\n\u001b[0;32m   4959\u001b[0m             \u001b[0maxis\u001b[0m\u001b[1;33m=\u001b[0m\u001b[0maxis\u001b[0m\u001b[1;33m,\u001b[0m\u001b[1;33m\u001b[0m\u001b[1;33m\u001b[0m\u001b[0m\n",
      "\u001b[1;32m~\\anaconda3\\lib\\site-packages\\pandas\\core\\generic.py\u001b[0m in \u001b[0;36mdrop\u001b[1;34m(self, labels, axis, index, columns, level, inplace, errors)\u001b[0m\n\u001b[0;32m   4265\u001b[0m         \u001b[1;32mfor\u001b[0m \u001b[0maxis\u001b[0m\u001b[1;33m,\u001b[0m \u001b[0mlabels\u001b[0m \u001b[1;32min\u001b[0m \u001b[0maxes\u001b[0m\u001b[1;33m.\u001b[0m\u001b[0mitems\u001b[0m\u001b[1;33m(\u001b[0m\u001b[1;33m)\u001b[0m\u001b[1;33m:\u001b[0m\u001b[1;33m\u001b[0m\u001b[1;33m\u001b[0m\u001b[0m\n\u001b[0;32m   4266\u001b[0m             \u001b[1;32mif\u001b[0m \u001b[0mlabels\u001b[0m \u001b[1;32mis\u001b[0m \u001b[1;32mnot\u001b[0m \u001b[1;32mNone\u001b[0m\u001b[1;33m:\u001b[0m\u001b[1;33m\u001b[0m\u001b[1;33m\u001b[0m\u001b[0m\n\u001b[1;32m-> 4267\u001b[1;33m                 \u001b[0mobj\u001b[0m \u001b[1;33m=\u001b[0m \u001b[0mobj\u001b[0m\u001b[1;33m.\u001b[0m\u001b[0m_drop_axis\u001b[0m\u001b[1;33m(\u001b[0m\u001b[0mlabels\u001b[0m\u001b[1;33m,\u001b[0m \u001b[0maxis\u001b[0m\u001b[1;33m,\u001b[0m \u001b[0mlevel\u001b[0m\u001b[1;33m=\u001b[0m\u001b[0mlevel\u001b[0m\u001b[1;33m,\u001b[0m \u001b[0merrors\u001b[0m\u001b[1;33m=\u001b[0m\u001b[0merrors\u001b[0m\u001b[1;33m)\u001b[0m\u001b[1;33m\u001b[0m\u001b[1;33m\u001b[0m\u001b[0m\n\u001b[0m\u001b[0;32m   4268\u001b[0m \u001b[1;33m\u001b[0m\u001b[0m\n\u001b[0;32m   4269\u001b[0m         \u001b[1;32mif\u001b[0m \u001b[0minplace\u001b[0m\u001b[1;33m:\u001b[0m\u001b[1;33m\u001b[0m\u001b[1;33m\u001b[0m\u001b[0m\n",
      "\u001b[1;32m~\\anaconda3\\lib\\site-packages\\pandas\\core\\generic.py\u001b[0m in \u001b[0;36m_drop_axis\u001b[1;34m(self, labels, axis, level, errors, consolidate, only_slice)\u001b[0m\n\u001b[0;32m   4309\u001b[0m                 \u001b[0mnew_axis\u001b[0m \u001b[1;33m=\u001b[0m \u001b[0maxis\u001b[0m\u001b[1;33m.\u001b[0m\u001b[0mdrop\u001b[0m\u001b[1;33m(\u001b[0m\u001b[0mlabels\u001b[0m\u001b[1;33m,\u001b[0m \u001b[0mlevel\u001b[0m\u001b[1;33m=\u001b[0m\u001b[0mlevel\u001b[0m\u001b[1;33m,\u001b[0m \u001b[0merrors\u001b[0m\u001b[1;33m=\u001b[0m\u001b[0merrors\u001b[0m\u001b[1;33m)\u001b[0m\u001b[1;33m\u001b[0m\u001b[1;33m\u001b[0m\u001b[0m\n\u001b[0;32m   4310\u001b[0m             \u001b[1;32melse\u001b[0m\u001b[1;33m:\u001b[0m\u001b[1;33m\u001b[0m\u001b[1;33m\u001b[0m\u001b[0m\n\u001b[1;32m-> 4311\u001b[1;33m                 \u001b[0mnew_axis\u001b[0m \u001b[1;33m=\u001b[0m \u001b[0maxis\u001b[0m\u001b[1;33m.\u001b[0m\u001b[0mdrop\u001b[0m\u001b[1;33m(\u001b[0m\u001b[0mlabels\u001b[0m\u001b[1;33m,\u001b[0m \u001b[0merrors\u001b[0m\u001b[1;33m=\u001b[0m\u001b[0merrors\u001b[0m\u001b[1;33m)\u001b[0m\u001b[1;33m\u001b[0m\u001b[1;33m\u001b[0m\u001b[0m\n\u001b[0m\u001b[0;32m   4312\u001b[0m             \u001b[0mindexer\u001b[0m \u001b[1;33m=\u001b[0m \u001b[0maxis\u001b[0m\u001b[1;33m.\u001b[0m\u001b[0mget_indexer\u001b[0m\u001b[1;33m(\u001b[0m\u001b[0mnew_axis\u001b[0m\u001b[1;33m)\u001b[0m\u001b[1;33m\u001b[0m\u001b[1;33m\u001b[0m\u001b[0m\n\u001b[0;32m   4313\u001b[0m \u001b[1;33m\u001b[0m\u001b[0m\n",
      "\u001b[1;32m~\\anaconda3\\lib\\site-packages\\pandas\\core\\indexes\\base.py\u001b[0m in \u001b[0;36mdrop\u001b[1;34m(self, labels, errors)\u001b[0m\n\u001b[0;32m   6659\u001b[0m         \u001b[1;32mif\u001b[0m \u001b[0mmask\u001b[0m\u001b[1;33m.\u001b[0m\u001b[0many\u001b[0m\u001b[1;33m(\u001b[0m\u001b[1;33m)\u001b[0m\u001b[1;33m:\u001b[0m\u001b[1;33m\u001b[0m\u001b[1;33m\u001b[0m\u001b[0m\n\u001b[0;32m   6660\u001b[0m             \u001b[1;32mif\u001b[0m \u001b[0merrors\u001b[0m \u001b[1;33m!=\u001b[0m \u001b[1;34m\"ignore\"\u001b[0m\u001b[1;33m:\u001b[0m\u001b[1;33m\u001b[0m\u001b[1;33m\u001b[0m\u001b[0m\n\u001b[1;32m-> 6661\u001b[1;33m                 \u001b[1;32mraise\u001b[0m \u001b[0mKeyError\u001b[0m\u001b[1;33m(\u001b[0m\u001b[1;34mf\"{list(labels[mask])} not found in axis\"\u001b[0m\u001b[1;33m)\u001b[0m\u001b[1;33m\u001b[0m\u001b[1;33m\u001b[0m\u001b[0m\n\u001b[0m\u001b[0;32m   6662\u001b[0m             \u001b[0mindexer\u001b[0m \u001b[1;33m=\u001b[0m \u001b[0mindexer\u001b[0m\u001b[1;33m[\u001b[0m\u001b[1;33m~\u001b[0m\u001b[0mmask\u001b[0m\u001b[1;33m]\u001b[0m\u001b[1;33m\u001b[0m\u001b[1;33m\u001b[0m\u001b[0m\n\u001b[0;32m   6663\u001b[0m         \u001b[1;32mreturn\u001b[0m \u001b[0mself\u001b[0m\u001b[1;33m.\u001b[0m\u001b[0mdelete\u001b[0m\u001b[1;33m(\u001b[0m\u001b[0mindexer\u001b[0m\u001b[1;33m)\u001b[0m\u001b[1;33m\u001b[0m\u001b[1;33m\u001b[0m\u001b[0m\n",
      "\u001b[1;31mKeyError\u001b[0m: \"['price_per_sqft_x'] not found in axis\""
     ]
    }
   ],
   "source": [
    "sector_data = pd.merge(sector_data, super_built_up_area, on='sector')"
   ]
  },
  {
   "cell_type": "code",
   "execution_count": 69,
   "id": "7b4b9d02",
   "metadata": {},
   "outputs": [
    {
     "data": {
      "text/html": [
       "<div>\n",
       "<style scoped>\n",
       "    .dataframe tbody tr th:only-of-type {\n",
       "        vertical-align: middle;\n",
       "    }\n",
       "\n",
       "    .dataframe tbody tr th {\n",
       "        vertical-align: top;\n",
       "    }\n",
       "\n",
       "    .dataframe thead th {\n",
       "        text-align: right;\n",
       "    }\n",
       "</style>\n",
       "<table border=\"1\" class=\"dataframe\">\n",
       "  <thead>\n",
       "    <tr style=\"text-align: right;\">\n",
       "      <th></th>\n",
       "      <th>sector</th>\n",
       "      <th>latitude</th>\n",
       "      <th>longitude</th>\n",
       "      <th>price_per_sqft</th>\n",
       "      <th>super_built_up_area</th>\n",
       "    </tr>\n",
       "  </thead>\n",
       "  <tbody>\n",
       "    <tr>\n",
       "      <th>0</th>\n",
       "      <td>sector 7</td>\n",
       "      <td>28.376028</td>\n",
       "      <td>76.912215</td>\n",
       "      <td>4618.94</td>\n",
       "      <td>1169.10</td>\n",
       "    </tr>\n",
       "    <tr>\n",
       "      <th>1</th>\n",
       "      <td>sector 3</td>\n",
       "      <td>28.362766</td>\n",
       "      <td>76.919326</td>\n",
       "      <td>5985.16</td>\n",
       "      <td>950.00</td>\n",
       "    </tr>\n",
       "    <tr>\n",
       "      <th>2</th>\n",
       "      <td>sohna road</td>\n",
       "      <td>28.444337</td>\n",
       "      <td>77.033885</td>\n",
       "      <td>5150.88</td>\n",
       "      <td>922.29</td>\n",
       "    </tr>\n",
       "    <tr>\n",
       "      <th>3</th>\n",
       "      <td>sector 61</td>\n",
       "      <td>28.411019</td>\n",
       "      <td>77.096368</td>\n",
       "      <td>11386.69</td>\n",
       "      <td>1623.52</td>\n",
       "    </tr>\n",
       "    <tr>\n",
       "      <th>4</th>\n",
       "      <td>sector 92</td>\n",
       "      <td>28.408905</td>\n",
       "      <td>76.915523</td>\n",
       "      <td>4825.13</td>\n",
       "      <td>1838.73</td>\n",
       "    </tr>\n",
       "    <tr>\n",
       "      <th>...</th>\n",
       "      <td>...</td>\n",
       "      <td>...</td>\n",
       "      <td>...</td>\n",
       "      <td>...</td>\n",
       "      <td>...</td>\n",
       "    </tr>\n",
       "    <tr>\n",
       "      <th>100</th>\n",
       "      <td>samaspur</td>\n",
       "      <td>28.431574</td>\n",
       "      <td>77.061937</td>\n",
       "      <td>4032.41</td>\n",
       "      <td>1363.95</td>\n",
       "    </tr>\n",
       "    <tr>\n",
       "      <th>101</th>\n",
       "      <td>golf course ext road</td>\n",
       "      <td>28.460100</td>\n",
       "      <td>77.026350</td>\n",
       "      <td>8513.16</td>\n",
       "      <td>2185.47</td>\n",
       "    </tr>\n",
       "    <tr>\n",
       "      <th>102</th>\n",
       "      <td>sector 35</td>\n",
       "      <td>28.414567</td>\n",
       "      <td>77.001869</td>\n",
       "      <td>3600.00</td>\n",
       "      <td>750.00</td>\n",
       "    </tr>\n",
       "    <tr>\n",
       "      <th>103</th>\n",
       "      <td>sector 105</td>\n",
       "      <td>28.494313</td>\n",
       "      <td>77.008138</td>\n",
       "      <td>3978.77</td>\n",
       "      <td>1139.60</td>\n",
       "    </tr>\n",
       "    <tr>\n",
       "      <th>104</th>\n",
       "      <td>bptp</td>\n",
       "      <td>28.460100</td>\n",
       "      <td>77.026350</td>\n",
       "      <td>8653.85</td>\n",
       "      <td>2600.00</td>\n",
       "    </tr>\n",
       "  </tbody>\n",
       "</table>\n",
       "<p>105 rows × 5 columns</p>\n",
       "</div>"
      ],
      "text/plain": [
       "                   sector   latitude  longitude  price_per_sqft  \\\n",
       "0                sector 7  28.376028  76.912215         4618.94   \n",
       "1                sector 3  28.362766  76.919326         5985.16   \n",
       "2              sohna road  28.444337  77.033885         5150.88   \n",
       "3               sector 61  28.411019  77.096368        11386.69   \n",
       "4               sector 92  28.408905  76.915523         4825.13   \n",
       "..                    ...        ...        ...             ...   \n",
       "100              samaspur  28.431574  77.061937         4032.41   \n",
       "101  golf course ext road  28.460100  77.026350         8513.16   \n",
       "102             sector 35  28.414567  77.001869         3600.00   \n",
       "103            sector 105  28.494313  77.008138         3978.77   \n",
       "104                  bptp  28.460100  77.026350         8653.85   \n",
       "\n",
       "     super_built_up_area  \n",
       "0                1169.10  \n",
       "1                 950.00  \n",
       "2                 922.29  \n",
       "3                1623.52  \n",
       "4                1838.73  \n",
       "..                   ...  \n",
       "100              1363.95  \n",
       "101              2185.47  \n",
       "102               750.00  \n",
       "103              1139.60  \n",
       "104              2600.00  \n",
       "\n",
       "[105 rows x 5 columns]"
      ]
     },
     "execution_count": 69,
     "metadata": {},
     "output_type": "execute_result"
    }
   ],
   "source": [
    "sector_data"
   ]
  },
  {
   "cell_type": "code",
   "execution_count": 70,
   "id": "12687174",
   "metadata": {},
   "outputs": [],
   "source": [
    "sector_data.to_csv('sector_data.csv', index=False)"
   ]
  },
  {
   "cell_type": "code",
   "execution_count": 71,
   "id": "0aa54b71",
   "metadata": {},
   "outputs": [
    {
     "data": {
      "application/vnd.plotly.v1+json": {
       "config": {
        "plotlyServerURL": "https://plot.ly"
       },
       "data": [
        {
         "customdata": [
          [
           4618.94,
           1169.1
          ],
          [
           5985.16,
           950
          ],
          [
           5150.88,
           922.29
          ],
          [
           11386.69,
           1623.52
          ],
          [
           4825.13,
           1838.73
          ],
          [
           7738.67,
           987.12
          ],
          [
           9027.78,
           1689
          ],
          [
           8078.6,
           2290
          ],
          [
           7309.58,
           1617
          ],
          [
           5004.04,
           1876.33
          ],
          [
           8881.96,
           2100
          ],
          [
           8053.69,
           1620
          ],
          [
           9182.94,
           1558.8
          ],
          [
           6447,
           1904.83
          ],
          [
           7738.39,
           1838
          ],
          [
           16037.48,
           3820.41
          ],
          [
           9489.05,
           1692
          ],
          [
           7049.15,
           1437.99
          ],
          [
           11050.97,
           2217
          ],
          [
           14272.73,
           1975
          ],
          [
           9869.52,
           2430
          ],
          [
           6424,
           1772.41
          ],
          [
           7137.81,
           1415
          ],
          [
           14228.53,
           2586.5
          ],
          [
           8605.64,
           1382.71
          ],
          [
           8000,
           2122.5
          ],
          [
           6534.09,
           1760
          ],
          [
           6538.46,
           1818
          ],
          [
           7121.91,
           1873.5
          ],
          [
           12661.79,
           1777
          ],
          [
           5055.66,
           1883.55
          ],
          [
           3595.42,
           2527.5
          ],
          [
           4618.94,
           1467.87
          ],
          [
           6003.43,
           1725
          ],
          [
           6856.24,
           1485
          ],
          [
           6988.31,
           1883.55
          ],
          [
           11989.66,
           2048
          ],
          [
           10888.89,
           2852.46
          ],
          [
           4487.32,
           854.09
          ],
          [
           5806.47,
           1550
          ],
          [
           7436.82,
           1776
          ],
          [
           10984.2,
           2070
          ],
          [
           9899.39,
           1458.49
          ],
          [
           6683.94,
           1895
          ],
          [
           14285.71,
           2100
          ],
          [
           6776.61,
           1688.7
          ],
          [
           4005.09,
           1069.87
          ],
          [
           14420.29,
           2099.1
          ],
          [
           13471.9,
           2034
          ],
          [
           7566.79,
           2300.8
          ],
          [
           5980.07,
           1050
          ],
          [
           4791.88,
           1324.98
          ],
          [
           5132.15,
           2338.2
          ],
          [
           11088.78,
           2286.24
          ],
          [
           6837.61,
           2364
          ],
          [
           3953.49,
           2300
          ],
          [
           8333.33,
           1950
          ],
          [
           9516.8,
           2039.2
          ],
          [
           8236.1,
           2086
          ],
          [
           10659.09,
           1407.25
          ],
          [
           21360.76,
           2300
          ],
          [
           11727.27,
           2215
          ],
          [
           13461,
           2494.27
          ],
          [
           5363.59,
           1780.78
          ],
          [
           7631.58,
           2000
          ],
          [
           6574.39,
           1755
          ],
          [
           19085.55,
           2952.5
          ],
          [
           13425.13,
           2905
          ],
          [
           8883.25,
           1608
          ],
          [
           10000,
           3400
          ],
          [
           6554.49,
           2273.25
          ],
          [
           4715.97,
           842.91
          ],
          [
           5773.67,
           2987.7
          ],
          [
           10685.48,
           2480
          ],
          [
           11510.63,
           3228.02
          ],
          [
           14738.72,
           3003.1
          ],
          [
           13428.59,
           3736.13
          ],
          [
           9190.61,
           2284.94
          ],
          [
           9867.73,
           4481.55
          ],
          [
           11540.45,
           2802
          ],
          [
           9185.19,
           2839.31
          ],
          [
           10879.51,
           1424
          ],
          [
           13392.86,
           2394
          ],
          [
           5957.59,
           1625.05
          ],
          [
           6735.95,
           3052.65
          ],
          [
           16000,
           2164
          ],
          [
           6189.21,
           2262
          ],
          [
           7954.85,
           2094.1
          ],
          [
           16666.67,
           2100
          ],
          [
           5389.24,
           772.79
          ],
          [
           5000,
           1100
          ],
          [
           8076.55,
           1718.5
          ],
          [
           8909.99,
           1650
          ],
          [
           5184.68,
           1488
          ],
          [
           11364.62,
           2225.4
          ],
          [
           9142.86,
           1750
          ],
          [
           3942.83,
           1645.64
          ],
          [
           4490.63,
           757.32
          ],
          [
           5587.42,
           1073.84
          ],
          [
           4105.72,
           1104.15
          ],
          [
           4032.41,
           1363.95
          ],
          [
           8513.16,
           2185.47
          ],
          [
           3600,
           750
          ],
          [
           3978.77,
           1139.6
          ],
          [
           8653.85,
           2600
          ]
         ],
         "hovertemplate": "<b>%{hovertext}</b><br><br>super_built_up_area=%{customdata[1]}<br>latitude=%{lat}<br>longitude=%{lon}<br>price_per_sqft=%{marker.color}<extra></extra>",
         "hovertext": [
          "sector 7",
          "sector 3",
          "sohna road",
          "sector 61",
          "sector 92",
          "sector 36",
          "dwarka expressway",
          "sector 104",
          "sector 88",
          "sector 78",
          "sector 81",
          "sector 79",
          "sector 33",
          "sector 90",
          "sector 108",
          "sector 62",
          "sector 102",
          "sector 89",
          "sector 113",
          "sector 65",
          "sector 48",
          "sector 37",
          "sector 2",
          "sector 43",
          "sector 68",
          "sector 109",
          "sector 106",
          "sector 82",
          "sector 85",
          "sector 28",
          "sector 10",
          "manesar",
          "sector 21",
          "sector 84",
          "sector 71",
          "sector 77",
          "sector 67",
          "sector 57",
          "sector 95",
          "sector 99",
          "sector 103",
          "sector 49",
          "sector 30",
          "sector 86",
          "sector 66",
          "sector 15",
          "sector 4",
          "sector 22",
          "sector 63",
          "sector 52",
          "sector 107",
          "sector 12",
          "sector 9",
          "sector 29",
          "sector 91",
          "sector 1",
          "sector 70",
          "gwal pahari",
          "sector 47",
          "golf course road",
          "sector 54",
          "sector 111",
          "sector 41",
          "sector 73",
          "sector 56",
          "sector 83",
          "sector 53",
          "sector 72",
          "sector 69",
          "sector 110",
          "sector 44",
          "sector 11",
          "sector 14",
          "sector 50",
          "sector 25",
          "sector 59",
          "sector 24",
          "sector 38",
          "ambience island",
          "sector 112",
          "sector 45",
          "sector 74",
          "sector 60",
          "sector 51",
          "sector 39",
          "sector 58",
          "sector 80",
          "sector 55",
          "sector 128",
          "sector 93",
          "sector 23",
          "sector 76",
          "sector 31",
          "new gurgaon",
          "sector 32",
          "ats marigold",
          "shanti nagar",
          "sector 5",
          "faridabad road",
          "sector 6",
          "samaspur",
          "golf course ext road",
          "sector 35",
          "sector 105",
          "bptp"
         ],
         "lat": [
          28.3760277,
          28.3627664,
          28.4443368,
          28.4110188,
          28.4089049,
          28.419334,
          28.4642142,
          28.4795324,
          28.4219647,
          28.3725283,
          28.3873647,
          28.4222654,
          28.4384785,
          28.4069974,
          28.5128994,
          28.407697,
          28.4754872,
          28.4184455,
          28.5286649,
          28.4042354,
          28.4104903,
          28.4342681,
          28.5090499,
          28.4548735,
          28.388897,
          28.5109205,
          28.5060806,
          28.3931076,
          28.403652,
          28.4741302,
          28.392411,
          28.3247096,
          28.5143629,
          28.4082289,
          28.4064564,
          28.3832337,
          28.3864052,
          28.4232478,
          28.4149443,
          28.4645549,
          28.493087,
          28.4128851,
          28.4616245,
          28.3981205,
          28.3974292,
          28.3843199,
          28.4750063,
          28.506318,
          28.3964476,
          28.4368166,
          28.506941,
          28.464066,
          28.3840986,
          28.4669197,
          28.4007588,
          28.5187813,
          28.3947261,
          28.4345071,
          28.4251572,
          28.4578463,
          28.441611,
          28.5222773,
          28.4569188,
          28.4088081,
          28.4253232,
          28.3981087,
          28.4415191,
          28.4159257,
          28.3960701,
          28.5069625,
          28.4507064,
          28.3781429,
          28.3833517,
          28.4166536,
          28.4860888,
          28.4030162,
          28.4944811,
          28.4351423,
          28.5007796,
          28.5203402,
          28.4449004,
          28.4112763,
          28.3985617,
          28.4287011,
          28.4423675,
          28.4160012,
          28.3702173,
          28.4274166,
          28.4222654,
          28.4156048,
          28.510319,
          28.3910112,
          28.4540044,
          28.4068493,
          28.4458035,
          28.4601,
          28.4601,
          28.4803924,
          28.4071046,
          28.4753259,
          28.4315737,
          28.4601,
          28.4145669,
          28.4943133,
          28.4601
         ],
         "legendgroup": "",
         "lon": [
          76.9122152,
          76.9193261,
          77.0338851,
          77.0963685,
          76.9155232,
          76.9889256,
          76.9688895,
          76.9937197,
          76.9568078,
          76.9702955,
          76.9475835,
          76.9209293,
          77.0251655,
          76.9365562,
          76.9823615,
          77.0823781,
          76.9711747,
          76.9457567,
          77.0250282,
          77.0692577,
          77.0394627,
          76.999294,
          77.0342831,
          77.0858864,
          77.0459859,
          77.0065956,
          76.9967796,
          76.9588762,
          76.9531428,
          77.0825722,
          76.8864253,
          76.9263787,
          77.0730087,
          76.9630245,
          77.0233125,
          76.982557,
          77.0598046,
          77.0804487,
          76.9114892,
          76.9628585,
          76.9866453,
          77.0498362,
          77.0566819,
          76.9411257,
          77.0538823,
          76.9122326,
          77.0103535,
          77.0655182,
          77.086498,
          77.0795276,
          76.9752137,
          77.0259664,
          76.8861337,
          77.0671306,
          76.9210802,
          77.0418623,
          77.0223138,
          77.1446526,
          77.0475128,
          77.0969021,
          77.1118718,
          77.0336203,
          77.0646046,
          77.0161691,
          77.0985157,
          76.9732873,
          77.096805,
          77.0290772,
          77.0372311,
          77.018321,
          77.0738281,
          76.8753775,
          76.9015654,
          77.0611745,
          77.084224,
          77.1066682,
          77.1013038,
          77.0403538,
          77.102441,
          77.0188612,
          77.0663545,
          77.010669,
          77.0978276,
          77.0666877,
          77.0504724,
          77.1085564,
          76.9611159,
          77.1097538,
          76.9209293,
          76.931638,
          77.0530094,
          76.9900243,
          77.0497179,
          76.9311927,
          77.0413169,
          77.02635,
          77.02635,
          77.0190946,
          77.2005346,
          77.0258279,
          77.0619368,
          77.02635,
          77.0018689,
          77.0081378,
          77.02635
         ],
         "marker": {
          "color": [
           4618.94,
           5985.16,
           5150.88,
           11386.69,
           4825.13,
           7738.67,
           9027.78,
           8078.6,
           7309.58,
           5004.04,
           8881.96,
           8053.69,
           9182.94,
           6447,
           7738.39,
           16037.48,
           9489.05,
           7049.15,
           11050.97,
           14272.73,
           9869.52,
           6424,
           7137.81,
           14228.53,
           8605.64,
           8000,
           6534.09,
           6538.46,
           7121.91,
           12661.79,
           5055.66,
           3595.42,
           4618.94,
           6003.43,
           6856.24,
           6988.31,
           11989.66,
           10888.89,
           4487.32,
           5806.47,
           7436.82,
           10984.2,
           9899.39,
           6683.94,
           14285.71,
           6776.61,
           4005.09,
           14420.29,
           13471.9,
           7566.79,
           5980.07,
           4791.88,
           5132.15,
           11088.78,
           6837.61,
           3953.49,
           8333.33,
           9516.8,
           8236.1,
           10659.09,
           21360.76,
           11727.27,
           13461,
           5363.59,
           7631.58,
           6574.39,
           19085.55,
           13425.13,
           8883.25,
           10000,
           6554.49,
           4715.97,
           5773.67,
           10685.48,
           11510.63,
           14738.72,
           13428.59,
           9190.61,
           9867.73,
           11540.45,
           9185.19,
           10879.51,
           13392.86,
           5957.59,
           6735.95,
           16000,
           6189.21,
           7954.85,
           16666.67,
           5389.24,
           5000,
           8076.55,
           8909.99,
           5184.68,
           11364.62,
           9142.86,
           3942.83,
           4490.63,
           5587.42,
           4105.72,
           4032.41,
           8513.16,
           3600,
           3978.77,
           8653.85
          ],
          "coloraxis": "coloraxis",
          "size": [
           1169.1,
           950,
           922.29,
           1623.52,
           1838.73,
           987.12,
           1689,
           2290,
           1617,
           1876.33,
           2100,
           1620,
           1558.8,
           1904.83,
           1838,
           3820.41,
           1692,
           1437.99,
           2217,
           1975,
           2430,
           1772.41,
           1415,
           2586.5,
           1382.71,
           2122.5,
           1760,
           1818,
           1873.5,
           1777,
           1883.55,
           2527.5,
           1467.87,
           1725,
           1485,
           1883.55,
           2048,
           2852.46,
           854.09,
           1550,
           1776,
           2070,
           1458.49,
           1895,
           2100,
           1688.7,
           1069.87,
           2099.1,
           2034,
           2300.8,
           1050,
           1324.98,
           2338.2,
           2286.24,
           2364,
           2300,
           1950,
           2039.2,
           2086,
           1407.25,
           2300,
           2215,
           2494.27,
           1780.78,
           2000,
           1755,
           2952.5,
           2905,
           1608,
           3400,
           2273.25,
           842.91,
           2987.7,
           2480,
           3228.02,
           3003.1,
           3736.13,
           2284.94,
           4481.55,
           2802,
           2839.31,
           1424,
           2394,
           1625.05,
           3052.65,
           2164,
           2262,
           2094.1,
           2100,
           772.79,
           1100,
           1718.5,
           1650,
           1488,
           2225.4,
           1750,
           1645.64,
           757.32,
           1073.84,
           1104.15,
           1363.95,
           2185.47,
           750,
           1139.6,
           2600
          ],
          "sizemode": "area",
          "sizeref": 11.203875
         },
         "mode": "markers",
         "name": "",
         "showlegend": false,
         "subplot": "mapbox",
         "type": "scattermapbox"
        }
       ],
       "layout": {
        "coloraxis": {
         "colorbar": {
          "title": {
           "text": "price_per_sqft"
          }
         },
         "colorscale": [
          [
           0,
           "#0d0887"
          ],
          [
           0.1111111111111111,
           "#46039f"
          ],
          [
           0.2222222222222222,
           "#7201a8"
          ],
          [
           0.3333333333333333,
           "#9c179e"
          ],
          [
           0.4444444444444444,
           "#bd3786"
          ],
          [
           0.5555555555555556,
           "#d8576b"
          ],
          [
           0.6666666666666666,
           "#ed7953"
          ],
          [
           0.7777777777777778,
           "#fb9f3a"
          ],
          [
           0.8888888888888888,
           "#fdca26"
          ],
          [
           1,
           "#f0f921"
          ]
         ]
        },
        "geo": {
         "fitbounds": "locations",
         "visible": false
        },
        "height": 300,
        "legend": {
         "itemsizing": "constant",
         "tracegroupgap": 0
        },
        "mapbox": {
         "center": {
          "lat": 28.436135700952367,
          "lon": 77.01774066952382
         },
         "domain": {
          "x": [
           0,
           1
          ],
          "y": [
           0,
           1
          ]
         },
         "style": "open-street-map",
         "zoom": 10
        },
        "margin": {
         "b": 0,
         "l": 0,
         "r": 0,
         "t": 0
        },
        "template": {
         "data": {
          "bar": [
           {
            "error_x": {
             "color": "#2a3f5f"
            },
            "error_y": {
             "color": "#2a3f5f"
            },
            "marker": {
             "line": {
              "color": "#E5ECF6",
              "width": 0.5
             },
             "pattern": {
              "fillmode": "overlay",
              "size": 10,
              "solidity": 0.2
             }
            },
            "type": "bar"
           }
          ],
          "barpolar": [
           {
            "marker": {
             "line": {
              "color": "#E5ECF6",
              "width": 0.5
             },
             "pattern": {
              "fillmode": "overlay",
              "size": 10,
              "solidity": 0.2
             }
            },
            "type": "barpolar"
           }
          ],
          "carpet": [
           {
            "aaxis": {
             "endlinecolor": "#2a3f5f",
             "gridcolor": "white",
             "linecolor": "white",
             "minorgridcolor": "white",
             "startlinecolor": "#2a3f5f"
            },
            "baxis": {
             "endlinecolor": "#2a3f5f",
             "gridcolor": "white",
             "linecolor": "white",
             "minorgridcolor": "white",
             "startlinecolor": "#2a3f5f"
            },
            "type": "carpet"
           }
          ],
          "choropleth": [
           {
            "colorbar": {
             "outlinewidth": 0,
             "ticks": ""
            },
            "type": "choropleth"
           }
          ],
          "contour": [
           {
            "colorbar": {
             "outlinewidth": 0,
             "ticks": ""
            },
            "colorscale": [
             [
              0,
              "#0d0887"
             ],
             [
              0.1111111111111111,
              "#46039f"
             ],
             [
              0.2222222222222222,
              "#7201a8"
             ],
             [
              0.3333333333333333,
              "#9c179e"
             ],
             [
              0.4444444444444444,
              "#bd3786"
             ],
             [
              0.5555555555555556,
              "#d8576b"
             ],
             [
              0.6666666666666666,
              "#ed7953"
             ],
             [
              0.7777777777777778,
              "#fb9f3a"
             ],
             [
              0.8888888888888888,
              "#fdca26"
             ],
             [
              1,
              "#f0f921"
             ]
            ],
            "type": "contour"
           }
          ],
          "contourcarpet": [
           {
            "colorbar": {
             "outlinewidth": 0,
             "ticks": ""
            },
            "type": "contourcarpet"
           }
          ],
          "heatmap": [
           {
            "colorbar": {
             "outlinewidth": 0,
             "ticks": ""
            },
            "colorscale": [
             [
              0,
              "#0d0887"
             ],
             [
              0.1111111111111111,
              "#46039f"
             ],
             [
              0.2222222222222222,
              "#7201a8"
             ],
             [
              0.3333333333333333,
              "#9c179e"
             ],
             [
              0.4444444444444444,
              "#bd3786"
             ],
             [
              0.5555555555555556,
              "#d8576b"
             ],
             [
              0.6666666666666666,
              "#ed7953"
             ],
             [
              0.7777777777777778,
              "#fb9f3a"
             ],
             [
              0.8888888888888888,
              "#fdca26"
             ],
             [
              1,
              "#f0f921"
             ]
            ],
            "type": "heatmap"
           }
          ],
          "heatmapgl": [
           {
            "colorbar": {
             "outlinewidth": 0,
             "ticks": ""
            },
            "colorscale": [
             [
              0,
              "#0d0887"
             ],
             [
              0.1111111111111111,
              "#46039f"
             ],
             [
              0.2222222222222222,
              "#7201a8"
             ],
             [
              0.3333333333333333,
              "#9c179e"
             ],
             [
              0.4444444444444444,
              "#bd3786"
             ],
             [
              0.5555555555555556,
              "#d8576b"
             ],
             [
              0.6666666666666666,
              "#ed7953"
             ],
             [
              0.7777777777777778,
              "#fb9f3a"
             ],
             [
              0.8888888888888888,
              "#fdca26"
             ],
             [
              1,
              "#f0f921"
             ]
            ],
            "type": "heatmapgl"
           }
          ],
          "histogram": [
           {
            "marker": {
             "pattern": {
              "fillmode": "overlay",
              "size": 10,
              "solidity": 0.2
             }
            },
            "type": "histogram"
           }
          ],
          "histogram2d": [
           {
            "colorbar": {
             "outlinewidth": 0,
             "ticks": ""
            },
            "colorscale": [
             [
              0,
              "#0d0887"
             ],
             [
              0.1111111111111111,
              "#46039f"
             ],
             [
              0.2222222222222222,
              "#7201a8"
             ],
             [
              0.3333333333333333,
              "#9c179e"
             ],
             [
              0.4444444444444444,
              "#bd3786"
             ],
             [
              0.5555555555555556,
              "#d8576b"
             ],
             [
              0.6666666666666666,
              "#ed7953"
             ],
             [
              0.7777777777777778,
              "#fb9f3a"
             ],
             [
              0.8888888888888888,
              "#fdca26"
             ],
             [
              1,
              "#f0f921"
             ]
            ],
            "type": "histogram2d"
           }
          ],
          "histogram2dcontour": [
           {
            "colorbar": {
             "outlinewidth": 0,
             "ticks": ""
            },
            "colorscale": [
             [
              0,
              "#0d0887"
             ],
             [
              0.1111111111111111,
              "#46039f"
             ],
             [
              0.2222222222222222,
              "#7201a8"
             ],
             [
              0.3333333333333333,
              "#9c179e"
             ],
             [
              0.4444444444444444,
              "#bd3786"
             ],
             [
              0.5555555555555556,
              "#d8576b"
             ],
             [
              0.6666666666666666,
              "#ed7953"
             ],
             [
              0.7777777777777778,
              "#fb9f3a"
             ],
             [
              0.8888888888888888,
              "#fdca26"
             ],
             [
              1,
              "#f0f921"
             ]
            ],
            "type": "histogram2dcontour"
           }
          ],
          "mesh3d": [
           {
            "colorbar": {
             "outlinewidth": 0,
             "ticks": ""
            },
            "type": "mesh3d"
           }
          ],
          "parcoords": [
           {
            "line": {
             "colorbar": {
              "outlinewidth": 0,
              "ticks": ""
             }
            },
            "type": "parcoords"
           }
          ],
          "pie": [
           {
            "automargin": true,
            "type": "pie"
           }
          ],
          "scatter": [
           {
            "fillpattern": {
             "fillmode": "overlay",
             "size": 10,
             "solidity": 0.2
            },
            "type": "scatter"
           }
          ],
          "scatter3d": [
           {
            "line": {
             "colorbar": {
              "outlinewidth": 0,
              "ticks": ""
             }
            },
            "marker": {
             "colorbar": {
              "outlinewidth": 0,
              "ticks": ""
             }
            },
            "type": "scatter3d"
           }
          ],
          "scattercarpet": [
           {
            "marker": {
             "colorbar": {
              "outlinewidth": 0,
              "ticks": ""
             }
            },
            "type": "scattercarpet"
           }
          ],
          "scattergeo": [
           {
            "marker": {
             "colorbar": {
              "outlinewidth": 0,
              "ticks": ""
             }
            },
            "type": "scattergeo"
           }
          ],
          "scattergl": [
           {
            "marker": {
             "colorbar": {
              "outlinewidth": 0,
              "ticks": ""
             }
            },
            "type": "scattergl"
           }
          ],
          "scattermapbox": [
           {
            "marker": {
             "colorbar": {
              "outlinewidth": 0,
              "ticks": ""
             }
            },
            "type": "scattermapbox"
           }
          ],
          "scatterpolar": [
           {
            "marker": {
             "colorbar": {
              "outlinewidth": 0,
              "ticks": ""
             }
            },
            "type": "scatterpolar"
           }
          ],
          "scatterpolargl": [
           {
            "marker": {
             "colorbar": {
              "outlinewidth": 0,
              "ticks": ""
             }
            },
            "type": "scatterpolargl"
           }
          ],
          "scatterternary": [
           {
            "marker": {
             "colorbar": {
              "outlinewidth": 0,
              "ticks": ""
             }
            },
            "type": "scatterternary"
           }
          ],
          "surface": [
           {
            "colorbar": {
             "outlinewidth": 0,
             "ticks": ""
            },
            "colorscale": [
             [
              0,
              "#0d0887"
             ],
             [
              0.1111111111111111,
              "#46039f"
             ],
             [
              0.2222222222222222,
              "#7201a8"
             ],
             [
              0.3333333333333333,
              "#9c179e"
             ],
             [
              0.4444444444444444,
              "#bd3786"
             ],
             [
              0.5555555555555556,
              "#d8576b"
             ],
             [
              0.6666666666666666,
              "#ed7953"
             ],
             [
              0.7777777777777778,
              "#fb9f3a"
             ],
             [
              0.8888888888888888,
              "#fdca26"
             ],
             [
              1,
              "#f0f921"
             ]
            ],
            "type": "surface"
           }
          ],
          "table": [
           {
            "cells": {
             "fill": {
              "color": "#EBF0F8"
             },
             "line": {
              "color": "white"
             }
            },
            "header": {
             "fill": {
              "color": "#C8D4E3"
             },
             "line": {
              "color": "white"
             }
            },
            "type": "table"
           }
          ]
         },
         "layout": {
          "annotationdefaults": {
           "arrowcolor": "#2a3f5f",
           "arrowhead": 0,
           "arrowwidth": 1
          },
          "autotypenumbers": "strict",
          "coloraxis": {
           "colorbar": {
            "outlinewidth": 0,
            "ticks": ""
           }
          },
          "colorscale": {
           "diverging": [
            [
             0,
             "#8e0152"
            ],
            [
             0.1,
             "#c51b7d"
            ],
            [
             0.2,
             "#de77ae"
            ],
            [
             0.3,
             "#f1b6da"
            ],
            [
             0.4,
             "#fde0ef"
            ],
            [
             0.5,
             "#f7f7f7"
            ],
            [
             0.6,
             "#e6f5d0"
            ],
            [
             0.7,
             "#b8e186"
            ],
            [
             0.8,
             "#7fbc41"
            ],
            [
             0.9,
             "#4d9221"
            ],
            [
             1,
             "#276419"
            ]
           ],
           "sequential": [
            [
             0,
             "#0d0887"
            ],
            [
             0.1111111111111111,
             "#46039f"
            ],
            [
             0.2222222222222222,
             "#7201a8"
            ],
            [
             0.3333333333333333,
             "#9c179e"
            ],
            [
             0.4444444444444444,
             "#bd3786"
            ],
            [
             0.5555555555555556,
             "#d8576b"
            ],
            [
             0.6666666666666666,
             "#ed7953"
            ],
            [
             0.7777777777777778,
             "#fb9f3a"
            ],
            [
             0.8888888888888888,
             "#fdca26"
            ],
            [
             1,
             "#f0f921"
            ]
           ],
           "sequentialminus": [
            [
             0,
             "#0d0887"
            ],
            [
             0.1111111111111111,
             "#46039f"
            ],
            [
             0.2222222222222222,
             "#7201a8"
            ],
            [
             0.3333333333333333,
             "#9c179e"
            ],
            [
             0.4444444444444444,
             "#bd3786"
            ],
            [
             0.5555555555555556,
             "#d8576b"
            ],
            [
             0.6666666666666666,
             "#ed7953"
            ],
            [
             0.7777777777777778,
             "#fb9f3a"
            ],
            [
             0.8888888888888888,
             "#fdca26"
            ],
            [
             1,
             "#f0f921"
            ]
           ]
          },
          "colorway": [
           "#636efa",
           "#EF553B",
           "#00cc96",
           "#ab63fa",
           "#FFA15A",
           "#19d3f3",
           "#FF6692",
           "#B6E880",
           "#FF97FF",
           "#FECB52"
          ],
          "font": {
           "color": "#2a3f5f"
          },
          "geo": {
           "bgcolor": "white",
           "lakecolor": "white",
           "landcolor": "#E5ECF6",
           "showlakes": true,
           "showland": true,
           "subunitcolor": "white"
          },
          "hoverlabel": {
           "align": "left"
          },
          "hovermode": "closest",
          "mapbox": {
           "style": "light"
          },
          "paper_bgcolor": "white",
          "plot_bgcolor": "#E5ECF6",
          "polar": {
           "angularaxis": {
            "gridcolor": "white",
            "linecolor": "white",
            "ticks": ""
           },
           "bgcolor": "#E5ECF6",
           "radialaxis": {
            "gridcolor": "white",
            "linecolor": "white",
            "ticks": ""
           }
          },
          "scene": {
           "xaxis": {
            "backgroundcolor": "#E5ECF6",
            "gridcolor": "white",
            "gridwidth": 2,
            "linecolor": "white",
            "showbackground": true,
            "ticks": "",
            "zerolinecolor": "white"
           },
           "yaxis": {
            "backgroundcolor": "#E5ECF6",
            "gridcolor": "white",
            "gridwidth": 2,
            "linecolor": "white",
            "showbackground": true,
            "ticks": "",
            "zerolinecolor": "white"
           },
           "zaxis": {
            "backgroundcolor": "#E5ECF6",
            "gridcolor": "white",
            "gridwidth": 2,
            "linecolor": "white",
            "showbackground": true,
            "ticks": "",
            "zerolinecolor": "white"
           }
          },
          "shapedefaults": {
           "line": {
            "color": "#2a3f5f"
           }
          },
          "ternary": {
           "aaxis": {
            "gridcolor": "white",
            "linecolor": "white",
            "ticks": ""
           },
           "baxis": {
            "gridcolor": "white",
            "linecolor": "white",
            "ticks": ""
           },
           "bgcolor": "#E5ECF6",
           "caxis": {
            "gridcolor": "white",
            "linecolor": "white",
            "ticks": ""
           }
          },
          "title": {
           "x": 0.05
          },
          "xaxis": {
           "automargin": true,
           "gridcolor": "white",
           "linecolor": "white",
           "ticks": "",
           "title": {
            "standoff": 15
           },
           "zerolinecolor": "white",
           "zerolinewidth": 2
          },
          "yaxis": {
           "automargin": true,
           "gridcolor": "white",
           "linecolor": "white",
           "ticks": "",
           "title": {
            "standoff": 15
           },
           "zerolinecolor": "white",
           "zerolinewidth": 2
          }
         }
        }
       }
      },
      "text/html": [
       "<div>                            <div id=\"b0ee20ac-f558-4535-8962-ab7f8093b915\" class=\"plotly-graph-div\" style=\"height:300px; width:100%;\"></div>            <script type=\"text/javascript\">                require([\"plotly\"], function(Plotly) {                    window.PLOTLYENV=window.PLOTLYENV || {};                                    if (document.getElementById(\"b0ee20ac-f558-4535-8962-ab7f8093b915\")) {                    Plotly.newPlot(                        \"b0ee20ac-f558-4535-8962-ab7f8093b915\",                        [{\"customdata\":[[4618.94,1169.1],[5985.16,950.0],[5150.88,922.29],[11386.69,1623.52],[4825.13,1838.73],[7738.67,987.12],[9027.78,1689.0],[8078.6,2290.0],[7309.58,1617.0],[5004.04,1876.33],[8881.96,2100.0],[8053.69,1620.0],[9182.94,1558.8],[6447.0,1904.83],[7738.39,1838.0],[16037.48,3820.41],[9489.05,1692.0],[7049.15,1437.99],[11050.97,2217.0],[14272.73,1975.0],[9869.52,2430.0],[6424.0,1772.41],[7137.81,1415.0],[14228.53,2586.5],[8605.64,1382.71],[8000.0,2122.5],[6534.09,1760.0],[6538.46,1818.0],[7121.91,1873.5],[12661.79,1777.0],[5055.66,1883.55],[3595.42,2527.5],[4618.94,1467.87],[6003.43,1725.0],[6856.24,1485.0],[6988.31,1883.55],[11989.66,2048.0],[10888.89,2852.46],[4487.32,854.09],[5806.47,1550.0],[7436.82,1776.0],[10984.2,2070.0],[9899.39,1458.49],[6683.94,1895.0],[14285.71,2100.0],[6776.61,1688.7],[4005.09,1069.87],[14420.29,2099.1],[13471.9,2034.0],[7566.79,2300.8],[5980.07,1050.0],[4791.88,1324.98],[5132.15,2338.2],[11088.78,2286.24],[6837.61,2364.0],[3953.49,2300.0],[8333.33,1950.0],[9516.8,2039.2],[8236.1,2086.0],[10659.09,1407.25],[21360.76,2300.0],[11727.27,2215.0],[13461.0,2494.27],[5363.59,1780.78],[7631.58,2000.0],[6574.39,1755.0],[19085.55,2952.5],[13425.13,2905.0],[8883.25,1608.0],[10000.0,3400.0],[6554.49,2273.25],[4715.97,842.91],[5773.67,2987.7],[10685.48,2480.0],[11510.63,3228.02],[14738.72,3003.1],[13428.59,3736.13],[9190.61,2284.94],[9867.73,4481.55],[11540.45,2802.0],[9185.19,2839.31],[10879.51,1424.0],[13392.86,2394.0],[5957.59,1625.05],[6735.95,3052.65],[16000.0,2164.0],[6189.21,2262.0],[7954.85,2094.1],[16666.67,2100.0],[5389.24,772.79],[5000.0,1100.0],[8076.55,1718.5],[8909.99,1650.0],[5184.68,1488.0],[11364.62,2225.4],[9142.86,1750.0],[3942.83,1645.64],[4490.63,757.32],[5587.42,1073.84],[4105.72,1104.15],[4032.41,1363.95],[8513.16,2185.47],[3600.0,750.0],[3978.77,1139.6],[8653.85,2600.0]],\"hovertemplate\":\"<b>%{hovertext}</b><br><br>super_built_up_area=%{customdata[1]}<br>latitude=%{lat}<br>longitude=%{lon}<br>price_per_sqft=%{marker.color}<extra></extra>\",\"hovertext\":[\"sector 7\",\"sector 3\",\"sohna road\",\"sector 61\",\"sector 92\",\"sector 36\",\"dwarka expressway\",\"sector 104\",\"sector 88\",\"sector 78\",\"sector 81\",\"sector 79\",\"sector 33\",\"sector 90\",\"sector 108\",\"sector 62\",\"sector 102\",\"sector 89\",\"sector 113\",\"sector 65\",\"sector 48\",\"sector 37\",\"sector 2\",\"sector 43\",\"sector 68\",\"sector 109\",\"sector 106\",\"sector 82\",\"sector 85\",\"sector 28\",\"sector 10\",\"manesar\",\"sector 21\",\"sector 84\",\"sector 71\",\"sector 77\",\"sector 67\",\"sector 57\",\"sector 95\",\"sector 99\",\"sector 103\",\"sector 49\",\"sector 30\",\"sector 86\",\"sector 66\",\"sector 15\",\"sector 4\",\"sector 22\",\"sector 63\",\"sector 52\",\"sector 107\",\"sector 12\",\"sector 9\",\"sector 29\",\"sector 91\",\"sector 1\",\"sector 70\",\"gwal pahari\",\"sector 47\",\"golf course road\",\"sector 54\",\"sector 111\",\"sector 41\",\"sector 73\",\"sector 56\",\"sector 83\",\"sector 53\",\"sector 72\",\"sector 69\",\"sector 110\",\"sector 44\",\"sector 11\",\"sector 14\",\"sector 50\",\"sector 25\",\"sector 59\",\"sector 24\",\"sector 38\",\"ambience island\",\"sector 112\",\"sector 45\",\"sector 74\",\"sector 60\",\"sector 51\",\"sector 39\",\"sector 58\",\"sector 80\",\"sector 55\",\"sector 128\",\"sector 93\",\"sector 23\",\"sector 76\",\"sector 31\",\"new gurgaon\",\"sector 32\",\"ats marigold\",\"shanti nagar\",\"sector 5\",\"faridabad road\",\"sector 6\",\"samaspur\",\"golf course ext road\",\"sector 35\",\"sector 105\",\"bptp\"],\"lat\":[28.3760277,28.3627664,28.4443368,28.4110188,28.4089049,28.419334,28.4642142,28.4795324,28.4219647,28.3725283,28.3873647,28.4222654,28.4384785,28.4069974,28.5128994,28.407697,28.4754872,28.4184455,28.5286649,28.4042354,28.4104903,28.4342681,28.5090499,28.4548735,28.388897,28.5109205,28.5060806,28.3931076,28.403652,28.4741302,28.392411,28.3247096,28.5143629,28.4082289,28.4064564,28.3832337,28.3864052,28.4232478,28.4149443,28.4645549,28.493087,28.4128851,28.4616245,28.3981205,28.3974292,28.3843199,28.4750063,28.506318,28.3964476,28.4368166,28.506941,28.464066,28.3840986,28.4669197,28.4007588,28.5187813,28.3947261,28.4345071,28.4251572,28.4578463,28.441611,28.5222773,28.4569188,28.4088081,28.4253232,28.3981087,28.4415191,28.4159257,28.3960701,28.5069625,28.4507064,28.3781429,28.3833517,28.4166536,28.4860888,28.4030162,28.4944811,28.4351423,28.5007796,28.5203402,28.4449004,28.4112763,28.3985617,28.4287011,28.4423675,28.4160012,28.3702173,28.4274166,28.4222654,28.4156048,28.510319,28.3910112,28.4540044,28.4068493,28.4458035,28.4601,28.4601,28.4803924,28.4071046,28.4753259,28.4315737,28.4601,28.4145669,28.4943133,28.4601],\"legendgroup\":\"\",\"lon\":[76.9122152,76.9193261,77.0338851,77.0963685,76.9155232,76.9889256,76.9688895,76.9937197,76.9568078,76.9702955,76.9475835,76.9209293,77.0251655,76.9365562,76.9823615,77.0823781,76.9711747,76.9457567,77.0250282,77.0692577,77.0394627,76.999294,77.0342831,77.0858864,77.0459859,77.0065956,76.9967796,76.9588762,76.9531428,77.0825722,76.8864253,76.9263787,77.0730087,76.9630245,77.0233125,76.982557,77.0598046,77.0804487,76.9114892,76.9628585,76.9866453,77.0498362,77.0566819,76.9411257,77.0538823,76.9122326,77.0103535,77.0655182,77.086498,77.0795276,76.9752137,77.0259664,76.8861337,77.0671306,76.9210802,77.0418623,77.0223138,77.1446526,77.0475128,77.0969021,77.1118718,77.0336203,77.0646046,77.0161691,77.0985157,76.9732873,77.096805,77.0290772,77.0372311,77.018321,77.0738281,76.8753775,76.9015654,77.0611745,77.084224,77.1066682,77.1013038,77.0403538,77.102441,77.0188612,77.0663545,77.010669,77.0978276,77.0666877,77.0504724,77.1085564,76.9611159,77.1097538,76.9209293,76.931638,77.0530094,76.9900243,77.0497179,76.9311927,77.0413169,77.02635,77.02635,77.0190946,77.2005346,77.0258279,77.0619368,77.02635,77.0018689,77.0081378,77.02635],\"marker\":{\"color\":[4618.94,5985.16,5150.88,11386.69,4825.13,7738.67,9027.78,8078.6,7309.58,5004.04,8881.96,8053.69,9182.94,6447.0,7738.39,16037.48,9489.05,7049.15,11050.97,14272.73,9869.52,6424.0,7137.81,14228.53,8605.64,8000.0,6534.09,6538.46,7121.91,12661.79,5055.66,3595.42,4618.94,6003.43,6856.24,6988.31,11989.66,10888.89,4487.32,5806.47,7436.82,10984.2,9899.39,6683.94,14285.71,6776.61,4005.09,14420.29,13471.9,7566.79,5980.07,4791.88,5132.15,11088.78,6837.61,3953.49,8333.33,9516.8,8236.1,10659.09,21360.76,11727.27,13461.0,5363.59,7631.58,6574.39,19085.55,13425.13,8883.25,10000.0,6554.49,4715.97,5773.67,10685.48,11510.63,14738.72,13428.59,9190.61,9867.73,11540.45,9185.19,10879.51,13392.86,5957.59,6735.95,16000.0,6189.21,7954.85,16666.67,5389.24,5000.0,8076.55,8909.99,5184.68,11364.62,9142.86,3942.83,4490.63,5587.42,4105.72,4032.41,8513.16,3600.0,3978.77,8653.85],\"coloraxis\":\"coloraxis\",\"size\":[1169.1,950.0,922.29,1623.52,1838.73,987.12,1689.0,2290.0,1617.0,1876.33,2100.0,1620.0,1558.8,1904.83,1838.0,3820.41,1692.0,1437.99,2217.0,1975.0,2430.0,1772.41,1415.0,2586.5,1382.71,2122.5,1760.0,1818.0,1873.5,1777.0,1883.55,2527.5,1467.87,1725.0,1485.0,1883.55,2048.0,2852.46,854.09,1550.0,1776.0,2070.0,1458.49,1895.0,2100.0,1688.7,1069.87,2099.1,2034.0,2300.8,1050.0,1324.98,2338.2,2286.24,2364.0,2300.0,1950.0,2039.2,2086.0,1407.25,2300.0,2215.0,2494.27,1780.78,2000.0,1755.0,2952.5,2905.0,1608.0,3400.0,2273.25,842.91,2987.7,2480.0,3228.02,3003.1,3736.13,2284.94,4481.55,2802.0,2839.31,1424.0,2394.0,1625.05,3052.65,2164.0,2262.0,2094.1,2100.0,772.79,1100.0,1718.5,1650.0,1488.0,2225.4,1750.0,1645.64,757.32,1073.84,1104.15,1363.95,2185.47,750.0,1139.6,2600.0],\"sizemode\":\"area\",\"sizeref\":11.203875},\"mode\":\"markers\",\"name\":\"\",\"showlegend\":false,\"subplot\":\"mapbox\",\"type\":\"scattermapbox\"}],                        {\"template\":{\"data\":{\"histogram2dcontour\":[{\"type\":\"histogram2dcontour\",\"colorbar\":{\"outlinewidth\":0,\"ticks\":\"\"},\"colorscale\":[[0.0,\"#0d0887\"],[0.1111111111111111,\"#46039f\"],[0.2222222222222222,\"#7201a8\"],[0.3333333333333333,\"#9c179e\"],[0.4444444444444444,\"#bd3786\"],[0.5555555555555556,\"#d8576b\"],[0.6666666666666666,\"#ed7953\"],[0.7777777777777778,\"#fb9f3a\"],[0.8888888888888888,\"#fdca26\"],[1.0,\"#f0f921\"]]}],\"choropleth\":[{\"type\":\"choropleth\",\"colorbar\":{\"outlinewidth\":0,\"ticks\":\"\"}}],\"histogram2d\":[{\"type\":\"histogram2d\",\"colorbar\":{\"outlinewidth\":0,\"ticks\":\"\"},\"colorscale\":[[0.0,\"#0d0887\"],[0.1111111111111111,\"#46039f\"],[0.2222222222222222,\"#7201a8\"],[0.3333333333333333,\"#9c179e\"],[0.4444444444444444,\"#bd3786\"],[0.5555555555555556,\"#d8576b\"],[0.6666666666666666,\"#ed7953\"],[0.7777777777777778,\"#fb9f3a\"],[0.8888888888888888,\"#fdca26\"],[1.0,\"#f0f921\"]]}],\"heatmap\":[{\"type\":\"heatmap\",\"colorbar\":{\"outlinewidth\":0,\"ticks\":\"\"},\"colorscale\":[[0.0,\"#0d0887\"],[0.1111111111111111,\"#46039f\"],[0.2222222222222222,\"#7201a8\"],[0.3333333333333333,\"#9c179e\"],[0.4444444444444444,\"#bd3786\"],[0.5555555555555556,\"#d8576b\"],[0.6666666666666666,\"#ed7953\"],[0.7777777777777778,\"#fb9f3a\"],[0.8888888888888888,\"#fdca26\"],[1.0,\"#f0f921\"]]}],\"heatmapgl\":[{\"type\":\"heatmapgl\",\"colorbar\":{\"outlinewidth\":0,\"ticks\":\"\"},\"colorscale\":[[0.0,\"#0d0887\"],[0.1111111111111111,\"#46039f\"],[0.2222222222222222,\"#7201a8\"],[0.3333333333333333,\"#9c179e\"],[0.4444444444444444,\"#bd3786\"],[0.5555555555555556,\"#d8576b\"],[0.6666666666666666,\"#ed7953\"],[0.7777777777777778,\"#fb9f3a\"],[0.8888888888888888,\"#fdca26\"],[1.0,\"#f0f921\"]]}],\"contourcarpet\":[{\"type\":\"contourcarpet\",\"colorbar\":{\"outlinewidth\":0,\"ticks\":\"\"}}],\"contour\":[{\"type\":\"contour\",\"colorbar\":{\"outlinewidth\":0,\"ticks\":\"\"},\"colorscale\":[[0.0,\"#0d0887\"],[0.1111111111111111,\"#46039f\"],[0.2222222222222222,\"#7201a8\"],[0.3333333333333333,\"#9c179e\"],[0.4444444444444444,\"#bd3786\"],[0.5555555555555556,\"#d8576b\"],[0.6666666666666666,\"#ed7953\"],[0.7777777777777778,\"#fb9f3a\"],[0.8888888888888888,\"#fdca26\"],[1.0,\"#f0f921\"]]}],\"surface\":[{\"type\":\"surface\",\"colorbar\":{\"outlinewidth\":0,\"ticks\":\"\"},\"colorscale\":[[0.0,\"#0d0887\"],[0.1111111111111111,\"#46039f\"],[0.2222222222222222,\"#7201a8\"],[0.3333333333333333,\"#9c179e\"],[0.4444444444444444,\"#bd3786\"],[0.5555555555555556,\"#d8576b\"],[0.6666666666666666,\"#ed7953\"],[0.7777777777777778,\"#fb9f3a\"],[0.8888888888888888,\"#fdca26\"],[1.0,\"#f0f921\"]]}],\"mesh3d\":[{\"type\":\"mesh3d\",\"colorbar\":{\"outlinewidth\":0,\"ticks\":\"\"}}],\"scatter\":[{\"fillpattern\":{\"fillmode\":\"overlay\",\"size\":10,\"solidity\":0.2},\"type\":\"scatter\"}],\"parcoords\":[{\"type\":\"parcoords\",\"line\":{\"colorbar\":{\"outlinewidth\":0,\"ticks\":\"\"}}}],\"scatterpolargl\":[{\"type\":\"scatterpolargl\",\"marker\":{\"colorbar\":{\"outlinewidth\":0,\"ticks\":\"\"}}}],\"bar\":[{\"error_x\":{\"color\":\"#2a3f5f\"},\"error_y\":{\"color\":\"#2a3f5f\"},\"marker\":{\"line\":{\"color\":\"#E5ECF6\",\"width\":0.5},\"pattern\":{\"fillmode\":\"overlay\",\"size\":10,\"solidity\":0.2}},\"type\":\"bar\"}],\"scattergeo\":[{\"type\":\"scattergeo\",\"marker\":{\"colorbar\":{\"outlinewidth\":0,\"ticks\":\"\"}}}],\"scatterpolar\":[{\"type\":\"scatterpolar\",\"marker\":{\"colorbar\":{\"outlinewidth\":0,\"ticks\":\"\"}}}],\"histogram\":[{\"marker\":{\"pattern\":{\"fillmode\":\"overlay\",\"size\":10,\"solidity\":0.2}},\"type\":\"histogram\"}],\"scattergl\":[{\"type\":\"scattergl\",\"marker\":{\"colorbar\":{\"outlinewidth\":0,\"ticks\":\"\"}}}],\"scatter3d\":[{\"type\":\"scatter3d\",\"line\":{\"colorbar\":{\"outlinewidth\":0,\"ticks\":\"\"}},\"marker\":{\"colorbar\":{\"outlinewidth\":0,\"ticks\":\"\"}}}],\"scattermapbox\":[{\"type\":\"scattermapbox\",\"marker\":{\"colorbar\":{\"outlinewidth\":0,\"ticks\":\"\"}}}],\"scatterternary\":[{\"type\":\"scatterternary\",\"marker\":{\"colorbar\":{\"outlinewidth\":0,\"ticks\":\"\"}}}],\"scattercarpet\":[{\"type\":\"scattercarpet\",\"marker\":{\"colorbar\":{\"outlinewidth\":0,\"ticks\":\"\"}}}],\"carpet\":[{\"aaxis\":{\"endlinecolor\":\"#2a3f5f\",\"gridcolor\":\"white\",\"linecolor\":\"white\",\"minorgridcolor\":\"white\",\"startlinecolor\":\"#2a3f5f\"},\"baxis\":{\"endlinecolor\":\"#2a3f5f\",\"gridcolor\":\"white\",\"linecolor\":\"white\",\"minorgridcolor\":\"white\",\"startlinecolor\":\"#2a3f5f\"},\"type\":\"carpet\"}],\"table\":[{\"cells\":{\"fill\":{\"color\":\"#EBF0F8\"},\"line\":{\"color\":\"white\"}},\"header\":{\"fill\":{\"color\":\"#C8D4E3\"},\"line\":{\"color\":\"white\"}},\"type\":\"table\"}],\"barpolar\":[{\"marker\":{\"line\":{\"color\":\"#E5ECF6\",\"width\":0.5},\"pattern\":{\"fillmode\":\"overlay\",\"size\":10,\"solidity\":0.2}},\"type\":\"barpolar\"}],\"pie\":[{\"automargin\":true,\"type\":\"pie\"}]},\"layout\":{\"autotypenumbers\":\"strict\",\"colorway\":[\"#636efa\",\"#EF553B\",\"#00cc96\",\"#ab63fa\",\"#FFA15A\",\"#19d3f3\",\"#FF6692\",\"#B6E880\",\"#FF97FF\",\"#FECB52\"],\"font\":{\"color\":\"#2a3f5f\"},\"hovermode\":\"closest\",\"hoverlabel\":{\"align\":\"left\"},\"paper_bgcolor\":\"white\",\"plot_bgcolor\":\"#E5ECF6\",\"polar\":{\"bgcolor\":\"#E5ECF6\",\"angularaxis\":{\"gridcolor\":\"white\",\"linecolor\":\"white\",\"ticks\":\"\"},\"radialaxis\":{\"gridcolor\":\"white\",\"linecolor\":\"white\",\"ticks\":\"\"}},\"ternary\":{\"bgcolor\":\"#E5ECF6\",\"aaxis\":{\"gridcolor\":\"white\",\"linecolor\":\"white\",\"ticks\":\"\"},\"baxis\":{\"gridcolor\":\"white\",\"linecolor\":\"white\",\"ticks\":\"\"},\"caxis\":{\"gridcolor\":\"white\",\"linecolor\":\"white\",\"ticks\":\"\"}},\"coloraxis\":{\"colorbar\":{\"outlinewidth\":0,\"ticks\":\"\"}},\"colorscale\":{\"sequential\":[[0.0,\"#0d0887\"],[0.1111111111111111,\"#46039f\"],[0.2222222222222222,\"#7201a8\"],[0.3333333333333333,\"#9c179e\"],[0.4444444444444444,\"#bd3786\"],[0.5555555555555556,\"#d8576b\"],[0.6666666666666666,\"#ed7953\"],[0.7777777777777778,\"#fb9f3a\"],[0.8888888888888888,\"#fdca26\"],[1.0,\"#f0f921\"]],\"sequentialminus\":[[0.0,\"#0d0887\"],[0.1111111111111111,\"#46039f\"],[0.2222222222222222,\"#7201a8\"],[0.3333333333333333,\"#9c179e\"],[0.4444444444444444,\"#bd3786\"],[0.5555555555555556,\"#d8576b\"],[0.6666666666666666,\"#ed7953\"],[0.7777777777777778,\"#fb9f3a\"],[0.8888888888888888,\"#fdca26\"],[1.0,\"#f0f921\"]],\"diverging\":[[0,\"#8e0152\"],[0.1,\"#c51b7d\"],[0.2,\"#de77ae\"],[0.3,\"#f1b6da\"],[0.4,\"#fde0ef\"],[0.5,\"#f7f7f7\"],[0.6,\"#e6f5d0\"],[0.7,\"#b8e186\"],[0.8,\"#7fbc41\"],[0.9,\"#4d9221\"],[1,\"#276419\"]]},\"xaxis\":{\"gridcolor\":\"white\",\"linecolor\":\"white\",\"ticks\":\"\",\"title\":{\"standoff\":15},\"zerolinecolor\":\"white\",\"automargin\":true,\"zerolinewidth\":2},\"yaxis\":{\"gridcolor\":\"white\",\"linecolor\":\"white\",\"ticks\":\"\",\"title\":{\"standoff\":15},\"zerolinecolor\":\"white\",\"automargin\":true,\"zerolinewidth\":2},\"scene\":{\"xaxis\":{\"backgroundcolor\":\"#E5ECF6\",\"gridcolor\":\"white\",\"linecolor\":\"white\",\"showbackground\":true,\"ticks\":\"\",\"zerolinecolor\":\"white\",\"gridwidth\":2},\"yaxis\":{\"backgroundcolor\":\"#E5ECF6\",\"gridcolor\":\"white\",\"linecolor\":\"white\",\"showbackground\":true,\"ticks\":\"\",\"zerolinecolor\":\"white\",\"gridwidth\":2},\"zaxis\":{\"backgroundcolor\":\"#E5ECF6\",\"gridcolor\":\"white\",\"linecolor\":\"white\",\"showbackground\":true,\"ticks\":\"\",\"zerolinecolor\":\"white\",\"gridwidth\":2}},\"shapedefaults\":{\"line\":{\"color\":\"#2a3f5f\"}},\"annotationdefaults\":{\"arrowcolor\":\"#2a3f5f\",\"arrowhead\":0,\"arrowwidth\":1},\"geo\":{\"bgcolor\":\"white\",\"landcolor\":\"#E5ECF6\",\"subunitcolor\":\"white\",\"showland\":true,\"showlakes\":true,\"lakecolor\":\"white\"},\"title\":{\"x\":0.05},\"mapbox\":{\"style\":\"light\"}}},\"mapbox\":{\"domain\":{\"x\":[0.0,1.0],\"y\":[0.0,1.0]},\"center\":{\"lat\":28.436135700952367,\"lon\":77.01774066952382},\"zoom\":10,\"style\":\"open-street-map\"},\"coloraxis\":{\"colorbar\":{\"title\":{\"text\":\"price_per_sqft\"}},\"colorscale\":[[0.0,\"#0d0887\"],[0.1111111111111111,\"#46039f\"],[0.2222222222222222,\"#7201a8\"],[0.3333333333333333,\"#9c179e\"],[0.4444444444444444,\"#bd3786\"],[0.5555555555555556,\"#d8576b\"],[0.6666666666666666,\"#ed7953\"],[0.7777777777777778,\"#fb9f3a\"],[0.8888888888888888,\"#fdca26\"],[1.0,\"#f0f921\"]]},\"legend\":{\"tracegroupgap\":0,\"itemsizing\":\"constant\"},\"margin\":{\"t\":0,\"r\":0,\"l\":0,\"b\":0},\"height\":300,\"geo\":{\"fitbounds\":\"locations\",\"visible\":false}},                        {\"responsive\": true}                    ).then(function(){\n",
       "                            \n",
       "var gd = document.getElementById('b0ee20ac-f558-4535-8962-ab7f8093b915');\n",
       "var x = new MutationObserver(function (mutations, observer) {{\n",
       "        var display = window.getComputedStyle(gd).display;\n",
       "        if (!display || display === 'none') {{\n",
       "            console.log([gd, 'removed!']);\n",
       "            Plotly.purge(gd);\n",
       "            observer.disconnect();\n",
       "        }}\n",
       "}});\n",
       "\n",
       "// Listen for the removal of the full notebook cells\n",
       "var notebookContainer = gd.closest('#notebook-container');\n",
       "if (notebookContainer) {{\n",
       "    x.observe(notebookContainer, {childList: true});\n",
       "}}\n",
       "\n",
       "// Listen for the clearing of the current output cell\n",
       "var outputEl = gd.closest('.output');\n",
       "if (outputEl) {{\n",
       "    x.observe(outputEl, {childList: true});\n",
       "}}\n",
       "\n",
       "                        })                };                });            </script>        </div>"
      ]
     },
     "metadata": {},
     "output_type": "display_data"
    }
   ],
   "source": [
    "import plotly.express as px\n",
    "\n",
    "fig = px.scatter_mapbox(sector_data, \n",
    "                        lat='latitude', \n",
    "                        lon='longitude', \n",
    "                        hover_name=\"sector\", \n",
    "                        hover_data=[\"price_per_sqft\", \"super_built_up_area\"],\n",
    "                        color=\"price_per_sqft\",\n",
    "                        size=\"super_built_up_area\",\n",
    "                        zoom=10,  \n",
    "                        height=300)\n",
    "\n",
    "fig.update_geos(fitbounds=\"locations\", visible=False)  # Fit the map to the bounds of the markers\n",
    "fig.update_layout(mapbox_style=\"open-street-map\")\n",
    "fig.update_layout(margin={\"r\": 0, \"t\": 0, \"l\": 0, \"b\": 0})\n",
    "\n",
    "fig.show()"
   ]
  },
  {
   "cell_type": "code",
   "execution_count": 73,
   "id": "037ef49b",
   "metadata": {},
   "outputs": [],
   "source": [
    "flats = pd.read_csv('flats.csv')"
   ]
  },
  {
   "cell_type": "code",
   "execution_count": 74,
   "id": "2d15970c",
   "metadata": {},
   "outputs": [
    {
     "data": {
      "text/plain": [
       "Index(['property_name', 'link', 'society', 'price', 'area', 'areaWithType',\n",
       "       'bedRoom', 'bathroom', 'balcony', 'additionalRoom', 'address',\n",
       "       'floorNum', 'facing', 'agePossession', 'nearbyLocations', 'description',\n",
       "       'furnishDetails', 'features', 'rating', 'property_id'],\n",
       "      dtype='object')"
      ]
     },
     "execution_count": 74,
     "metadata": {},
     "output_type": "execute_result"
    }
   ],
   "source": [
    "flats.columns"
   ]
  },
  {
   "cell_type": "code",
   "execution_count": 101,
   "id": "ab86f468",
   "metadata": {},
   "outputs": [
    {
     "data": {
      "text/plain": [
       "['wordcloud.joblib']"
      ]
     },
     "execution_count": 101,
     "metadata": {},
     "output_type": "execute_result"
    }
   ],
   "source": [
    "import ast\n",
    "import joblib\n",
    "flats = pd.read_csv('C:/Users/hp/Desktop/Real_Estate/flats.csv')\n",
    "flats = flats[flats['features'] != 'features']\n",
    "all_features = flats['features'].dropna().apply(ast.literal_eval).explode().tolist()\n",
    "feature_text = ' '.join(all_features)\n",
    "\n",
    "wordcloud = WordCloud(width=800, height=400, background_color='white', min_font_size=10, colormap='viridis', contour_width=2, contour_color='steelblue').generate(feature_text)\n",
    "joblib.dump(wordcloud, 'wordcloud.joblib')"
   ]
  },
  {
   "cell_type": "code",
   "execution_count": 102,
   "id": "1ef40393",
   "metadata": {},
   "outputs": [
    {
     "data": {
      "text/plain": [
       "Index(['price', 'facing', 'property_id', 'sector', 'society_name',\n",
       "       'society_stars', 'num_bedrooms', 'num_bathrooms', 'num_balconies',\n",
       "       'age_group', 'super_built_up_area', 'built_up_area', 'carpet_area',\n",
       "       'price_per_sqft', 'floor_number', 'total_floors', 'servant_room',\n",
       "       'study_room', 'pooja_room', 'other_additional_room', 'store_room', 'ac',\n",
       "       'bed', 'chimney', 'curtains', 'dining', 'exhaust', 'fan', 'fridge',\n",
       "       'geyser', 'light', 'microwave', 'modular', 'sofa', 'stove', 'tv',\n",
       "       'wardrobe', 'washing', 'water', 'Airy Rooms', 'Bank Attached Property',\n",
       "       'Centrally Air Conditioned', 'Club house / Community Center',\n",
       "       'False Ceiling Lighting', 'Feng Shui / Vaastu Compliant',\n",
       "       'Fitness Centre / GYM', 'High Ceiling Height', 'Intercom Facility',\n",
       "       'Internet/wi-fi connectivity', 'Lift(s)', 'Low Density Society',\n",
       "       'Maintenance Staff', 'Natural Light', 'No open drainage around', 'Park',\n",
       "       'Piped-gas', 'Power Back-up', 'Private Garden / Terrace',\n",
       "       'Rain Water Harvesting', 'Recently Renovated', 'Security / Fire Alarm',\n",
       "       'Security Personnel', 'Separate entry for servant room',\n",
       "       'Shopping Centre', 'Spacious Interiors', 'Swimming Pool',\n",
       "       'Visitor Parking', 'Waste Disposal', 'Water Storage', 'Water purifier',\n",
       "       'Water softening plant', 'amenities_rating', 'connectivity_rating',\n",
       "       'construction_rating', 'environment_rating', 'green area_rating',\n",
       "       'lifestyle_rating', 'management_rating', 'safety_rating',\n",
       "       'nearby_locations', 'description_keywords', 'total_num_rooms',\n",
       "       'furnished', 'floor_category'],\n",
       "      dtype='object')"
      ]
     },
     "execution_count": 102,
     "metadata": {},
     "output_type": "execute_result"
    }
   ],
   "source": [
    "data = pd.read_csv('C:/Users/hp/Desktop/Real_Estate/cleaned_data_v2.csv')\n",
    "data.columns"
   ]
  },
  {
   "cell_type": "code",
   "execution_count": 105,
   "id": "d31ff4ee",
   "metadata": {},
   "outputs": [
    {
     "name": "stdout",
     "output_type": "stream",
     "text": [
      "<class 'pandas.core.frame.DataFrame'>\n",
      "RangeIndex: 2860 entries, 0 to 2859\n",
      "Data columns (total 56 columns):\n",
      " #   Column                           Non-Null Count  Dtype \n",
      "---  ------                           --------------  ----- \n",
      " 0   floor_number                     2860 non-null   object\n",
      " 1   servant_room                     2860 non-null   object\n",
      " 2   study_room                       2860 non-null   object\n",
      " 3   pooja_room                       2860 non-null   object\n",
      " 4   other_additional_room            2860 non-null   object\n",
      " 5   store_room                       2860 non-null   object\n",
      " 6   ac                               2860 non-null   object\n",
      " 7   bed                              2860 non-null   object\n",
      " 8   chimney                          2860 non-null   object\n",
      " 9   curtains                         2860 non-null   object\n",
      " 10  dining                           2860 non-null   object\n",
      " 11  exhaust                          2860 non-null   object\n",
      " 12  fan                              2860 non-null   object\n",
      " 13  fridge                           2860 non-null   object\n",
      " 14  geyser                           2860 non-null   object\n",
      " 15  light                            2860 non-null   object\n",
      " 16  microwave                        2860 non-null   object\n",
      " 17  modular                          2860 non-null   object\n",
      " 18  sofa                             2860 non-null   object\n",
      " 19  stove                            2860 non-null   object\n",
      " 20  tv                               2860 non-null   object\n",
      " 21  wardrobe                         2860 non-null   object\n",
      " 22  washing                          2860 non-null   object\n",
      " 23  water                            2860 non-null   object\n",
      " 24  Airy Rooms                       2860 non-null   object\n",
      " 25  Bank Attached Property           2860 non-null   object\n",
      " 26  Centrally Air Conditioned        2860 non-null   object\n",
      " 27  Club house / Community Center    2860 non-null   object\n",
      " 28  False Ceiling Lighting           2860 non-null   object\n",
      " 29  Feng Shui / Vaastu Compliant     2860 non-null   object\n",
      " 30  Fitness Centre / GYM             2860 non-null   object\n",
      " 31  High Ceiling Height              2860 non-null   object\n",
      " 32  Intercom Facility                2860 non-null   object\n",
      " 33  Internet/wi-fi connectivity      2860 non-null   object\n",
      " 34  Lift(s)                          2860 non-null   object\n",
      " 35  Low Density Society              2860 non-null   object\n",
      " 36  Maintenance Staff                2860 non-null   object\n",
      " 37  Natural Light                    2860 non-null   object\n",
      " 38  No open drainage around          2860 non-null   object\n",
      " 39  Park                             2860 non-null   object\n",
      " 40  Piped-gas                        2860 non-null   object\n",
      " 41  Power Back-up                    2860 non-null   object\n",
      " 42  Private Garden / Terrace         2860 non-null   object\n",
      " 43  Rain Water Harvesting            2860 non-null   object\n",
      " 44  Recently Renovated               2860 non-null   object\n",
      " 45  Security / Fire Alarm            2860 non-null   object\n",
      " 46  Security Personnel               2860 non-null   object\n",
      " 47  Separate entry for servant room  2860 non-null   object\n",
      " 48  Shopping Centre                  2860 non-null   object\n",
      " 49  Spacious Interiors               2860 non-null   object\n",
      " 50  Swimming Pool                    2860 non-null   object\n",
      " 51  Visitor Parking                  2860 non-null   object\n",
      " 52  Waste Disposal                   2860 non-null   object\n",
      " 53  Water Storage                    2860 non-null   object\n",
      " 54  Water purifier                   2860 non-null   object\n",
      " 55  Water softening plant            2860 non-null   object\n",
      "dtypes: object(56)\n",
      "memory usage: 1.2+ MB\n"
     ]
    }
   ],
   "source": [
    "data[['floor_number', 'servant_room', 'study_room', 'pooja_room',\n",
    "                       'other_additional_room', 'store_room', 'ac',\n",
    "                       'bed', 'chimney', 'curtains', 'dining', 'exhaust', 'fan', 'fridge',\n",
    "                       'geyser', 'light', 'microwave', 'modular', 'sofa', 'stove', 'tv',\n",
    "                       'wardrobe', 'washing', 'water', 'Airy Rooms', 'Bank Attached Property',\n",
    "                       'Centrally Air Conditioned', 'Club house / Community Center',\n",
    "                       'False Ceiling Lighting', 'Feng Shui / Vaastu Compliant',\n",
    "                       'Fitness Centre / GYM', 'High Ceiling Height', 'Intercom Facility',\n",
    "                       'Internet/wi-fi connectivity', 'Lift(s)', 'Low Density Society',\n",
    "                       'Maintenance Staff', 'Natural Light', 'No open drainage around', 'Park','Piped-gas', 'Power Back-up', 'Private Garden / Terrace',\n",
    "                       'Rain Water Harvesting', 'Recently Renovated', 'Security / Fire Alarm',\n",
    "                       'Security Personnel', 'Separate entry for servant room',\n",
    "                       'Shopping Centre', 'Spacious Interiors', 'Swimming Pool',\n",
    "                       'Visitor Parking', 'Waste Disposal', 'Water Storage', 'Water purifier',\n",
    "                       'Water softening plant']].astype(str).info()"
   ]
  },
  {
   "cell_type": "code",
   "execution_count": 108,
   "id": "00ef3402",
   "metadata": {},
   "outputs": [
    {
     "data": {
      "text/plain": [
       "Index(['price', 'facing', 'property_id', 'sector', 'society_name',\n",
       "       'society_stars', 'num_bedrooms', 'num_bathrooms', 'num_balconies',\n",
       "       'age_group', 'super_built_up_area', 'built_up_area', 'carpet_area',\n",
       "       'price_per_sqft', 'floor_number', 'total_floors', 'servant_room',\n",
       "       'study_room', 'pooja_room', 'other_additional_room', 'store_room', 'ac',\n",
       "       'bed', 'chimney', 'curtains', 'dining', 'exhaust', 'fan', 'fridge',\n",
       "       'geyser', 'light', 'microwave', 'modular', 'sofa', 'stove', 'tv',\n",
       "       'wardrobe', 'washing', 'water', 'Airy Rooms', 'Bank Attached Property',\n",
       "       'Centrally Air Conditioned', 'Club house / Community Center',\n",
       "       'False Ceiling Lighting', 'Feng Shui / Vaastu Compliant',\n",
       "       'Fitness Centre / GYM', 'High Ceiling Height', 'Intercom Facility',\n",
       "       'Internet/wi-fi connectivity', 'Lift(s)', 'Low Density Society',\n",
       "       'Maintenance Staff', 'Natural Light', 'No open drainage around', 'Park',\n",
       "       'Piped-gas', 'Power Back-up', 'Private Garden / Terrace',\n",
       "       'Rain Water Harvesting', 'Recently Renovated', 'Security / Fire Alarm',\n",
       "       'Security Personnel', 'Separate entry for servant room',\n",
       "       'Shopping Centre', 'Spacious Interiors', 'Swimming Pool',\n",
       "       'Visitor Parking', 'Waste Disposal', 'Water Storage', 'Water purifier',\n",
       "       'Water softening plant', 'amenities_rating', 'connectivity_rating',\n",
       "       'construction_rating', 'environment_rating', 'green area_rating',\n",
       "       'lifestyle_rating', 'management_rating', 'safety_rating',\n",
       "       'nearby_locations', 'description_keywords', 'total_num_rooms',\n",
       "       'furnished', 'floor_category'],\n",
       "      dtype='object')"
      ]
     },
     "execution_count": 108,
     "metadata": {},
     "output_type": "execute_result"
    }
   ],
   "source": [
    "data.columns"
   ]
  },
  {
   "cell_type": "code",
   "execution_count": 109,
   "id": "16884826",
   "metadata": {},
   "outputs": [
    {
     "data": {
      "text/plain": [
       "Index(['study_room', 'pooja_room', 'price', 'society_stars', 'num_bedrooms',\n",
       "       'num_bathrooms', 'num_balconies', 'super_built_up_area',\n",
       "       'built_up_area', 'carpet_area', 'price_per_sqft', 'floor_number',\n",
       "       'total_floors', 'servant_room', 'other_additional_room', 'store_room',\n",
       "       'ac', 'bed', 'chimney', 'curtains', 'dining', 'exhaust', 'fan',\n",
       "       'fridge', 'geyser', 'light', 'microwave', 'modular', 'sofa', 'stove',\n",
       "       'tv', 'wardrobe', 'washing', 'water', 'Airy Rooms',\n",
       "       'Bank Attached Property', 'Centrally Air Conditioned',\n",
       "       'Club house / Community Center', 'False Ceiling Lighting',\n",
       "       'Feng Shui / Vaastu Compliant', 'Fitness Centre / GYM',\n",
       "       'High Ceiling Height', 'Intercom Facility',\n",
       "       'Internet/wi-fi connectivity', 'Lift(s)', 'Low Density Society',\n",
       "       'Maintenance Staff', 'Natural Light', 'No open drainage around', 'Park',\n",
       "       'Piped-gas', 'Power Back-up', 'Private Garden / Terrace',\n",
       "       'Rain Water Harvesting', 'Recently Renovated', 'Security / Fire Alarm',\n",
       "       'Security Personnel', 'Separate entry for servant room',\n",
       "       'Shopping Centre', 'Spacious Interiors', 'Swimming Pool',\n",
       "       'Visitor Parking', 'Waste Disposal', 'Water Storage', 'Water purifier',\n",
       "       'Water softening plant', 'amenities_rating', 'connectivity_rating',\n",
       "       'construction_rating', 'environment_rating', 'green area_rating',\n",
       "       'lifestyle_rating', 'management_rating', 'safety_rating',\n",
       "       'total_num_rooms', 'furnished'],\n",
       "      dtype='object')"
      ]
     },
     "execution_count": 109,
     "metadata": {},
     "output_type": "execute_result"
    }
   ],
   "source": [
    "feature1 = 'study_room'\n",
    "feature2 = 'pooja_room'\n",
    "filtered_data = data.groupby([feature1, feature2]).median().reset_index()\n",
    "filtered_data.columns"
   ]
  },
  {
   "cell_type": "code",
   "execution_count": null,
   "id": "d9358bcd",
   "metadata": {},
   "outputs": [],
   "source": []
  }
 ],
 "metadata": {
  "kernelspec": {
   "display_name": "Python 3 (ipykernel)",
   "language": "python",
   "name": "python3"
  },
  "language_info": {
   "codemirror_mode": {
    "name": "ipython",
    "version": 3
   },
   "file_extension": ".py",
   "mimetype": "text/x-python",
   "name": "python",
   "nbconvert_exporter": "python",
   "pygments_lexer": "ipython3",
   "version": "3.9.13"
  }
 },
 "nbformat": 4,
 "nbformat_minor": 5
}
