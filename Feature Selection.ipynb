{
 "cells": [
  {
   "cell_type": "code",
   "execution_count": 12,
   "id": "9cc1eda6",
   "metadata": {},
   "outputs": [],
   "source": [
    "import pandas as pd\n",
    "import numpy as np\n",
    "import matplotlib.pyplot as plt\n",
    "import seaborn as sns"
   ]
  },
  {
   "cell_type": "code",
   "execution_count": 13,
   "id": "6e133c77",
   "metadata": {},
   "outputs": [],
   "source": [
    "pd.set_option('display.max_rows', None)"
   ]
  },
  {
   "cell_type": "code",
   "execution_count": 14,
   "id": "ca282ec9",
   "metadata": {},
   "outputs": [],
   "source": [
    "import warnings\n",
    "warnings.filterwarnings('ignore')"
   ]
  },
  {
   "cell_type": "code",
   "execution_count": 15,
   "id": "5b955a3c",
   "metadata": {},
   "outputs": [],
   "source": [
    "# According to EDA, these were the columns important for price prediction\n",
    "price_prediction_columns = [\n",
    "    'sector',\n",
    "    'num_bedrooms',\n",
    "    'num_bathrooms',\n",
    "    'num_balconies',\n",
    "    'age_group', \n",
    "    'super_built_up_area', \n",
    "    'built_up_area', \n",
    "    'carpet_area',\n",
    "    'floor_number',\n",
    "    'servant_room',\n",
    "    'pooja_room',\n",
    "    'store_room',\n",
    "    'furnished',\n",
    "    'Centrally Air Conditioned',\n",
    "    'False Ceiling Lighting',\n",
    "    'Intercom Facility',\n",
    "    'Private Garden / Terrace',\n",
    "    'Separate entry for servant room',\n",
    "    'Spacious Interiors'\n",
    "]"
   ]
  },
  {
   "cell_type": "code",
   "execution_count": 16,
   "id": "e9b40748",
   "metadata": {},
   "outputs": [],
   "source": [
    "data = pd.read_csv(\"data_cleaned_v3.csv\")"
   ]
  },
  {
   "cell_type": "markdown",
   "id": "4e5a25d6",
   "metadata": {},
   "source": [
    "# Getting rid of columns which won't be available while prediction(to avoid data leakage) or columns whose cleaner version is already available"
   ]
  },
  {
   "cell_type": "code",
   "execution_count": 17,
   "id": "1ca02741",
   "metadata": {},
   "outputs": [
    {
     "name": "stdout",
     "output_type": "stream",
     "text": [
      "<class 'pandas.core.frame.DataFrame'>\n",
      "RangeIndex: 2838 entries, 0 to 2837\n",
      "Data columns (total 84 columns):\n",
      " #   Column                           Non-Null Count  Dtype  \n",
      "---  ------                           --------------  -----  \n",
      " 0   price                            2838 non-null   float64\n",
      " 1   facing                           2038 non-null   object \n",
      " 2   property_id                      2838 non-null   object \n",
      " 3   sector                           2838 non-null   object \n",
      " 4   society_name                     2838 non-null   object \n",
      " 5   society_stars                    1631 non-null   float64\n",
      " 6   num_bedrooms                     2838 non-null   int64  \n",
      " 7   num_bathrooms                    2838 non-null   float64\n",
      " 8   num_balconies                    2838 non-null   float64\n",
      " 9   age_group                        2838 non-null   object \n",
      " 10  super_built_up_area              2838 non-null   float64\n",
      " 11  built_up_area                    2838 non-null   float64\n",
      " 12  carpet_area                      2838 non-null   float64\n",
      " 13  price_per_sqft                   2838 non-null   float64\n",
      " 14  floor_number                     2838 non-null   float64\n",
      " 15  total_floors                     2838 non-null   float64\n",
      " 16  servant_room                     2838 non-null   int64  \n",
      " 17  study_room                       2838 non-null   int64  \n",
      " 18  pooja_room                       2838 non-null   int64  \n",
      " 19  other_additional_room            2838 non-null   int64  \n",
      " 20  store_room                       2838 non-null   int64  \n",
      " 21  ac                               2838 non-null   int64  \n",
      " 22  bed                              2838 non-null   int64  \n",
      " 23  chimney                          2838 non-null   int64  \n",
      " 24  curtains                         2838 non-null   int64  \n",
      " 25  dining                           2838 non-null   int64  \n",
      " 26  exhaust                          2838 non-null   int64  \n",
      " 27  fan                              2838 non-null   int64  \n",
      " 28  fridge                           2838 non-null   int64  \n",
      " 29  geyser                           2838 non-null   int64  \n",
      " 30  light                            2838 non-null   int64  \n",
      " 31  microwave                        2838 non-null   int64  \n",
      " 32  modular                          2838 non-null   int64  \n",
      " 33  sofa                             2838 non-null   int64  \n",
      " 34  stove                            2838 non-null   int64  \n",
      " 35  tv                               2838 non-null   int64  \n",
      " 36  wardrobe                         2838 non-null   int64  \n",
      " 37  washing                          2838 non-null   int64  \n",
      " 38  water                            2838 non-null   int64  \n",
      " 39  Airy Rooms                       2838 non-null   int64  \n",
      " 40  Bank Attached Property           2838 non-null   int64  \n",
      " 41  Centrally Air Conditioned        2838 non-null   int64  \n",
      " 42  Club house / Community Center    2838 non-null   int64  \n",
      " 43  False Ceiling Lighting           2838 non-null   int64  \n",
      " 44  Feng Shui / Vaastu Compliant     2838 non-null   int64  \n",
      " 45  Fitness Centre / GYM             2838 non-null   int64  \n",
      " 46  High Ceiling Height              2838 non-null   int64  \n",
      " 47  Intercom Facility                2838 non-null   int64  \n",
      " 48  Internet/wi-fi connectivity      2838 non-null   int64  \n",
      " 49  Lift(s)                          2838 non-null   int64  \n",
      " 50  Low Density Society              2838 non-null   int64  \n",
      " 51  Maintenance Staff                2838 non-null   int64  \n",
      " 52  Natural Light                    2838 non-null   int64  \n",
      " 53  No open drainage around          2838 non-null   int64  \n",
      " 54  Park                             2838 non-null   int64  \n",
      " 55  Piped-gas                        2838 non-null   int64  \n",
      " 56  Power Back-up                    2838 non-null   int64  \n",
      " 57  Private Garden / Terrace         2838 non-null   int64  \n",
      " 58  Rain Water Harvesting            2838 non-null   int64  \n",
      " 59  Recently Renovated               2838 non-null   int64  \n",
      " 60  Security / Fire Alarm            2838 non-null   int64  \n",
      " 61  Security Personnel               2838 non-null   int64  \n",
      " 62  Separate entry for servant room  2838 non-null   int64  \n",
      " 63  Shopping Centre                  2838 non-null   int64  \n",
      " 64  Spacious Interiors               2838 non-null   int64  \n",
      " 65  Swimming Pool                    2838 non-null   int64  \n",
      " 66  Visitor Parking                  2838 non-null   int64  \n",
      " 67  Waste Disposal                   2838 non-null   int64  \n",
      " 68  Water Storage                    2838 non-null   int64  \n",
      " 69  Water purifier                   2838 non-null   int64  \n",
      " 70  Water softening plant            2838 non-null   int64  \n",
      " 71  amenities_rating                 1642 non-null   float64\n",
      " 72  connectivity_rating              2515 non-null   float64\n",
      " 73  construction_rating              1642 non-null   float64\n",
      " 74  environment_rating               873 non-null    float64\n",
      " 75  green area_rating                1642 non-null   float64\n",
      " 76  lifestyle_rating                 873 non-null    float64\n",
      " 77  management_rating                1642 non-null   float64\n",
      " 78  safety_rating                    873 non-null    float64\n",
      " 79  nearby_locations                 2755 non-null   object \n",
      " 80  description_keywords             2838 non-null   object \n",
      " 81  total_num_rooms                  2838 non-null   float64\n",
      " 82  furnished                        2838 non-null   int64  \n",
      " 83  floor_category                   2838 non-null   object \n",
      "dtypes: float64(19), int64(57), object(8)\n",
      "memory usage: 1.8+ MB\n"
     ]
    }
   ],
   "source": [
    "data.info()"
   ]
  },
  {
   "cell_type": "code",
   "execution_count": 18,
   "id": "cd6e7137",
   "metadata": {},
   "outputs": [],
   "source": [
    "columns_to_drop = [\n",
    "    'property_id', # user won't give as input\n",
    "    'facing', # has NaN value, also EDA said not at all important for price prediction\n",
    "    'nearby_locations', # NLP required currently can't do anything\n",
    "    'description_keywords', # NLP required, currently can't do anything\n",
    "    'society_name', # user won't give as input\n",
    "    'society_stars', # user won't give as input\n",
    "    'price_per_sqft', # user won't give as input\n",
    "    'amenities_rating', # user won't give as input\n",
    "    'connectivity_rating', # user won't give as input\n",
    "    'construction_rating', # user won't give as input\n",
    "    'environment_rating', # user won't give as input\n",
    "    'green area_rating', # user won't give as input\n",
    "    'lifestyle_rating', # user won't give as input\n",
    "    'management_rating', # user won't give as input\n",
    "    'safety_rating', # user won't give as input\n",
    "    'total_floors' # user won't tell\n",
    "]"
   ]
  },
  {
   "cell_type": "code",
   "execution_count": 19,
   "id": "2eb027e6",
   "metadata": {},
   "outputs": [],
   "source": [
    "data.drop(columns=columns_to_drop, inplace=True)"
   ]
  },
  {
   "cell_type": "code",
   "execution_count": 20,
   "id": "0f7449ac",
   "metadata": {},
   "outputs": [
    {
     "data": {
      "text/plain": [
       "Index(['price', 'sector', 'num_bedrooms', 'num_bathrooms', 'num_balconies',\n",
       "       'age_group', 'super_built_up_area', 'built_up_area', 'carpet_area',\n",
       "       'floor_number', 'servant_room', 'study_room', 'pooja_room',\n",
       "       'other_additional_room', 'store_room', 'ac', 'bed', 'chimney',\n",
       "       'curtains', 'dining', 'exhaust', 'fan', 'fridge', 'geyser', 'light',\n",
       "       'microwave', 'modular', 'sofa', 'stove', 'tv', 'wardrobe', 'washing',\n",
       "       'water', 'Airy Rooms', 'Bank Attached Property',\n",
       "       'Centrally Air Conditioned', 'Club house / Community Center',\n",
       "       'False Ceiling Lighting', 'Feng Shui / Vaastu Compliant',\n",
       "       'Fitness Centre / GYM', 'High Ceiling Height', 'Intercom Facility',\n",
       "       'Internet/wi-fi connectivity', 'Lift(s)', 'Low Density Society',\n",
       "       'Maintenance Staff', 'Natural Light', 'No open drainage around', 'Park',\n",
       "       'Piped-gas', 'Power Back-up', 'Private Garden / Terrace',\n",
       "       'Rain Water Harvesting', 'Recently Renovated', 'Security / Fire Alarm',\n",
       "       'Security Personnel', 'Separate entry for servant room',\n",
       "       'Shopping Centre', 'Spacious Interiors', 'Swimming Pool',\n",
       "       'Visitor Parking', 'Waste Disposal', 'Water Storage', 'Water purifier',\n",
       "       'Water softening plant', 'total_num_rooms', 'furnished',\n",
       "       'floor_category'],\n",
       "      dtype='object')"
      ]
     },
     "execution_count": 20,
     "metadata": {},
     "output_type": "execute_result"
    }
   ],
   "source": [
    "data.columns"
   ]
  },
  {
   "cell_type": "markdown",
   "id": "b4dc1a4b",
   "metadata": {},
   "source": [
    "# Tree Based Feature Selection(Ordinal Encoding would work well)"
   ]
  },
  {
   "cell_type": "code",
   "execution_count": 21,
   "id": "5b76572e",
   "metadata": {},
   "outputs": [],
   "source": [
    "import copy\n",
    "\n",
    "original_data = copy.deepcopy(data) # storing a copy of data"
   ]
  },
  {
   "cell_type": "code",
   "execution_count": 22,
   "id": "9265f416",
   "metadata": {},
   "outputs": [],
   "source": [
    "from sklearn.preprocessing import OrdinalEncoder\n",
    "\n",
    "categorical_columns = data.select_dtypes(include=['object']).columns\n",
    "for column_name in categorical_columns:\n",
    "    data[column_name] = OrdinalEncoder().fit_transform(data[[column_name]])"
   ]
  },
  {
   "cell_type": "code",
   "execution_count": 23,
   "id": "303cab64",
   "metadata": {},
   "outputs": [
    {
     "data": {
      "text/html": [
       "<div>\n",
       "<style scoped>\n",
       "    .dataframe tbody tr th:only-of-type {\n",
       "        vertical-align: middle;\n",
       "    }\n",
       "\n",
       "    .dataframe tbody tr th {\n",
       "        vertical-align: top;\n",
       "    }\n",
       "\n",
       "    .dataframe thead th {\n",
       "        text-align: right;\n",
       "    }\n",
       "</style>\n",
       "<table border=\"1\" class=\"dataframe\">\n",
       "  <thead>\n",
       "    <tr style=\"text-align: right;\">\n",
       "      <th></th>\n",
       "      <th>price</th>\n",
       "      <th>sector</th>\n",
       "      <th>num_bedrooms</th>\n",
       "      <th>num_bathrooms</th>\n",
       "      <th>num_balconies</th>\n",
       "      <th>age_group</th>\n",
       "      <th>super_built_up_area</th>\n",
       "      <th>built_up_area</th>\n",
       "      <th>carpet_area</th>\n",
       "      <th>floor_number</th>\n",
       "      <th>...</th>\n",
       "      <th>Spacious Interiors</th>\n",
       "      <th>Swimming Pool</th>\n",
       "      <th>Visitor Parking</th>\n",
       "      <th>Waste Disposal</th>\n",
       "      <th>Water Storage</th>\n",
       "      <th>Water purifier</th>\n",
       "      <th>Water softening plant</th>\n",
       "      <th>total_num_rooms</th>\n",
       "      <th>furnished</th>\n",
       "      <th>floor_category</th>\n",
       "    </tr>\n",
       "  </thead>\n",
       "  <tbody>\n",
       "    <tr>\n",
       "      <th>1628</th>\n",
       "      <td>0.98</td>\n",
       "      <td>19.0</td>\n",
       "      <td>2</td>\n",
       "      <td>3.0</td>\n",
       "      <td>3.0</td>\n",
       "      <td>0.0</td>\n",
       "      <td>1041.777072</td>\n",
       "      <td>978.230000</td>\n",
       "      <td>734.430000</td>\n",
       "      <td>12.0</td>\n",
       "      <td>...</td>\n",
       "      <td>0</td>\n",
       "      <td>1</td>\n",
       "      <td>0</td>\n",
       "      <td>0</td>\n",
       "      <td>0</td>\n",
       "      <td>0</td>\n",
       "      <td>0</td>\n",
       "      <td>12.0</td>\n",
       "      <td>1</td>\n",
       "      <td>2.0</td>\n",
       "    </tr>\n",
       "    <tr>\n",
       "      <th>1612</th>\n",
       "      <td>1.82</td>\n",
       "      <td>57.0</td>\n",
       "      <td>3</td>\n",
       "      <td>3.0</td>\n",
       "      <td>4.0</td>\n",
       "      <td>1.0</td>\n",
       "      <td>1836.000000</td>\n",
       "      <td>1830.000000</td>\n",
       "      <td>1500.000000</td>\n",
       "      <td>14.0</td>\n",
       "      <td>...</td>\n",
       "      <td>1</td>\n",
       "      <td>1</td>\n",
       "      <td>1</td>\n",
       "      <td>1</td>\n",
       "      <td>1</td>\n",
       "      <td>1</td>\n",
       "      <td>1</td>\n",
       "      <td>11.0</td>\n",
       "      <td>1</td>\n",
       "      <td>2.0</td>\n",
       "    </tr>\n",
       "    <tr>\n",
       "      <th>2039</th>\n",
       "      <td>0.45</td>\n",
       "      <td>104.0</td>\n",
       "      <td>2</td>\n",
       "      <td>2.0</td>\n",
       "      <td>1.0</td>\n",
       "      <td>2.0</td>\n",
       "      <td>689.769000</td>\n",
       "      <td>599.896670</td>\n",
       "      <td>531.000000</td>\n",
       "      <td>10.0</td>\n",
       "      <td>...</td>\n",
       "      <td>0</td>\n",
       "      <td>0</td>\n",
       "      <td>0</td>\n",
       "      <td>0</td>\n",
       "      <td>0</td>\n",
       "      <td>0</td>\n",
       "      <td>0</td>\n",
       "      <td>5.0</td>\n",
       "      <td>0</td>\n",
       "      <td>2.0</td>\n",
       "    </tr>\n",
       "    <tr>\n",
       "      <th>187</th>\n",
       "      <td>0.36</td>\n",
       "      <td>77.0</td>\n",
       "      <td>2</td>\n",
       "      <td>2.0</td>\n",
       "      <td>1.0</td>\n",
       "      <td>0.0</td>\n",
       "      <td>808.266667</td>\n",
       "      <td>700.000000</td>\n",
       "      <td>620.914464</td>\n",
       "      <td>0.0</td>\n",
       "      <td>...</td>\n",
       "      <td>0</td>\n",
       "      <td>0</td>\n",
       "      <td>0</td>\n",
       "      <td>0</td>\n",
       "      <td>0</td>\n",
       "      <td>0</td>\n",
       "      <td>0</td>\n",
       "      <td>5.0</td>\n",
       "      <td>0</td>\n",
       "      <td>1.0</td>\n",
       "    </tr>\n",
       "    <tr>\n",
       "      <th>2710</th>\n",
       "      <td>0.45</td>\n",
       "      <td>101.0</td>\n",
       "      <td>2</td>\n",
       "      <td>2.0</td>\n",
       "      <td>2.0</td>\n",
       "      <td>2.0</td>\n",
       "      <td>667.686000</td>\n",
       "      <td>580.690939</td>\n",
       "      <td>514.000000</td>\n",
       "      <td>14.0</td>\n",
       "      <td>...</td>\n",
       "      <td>0</td>\n",
       "      <td>0</td>\n",
       "      <td>0</td>\n",
       "      <td>0</td>\n",
       "      <td>0</td>\n",
       "      <td>0</td>\n",
       "      <td>0</td>\n",
       "      <td>6.0</td>\n",
       "      <td>0</td>\n",
       "      <td>2.0</td>\n",
       "    </tr>\n",
       "  </tbody>\n",
       "</table>\n",
       "<p>5 rows × 68 columns</p>\n",
       "</div>"
      ],
      "text/plain": [
       "      price  sector  num_bedrooms  num_bathrooms  num_balconies  age_group  \\\n",
       "1628   0.98    19.0             2            3.0            3.0        0.0   \n",
       "1612   1.82    57.0             3            3.0            4.0        1.0   \n",
       "2039   0.45   104.0             2            2.0            1.0        2.0   \n",
       "187    0.36    77.0             2            2.0            1.0        0.0   \n",
       "2710   0.45   101.0             2            2.0            2.0        2.0   \n",
       "\n",
       "      super_built_up_area  built_up_area  carpet_area  floor_number  ...  \\\n",
       "1628          1041.777072     978.230000   734.430000          12.0  ...   \n",
       "1612          1836.000000    1830.000000  1500.000000          14.0  ...   \n",
       "2039           689.769000     599.896670   531.000000          10.0  ...   \n",
       "187            808.266667     700.000000   620.914464           0.0  ...   \n",
       "2710           667.686000     580.690939   514.000000          14.0  ...   \n",
       "\n",
       "      Spacious Interiors  Swimming Pool  Visitor Parking  Waste Disposal  \\\n",
       "1628                   0              1                0               0   \n",
       "1612                   1              1                1               1   \n",
       "2039                   0              0                0               0   \n",
       "187                    0              0                0               0   \n",
       "2710                   0              0                0               0   \n",
       "\n",
       "      Water Storage  Water purifier  Water softening plant  total_num_rooms  \\\n",
       "1628              0               0                      0             12.0   \n",
       "1612              1               1                      1             11.0   \n",
       "2039              0               0                      0              5.0   \n",
       "187               0               0                      0              5.0   \n",
       "2710              0               0                      0              6.0   \n",
       "\n",
       "      furnished  floor_category  \n",
       "1628          1             2.0  \n",
       "1612          1             2.0  \n",
       "2039          0             2.0  \n",
       "187           0             1.0  \n",
       "2710          0             2.0  \n",
       "\n",
       "[5 rows x 68 columns]"
      ]
     },
     "execution_count": 23,
     "metadata": {},
     "output_type": "execute_result"
    }
   ],
   "source": [
    "data.sample(5)"
   ]
  },
  {
   "cell_type": "code",
   "execution_count": 24,
   "id": "66f94bbf",
   "metadata": {},
   "outputs": [],
   "source": [
    "X = data.drop(columns=['price'])\n",
    "y = data['price']"
   ]
  },
  {
   "cell_type": "markdown",
   "id": "d4a8859e",
   "metadata": {},
   "source": [
    "# Removing Duplicate Columns"
   ]
  },
  {
   "cell_type": "code",
   "execution_count": 25,
   "id": "3b90d6a0",
   "metadata": {},
   "outputs": [],
   "source": [
    "def get_duplicate_columns(data):\n",
    "    \n",
    "    duplicate_columns = {}\n",
    "    seen_columns = {}\n",
    "\n",
    "    for column in data.columns:\n",
    "        current_column = data[column]\n",
    "\n",
    "        # Converting column data to bytes\n",
    "        try:\n",
    "            current_column_hash = current_column.values.tobytes()\n",
    "        except AttributeError:\n",
    "            current_column_hash = current_column.to_string().encode()\n",
    "\n",
    "        if current_column_hash in seen_columns:\n",
    "            if seen_columns[current_column_hash] in duplicate_columns:\n",
    "                duplicate_columns[seen_columns[current_column_hash]].append(column)\n",
    "            else:\n",
    "                duplicate_columns[seen_columns[current_column_hash]] = [column]\n",
    "        else:\n",
    "            seen_columns[current_column_hash] = column\n",
    "\n",
    "    return duplicate_columns"
   ]
  },
  {
   "cell_type": "code",
   "execution_count": 26,
   "id": "5ee5c502",
   "metadata": {},
   "outputs": [
    {
     "data": {
      "text/plain": [
       "{}"
      ]
     },
     "execution_count": 26,
     "metadata": {},
     "output_type": "execute_result"
    }
   ],
   "source": [
    "get_duplicate_columns(X)"
   ]
  },
  {
   "cell_type": "markdown",
   "id": "79a18a6a",
   "metadata": {},
   "source": [
    "There isn't any duplicate columns"
   ]
  },
  {
   "cell_type": "markdown",
   "id": "f816f76a",
   "metadata": {},
   "source": [
    "# Variance Threshold"
   ]
  },
  {
   "cell_type": "code",
   "execution_count": 27,
   "id": "b671584b",
   "metadata": {},
   "outputs": [
    {
     "data": {
      "text/html": [
       "<style>#sk-container-id-1 {color: black;}#sk-container-id-1 pre{padding: 0;}#sk-container-id-1 div.sk-toggleable {background-color: white;}#sk-container-id-1 label.sk-toggleable__label {cursor: pointer;display: block;width: 100%;margin-bottom: 0;padding: 0.3em;box-sizing: border-box;text-align: center;}#sk-container-id-1 label.sk-toggleable__label-arrow:before {content: \"▸\";float: left;margin-right: 0.25em;color: #696969;}#sk-container-id-1 label.sk-toggleable__label-arrow:hover:before {color: black;}#sk-container-id-1 div.sk-estimator:hover label.sk-toggleable__label-arrow:before {color: black;}#sk-container-id-1 div.sk-toggleable__content {max-height: 0;max-width: 0;overflow: hidden;text-align: left;background-color: #f0f8ff;}#sk-container-id-1 div.sk-toggleable__content pre {margin: 0.2em;color: black;border-radius: 0.25em;background-color: #f0f8ff;}#sk-container-id-1 input.sk-toggleable__control:checked~div.sk-toggleable__content {max-height: 200px;max-width: 100%;overflow: auto;}#sk-container-id-1 input.sk-toggleable__control:checked~label.sk-toggleable__label-arrow:before {content: \"▾\";}#sk-container-id-1 div.sk-estimator input.sk-toggleable__control:checked~label.sk-toggleable__label {background-color: #d4ebff;}#sk-container-id-1 div.sk-label input.sk-toggleable__control:checked~label.sk-toggleable__label {background-color: #d4ebff;}#sk-container-id-1 input.sk-hidden--visually {border: 0;clip: rect(1px 1px 1px 1px);clip: rect(1px, 1px, 1px, 1px);height: 1px;margin: -1px;overflow: hidden;padding: 0;position: absolute;width: 1px;}#sk-container-id-1 div.sk-estimator {font-family: monospace;background-color: #f0f8ff;border: 1px dotted black;border-radius: 0.25em;box-sizing: border-box;margin-bottom: 0.5em;}#sk-container-id-1 div.sk-estimator:hover {background-color: #d4ebff;}#sk-container-id-1 div.sk-parallel-item::after {content: \"\";width: 100%;border-bottom: 1px solid gray;flex-grow: 1;}#sk-container-id-1 div.sk-label:hover label.sk-toggleable__label {background-color: #d4ebff;}#sk-container-id-1 div.sk-serial::before {content: \"\";position: absolute;border-left: 1px solid gray;box-sizing: border-box;top: 0;bottom: 0;left: 50%;z-index: 0;}#sk-container-id-1 div.sk-serial {display: flex;flex-direction: column;align-items: center;background-color: white;padding-right: 0.2em;padding-left: 0.2em;position: relative;}#sk-container-id-1 div.sk-item {position: relative;z-index: 1;}#sk-container-id-1 div.sk-parallel {display: flex;align-items: stretch;justify-content: center;background-color: white;position: relative;}#sk-container-id-1 div.sk-item::before, #sk-container-id-1 div.sk-parallel-item::before {content: \"\";position: absolute;border-left: 1px solid gray;box-sizing: border-box;top: 0;bottom: 0;left: 50%;z-index: -1;}#sk-container-id-1 div.sk-parallel-item {display: flex;flex-direction: column;z-index: 1;position: relative;background-color: white;}#sk-container-id-1 div.sk-parallel-item:first-child::after {align-self: flex-end;width: 50%;}#sk-container-id-1 div.sk-parallel-item:last-child::after {align-self: flex-start;width: 50%;}#sk-container-id-1 div.sk-parallel-item:only-child::after {width: 0;}#sk-container-id-1 div.sk-dashed-wrapped {border: 1px dashed gray;margin: 0 0.4em 0.5em 0.4em;box-sizing: border-box;padding-bottom: 0.4em;background-color: white;}#sk-container-id-1 div.sk-label label {font-family: monospace;font-weight: bold;display: inline-block;line-height: 1.2em;}#sk-container-id-1 div.sk-label-container {text-align: center;}#sk-container-id-1 div.sk-container {/* jupyter's `normalize.less` sets `[hidden] { display: none; }` but bootstrap.min.css set `[hidden] { display: none !important; }` so we also need the `!important` here to be able to override the default hidden behavior on the sphinx rendered scikit-learn.org. See: https://github.com/scikit-learn/scikit-learn/issues/21755 */display: inline-block !important;position: relative;}#sk-container-id-1 div.sk-text-repr-fallback {display: none;}</style><div id=\"sk-container-id-1\" class=\"sk-top-container\"><div class=\"sk-text-repr-fallback\"><pre>VarianceThreshold(threshold=0.01)</pre><b>In a Jupyter environment, please rerun this cell to show the HTML representation or trust the notebook. <br />On GitHub, the HTML representation is unable to render, please try loading this page with nbviewer.org.</b></div><div class=\"sk-container\" hidden><div class=\"sk-item\"><div class=\"sk-estimator sk-toggleable\"><input class=\"sk-toggleable__control sk-hidden--visually\" id=\"sk-estimator-id-1\" type=\"checkbox\" checked><label for=\"sk-estimator-id-1\" class=\"sk-toggleable__label sk-toggleable__label-arrow\">VarianceThreshold</label><div class=\"sk-toggleable__content\"><pre>VarianceThreshold(threshold=0.01)</pre></div></div></div></div></div>"
      ],
      "text/plain": [
       "VarianceThreshold(threshold=0.01)"
      ]
     },
     "execution_count": 27,
     "metadata": {},
     "output_type": "execute_result"
    }
   ],
   "source": [
    "from sklearn.feature_selection import VarianceThreshold\n",
    "vt = VarianceThreshold(threshold=0.01)\n",
    "vt.fit(X)"
   ]
  },
  {
   "cell_type": "code",
   "execution_count": 28,
   "id": "73bbb8d8",
   "metadata": {},
   "outputs": [
    {
     "data": {
      "text/plain": [
       "67"
      ]
     },
     "execution_count": 28,
     "metadata": {},
     "output_type": "execute_result"
    }
   ],
   "source": [
    "sum(vt.get_support())"
   ]
  },
  {
   "cell_type": "markdown",
   "id": "60955431",
   "metadata": {},
   "source": [
    "All the columns have variance greater than threshold"
   ]
  },
  {
   "cell_type": "markdown",
   "id": "d80f4c3c",
   "metadata": {},
   "source": [
    "# Pearson Correlation Coefficient\n",
    "\n",
    "**Note: All these shows the extent to which these columns are 'linearly' related to output, and not overall relation.**\n",
    "\n",
    "- super_built_up_area > built_up_area > carpet_area, so can keep only super_built_up_area\n",
    "- num_bathrooms(0.59) > total_num_rooms(0.58) > num_bedrooms(0.50+) > servant_room(0.40+) > num_balconies(0.30+)\n",
    "- ac(0.4) > geyser(0.31) > wardrobe(0.25) > fan(0.25) > chimney(0.24) > stove(0.23) > light(0.22) > furnished(0.21)\n",
    "- floor_number(0.21) >>> floor_category(~0)\n",
    "- Separate entry for servant room(0.23) >  Intercom Facility(0.19) > Swimming Pool(0.17) > False Ceiling Lighting(0.16) > Piped-gas(0.15) > Spacious Interiors(0.15) > High Ceiling Height(0.15) > Centrally Air Conditioned(0.15) > Club house / Community Center(0.15) > Low Density Society(0.15) > No open drainage around(0.14) > Private Garden / Terrace(0.14)"
   ]
  },
  {
   "cell_type": "code",
   "execution_count": 29,
   "id": "946cda85",
   "metadata": {},
   "outputs": [
    {
     "data": {
      "text/plain": [
       "<Axes: >"
      ]
     },
     "execution_count": 29,
     "metadata": {},
     "output_type": "execute_result"
    },
    {
     "data": {
      "image/png": "[encoded data removed]",
      "text/plain": [
       "<Figure size 2000x2000 with 2 Axes>"
      ]
     },
     "metadata": {},
     "output_type": "display_data"
    }
   ],
   "source": [
    "plt.figure(figsize=(20, 20))\n",
    "\n",
    "sns.heatmap(X.corr(), cmap='coolwarm', linewidths=.5)"
   ]
  },
  {
   "cell_type": "markdown",
   "id": "80c488fb",
   "metadata": {},
   "source": [
    "- super_built_up_area, built_up_area and carpet_area have a strong positive correlation"
   ]
  },
  {
   "cell_type": "code",
   "execution_count": 30,
   "id": "bd4b8f66",
   "metadata": {},
   "outputs": [
    {
     "data": {
      "text/plain": [
       "0.8261361111927917"
      ]
     },
     "execution_count": 30,
     "metadata": {},
     "output_type": "execute_result"
    }
   ],
   "source": [
    "data.corr()['num_bedrooms']['num_bathrooms']"
   ]
  },
  {
   "cell_type": "code",
   "execution_count": 31,
   "id": "a8814c8c",
   "metadata": {},
   "outputs": [
    {
     "data": {
      "text/plain": [
       "0.7587276938847876"
      ]
     },
     "execution_count": 31,
     "metadata": {},
     "output_type": "execute_result"
    }
   ],
   "source": [
    "data.corr()['super_built_up_area']['num_bedrooms']"
   ]
  },
  {
   "cell_type": "code",
   "execution_count": 32,
   "id": "ebb0f61d",
   "metadata": {},
   "outputs": [
    {
     "data": {
      "text/plain": [
       "-0.20357310884343222"
      ]
     },
     "execution_count": 32,
     "metadata": {},
     "output_type": "execute_result"
    }
   ],
   "source": [
    "# So the minimum correlation present in data(dark violet colored heatmap) is nearly -0.21.\n",
    "data.corr()['age_group']['Airy Rooms']"
   ]
  },
  {
   "cell_type": "code",
   "execution_count": 33,
   "id": "b7ca1552",
   "metadata": {},
   "outputs": [
    {
     "data": {
      "text/plain": [
       "0.8051297182084614"
      ]
     },
     "execution_count": 33,
     "metadata": {},
     "output_type": "execute_result"
    }
   ],
   "source": [
    "data.corr()['washing']['fridge']"
   ]
  },
  {
   "cell_type": "code",
   "execution_count": 34,
   "id": "68d79608",
   "metadata": {},
   "outputs": [],
   "source": [
    "corr_coef_price = data.corr()['price'].reset_index().rename(columns={'index': 'feature', 'price': 'correlation_coefficient'})"
   ]
  },
  {
   "cell_type": "code",
   "execution_count": 35,
   "id": "44483b65",
   "metadata": {},
   "outputs": [],
   "source": [
    "correlation_data = corr_coef_price.set_index('feature').squeeze().drop('price')"
   ]
  },
  {
   "cell_type": "code",
   "execution_count": 36,
   "id": "ed7f4bcf",
   "metadata": {},
   "outputs": [
    {
     "data": {
      "text/plain": [
       "feature\n",
       "sector                            -0.184608\n",
       "num_bedrooms                       0.568605\n",
       "num_bathrooms                      0.601927\n",
       "num_balconies                      0.382372\n",
       "age_group                          0.047586\n",
       "super_built_up_area                0.784877\n",
       "built_up_area                      0.784402\n",
       "carpet_area                        0.767257\n",
       "floor_number                       0.221398\n",
       "servant_room                       0.454334\n",
       "study_room                         0.067561\n",
       "pooja_room                         0.105472\n",
       "other_additional_room              0.003011\n",
       "store_room                         0.062297\n",
       "ac                                 0.403953\n",
       "bed                               -0.011892\n",
       "chimney                            0.246562\n",
       "curtains                           0.052848\n",
       "dining                             0.041414\n",
       "exhaust                            0.139681\n",
       "fan                                0.255330\n",
       "fridge                             0.124782\n",
       "geyser                             0.350545\n",
       "light                              0.231766\n",
       "microwave                          0.199003\n",
       "modular                            0.206769\n",
       "sofa                               0.006501\n",
       "stove                              0.253547\n",
       "tv                                 0.059017\n",
       "wardrobe                           0.254858\n",
       "washing                            0.134646\n",
       "water                              0.126115\n",
       "Airy Rooms                         0.120488\n",
       "Bank Attached Property             0.106695\n",
       "Centrally Air Conditioned          0.169187\n",
       "Club house / Community Center      0.146009\n",
       "False Ceiling Lighting             0.171261\n",
       "Feng Shui / Vaastu Compliant       0.140025\n",
       "Fitness Centre / GYM               0.135671\n",
       "High Ceiling Height                0.168227\n",
       "Intercom Facility                  0.196492\n",
       "Internet/wi-fi connectivity        0.160134\n",
       "Lift(s)                            0.101677\n",
       "Low Density Society                0.153348\n",
       "Maintenance Staff                  0.087923\n",
       "Natural Light                      0.107576\n",
       "No open drainage around            0.150571\n",
       "Park                               0.099044\n",
       "Piped-gas                          0.175440\n",
       "Power Back-up                      0.073361\n",
       "Private Garden / Terrace           0.145732\n",
       "Rain Water Harvesting              0.073911\n",
       "Recently Renovated                 0.115629\n",
       "Security / Fire Alarm              0.106244\n",
       "Security Personnel                 0.073657\n",
       "Separate entry for servant room    0.239441\n",
       "Shopping Centre                    0.079839\n",
       "Spacious Interiors                 0.160227\n",
       "Swimming Pool                      0.165930\n",
       "Visitor Parking                    0.100305\n",
       "Waste Disposal                     0.129013\n",
       "Water Storage                      0.087574\n",
       "Water purifier                     0.159675\n",
       "Water softening plant              0.165909\n",
       "total_num_rooms                    0.599054\n",
       "furnished                          0.227964\n",
       "floor_category                    -0.101497\n",
       "Name: correlation_coefficient, dtype: float64"
      ]
     },
     "execution_count": 36,
     "metadata": {},
     "output_type": "execute_result"
    }
   ],
   "source": [
    "correlation_data"
   ]
  },
  {
   "cell_type": "code",
   "execution_count": 37,
   "id": "22d01273",
   "metadata": {
    "scrolled": false
   },
   "outputs": [
    {
     "data": {
      "text/plain": [
       "{0: {'feature': 'price', 'correlation_coefficient': 1.0},\n",
       " 6: {'feature': 'super_built_up_area',\n",
       "  'correlation_coefficient': 0.7848774211737103},\n",
       " 7: {'feature': 'built_up_area',\n",
       "  'correlation_coefficient': 0.7844018956798959},\n",
       " 8: {'feature': 'carpet_area', 'correlation_coefficient': 0.7672566329245302},\n",
       " 3: {'feature': 'num_bathrooms',\n",
       "  'correlation_coefficient': 0.6019274144443855},\n",
       " 65: {'feature': 'total_num_rooms',\n",
       "  'correlation_coefficient': 0.5990536058898867},\n",
       " 2: {'feature': 'num_bedrooms', 'correlation_coefficient': 0.5686050945716702},\n",
       " 10: {'feature': 'servant_room',\n",
       "  'correlation_coefficient': 0.45433415650436176},\n",
       " 15: {'feature': 'ac', 'correlation_coefficient': 0.4039530177713033},\n",
       " 4: {'feature': 'num_balconies',\n",
       "  'correlation_coefficient': 0.38237204753222026},\n",
       " 23: {'feature': 'geyser', 'correlation_coefficient': 0.3505450726354165},\n",
       " 21: {'feature': 'fan', 'correlation_coefficient': 0.25533014842491303},\n",
       " 30: {'feature': 'wardrobe', 'correlation_coefficient': 0.2548580657311604},\n",
       " 28: {'feature': 'stove', 'correlation_coefficient': 0.2535472071311795},\n",
       " 17: {'feature': 'chimney', 'correlation_coefficient': 0.2465623085247988},\n",
       " 56: {'feature': 'Separate entry for servant room',\n",
       "  'correlation_coefficient': 0.23944075826840108},\n",
       " 24: {'feature': 'light', 'correlation_coefficient': 0.23176630406143212},\n",
       " 66: {'feature': 'furnished', 'correlation_coefficient': 0.22796401489407975},\n",
       " 9: {'feature': 'floor_number',\n",
       "  'correlation_coefficient': 0.22139838589127103},\n",
       " 26: {'feature': 'modular', 'correlation_coefficient': 0.20676939366147734},\n",
       " 25: {'feature': 'microwave', 'correlation_coefficient': 0.19900343873264476},\n",
       " 41: {'feature': 'Intercom Facility',\n",
       "  'correlation_coefficient': 0.19649192051991218},\n",
       " 49: {'feature': 'Piped-gas', 'correlation_coefficient': 0.17544028231945244},\n",
       " 37: {'feature': 'False Ceiling Lighting',\n",
       "  'correlation_coefficient': 0.1712610354422765},\n",
       " 35: {'feature': 'Centrally Air Conditioned',\n",
       "  'correlation_coefficient': 0.16918736003476004},\n",
       " 40: {'feature': 'High Ceiling Height',\n",
       "  'correlation_coefficient': 0.16822702735025535},\n",
       " 59: {'feature': 'Swimming Pool',\n",
       "  'correlation_coefficient': 0.1659300536045826},\n",
       " 64: {'feature': 'Water softening plant',\n",
       "  'correlation_coefficient': 0.16590850262571957},\n",
       " 58: {'feature': 'Spacious Interiors',\n",
       "  'correlation_coefficient': 0.16022729318698423},\n",
       " 42: {'feature': 'Internet/wi-fi connectivity',\n",
       "  'correlation_coefficient': 0.16013444462435295},\n",
       " 63: {'feature': 'Water purifier',\n",
       "  'correlation_coefficient': 0.15967456831168722},\n",
       " 44: {'feature': 'Low Density Society',\n",
       "  'correlation_coefficient': 0.15334756602828187},\n",
       " 47: {'feature': 'No open drainage around',\n",
       "  'correlation_coefficient': 0.15057073078502778},\n",
       " 36: {'feature': 'Club house / Community Center',\n",
       "  'correlation_coefficient': 0.14600918643324826},\n",
       " 51: {'feature': 'Private Garden / Terrace',\n",
       "  'correlation_coefficient': 0.14573154029212693},\n",
       " 38: {'feature': 'Feng Shui / Vaastu Compliant',\n",
       "  'correlation_coefficient': 0.1400247979090948},\n",
       " 20: {'feature': 'exhaust', 'correlation_coefficient': 0.13968127768662303},\n",
       " 39: {'feature': 'Fitness Centre / GYM',\n",
       "  'correlation_coefficient': 0.13567052922548725},\n",
       " 31: {'feature': 'washing', 'correlation_coefficient': 0.13464579306468205},\n",
       " 61: {'feature': 'Waste Disposal',\n",
       "  'correlation_coefficient': 0.1290128728120809},\n",
       " 32: {'feature': 'water', 'correlation_coefficient': 0.12611542901352354},\n",
       " 22: {'feature': 'fridge', 'correlation_coefficient': 0.12478187732856917},\n",
       " 33: {'feature': 'Airy Rooms', 'correlation_coefficient': 0.12048776942148276},\n",
       " 53: {'feature': 'Recently Renovated',\n",
       "  'correlation_coefficient': 0.11562861155556825},\n",
       " 46: {'feature': 'Natural Light',\n",
       "  'correlation_coefficient': 0.10757566082250881},\n",
       " 34: {'feature': 'Bank Attached Property',\n",
       "  'correlation_coefficient': 0.10669469184611836},\n",
       " 54: {'feature': 'Security / Fire Alarm',\n",
       "  'correlation_coefficient': 0.10624400693195274},\n",
       " 12: {'feature': 'pooja_room', 'correlation_coefficient': 0.10547159379980331},\n",
       " 43: {'feature': 'Lift(s)', 'correlation_coefficient': 0.10167737639880005},\n",
       " 60: {'feature': 'Visitor Parking',\n",
       "  'correlation_coefficient': 0.10030518521019523},\n",
       " 48: {'feature': 'Park', 'correlation_coefficient': 0.099044052916975},\n",
       " 45: {'feature': 'Maintenance Staff',\n",
       "  'correlation_coefficient': 0.087922858010577},\n",
       " 62: {'feature': 'Water Storage',\n",
       "  'correlation_coefficient': 0.08757367445398268},\n",
       " 57: {'feature': 'Shopping Centre',\n",
       "  'correlation_coefficient': 0.07983888759958789},\n",
       " 52: {'feature': 'Rain Water Harvesting',\n",
       "  'correlation_coefficient': 0.07391101471752637},\n",
       " 55: {'feature': 'Security Personnel',\n",
       "  'correlation_coefficient': 0.0736572462555833},\n",
       " 50: {'feature': 'Power Back-up',\n",
       "  'correlation_coefficient': 0.07336105663081753},\n",
       " 11: {'feature': 'study_room', 'correlation_coefficient': 0.0675608330362977},\n",
       " 14: {'feature': 'store_room', 'correlation_coefficient': 0.06229682873173948},\n",
       " 29: {'feature': 'tv', 'correlation_coefficient': 0.059016616812191704},\n",
       " 18: {'feature': 'curtains', 'correlation_coefficient': 0.05284813393588349},\n",
       " 5: {'feature': 'age_group', 'correlation_coefficient': 0.0475859703867908},\n",
       " 19: {'feature': 'dining', 'correlation_coefficient': 0.04141365228820384},\n",
       " 27: {'feature': 'sofa', 'correlation_coefficient': 0.006500907345765253},\n",
       " 13: {'feature': 'other_additional_room',\n",
       "  'correlation_coefficient': 0.0030111299849131436},\n",
       " 16: {'feature': 'bed', 'correlation_coefficient': -0.011892352557828289},\n",
       " 67: {'feature': 'floor_category',\n",
       "  'correlation_coefficient': -0.10149666797761374},\n",
       " 1: {'feature': 'sector', 'correlation_coefficient': -0.1846075419886122}}"
      ]
     },
     "execution_count": 37,
     "metadata": {},
     "output_type": "execute_result"
    }
   ],
   "source": [
    "corr_coef_price.sort_values('correlation_coefficient', ascending=False).T.to_dict()"
   ]
  },
  {
   "cell_type": "markdown",
   "id": "8d930b43",
   "metadata": {},
   "source": [
    "# Mutual Information\n",
    "\n",
    "- Unlike correlation coefficient, it can even capture non linear relationship.\n",
    "- super_built_up_area(0.89) >> built_up_area/carpet(0.72).\n",
    "- sector(0.61) is the next most important column.\n",
    "- total_num_rooms(0.43) > num_bathrooms(0.39) > num_bedrooms(0.32) > num_balconies(0.21) \n",
    "- ac(0.17) > wardrobe(0.12) > fan(0.11) > geyser(0.11)\n",
    "- servant_room(0.16) > > pooja_room(0.03) > study_room(0.02), store_room and other_additional_room are 0.\n",
    "- Swimming Pool(0.07) > Separate entry for servant room(0.07) > Club house / Community Center(0.06) > Water softening plant(0.06) > Water softening plant(0.05) > Water purifier(0.05) > Fitness Centre / GYM(0.05) > Feng Shui / Vaastu Compliant(0.05) > High Ceiling Height(0.05) > Maintenance Staff(0.05).\n",
    "- floor_number(0.06) > floor_category(0.03) "
   ]
  },
  {
   "cell_type": "code",
   "execution_count": 38,
   "id": "dc4c8f25",
   "metadata": {},
   "outputs": [],
   "source": [
    "from sklearn.feature_selection import mutual_info_regression\n",
    "\n",
    "mutual_info = mutual_info_regression(X, y)\n",
    "mutual_information_values = {}\n",
    "\n",
    "for feature_name, mutual_info_value in zip(X.columns, mutual_info):\n",
    "    mutual_information_values[feature_name] = mutual_info_value"
   ]
  },
  {
   "cell_type": "code",
   "execution_count": 39,
   "id": "9932cd4c",
   "metadata": {},
   "outputs": [],
   "source": [
    "mutual_information_values = dict(sorted(mutual_information_values.items(), key=lambda item: item[1], reverse=True))"
   ]
  },
  {
   "cell_type": "code",
   "execution_count": 40,
   "id": "6b38193e",
   "metadata": {},
   "outputs": [
    {
     "data": {
      "text/plain": [
       "{'super_built_up_area': 0.8824274142797792,\n",
       " 'built_up_area': 0.740041147816834,\n",
       " 'carpet_area': 0.7130216837687087,\n",
       " 'sector': 0.6015320211146511,\n",
       " 'total_num_rooms': 0.4088297894869557,\n",
       " 'num_bathrooms': 0.3874485880564009,\n",
       " 'num_bedrooms': 0.31805670118561347,\n",
       " 'num_balconies': 0.20265798382470424,\n",
       " 'ac': 0.17150083251411674,\n",
       " 'servant_room': 0.15877499306444554,\n",
       " 'wardrobe': 0.12939921216085892,\n",
       " 'geyser': 0.11839973023452544,\n",
       " 'fan': 0.09436816367591838,\n",
       " 'light': 0.07405704800078139,\n",
       " 'Separate entry for servant room': 0.07133365962183014,\n",
       " 'Swimming Pool': 0.06377726653068638,\n",
       " 'chimney': 0.05716077499736194,\n",
       " 'Intercom Facility': 0.056323810259580664,\n",
       " 'False Ceiling Lighting': 0.05380395898038204,\n",
       " 'floor_number': 0.053520130752684913,\n",
       " 'Water softening plant': 0.051403129079584886,\n",
       " 'Club house / Community Center': 0.05131221428923283,\n",
       " 'No open drainage around': 0.04872776944414037,\n",
       " 'stove': 0.045383072044022255,\n",
       " 'Centrally Air Conditioned': 0.04419131428039558,\n",
       " 'Water Storage': 0.044018830536815656,\n",
       " 'Feng Shui / Vaastu Compliant': 0.0429204998426691,\n",
       " 'Visitor Parking': 0.041775632534408746,\n",
       " 'microwave': 0.04162219792278932,\n",
       " 'Piped-gas': 0.04121355600271803,\n",
       " 'Park': 0.040038565640347024,\n",
       " 'age_group': 0.03989277455153051,\n",
       " 'Low Density Society': 0.039552601061070725,\n",
       " 'Waste Disposal': 0.0388086784699766,\n",
       " 'Internet/wi-fi connectivity': 0.038617355516331386,\n",
       " 'floor_category': 0.03789582708832562,\n",
       " 'Fitness Centre / GYM': 0.0367817518470126,\n",
       " 'washing': 0.03617644126175423,\n",
       " 'Recently Renovated': 0.03580010792884325,\n",
       " 'Spacious Interiors': 0.03384624199251718,\n",
       " 'furnished': 0.03283766153959222,\n",
       " 'curtains': 0.030659019709400326,\n",
       " 'Rain Water Harvesting': 0.02955789006357934,\n",
       " 'Natural Light': 0.028034292649840697,\n",
       " 'High Ceiling Height': 0.025612752661197558,\n",
       " 'Power Back-up': 0.025580583594410733,\n",
       " 'Lift(s)': 0.02553092347946695,\n",
       " 'Bank Attached Property': 0.024914995206918977,\n",
       " 'Water purifier': 0.024738375206907914,\n",
       " 'Maintenance Staff': 0.024507240962905463,\n",
       " 'study_room': 0.024103140530277845,\n",
       " 'water': 0.02227730630680491,\n",
       " 'fridge': 0.02106700785699811,\n",
       " 'modular': 0.020011339438551268,\n",
       " 'exhaust': 0.018478827591226654,\n",
       " 'Security / Fire Alarm': 0.018475998408569616,\n",
       " 'Airy Rooms': 0.017743342768030246,\n",
       " 'other_additional_room': 0.015771925729088032,\n",
       " 'Private Garden / Terrace': 0.012816582441748992,\n",
       " 'tv': 0.010764579626552528,\n",
       " 'pooja_room': 0.007674043189596302,\n",
       " 'sofa': 0.002899666574704085,\n",
       " 'store_room': 0.0,\n",
       " 'bed': 0.0,\n",
       " 'dining': 0.0,\n",
       " 'Security Personnel': 0.0,\n",
       " 'Shopping Centre': 0.0}"
      ]
     },
     "execution_count": 40,
     "metadata": {},
     "output_type": "execute_result"
    }
   ],
   "source": [
    "mutual_information_values"
   ]
  },
  {
   "cell_type": "code",
   "execution_count": 41,
   "id": "21270512",
   "metadata": {},
   "outputs": [
    {
     "data": {
      "text/plain": [
       "super_built_up_area                0.882427\n",
       "built_up_area                      0.740041\n",
       "carpet_area                        0.713022\n",
       "sector                             0.601532\n",
       "total_num_rooms                    0.408830\n",
       "num_bathrooms                      0.387449\n",
       "num_bedrooms                       0.318057\n",
       "num_balconies                      0.202658\n",
       "ac                                 0.171501\n",
       "servant_room                       0.158775\n",
       "wardrobe                           0.129399\n",
       "geyser                             0.118400\n",
       "fan                                0.094368\n",
       "light                              0.074057\n",
       "Separate entry for servant room    0.071334\n",
       "Swimming Pool                      0.063777\n",
       "chimney                            0.057161\n",
       "Intercom Facility                  0.056324\n",
       "False Ceiling Lighting             0.053804\n",
       "floor_number                       0.053520\n",
       "Water softening plant              0.051403\n",
       "Club house / Community Center      0.051312\n",
       "No open drainage around            0.048728\n",
       "stove                              0.045383\n",
       "Centrally Air Conditioned          0.044191\n",
       "Water Storage                      0.044019\n",
       "Feng Shui / Vaastu Compliant       0.042920\n",
       "Visitor Parking                    0.041776\n",
       "microwave                          0.041622\n",
       "Piped-gas                          0.041214\n",
       "Park                               0.040039\n",
       "age_group                          0.039893\n",
       "Low Density Society                0.039553\n",
       "Waste Disposal                     0.038809\n",
       "Internet/wi-fi connectivity        0.038617\n",
       "floor_category                     0.037896\n",
       "Fitness Centre / GYM               0.036782\n",
       "washing                            0.036176\n",
       "Recently Renovated                 0.035800\n",
       "Spacious Interiors                 0.033846\n",
       "furnished                          0.032838\n",
       "curtains                           0.030659\n",
       "Rain Water Harvesting              0.029558\n",
       "Natural Light                      0.028034\n",
       "High Ceiling Height                0.025613\n",
       "Power Back-up                      0.025581\n",
       "Lift(s)                            0.025531\n",
       "Bank Attached Property             0.024915\n",
       "Water purifier                     0.024738\n",
       "Maintenance Staff                  0.024507\n",
       "study_room                         0.024103\n",
       "water                              0.022277\n",
       "fridge                             0.021067\n",
       "modular                            0.020011\n",
       "exhaust                            0.018479\n",
       "Security / Fire Alarm              0.018476\n",
       "Airy Rooms                         0.017743\n",
       "other_additional_room              0.015772\n",
       "Private Garden / Terrace           0.012817\n",
       "tv                                 0.010765\n",
       "pooja_room                         0.007674\n",
       "sofa                               0.002900\n",
       "store_room                         0.000000\n",
       "bed                                0.000000\n",
       "dining                             0.000000\n",
       "Security Personnel                 0.000000\n",
       "Shopping Centre                    0.000000\n",
       "dtype: float64"
      ]
     },
     "execution_count": 41,
     "metadata": {},
     "output_type": "execute_result"
    }
   ],
   "source": [
    "mutual_info_data = pd.Series(mutual_information_values)\n",
    "mutual_info_data"
   ]
  },
  {
   "cell_type": "markdown",
   "id": "f141eb34",
   "metadata": {},
   "source": [
    "# Sequential Forward Selection\n",
    "\n",
    "- Clearly from above, we can see that very less features are important for price prediction, so we choose forward and not backward.\n",
    "- 'sector', 'num_balconies', 'super_built_up_area', 'servant_room', 'pooja_room', 'store_room', 'bed', 'Bank Attached Property', 'Centrally Air Conditioned', 'Lift(s)', 'Low Density Society', 'Natural Light', 'Private Garden / Terrace', 'Rain Water Harvesting', 'Spacious Interiors' are the 15 most important features according to Decision Tree."
   ]
  },
  {
   "cell_type": "code",
   "execution_count": 42,
   "id": "3768418b",
   "metadata": {},
   "outputs": [],
   "source": [
    "from mlxtend.feature_selection import SequentialFeatureSelector\n",
    "from sklearn.tree import DecisionTreeRegressor\n",
    "\n",
    "reg = DecisionTreeRegressor(random_state=42)\n",
    "sfs = SequentialFeatureSelector(reg, k_features=15, forward=True, floating=False, scoring='neg_mean_squared_error', cv=5)\n",
    "sfs.fit(X, y)\n",
    "selected_features = list(X.columns[list(sfs.k_feature_idx_)])"
   ]
  },
  {
   "cell_type": "code",
   "execution_count": 43,
   "id": "9065953a",
   "metadata": {},
   "outputs": [
    {
     "data": {
      "text/plain": [
       "['sector',\n",
       " 'num_bedrooms',\n",
       " 'num_bathrooms',\n",
       " 'super_built_up_area',\n",
       " 'study_room',\n",
       " 'bed',\n",
       " 'exhaust',\n",
       " 'sofa',\n",
       " 'tv',\n",
       " 'Bank Attached Property',\n",
       " 'Intercom Facility',\n",
       " 'Park',\n",
       " 'Recently Renovated',\n",
       " 'Water Storage',\n",
       " 'furnished']"
      ]
     },
     "execution_count": 43,
     "metadata": {},
     "output_type": "execute_result"
    }
   ],
   "source": [
    "selected_features"
   ]
  },
  {
   "cell_type": "markdown",
   "id": "2abe37e7",
   "metadata": {},
   "source": [
    "# Random Forest Feature Importance\n",
    "\n",
    "- super_built_up_area(0.47) >> sector(0.13), rest are quite low."
   ]
  },
  {
   "cell_type": "code",
   "execution_count": 44,
   "id": "267d09bc",
   "metadata": {},
   "outputs": [],
   "source": [
    "from sklearn.ensemble import RandomForestRegressor\n",
    "\n",
    "rf = RandomForestRegressor(n_estimators=100, random_state=42)\n",
    "rf.fit(X, y)\n",
    "feature_importance_rf = pd.DataFrame({\n",
    "    'feature': X.columns,\n",
    "    'rf_importance': rf.feature_importances_\n",
    "}).sort_values(by='rf_importance', ascending=False)"
   ]
  },
  {
   "cell_type": "code",
   "execution_count": 45,
   "id": "22bf9b41",
   "metadata": {},
   "outputs": [],
   "source": [
    "random_forest_data = feature_importance_rf.set_index('feature').squeeze()"
   ]
  },
  {
   "cell_type": "code",
   "execution_count": 46,
   "id": "ec4e2d1f",
   "metadata": {},
   "outputs": [
    {
     "data": {
      "text/plain": [
       "feature\n",
       "super_built_up_area                0.392460\n",
       "built_up_area                      0.269215\n",
       "sector                             0.145256\n",
       "floor_number                       0.024669\n",
       "geyser                             0.019942\n",
       "carpet_area                        0.019843\n",
       "num_bathrooms                      0.012612\n",
       "total_num_rooms                    0.011093\n",
       "age_group                          0.008705\n",
       "ac                                 0.007547\n",
       "light                              0.007016\n",
       "num_balconies                      0.006172\n",
       "servant_room                       0.004976\n",
       "wardrobe                           0.004970\n",
       "num_bedrooms                       0.004929\n",
       "fan                                0.004867\n",
       "microwave                          0.003641\n",
       "study_room                         0.002795\n",
       "Security / Fire Alarm              0.002549\n",
       "floor_category                     0.002407\n",
       "stove                              0.001910\n",
       "Lift(s)                            0.001849\n",
       "Park                               0.001843\n",
       "curtains                           0.001736\n",
       "Intercom Facility                  0.001647\n",
       "Feng Shui / Vaastu Compliant       0.001501\n",
       "other_additional_room              0.001467\n",
       "Maintenance Staff                  0.001445\n",
       "fridge                             0.001268\n",
       "chimney                            0.001239\n",
       "Swimming Pool                      0.001237\n",
       "Visitor Parking                    0.001179\n",
       "High Ceiling Height                0.001168\n",
       "Water Storage                      0.001135\n",
       "Internet/wi-fi connectivity        0.001081\n",
       "Natural Light                      0.001078\n",
       "Fitness Centre / GYM               0.001069\n",
       "water                              0.001023\n",
       "False Ceiling Lighting             0.000998\n",
       "modular                            0.000977\n",
       "dining                             0.000890\n",
       "Power Back-up                      0.000860\n",
       "Security Personnel                 0.000857\n",
       "Club house / Community Center      0.000847\n",
       "Piped-gas                          0.000820\n",
       "washing                            0.000802\n",
       "Water softening plant              0.000792\n",
       "Rain Water Harvesting              0.000784\n",
       "Centrally Air Conditioned          0.000777\n",
       "exhaust                            0.000706\n",
       "Shopping Centre                    0.000701\n",
       "Spacious Interiors                 0.000664\n",
       "tv                                 0.000656\n",
       "Waste Disposal                     0.000620\n",
       "pooja_room                         0.000617\n",
       "Airy Rooms                         0.000614\n",
       "Separate entry for servant room    0.000598\n",
       "bed                                0.000587\n",
       "Recently Renovated                 0.000558\n",
       "Low Density Society                0.000556\n",
       "Private Garden / Terrace           0.000539\n",
       "store_room                         0.000538\n",
       "furnished                          0.000505\n",
       "Bank Attached Property             0.000482\n",
       "sofa                               0.000437\n",
       "No open drainage around            0.000417\n",
       "Water purifier                     0.000264\n",
       "Name: rf_importance, dtype: float64"
      ]
     },
     "execution_count": 46,
     "metadata": {},
     "output_type": "execute_result"
    }
   ],
   "source": [
    "random_forest_data"
   ]
  },
  {
   "cell_type": "markdown",
   "id": "5404b058",
   "metadata": {},
   "source": [
    "# Gradient Boosting Feature importances"
   ]
  },
  {
   "cell_type": "code",
   "execution_count": 47,
   "id": "2f76cf8d",
   "metadata": {},
   "outputs": [],
   "source": [
    "from sklearn.ensemble import GradientBoostingRegressor\n",
    "\n",
    "gb = GradientBoostingRegressor()\n",
    "gb.fit(X, y)\n",
    "\n",
    "feature_importance_gb = pd.DataFrame({\n",
    "    'feature': X.columns,\n",
    "    'gb_importance': gb.feature_importances_\n",
    "}).sort_values(by='gb_importance', ascending=False)"
   ]
  },
  {
   "cell_type": "code",
   "execution_count": 48,
   "id": "691fb7d0",
   "metadata": {},
   "outputs": [],
   "source": [
    "gradient_boosting_data = feature_importance_gb.set_index('feature').squeeze()"
   ]
  },
  {
   "cell_type": "code",
   "execution_count": 49,
   "id": "e0c1c16b",
   "metadata": {},
   "outputs": [
    {
     "data": {
      "text/plain": [
       "feature\n",
       "super_built_up_area                4.768728e-01\n",
       "built_up_area                      2.098990e-01\n",
       "sector                             1.735644e-01\n",
       "num_bathrooms                      3.133287e-02\n",
       "geyser                             1.912950e-02\n",
       "ac                                 1.813943e-02\n",
       "floor_number                       1.541449e-02\n",
       "carpet_area                        1.195637e-02\n",
       "age_group                          5.445426e-03\n",
       "total_num_rooms                    4.154044e-03\n",
       "floor_category                     3.428477e-03\n",
       "servant_room                       3.406962e-03\n",
       "microwave                          2.833667e-03\n",
       "light                              2.374577e-03\n",
       "Intercom Facility                  2.042884e-03\n",
       "study_room                         1.991810e-03\n",
       "curtains                           1.656024e-03\n",
       "fan                                1.463036e-03\n",
       "Swimming Pool                      1.388551e-03\n",
       "num_balconies                      1.295827e-03\n",
       "Security Personnel                 1.256469e-03\n",
       "bed                                1.162090e-03\n",
       "washing                            1.151681e-03\n",
       "Maintenance Staff                  1.128411e-03\n",
       "wardrobe                           9.573909e-04\n",
       "Piped-gas                          8.528033e-04\n",
       "Natural Light                      7.662139e-04\n",
       "Visitor Parking                    7.617736e-04\n",
       "stove                              7.296369e-04\n",
       "furnished                          5.716896e-04\n",
       "num_bedrooms                       4.109034e-04\n",
       "water                              3.648049e-04\n",
       "Spacious Interiors                 2.600706e-04\n",
       "exhaust                            2.551721e-04\n",
       "Airy Rooms                         2.495476e-04\n",
       "Fitness Centre / GYM               2.321318e-04\n",
       "Club house / Community Center      1.594303e-04\n",
       "pooja_room                         1.385907e-04\n",
       "Centrally Air Conditioned          1.317598e-04\n",
       "Lift(s)                            1.308814e-04\n",
       "Bank Attached Property             1.052642e-04\n",
       "other_additional_room              8.660526e-05\n",
       "fridge                             7.439766e-05\n",
       "Recently Renovated                 6.241196e-05\n",
       "dining                             5.676536e-05\n",
       "tv                                 5.295512e-05\n",
       "Feng Shui / Vaastu Compliant       3.446285e-05\n",
       "Waste Disposal                     1.562641e-05\n",
       "chimney                            1.551801e-05\n",
       "Power Back-up                      1.345324e-05\n",
       "Security / Fire Alarm              9.266268e-06\n",
       "modular                            8.267781e-06\n",
       "Private Garden / Terrace           2.992680e-06\n",
       "sofa                               4.521769e-07\n",
       "Water Storage                      0.000000e+00\n",
       "Water purifier                     0.000000e+00\n",
       "Water softening plant              0.000000e+00\n",
       "store_room                         0.000000e+00\n",
       "Internet/wi-fi connectivity        0.000000e+00\n",
       "Shopping Centre                    0.000000e+00\n",
       "Separate entry for servant room    0.000000e+00\n",
       "Rain Water Harvesting              0.000000e+00\n",
       "Park                               0.000000e+00\n",
       "No open drainage around            0.000000e+00\n",
       "False Ceiling Lighting             0.000000e+00\n",
       "Low Density Society                0.000000e+00\n",
       "High Ceiling Height                0.000000e+00\n",
       "Name: gb_importance, dtype: float64"
      ]
     },
     "execution_count": 49,
     "metadata": {},
     "output_type": "execute_result"
    }
   ],
   "source": [
    "gradient_boosting_data"
   ]
  },
  {
   "cell_type": "markdown",
   "id": "ad33ec0f",
   "metadata": {},
   "source": [
    "# Permutation Importance"
   ]
  },
  {
   "cell_type": "code",
   "execution_count": 50,
   "id": "452eb012",
   "metadata": {},
   "outputs": [],
   "source": [
    "from sklearn.inspection import permutation_importance\n",
    "from sklearn.model_selection import train_test_split\n",
    "X_train_label, X_test_label, y_train_label, y_test_label = train_test_split(X, y, test_size=0.2, random_state=42)\n",
    "\n",
    "# Train a Random Forest regressor on label encoded data\n",
    "rf_label = RandomForestRegressor(n_estimators=100, random_state=42)\n",
    "rf_label.fit(X_train_label, y_train_label)\n",
    "\n",
    "# Calculate Permutation Importance\n",
    "perm_importance = permutation_importance(rf_label, X_test_label, y_test_label, n_repeats=30, random_state=42)\n",
    "\n",
    "# Organize results into a DataFrame\n",
    "perm_feature_importance = pd.DataFrame({\n",
    "    'feature': X.columns,\n",
    "    'permutation_importance': perm_importance.importances_mean\n",
    "}).sort_values(by='permutation_importance', ascending=False)"
   ]
  },
  {
   "cell_type": "code",
   "execution_count": 51,
   "id": "9ed6b774",
   "metadata": {},
   "outputs": [],
   "source": [
    "permutation_importance_data = perm_feature_importance.set_index('feature').squeeze()"
   ]
  },
  {
   "cell_type": "code",
   "execution_count": 52,
   "id": "5c6919c2",
   "metadata": {},
   "outputs": [
    {
     "data": {
      "text/plain": [
       "feature\n",
       "super_built_up_area                5.742969e-01\n",
       "sector                             2.415663e-01\n",
       "built_up_area                      8.784460e-02\n",
       "floor_number                       8.362565e-03\n",
       "geyser                             8.345002e-03\n",
       "ac                                 5.977265e-03\n",
       "carpet_area                        5.911079e-03\n",
       "num_bedrooms                       4.062523e-03\n",
       "servant_room                       3.952022e-03\n",
       "total_num_rooms                    3.888417e-03\n",
       "num_bathrooms                      2.952153e-03\n",
       "age_group                          2.667789e-03\n",
       "Security / Fire Alarm              2.199109e-03\n",
       "Park                               1.373401e-03\n",
       "Maintenance Staff                  1.307322e-03\n",
       "num_balconies                      1.275222e-03\n",
       "light                              1.230594e-03\n",
       "Intercom Facility                  1.208284e-03\n",
       "microwave                          1.201756e-03\n",
       "water                              9.834874e-04\n",
       "Visitor Parking                    9.780320e-04\n",
       "study_room                         9.720682e-04\n",
       "Security Personnel                 8.459156e-04\n",
       "Water Storage                      7.063448e-04\n",
       "Natural Light                      4.321019e-04\n",
       "Centrally Air Conditioned          4.166051e-04\n",
       "Feng Shui / Vaastu Compliant       4.118573e-04\n",
       "Piped-gas                          3.417527e-04\n",
       "store_room                         3.141479e-04\n",
       "exhaust                            2.992135e-04\n",
       "Low Density Society                2.975554e-04\n",
       "No open drainage around            2.203119e-04\n",
       "curtains                           2.172284e-04\n",
       "Power Back-up                      1.975508e-04\n",
       "chimney                            1.836942e-04\n",
       "fridge                             1.761851e-04\n",
       "pooja_room                         1.622725e-04\n",
       "fan                                1.155287e-04\n",
       "Recently Renovated                 1.109062e-04\n",
       "dining                             8.151680e-05\n",
       "Water purifier                     7.470082e-05\n",
       "Airy Rooms                         5.825647e-05\n",
       "bed                                1.120474e-07\n",
       "tv                                -2.769099e-05\n",
       "High Ceiling Height               -3.784626e-05\n",
       "Club house / Community Center     -6.186315e-05\n",
       "Shopping Centre                   -6.864962e-05\n",
       "Private Garden / Terrace          -1.218567e-04\n",
       "stove                             -1.339308e-04\n",
       "Bank Attached Property            -1.599298e-04\n",
       "False Ceiling Lighting            -1.988585e-04\n",
       "other_additional_room             -2.492897e-04\n",
       "Spacious Interiors                -2.703153e-04\n",
       "washing                           -2.790430e-04\n",
       "furnished                         -3.471075e-04\n",
       "sofa                              -5.209748e-04\n",
       "Rain Water Harvesting             -6.168973e-04\n",
       "Lift(s)                           -6.609847e-04\n",
       "Waste Disposal                    -9.530771e-04\n",
       "Swimming Pool                     -9.810588e-04\n",
       "Fitness Centre / GYM              -1.047517e-03\n",
       "Internet/wi-fi connectivity       -1.151956e-03\n",
       "modular                           -1.194733e-03\n",
       "Water softening plant             -1.337721e-03\n",
       "Separate entry for servant room   -1.451261e-03\n",
       "wardrobe                          -1.965527e-03\n",
       "floor_category                    -3.290621e-03\n",
       "Name: permutation_importance, dtype: float64"
      ]
     },
     "execution_count": 52,
     "metadata": {},
     "output_type": "execute_result"
    }
   ],
   "source": [
    "permutation_importance_data"
   ]
  },
  {
   "cell_type": "markdown",
   "id": "d18c2bc0",
   "metadata": {},
   "source": [
    "# Recursive Feature Elimination"
   ]
  },
  {
   "cell_type": "code",
   "execution_count": 53,
   "id": "c3cd58bb",
   "metadata": {},
   "outputs": [],
   "source": [
    "from sklearn.feature_selection import RFE\n",
    "\n",
    "# Initialize the base estimator\n",
    "estimator = RandomForestRegressor()\n",
    "\n",
    "# Apply RFE on the label-encoded and standardized training data\n",
    "selector_label = RFE(estimator, n_features_to_select=X.shape[1], step=1)\n",
    "selector_label = selector_label.fit(X, y)\n",
    "\n",
    "# Get the selected features based on RFE\n",
    "selected_features = X.columns[selector_label.support_]\n",
    "\n",
    "# Extract the coefficients for the selected features from the underlying linear regression model\n",
    "selected_coefficients = selector_label.estimator_.feature_importances_\n",
    "\n",
    "# Organize the results into a DataFrame\n",
    "rfe = pd.DataFrame({\n",
    "    'feature': selected_features,\n",
    "    'rfe_score': selected_coefficients\n",
    "}).sort_values(by='rfe_score', ascending=False)"
   ]
  },
  {
   "cell_type": "code",
   "execution_count": 54,
   "id": "7f5852b9",
   "metadata": {},
   "outputs": [],
   "source": [
    "recursive_feature_elimination_data = rfe.set_index('feature').squeeze()"
   ]
  },
  {
   "cell_type": "code",
   "execution_count": 55,
   "id": "b68ecf67",
   "metadata": {},
   "outputs": [
    {
     "data": {
      "text/plain": [
       "feature\n",
       "super_built_up_area                0.465505\n",
       "built_up_area                      0.206609\n",
       "sector                             0.143201\n",
       "floor_number                       0.023433\n",
       "geyser                             0.020219\n",
       "carpet_area                        0.017020\n",
       "total_num_rooms                    0.010856\n",
       "num_bathrooms                      0.008746\n",
       "age_group                          0.008399\n",
       "light                              0.006863\n",
       "ac                                 0.006402\n",
       "num_balconies                      0.006141\n",
       "wardrobe                           0.005691\n",
       "num_bedrooms                       0.005423\n",
       "fan                                0.005046\n",
       "servant_room                       0.004813\n",
       "microwave                          0.003721\n",
       "study_room                         0.002680\n",
       "floor_category                     0.002663\n",
       "curtains                           0.002556\n",
       "stove                              0.002001\n",
       "Lift(s)                            0.001954\n",
       "Security / Fire Alarm              0.001781\n",
       "Intercom Facility                  0.001711\n",
       "Park                               0.001555\n",
       "Feng Shui / Vaastu Compliant       0.001478\n",
       "Security Personnel                 0.001471\n",
       "Natural Light                      0.001396\n",
       "Visitor Parking                    0.001378\n",
       "Maintenance Staff                  0.001316\n",
       "Swimming Pool                      0.001292\n",
       "other_additional_room              0.001275\n",
       "washing                            0.001184\n",
       "water                              0.001151\n",
       "High Ceiling Height                0.001111\n",
       "Water Storage                      0.001087\n",
       "chimney                            0.001010\n",
       "Piped-gas                          0.000983\n",
       "False Ceiling Lighting             0.000977\n",
       "Club house / Community Center      0.000945\n",
       "Internet/wi-fi connectivity        0.000921\n",
       "fridge                             0.000915\n",
       "modular                            0.000891\n",
       "Water softening plant              0.000872\n",
       "Power Back-up                      0.000840\n",
       "Fitness Centre / GYM               0.000787\n",
       "Separate entry for servant room    0.000773\n",
       "exhaust                            0.000749\n",
       "Rain Water Harvesting              0.000731\n",
       "pooja_room                         0.000721\n",
       "Spacious Interiors                 0.000696\n",
       "dining                             0.000692\n",
       "Waste Disposal                     0.000670\n",
       "Shopping Centre                    0.000640\n",
       "store_room                         0.000616\n",
       "Centrally Air Conditioned          0.000600\n",
       "Airy Rooms                         0.000589\n",
       "No open drainage around            0.000505\n",
       "Low Density Society                0.000504\n",
       "sofa                               0.000468\n",
       "Bank Attached Property             0.000455\n",
       "bed                                0.000438\n",
       "Recently Renovated                 0.000418\n",
       "tv                                 0.000384\n",
       "furnished                          0.000381\n",
       "Private Garden / Terrace           0.000356\n",
       "Water purifier                     0.000344\n",
       "Name: rfe_score, dtype: float64"
      ]
     },
     "execution_count": 55,
     "metadata": {},
     "output_type": "execute_result"
    }
   ],
   "source": [
    "recursive_feature_elimination_data"
   ]
  },
  {
   "cell_type": "markdown",
   "id": "d6fdf31b",
   "metadata": {},
   "source": [
    "# SHAP"
   ]
  },
  {
   "cell_type": "code",
   "execution_count": 56,
   "id": "38abbeb6",
   "metadata": {},
   "outputs": [],
   "source": [
    "# import shap\n",
    "\n",
    "# # Compute SHAP values using the trained Random Forest model\n",
    "# rf = RandomForestRegressor(n_estimators=100, random_state=42)\n",
    "# rf.fit(X, y)\n",
    "\n",
    "# explainer = shap.TreeExplainer(rf)\n",
    "# shap_values = explainer.shap_values(X)\n",
    "\n",
    "# # Summing the absolute SHAP values across all samples to get an overall measure of feature importance\n",
    "# shap_sum = np.abs(shap_values).mean(axis=0)\n",
    "# shap_score = pd.DataFrame({\n",
    "#     'feature': X.columns,\n",
    "#     'SHAP_score': np.abs(shap_values).mean(axis=0)\n",
    "# }).sort_values(by='SHAP_score', ascending=False)"
   ]
  },
  {
   "cell_type": "code",
   "execution_count": 57,
   "id": "7dbddaa7",
   "metadata": {},
   "outputs": [],
   "source": [
    "# shap_data = shap_score.set_index('feature').squeeze()"
   ]
  },
  {
   "cell_type": "code",
   "execution_count": 58,
   "id": "88ab09f3",
   "metadata": {},
   "outputs": [],
   "source": [
    "overall_ordinal_encoding_importance = correlation_data.apply(abs) + mutual_info_data.apply(abs) + random_forest_data.apply(abs) + gradient_boosting_data.apply(abs) + permutation_importance_data.apply(abs) + recursive_feature_elimination_data.apply(abs)"
   ]
  },
  {
   "cell_type": "code",
   "execution_count": 59,
   "id": "9885ee28",
   "metadata": {},
   "outputs": [
    {
     "data": {
      "text/plain": [
       "super_built_up_area                3.576439\n",
       "built_up_area                      2.298011\n",
       "carpet_area                        1.535009\n",
       "sector                             1.489728\n",
       "num_bathrooms                      1.045020\n",
       "total_num_rooms                    1.037874\n",
       "num_bedrooms                       0.901487\n",
       "servant_room                       0.630257\n",
       "ac                                 0.613520\n",
       "num_balconies                      0.599914\n",
       "geyser                             0.536580\n",
       "wardrobe                           0.397841\n",
       "fan                                0.361190\n",
       "floor_number                       0.346797\n",
       "light                              0.323308\n",
       "Separate entry for servant room    0.313597\n",
       "chimney                            0.306172\n",
       "stove                              0.303705\n",
       "furnished                          0.262606\n",
       "Intercom Facility                  0.259425\n",
       "microwave                          0.252023\n",
       "Swimming Pool                      0.234606\n",
       "modular                            0.229852\n",
       "False Ceiling Lighting             0.227239\n",
       "Water softening plant              0.220312\n",
       "Piped-gas                          0.219652\n",
       "Centrally Air Conditioned          0.215305\n",
       "Internet/wi-fi connectivity        0.201906\n",
       "No open drainage around            0.200441\n",
       "Club house / Community Center      0.199335\n",
       "High Ceiling Height                0.196157\n",
       "Spacious Interiors                 0.195964\n",
       "Low Density Society                0.194257\n",
       "Feng Shui / Vaastu Compliant       0.186370\n",
       "Water purifier                     0.185096\n",
       "Fitness Centre / GYM               0.175588\n",
       "washing                            0.174239\n",
       "Waste Disposal                     0.170081\n",
       "exhaust                            0.160170\n",
       "Private Garden / Terrace           0.159568\n",
       "Recently Renovated                 0.152578\n",
       "water                              0.151915\n",
       "floor_category                     0.151182\n",
       "fridge                             0.148283\n",
       "Visitor Parking                    0.146378\n",
       "Park                               0.143855\n",
       "Airy Rooms                         0.139742\n",
       "Natural Light                      0.139282\n",
       "Water Storage                      0.134521\n",
       "Bank Attached Property             0.132812\n",
       "Lift(s)                            0.131803\n",
       "Security / Fire Alarm              0.131259\n",
       "Maintenance Staff                  0.117626\n",
       "pooja_room                         0.114785\n",
       "age_group                          0.112695\n",
       "Rain Water Harvesting              0.105600\n",
       "Power Back-up                      0.100852\n",
       "study_room                         0.100103\n",
       "curtains                           0.089673\n",
       "Shopping Centre                    0.081248\n",
       "Security Personnel                 0.078087\n",
       "tv                                 0.070902\n",
       "store_room                         0.063765\n",
       "dining                             0.043133\n",
       "other_additional_room              0.021861\n",
       "bed                                0.014079\n",
       "sofa                               0.010827\n",
       "dtype: float64"
      ]
     },
     "execution_count": 59,
     "metadata": {},
     "output_type": "execute_result"
    }
   ],
   "source": [
    "overall_ordinal_encoding_importance.sort_values(ascending=False)"
   ]
  },
  {
   "cell_type": "markdown",
   "id": "676a9b96",
   "metadata": {},
   "source": [
    "# Encoding wrt Linear Models(One Hot Encoding)"
   ]
  },
  {
   "cell_type": "code",
   "execution_count": 60,
   "id": "c45b5c24",
   "metadata": {},
   "outputs": [],
   "source": [
    "data = copy.deepcopy(original_data)"
   ]
  },
  {
   "cell_type": "code",
   "execution_count": 61,
   "id": "3e0e553b",
   "metadata": {},
   "outputs": [
    {
     "name": "stdout",
     "output_type": "stream",
     "text": [
      "Index(['sector', 'age_group', 'floor_category'], dtype='object')\n"
     ]
    }
   ],
   "source": [
    "from sklearn.preprocessing import OneHotEncoder\n",
    "\n",
    "categorical_columns = data.select_dtypes(include=['object']).columns\n",
    "print(categorical_columns)"
   ]
  },
  {
   "cell_type": "markdown",
   "id": "c37a456f",
   "metadata": {},
   "source": [
    "So, all of them can be one hot encoded, as all are nominal features"
   ]
  },
  {
   "cell_type": "code",
   "execution_count": 62,
   "id": "203092a2",
   "metadata": {},
   "outputs": [],
   "source": [
    "for column_name in categorical_columns:\n",
    "    one_hot_encoded = pd.get_dummies(data[column_name], prefix=column_name, drop_first=True)\n",
    "    \n",
    "    data = data.drop(column_name, axis=1)\n",
    "\n",
    "    data = pd.concat([data, one_hot_encoded], axis=1)"
   ]
  },
  {
   "cell_type": "code",
   "execution_count": 63,
   "id": "b6c82267",
   "metadata": {},
   "outputs": [],
   "source": [
    "X = data.drop('price', axis=1)\n",
    "y = data['price']"
   ]
  },
  {
   "cell_type": "code",
   "execution_count": 64,
   "id": "01c9503e",
   "metadata": {},
   "outputs": [
    {
     "data": {
      "text/plain": [
       "Index(['price', 'num_bedrooms', 'num_bathrooms', 'num_balconies',\n",
       "       'super_built_up_area', 'built_up_area', 'carpet_area', 'floor_number',\n",
       "       'servant_room', 'study_room',\n",
       "       ...\n",
       "       'sector_sector 95', 'sector_sector 99', 'sector_shanti nagar',\n",
       "       'sector_sohna road', 'age_group_Moderately Old Flat',\n",
       "       'age_group_New Flat', 'age_group_Old Flat',\n",
       "       'age_group_Under Construction', 'floor_category_Low rise',\n",
       "       'floor_category_Mid rise'],\n",
       "      dtype='object', length=175)"
      ]
     },
     "execution_count": 64,
     "metadata": {},
     "output_type": "execute_result"
    }
   ],
   "source": [
    "data.columns"
   ]
  },
  {
   "cell_type": "code",
   "execution_count": 65,
   "id": "246bba73",
   "metadata": {},
   "outputs": [],
   "source": [
    "# dropping too high correlated input columns(since, inference would not be good due to multicollinearity)\n",
    "def get_highly_correlated_columns(X, correlation_threshold=0.9):\n",
    "    correlation_pairs = []\n",
    "\n",
    "    for i in range(len(X.columns)):\n",
    "        for j in range(i + 1, len(X.columns)):\n",
    "            col1 = X.columns[i]\n",
    "            col2 = X.columns[j]\n",
    "\n",
    "            # Calculate the correlation between the two columns\n",
    "            correlation = X[col1].corr(X[col2])\n",
    "\n",
    "            # Check if the correlation is greater than the threshold\n",
    "            if abs(correlation) > correlation_threshold:\n",
    "                correlation_pairs.append((col1, col2, correlation))\n",
    "    return correlation_pairs"
   ]
  },
  {
   "cell_type": "code",
   "execution_count": 66,
   "id": "b25c227e",
   "metadata": {},
   "outputs": [],
   "source": [
    "correlation_pairs = get_highly_correlated_columns(X)"
   ]
  },
  {
   "cell_type": "code",
   "execution_count": 67,
   "id": "d993aac7",
   "metadata": {},
   "outputs": [
    {
     "data": {
      "text/plain": [
       "[('super_built_up_area', 'built_up_area', 0.9895821928017687),\n",
       " ('super_built_up_area', 'carpet_area', 0.9773784926890435),\n",
       " ('built_up_area', 'carpet_area', 0.9891446716486114),\n",
       " ('Airy Rooms', 'Natural Light', 0.9073024492143167),\n",
       " ('Fitness Centre / GYM', 'Swimming Pool', 0.9041177713925223)]"
      ]
     },
     "execution_count": 67,
     "metadata": {},
     "output_type": "execute_result"
    }
   ],
   "source": [
    "correlation_pairs"
   ]
  },
  {
   "cell_type": "code",
   "execution_count": 68,
   "id": "c57bca13",
   "metadata": {},
   "outputs": [],
   "source": [
    " # dropping the columns from the pairs which had lower scores in tree based Feature selection\n",
    "X.drop(columns=['built_up_area', 'carpet_area', 'Natural Light', 'Fitness Centre / GYM'], inplace=True)"
   ]
  },
  {
   "cell_type": "markdown",
   "id": "ffa302eb",
   "metadata": {},
   "source": [
    "# Lasso\n",
    "\n",
    "- Whether your house is in the costly sectors/not varies price a lot.\n",
    "- Hence linear model suggests super_built_up_area, sector, ac, num_bathrooms, floor_number."
   ]
  },
  {
   "cell_type": "code",
   "execution_count": 69,
   "id": "c77ec753",
   "metadata": {},
   "outputs": [],
   "source": [
    "from sklearn.linear_model import Lasso\n",
    "from sklearn.preprocessing import StandardScaler\n",
    "\n",
    "scaler = StandardScaler()\n",
    "X_scaled = scaler.fit_transform(X)\n",
    "\n",
    "# Train a LASSO regression model\n",
    "# We'll use a relatively small value for alpha (the regularization strength) for demonstration purposes\n",
    "lasso = Lasso(alpha=0.01, random_state=42)\n",
    "lasso.fit(X_scaled, y)\n",
    "\n",
    "# Extract coefficients\n",
    "lasso = pd.DataFrame({\n",
    "    'feature': X.columns,\n",
    "    'lasso_coeff': lasso.coef_\n",
    "}).sort_values(by='lasso_coeff', ascending=False)"
   ]
  },
  {
   "cell_type": "code",
   "execution_count": 70,
   "id": "cf1b2571",
   "metadata": {
    "scrolled": false
   },
   "outputs": [],
   "source": [
    "lasso_scores = lasso.set_index('feature').squeeze().sort_values(ascending=False)"
   ]
  },
  {
   "cell_type": "code",
   "execution_count": 71,
   "id": "7371856d",
   "metadata": {
    "scrolled": false
   },
   "outputs": [
    {
     "data": {
      "text/plain": [
       "feature\n",
       "super_built_up_area                0.719897\n",
       "sector_sector 53                   0.202470\n",
       "sector_sector 65                   0.197708\n",
       "sector_sector 43                   0.139352\n",
       "sector_sector 63                   0.113606\n",
       "sector_sector 54                   0.111570\n",
       "sector_sector 62                   0.104673\n",
       "sector_sector 66                   0.096273\n",
       "sector_sector 59                   0.096124\n",
       "sector_sector 72                   0.093324\n",
       "sector_sector 28                   0.089095\n",
       "floor_number                       0.087148\n",
       "sector_sector 67                   0.079207\n",
       "sector_sector 22                   0.076050\n",
       "sector_sector 61                   0.072660\n",
       "sector_sector 112                  0.066566\n",
       "num_bathrooms                      0.062479\n",
       "ac                                 0.059277\n",
       "sector_sector 58                   0.059126\n",
       "sector_sector 24                   0.058874\n",
       "sector_sector 60                   0.058749\n",
       "sector_sector 113                  0.057218\n",
       "sector_sector 50                   0.051964\n",
       "sector_sector 49                   0.050115\n",
       "sector_sector 111                  0.044122\n",
       "sector_sector 48                   0.044085\n",
       "sector_sector 25                   0.037302\n",
       "fridge                             0.034671\n",
       "sector_sector 102                  0.031047\n",
       "geyser                             0.030496\n",
       "stove                              0.029008\n",
       "sector_gwal pahari                 0.028293\n",
       "sector_sector 31                   0.027247\n",
       "age_group_Under Construction       0.026729\n",
       "sector_sector 128                  0.024999\n",
       "microwave                          0.024541\n",
       "sector_sector 29                   0.024324\n",
       "sector_sector 69                   0.023651\n",
       "sector_sector 110                  0.022847\n",
       "sector_sector 74                   0.021249\n",
       "sector_sector 108                  0.020056\n",
       "sector_sector 41                   0.019952\n",
       "sector_sector 57                   0.019781\n",
       "sector_sector 30                   0.017406\n",
       "Centrally Air Conditioned          0.016040\n",
       "sector_sector 36                   0.014865\n",
       "sector_sector 33                   0.013290\n",
       "Park                               0.010793\n",
       "sector_sector 32                   0.010109\n",
       "age_group_New Flat                 0.009397\n",
       "Club house / Community Center      0.004202\n",
       "Power Back-up                      0.003358\n",
       "Swimming Pool                      0.003089\n",
       "washing                            0.002782\n",
       "Intercom Facility                  0.002335\n",
       "Shopping Centre                    0.001747\n",
       "sector_sector 56                   0.001514\n",
       "False Ceiling Lighting             0.001022\n",
       "sector_sector 47                   0.000275\n",
       "sector_golf course road            0.000003\n",
       "Rain Water Harvesting             -0.000000\n",
       "Security / Fire Alarm             -0.000000\n",
       "num_balconies                     -0.000000\n",
       "tv                                -0.000000\n",
       "servant_room                       0.000000\n",
       "floor_category_Low rise           -0.000000\n",
       "store_room                        -0.000000\n",
       "light                             -0.000000\n",
       "chimney                           -0.000000\n",
       "curtains                          -0.000000\n",
       "age_group_Moderately Old Flat     -0.000000\n",
       "fan                               -0.000000\n",
       "furnished                         -0.000000\n",
       "modular                            0.000000\n",
       "sofa                              -0.000000\n",
       "Separate entry for servant room    0.000000\n",
       "sector_golf course ext road       -0.000000\n",
       "sector_sector 105                 -0.000000\n",
       "sector_dwarka expressway          -0.000000\n",
       "Water softening plant              0.000000\n",
       "Waste Disposal                    -0.000000\n",
       "Water Storage                     -0.000000\n",
       "Water purifier                    -0.000000\n",
       "Visitor Parking                   -0.000000\n",
       "total_num_rooms                   -0.000000\n",
       "sector_ats marigold                0.000000\n",
       "sector_sector 80                  -0.000000\n",
       "sector_bptp                        0.000000\n",
       "Spacious Interiors                -0.000000\n",
       "sector_faridabad road             -0.000000\n",
       "sector_sector 88                   0.000000\n",
       "sector_new gurgaon                -0.000000\n",
       "sector_samaspur                   -0.000000\n",
       "sector_sector 89                  -0.000000\n",
       "Piped-gas                         -0.000000\n",
       "Airy Rooms                        -0.000000\n",
       "sector_sector 5                    0.000000\n",
       "sector_sector 38                   0.000000\n",
       "sector_sector 35                  -0.000000\n",
       "sector_sector 55                  -0.000000\n",
       "sector_sector 11                  -0.000000\n",
       "sector_sector 3                    0.000000\n",
       "sector_sector 23                  -0.000000\n",
       "sector_sector 6                   -0.000000\n",
       "sector_sector 4                   -0.000000\n",
       "sector_sector 70                   0.000000\n",
       "sector_sector 7                   -0.000000\n",
       "sector_sector 68                   0.000000\n",
       "sector_sector 71                  -0.000000\n",
       "sector_sector 2                   -0.000000\n",
       "sector_sector 15                   0.000000\n",
       "Bank Attached Property             0.000000\n",
       "sector_sector 76                   0.000000\n",
       "sector_sector 44                  -0.000000\n",
       "sector_sector 93                  -0.000000\n",
       "Feng Shui / Vaastu Compliant       0.000000\n",
       "High Ceiling Height                0.000000\n",
       "Internet/wi-fi connectivity        0.000000\n",
       "Lift(s)                            0.000000\n",
       "Low Density Society               -0.000000\n",
       "sector_sector 45                   0.000000\n",
       "No open drainage around           -0.000000\n",
       "Recently Renovated                 0.000000\n",
       "wardrobe                           0.000000\n",
       "sector_sector 109                 -0.000000\n",
       "sector_sector 81                   0.000000\n",
       "num_bedrooms                       0.000000\n",
       "sector_sector 52                  -0.000000\n",
       "water                             -0.000410\n",
       "sector_sector 10                  -0.000698\n",
       "sector_shanti nagar               -0.001146\n",
       "sector_sector 79                  -0.001693\n",
       "sector_sector 14                  -0.001833\n",
       "sector_sector 21                  -0.001864\n",
       "sector_sector 73                  -0.002845\n",
       "other_additional_room             -0.002970\n",
       "sector_sector 51                  -0.003110\n",
       "sector_sector 106                 -0.003338\n",
       "sector_sector 77                  -0.004752\n",
       "study_room                        -0.004766\n",
       "sector_sector 104                 -0.005916\n",
       "sector_sector 12                  -0.007085\n",
       "sector_sector 83                  -0.007585\n",
       "Private Garden / Terrace          -0.007761\n",
       "sector_sohna road                 -0.010913\n",
       "sector_sector 91                  -0.011108\n",
       "sector_sector 86                  -0.011241\n",
       "sector_sector 107                 -0.011246\n",
       "pooja_room                        -0.011374\n",
       "sector_sector 103                 -0.011919\n",
       "sector_sector 99                  -0.012492\n",
       "dining                            -0.014030\n",
       "Maintenance Staff                 -0.014307\n",
       "floor_category_Mid rise           -0.015085\n",
       "sector_sector 78                  -0.015137\n",
       "Security Personnel                -0.017871\n",
       "exhaust                           -0.019127\n",
       "sector_sector 9                   -0.020825\n",
       "sector_sector 82                  -0.021445\n",
       "sector_sector 95                  -0.021991\n",
       "sector_sector 84                  -0.022066\n",
       "age_group_Old Flat                -0.024993\n",
       "sector_sector 39                  -0.025067\n",
       "sector_sector 1                   -0.026902\n",
       "bed                               -0.028345\n",
       "sector_sector 37                  -0.036801\n",
       "sector_sector 85                  -0.043171\n",
       "sector_sector 90                  -0.053135\n",
       "sector_sector 92                  -0.077769\n",
       "sector_manesar                    -0.091125\n",
       "Name: lasso_coeff, dtype: float64"
      ]
     },
     "execution_count": 71,
     "metadata": {},
     "output_type": "execute_result"
    }
   ],
   "source": [
    "lasso_scores"
   ]
  },
  {
   "cell_type": "markdown",
   "id": "c95c8008",
   "metadata": {},
   "source": [
    "# Linear Regression Weights"
   ]
  },
  {
   "cell_type": "code",
   "execution_count": 72,
   "id": "c7f3c424",
   "metadata": {},
   "outputs": [],
   "source": [
    "from sklearn.linear_model import LinearRegression\n",
    "lin_reg = LinearRegression()\n",
    "lin_reg.fit(X_scaled, y)\n",
    "\n",
    "# Extract coefficients\n",
    "linear_regression_scores = pd.DataFrame({\n",
    "    'feature': X.columns,\n",
    "    'reg_coeffs': lin_reg.coef_\n",
    "}).sort_values(by='reg_coeffs', ascending=False)"
   ]
  },
  {
   "cell_type": "code",
   "execution_count": 73,
   "id": "51127715",
   "metadata": {},
   "outputs": [],
   "source": [
    "linear_regression_scores = linear_regression_scores.set_index('feature').squeeze().sort_values(ascending=False)"
   ]
  },
  {
   "cell_type": "code",
   "execution_count": 74,
   "id": "e671cbae",
   "metadata": {
    "scrolled": false
   },
   "outputs": [
    {
     "data": {
      "text/plain": [
       "feature\n",
       "num_balconies                      1.071652e+11\n",
       "num_bathrooms                      1.010379e+11\n",
       "num_bedrooms                       7.669292e+10\n",
       "servant_room                       4.692699e+10\n",
       "study_room                         3.659997e+10\n",
       "pooja_room                         3.257506e+10\n",
       "other_additional_room              3.040020e+10\n",
       "store_room                         2.229042e+10\n",
       "super_built_up_area                7.016220e-01\n",
       "sector_sector 53                   1.685257e-01\n",
       "sector_sector 43                   9.713554e-02\n",
       "sector_sector 65                   8.172035e-02\n",
       "sector_sector 54                   7.357836e-02\n",
       "sector_sector 62                   6.877804e-02\n",
       "sector_sector 59                   6.501055e-02\n",
       "fridge                             5.709839e-02\n",
       "ac                                 5.592728e-02\n",
       "sector_sector 63                   5.543518e-02\n",
       "floor_number                       5.343628e-02\n",
       "sector_sector 24                   4.912567e-02\n",
       "Centrally Air Conditioned          4.327202e-02\n",
       "sector_sector 28                   4.230511e-02\n",
       "geyser                             3.910255e-02\n",
       "stove                              3.793335e-02\n",
       "sector_sector 72                   3.501320e-02\n",
       "sector_sector 58                   3.488159e-02\n",
       "Park                               3.181839e-02\n",
       "sector_sector 66                   3.169394e-02\n",
       "Shopping Centre                    3.045273e-02\n",
       "microwave                          2.968597e-02\n",
       "sector_sector 25                   2.960968e-02\n",
       "wardrobe                           2.716255e-02\n",
       "age_group_New Flat                 2.343178e-02\n",
       "sector_sector 128                  2.326214e-02\n",
       "age_group_Under Construction       2.117157e-02\n",
       "Airy Rooms                         2.071095e-02\n",
       "sector_sector 112                  2.023315e-02\n",
       "sector_sector 60                   1.961994e-02\n",
       "sector_sector 22                   1.862717e-02\n",
       "False Ceiling Lighting             1.860666e-02\n",
       "modular                            1.832628e-02\n",
       "sector_sector 41                   1.536775e-02\n",
       "sector_sector 31                   1.405406e-02\n",
       "Recently Renovated                 1.378179e-02\n",
       "Swimming Pool                      1.321602e-02\n",
       "washing                            1.228523e-02\n",
       "Internet/wi-fi connectivity        1.070309e-02\n",
       "Intercom Facility                  1.039505e-02\n",
       "Bank Attached Property             9.625435e-03\n",
       "sector_sector 30                   9.081841e-03\n",
       "Power Back-up                      7.825851e-03\n",
       "Security / Fire Alarm              7.392883e-03\n",
       "Lift(s)                            7.251740e-03\n",
       "High Ceiling Height                6.971359e-03\n",
       "sector_sector 29                   6.576419e-03\n",
       "Club house / Community Center      6.437302e-03\n",
       "Water Storage                      6.128311e-03\n",
       "sector_sector 50                   1.917362e-03\n",
       "sector_sector 57                   1.002908e-03\n",
       "sector_sector 32                   7.629395e-06\n",
       "Water purifier                    -1.672745e-03\n",
       "fan                               -1.981735e-03\n",
       "No open drainage around           -3.362656e-03\n",
       "curtains                          -3.528595e-03\n",
       "sector_golf course road           -4.167557e-03\n",
       "sector_sector 48                  -4.824400e-03\n",
       "Separate entry for servant room   -5.014420e-03\n",
       "Water softening plant             -5.136490e-03\n",
       "sector_sector 61                  -5.266190e-03\n",
       "light                             -7.242203e-03\n",
       "Feng Shui / Vaastu Compliant      -7.457256e-03\n",
       "sofa                              -7.519960e-03\n",
       "sector_sector 38                  -8.381844e-03\n",
       "Visitor Parking                   -8.491516e-03\n",
       "sector_sector 49                  -8.905411e-03\n",
       "sector_bptp                       -8.915901e-03\n",
       "sector_ats marigold               -1.032972e-02\n",
       "sector_sector 111                 -1.077652e-02\n",
       "Low Density Society               -1.094341e-02\n",
       "tv                                -1.238346e-02\n",
       "sector_gwal pahari                -1.328373e-02\n",
       "Waste Disposal                    -1.332283e-02\n",
       "sector_sector 44                  -1.555538e-02\n",
       "sector_sector 45                  -1.572037e-02\n",
       "sector_faridabad road             -1.604915e-02\n",
       "dining                            -1.708221e-02\n",
       "chimney                           -1.721573e-02\n",
       "water                             -1.725769e-02\n",
       "age_group_Moderately Old Flat     -1.769257e-02\n",
       "sector_sector 55                  -1.790440e-02\n",
       "sector_sector 35                  -1.841307e-02\n",
       "Rain Water Harvesting             -1.921844e-02\n",
       "sector_samaspur                   -1.933718e-02\n",
       "sector_sector 67                  -2.016282e-02\n",
       "sector_sector 5                   -2.047396e-02\n",
       "sector_golf course ext road       -2.151489e-02\n",
       "sector_sector 14                  -2.152252e-02\n",
       "sector_sector 15                  -2.239752e-02\n",
       "sector_sector 113                 -2.298260e-02\n",
       "sector_sector 47                  -2.409649e-02\n",
       "sector_sector 110                 -2.466011e-02\n",
       "Piped-gas                         -2.472687e-02\n",
       "exhaust                           -2.479553e-02\n",
       "sector_sector 23                  -2.504897e-02\n",
       "Security Personnel                -2.515030e-02\n",
       "sector_sector 6                   -2.744973e-02\n",
       "sector_sector 74                  -2.823353e-02\n",
       "sector_shanti nagar               -2.909565e-02\n",
       "sector_sector 105                 -3.101158e-02\n",
       "furnished                         -3.175735e-02\n",
       "Private Garden / Terrace          -3.479147e-02\n",
       "sector_sector 73                  -3.532887e-02\n",
       "bed                               -3.635693e-02\n",
       "sector_sector 21                  -3.785169e-02\n",
       "sector_new gurgaon                -3.860235e-02\n",
       "sector_sector 76                  -3.905201e-02\n",
       "sector_sector 10                  -3.948593e-02\n",
       "Spacious Interiors                -3.988981e-02\n",
       "sector_sector 80                  -4.202449e-02\n",
       "sector_sector 36                  -4.215097e-02\n",
       "sector_sector 7                   -4.284650e-02\n",
       "sector_sector 51                  -4.410791e-02\n",
       "sector_sector 11                  -4.423571e-02\n",
       "sector_dwarka expressway          -4.479027e-02\n",
       "Maintenance Staff                 -4.644394e-02\n",
       "sector_sector 93                  -4.680824e-02\n",
       "sector_sector 52                  -4.933691e-02\n",
       "sector_sector 3                   -5.092049e-02\n",
       "sector_sector 56                  -5.124283e-02\n",
       "sector_sector 4                   -5.435514e-02\n",
       "sector_sector 12                  -5.692840e-02\n",
       "sector_sector 39                  -5.739915e-02\n",
       "sector_sector 1                   -6.521320e-02\n",
       "sector_sector 9                   -6.795597e-02\n",
       "sector_sector 91                  -6.893921e-02\n",
       "age_group_Old Flat                -6.981850e-02\n",
       "sector_sector 68                  -7.057667e-02\n",
       "floor_category_Low rise           -7.114983e-02\n",
       "sector_sector 88                  -7.143593e-02\n",
       "floor_category_Mid rise           -7.307625e-02\n",
       "sector_sector 71                  -7.370126e-02\n",
       "sector_sector 108                 -7.432079e-02\n",
       "sector_sector 78                  -7.900429e-02\n",
       "sector_sector 33                  -8.642864e-02\n",
       "sector_sector 77                  -8.708668e-02\n",
       "sector_sector 2                   -8.949661e-02\n",
       "sector_sector 106                 -9.936523e-02\n",
       "sector_sector 69                  -9.982109e-02\n",
       "sector_sector 102                 -1.018841e-01\n",
       "sector_sector 89                  -1.089211e-01\n",
       "sector_sector 109                 -1.096687e-01\n",
       "sector_sector 103                 -1.130648e-01\n",
       "sector_sector 99                  -1.184235e-01\n",
       "sector_sector 81                  -1.241589e-01\n",
       "sector_sector 104                 -1.267405e-01\n",
       "sector_sector 83                  -1.290054e-01\n",
       "sector_sector 70                  -1.298475e-01\n",
       "sector_sector 82                  -1.301639e-01\n",
       "sector_sector 107                 -1.306548e-01\n",
       "sector_sector 84                  -1.314292e-01\n",
       "sector_sector 86                  -1.336489e-01\n",
       "sector_sector 79                  -1.382205e-01\n",
       "sector_sector 95                  -1.485493e-01\n",
       "sector_manesar                    -1.675415e-01\n",
       "sector_sector 90                  -1.908908e-01\n",
       "sector_sector 37                  -1.942477e-01\n",
       "sector_sector 85                  -2.007565e-01\n",
       "sector_sohna road                 -2.010994e-01\n",
       "sector_sector 92                  -2.261848e-01\n",
       "total_num_rooms                   -2.906444e+11\n",
       "Name: reg_coeffs, dtype: float64"
      ]
     },
     "execution_count": 74,
     "metadata": {},
     "output_type": "execute_result"
    }
   ],
   "source": [
    "linear_regression_scores # doesn't seem trustable"
   ]
  },
  {
   "cell_type": "code",
   "execution_count": 75,
   "id": "679085e5",
   "metadata": {},
   "outputs": [
    {
     "data": {
      "text/plain": [
       "super_built_up_area                3.576439\n",
       "built_up_area                      2.298011\n",
       "carpet_area                        1.535009\n",
       "sector                             1.489728\n",
       "num_bathrooms                      1.045020\n",
       "total_num_rooms                    1.037874\n",
       "num_bedrooms                       0.901487\n",
       "servant_room                       0.630257\n",
       "ac                                 0.613520\n",
       "num_balconies                      0.599914\n",
       "geyser                             0.536580\n",
       "wardrobe                           0.397841\n",
       "fan                                0.361190\n",
       "floor_number                       0.346797\n",
       "light                              0.323308\n",
       "Separate entry for servant room    0.313597\n",
       "chimney                            0.306172\n",
       "stove                              0.303705\n",
       "furnished                          0.262606\n",
       "Intercom Facility                  0.259425\n",
       "microwave                          0.252023\n",
       "Swimming Pool                      0.234606\n",
       "modular                            0.229852\n",
       "False Ceiling Lighting             0.227239\n",
       "Water softening plant              0.220312\n",
       "Piped-gas                          0.219652\n",
       "Centrally Air Conditioned          0.215305\n",
       "Internet/wi-fi connectivity        0.201906\n",
       "No open drainage around            0.200441\n",
       "Club house / Community Center      0.199335\n",
       "High Ceiling Height                0.196157\n",
       "Spacious Interiors                 0.195964\n",
       "Low Density Society                0.194257\n",
       "Feng Shui / Vaastu Compliant       0.186370\n",
       "Water purifier                     0.185096\n",
       "Fitness Centre / GYM               0.175588\n",
       "washing                            0.174239\n",
       "Waste Disposal                     0.170081\n",
       "exhaust                            0.160170\n",
       "Private Garden / Terrace           0.159568\n",
       "Recently Renovated                 0.152578\n",
       "water                              0.151915\n",
       "floor_category                     0.151182\n",
       "fridge                             0.148283\n",
       "Visitor Parking                    0.146378\n",
       "Park                               0.143855\n",
       "Airy Rooms                         0.139742\n",
       "Natural Light                      0.139282\n",
       "Water Storage                      0.134521\n",
       "Bank Attached Property             0.132812\n",
       "Lift(s)                            0.131803\n",
       "Security / Fire Alarm              0.131259\n",
       "Maintenance Staff                  0.117626\n",
       "pooja_room                         0.114785\n",
       "age_group                          0.112695\n",
       "Rain Water Harvesting              0.105600\n",
       "Power Back-up                      0.100852\n",
       "study_room                         0.100103\n",
       "curtains                           0.089673\n",
       "Shopping Centre                    0.081248\n",
       "Security Personnel                 0.078087\n",
       "tv                                 0.070902\n",
       "store_room                         0.063765\n",
       "dining                             0.043133\n",
       "other_additional_room              0.021861\n",
       "bed                                0.014079\n",
       "sofa                               0.010827\n",
       "dtype: float64"
      ]
     },
     "execution_count": 75,
     "metadata": {},
     "output_type": "execute_result"
    }
   ],
   "source": [
    "overall_ordinal_encoding_importance.sort_values(ascending=False)"
   ]
  },
  {
   "cell_type": "markdown",
   "id": "26efa2fc",
   "metadata": {},
   "source": [
    "# Final Decision"
   ]
  },
  {
   "cell_type": "code",
   "execution_count": 76,
   "id": "4e1fcd34",
   "metadata": {},
   "outputs": [],
   "source": [
    "important_columns = [\n",
    "    'sector',\n",
    "    'num_bedrooms',\n",
    "    'num_bathrooms',\n",
    "    'num_balconies',\n",
    "    'age_group', \n",
    "    'super_built_up_area', \n",
    "    'floor_number',\n",
    "    'servant_room',\n",
    "    'furnished',\n",
    "    'Centrally Air Conditioned',\n",
    "    'False Ceiling Lighting',\n",
    "    'Intercom Facility',\n",
    "    'Private Garden / Terrace',\n",
    "    'Separate entry for servant room',\n",
    "    'Spacious Interiors',\n",
    "    'Swimming Pool',\n",
    "    'Club house / Community Center',\n",
    "    'Piped-gas',\n",
    "    'ac',\n",
    "    'geyser',\n",
    "    'fan',\n",
    "    'wardrobe',\n",
    "    'light',\n",
    "    'Low Density Society',\n",
    "    'total_num_rooms',\n",
    "]"
   ]
  },
  {
   "cell_type": "markdown",
   "id": "ed33badd",
   "metadata": {},
   "source": [
    "# Initial Model"
   ]
  },
  {
   "cell_type": "code",
   "execution_count": 89,
   "id": "2f7315e7",
   "metadata": {},
   "outputs": [],
   "source": [
    "price_prediction_data = original_data[important_columns]"
   ]
  },
  {
   "cell_type": "code",
   "execution_count": 100,
   "id": "d1246b7e",
   "metadata": {},
   "outputs": [],
   "source": [
    "X = price_prediction_data\n",
    "y = original_data['price']"
   ]
  },
  {
   "cell_type": "code",
   "execution_count": 101,
   "id": "63c05df4",
   "metadata": {},
   "outputs": [],
   "source": [
    "from sklearn.preprocessing import OrdinalEncoder\n",
    "\n",
    "categorical_columns = X.select_dtypes(include=['object']).columns\n",
    "for column_name in categorical_columns:\n",
    "    X[column_name] = OrdinalEncoder().fit_transform(X[[column_name]])"
   ]
  },
  {
   "cell_type": "code",
   "execution_count": 102,
   "id": "016c1174",
   "metadata": {},
   "outputs": [],
   "source": [
    "from sklearn.model_selection import cross_val_score\n",
    "from sklearn.ensemble import GradientBoostingRegressor\n",
    "\n",
    "gb = GradientBoostingRegressor(n_estimators=100, learning_rate=0.1, max_depth=3, random_state=42)\n",
    "\n",
    "scores = cross_val_score(gb, X, y, cv=5, scoring='r2')"
   ]
  },
  {
   "cell_type": "code",
   "execution_count": 103,
   "id": "dcc2d795",
   "metadata": {},
   "outputs": [
    {
     "data": {
      "text/plain": [
       "0.803249394940124"
      ]
     },
     "execution_count": 103,
     "metadata": {},
     "output_type": "execute_result"
    }
   ],
   "source": [
    "scores.mean()"
   ]
  },
  {
   "cell_type": "code",
   "execution_count": 104,
   "id": "63eb1d26",
   "metadata": {},
   "outputs": [
    {
     "name": "stdout",
     "output_type": "stream",
     "text": [
      "Mean Absolute Error: 0.3244894578887919\n"
     ]
    }
   ],
   "source": [
    "from sklearn.model_selection import train_test_split\n",
    "from sklearn.ensemble import GradientBoostingRegressor\n",
    "from sklearn.metrics import mean_absolute_error\n",
    "\n",
    "\n",
    "X_train, X_test, y_train, y_test = train_test_split(X, y, test_size=0.2, random_state=42)\n",
    "\n",
    "gb_regressor = GradientBoostingRegressor(n_estimators=100, learning_rate=0.1, max_depth=3, random_state=42)\n",
    "gb_regressor.fit(X_train, y_train.ravel())\n",
    "\n",
    "# Make predictions on the test set\n",
    "y_pred = gb_regressor.predict(X_test)\n",
    "\n",
    "# Calculate Mean Absolute Error on the test set\n",
    "mae = mean_absolute_error(y_test, y_pred)\n",
    "\n",
    "print(f'Mean Absolute Error: {mae}')"
   ]
  },
  {
   "cell_type": "code",
   "execution_count": 105,
   "id": "5e234833",
   "metadata": {},
   "outputs": [
    {
     "name": "stdout",
     "output_type": "stream",
     "text": [
      "Mean Absolute Error: 0.2690794925391674\n"
     ]
    }
   ],
   "source": [
    "from xgboost import XGBRegressor\n",
    "\n",
    "X_train, X_test, y_train, y_test = train_test_split(X, y, test_size=0.2, random_state=42)\n",
    "\n",
    "\n",
    "xgb_regressor = XGBRegressor()\n",
    "\n",
    "# Train the model on the training set\n",
    "xgb_regressor.fit(X_train, np.log1p(y_train))\n",
    "\n",
    "# Make predictions on the test set\n",
    "y_pred = xgb_regressor.predict(X_test)\n",
    "mae = mean_absolute_error(y_test, np.expm1(y_pred))\n",
    "\n",
    "print(f'Mean Absolute Error: {mae}')"
   ]
  },
  {
   "cell_type": "code",
   "execution_count": 106,
   "id": "8ca520d9",
   "metadata": {},
   "outputs": [
    {
     "data": {
      "text/plain": [
       "0.8414585651435248"
      ]
     },
     "execution_count": 106,
     "metadata": {},
     "output_type": "execute_result"
    }
   ],
   "source": [
    "from sklearn.metrics import r2_score\n",
    "r2_score(y_test, np.expm1(y_pred))"
   ]
  },
  {
   "cell_type": "code",
   "execution_count": 114,
   "id": "381fec03",
   "metadata": {},
   "outputs": [],
   "source": [
    "price_prediction_data['price'] = original_data['price']"
   ]
  },
  {
   "cell_type": "code",
   "execution_count": 115,
   "id": "377f78db",
   "metadata": {},
   "outputs": [],
   "source": [
    "price_prediction_data.to_csv('flat_price_prediction_data.csv', index=False)"
   ]
  },
  {
   "cell_type": "code",
   "execution_count": null,
   "id": "a30398c6",
   "metadata": {},
   "outputs": [],
   "source": []
  }
 ],
 "metadata": {
  "kernelspec": {
   "display_name": "Python 3 (ipykernel)",
   "language": "python",
   "name": "python3"
  },
  "language_info": {
   "codemirror_mode": {
    "name": "ipython",
    "version": 3
   },
   "file_extension": ".py",
   "mimetype": "text/x-python",
   "name": "python",
   "nbconvert_exporter": "python",
   "pygments_lexer": "ipython3",
   "version": "3.9.13"
  }
 },
 "nbformat": 4,
 "nbformat_minor": 5
}
