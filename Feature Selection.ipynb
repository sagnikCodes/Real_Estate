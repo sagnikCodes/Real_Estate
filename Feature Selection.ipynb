{
 "cells": [
  {
   "cell_type": "code",
   "execution_count": 21,
   "id": "9cc1eda6",
   "metadata": {},
   "outputs": [],
   "source": [
    "import pandas as pd\n",
    "import numpy as np\n",
    "import matplotlib.pyplot as plt\n",
    "import seaborn as sns"
   ]
  },
  {
   "cell_type": "code",
   "execution_count": 22,
   "id": "6e133c77",
   "metadata": {},
   "outputs": [],
   "source": [
    "pd.set_option('display.max_rows', None)"
   ]
  },
  {
   "cell_type": "code",
   "execution_count": 23,
   "id": "ca282ec9",
   "metadata": {},
   "outputs": [],
   "source": [
    "import warnings\n",
    "warnings.filterwarnings('ignore')"
   ]
  },
  {
   "cell_type": "code",
   "execution_count": 24,
   "id": "5b955a3c",
   "metadata": {},
   "outputs": [],
   "source": [
    "# According to EDA, these were the columns important for price prediction\n",
    "price_prediction_columns = [\n",
    "    'sector',\n",
    "    'num_bedrooms',\n",
    "    'num_bathrooms',\n",
    "    'num_balconies',\n",
    "    'age_group', \n",
    "    'super_built_up_area', \n",
    "    'built_up_area', \n",
    "    'carpet_area',\n",
    "    'floor_number',\n",
    "    'servant_room',\n",
    "    'pooja_room',\n",
    "    'store_room',\n",
    "    'furnished',\n",
    "    'Centrally Air Conditioned',\n",
    "    'False Ceiling Lighting',\n",
    "    'Intercom Facility',\n",
    "    'Private Garden / Terrace',\n",
    "    'Separate entry for servant room',\n",
    "    'Spacious Interiors'\n",
    "]"
   ]
  },
  {
   "cell_type": "code",
   "execution_count": 144,
   "id": "e9b40748",
   "metadata": {},
   "outputs": [],
   "source": [
    "data = pd.read_csv(\"cleaned_data_v2.csv\")"
   ]
  },
  {
   "cell_type": "markdown",
   "id": "4e5a25d6",
   "metadata": {},
   "source": [
    "# Getting rid of columns which won't be available while prediction(to avoid data leakage) or columns whose cleaner version is already available"
   ]
  },
  {
   "cell_type": "code",
   "execution_count": 145,
   "id": "1ca02741",
   "metadata": {},
   "outputs": [
    {
     "name": "stdout",
     "output_type": "stream",
     "text": [
      "<class 'pandas.core.frame.DataFrame'>\n",
      "RangeIndex: 2860 entries, 0 to 2859\n",
      "Data columns (total 84 columns):\n",
      " #   Column                           Non-Null Count  Dtype  \n",
      "---  ------                           --------------  -----  \n",
      " 0   price                            2860 non-null   float64\n",
      " 1   facing                           2054 non-null   object \n",
      " 2   property_id                      2860 non-null   object \n",
      " 3   sector                           2860 non-null   object \n",
      " 4   society_name                     2860 non-null   object \n",
      " 5   society_stars                    1646 non-null   float64\n",
      " 6   num_bedrooms                     2860 non-null   int64  \n",
      " 7   num_bathrooms                    2860 non-null   float64\n",
      " 8   num_balconies                    2860 non-null   float64\n",
      " 9   age_group                        2860 non-null   object \n",
      " 10  super_built_up_area              2860 non-null   float64\n",
      " 11  built_up_area                    2860 non-null   float64\n",
      " 12  carpet_area                      2860 non-null   float64\n",
      " 13  price_per_sqft                   2860 non-null   float64\n",
      " 14  floor_number                     2860 non-null   float64\n",
      " 15  total_floors                     2860 non-null   float64\n",
      " 16  servant_room                     2860 non-null   int64  \n",
      " 17  study_room                       2860 non-null   int64  \n",
      " 18  pooja_room                       2860 non-null   int64  \n",
      " 19  other_additional_room            2860 non-null   int64  \n",
      " 20  store_room                       2860 non-null   int64  \n",
      " 21  ac                               2860 non-null   int64  \n",
      " 22  bed                              2860 non-null   int64  \n",
      " 23  chimney                          2860 non-null   int64  \n",
      " 24  curtains                         2860 non-null   int64  \n",
      " 25  dining                           2860 non-null   int64  \n",
      " 26  exhaust                          2860 non-null   int64  \n",
      " 27  fan                              2860 non-null   int64  \n",
      " 28  fridge                           2860 non-null   int64  \n",
      " 29  geyser                           2860 non-null   int64  \n",
      " 30  light                            2860 non-null   int64  \n",
      " 31  microwave                        2860 non-null   int64  \n",
      " 32  modular                          2860 non-null   int64  \n",
      " 33  sofa                             2860 non-null   int64  \n",
      " 34  stove                            2860 non-null   int64  \n",
      " 35  tv                               2860 non-null   int64  \n",
      " 36  wardrobe                         2860 non-null   int64  \n",
      " 37  washing                          2860 non-null   int64  \n",
      " 38  water                            2860 non-null   int64  \n",
      " 39  Airy Rooms                       2860 non-null   int64  \n",
      " 40  Bank Attached Property           2860 non-null   int64  \n",
      " 41  Centrally Air Conditioned        2860 non-null   int64  \n",
      " 42  Club house / Community Center    2860 non-null   int64  \n",
      " 43  False Ceiling Lighting           2860 non-null   int64  \n",
      " 44  Feng Shui / Vaastu Compliant     2860 non-null   int64  \n",
      " 45  Fitness Centre / GYM             2860 non-null   int64  \n",
      " 46  High Ceiling Height              2860 non-null   int64  \n",
      " 47  Intercom Facility                2860 non-null   int64  \n",
      " 48  Internet/wi-fi connectivity      2860 non-null   int64  \n",
      " 49  Lift(s)                          2860 non-null   int64  \n",
      " 50  Low Density Society              2860 non-null   int64  \n",
      " 51  Maintenance Staff                2860 non-null   int64  \n",
      " 52  Natural Light                    2860 non-null   int64  \n",
      " 53  No open drainage around          2860 non-null   int64  \n",
      " 54  Park                             2860 non-null   int64  \n",
      " 55  Piped-gas                        2860 non-null   int64  \n",
      " 56  Power Back-up                    2860 non-null   int64  \n",
      " 57  Private Garden / Terrace         2860 non-null   int64  \n",
      " 58  Rain Water Harvesting            2860 non-null   int64  \n",
      " 59  Recently Renovated               2860 non-null   int64  \n",
      " 60  Security / Fire Alarm            2860 non-null   int64  \n",
      " 61  Security Personnel               2860 non-null   int64  \n",
      " 62  Separate entry for servant room  2860 non-null   int64  \n",
      " 63  Shopping Centre                  2860 non-null   int64  \n",
      " 64  Spacious Interiors               2860 non-null   int64  \n",
      " 65  Swimming Pool                    2860 non-null   int64  \n",
      " 66  Visitor Parking                  2860 non-null   int64  \n",
      " 67  Waste Disposal                   2860 non-null   int64  \n",
      " 68  Water Storage                    2860 non-null   int64  \n",
      " 69  Water purifier                   2860 non-null   int64  \n",
      " 70  Water softening plant            2860 non-null   int64  \n",
      " 71  amenities_rating                 1657 non-null   float64\n",
      " 72  connectivity_rating              2536 non-null   float64\n",
      " 73  construction_rating              1657 non-null   float64\n",
      " 74  environment_rating               879 non-null    float64\n",
      " 75  green area_rating                1657 non-null   float64\n",
      " 76  lifestyle_rating                 879 non-null    float64\n",
      " 77  management_rating                1657 non-null   float64\n",
      " 78  safety_rating                    879 non-null    float64\n",
      " 79  nearby_locations                 2777 non-null   object \n",
      " 80  description_keywords             2860 non-null   object \n",
      " 81  total_num_rooms                  2860 non-null   float64\n",
      " 82  furnished                        2860 non-null   int64  \n",
      " 83  floor_category                   2860 non-null   object \n",
      "dtypes: float64(19), int64(57), object(8)\n",
      "memory usage: 1.8+ MB\n"
     ]
    }
   ],
   "source": [
    "data.info()"
   ]
  },
  {
   "cell_type": "code",
   "execution_count": 146,
   "id": "cd6e7137",
   "metadata": {},
   "outputs": [],
   "source": [
    "columns_to_drop = [\n",
    "    'property_id', # user won't give as input\n",
    "    'facing', # has NaN value, also EDA said not at all important for price prediction\n",
    "    'nearby_locations', # NLP required currently can't do anything\n",
    "    'description_keywords', # NLP required, currently can't do anything\n",
    "    'society_name', # user won't give as input\n",
    "    'society_stars', # user won't give as input\n",
    "    'price_per_sqft', # user won't give as input\n",
    "    'amenities_rating', # user won't give as input\n",
    "    'connectivity_rating', # user won't give as input\n",
    "    'construction_rating', # user won't give as input\n",
    "    'environment_rating', # user won't give as input\n",
    "    'green area_rating', # user won't give as input\n",
    "    'lifestyle_rating', # user won't give as input\n",
    "    'management_rating', # user won't give as input\n",
    "    'safety_rating', # user won't give as input\n",
    "    'total_floors' # user won't tell\n",
    "]"
   ]
  },
  {
   "cell_type": "code",
   "execution_count": 147,
   "id": "2eb027e6",
   "metadata": {},
   "outputs": [],
   "source": [
    "data.drop(columns=columns_to_drop, inplace=True)"
   ]
  },
  {
   "cell_type": "code",
   "execution_count": 148,
   "id": "0f7449ac",
   "metadata": {},
   "outputs": [
    {
     "data": {
      "text/plain": [
       "Index(['price', 'sector', 'num_bedrooms', 'num_bathrooms', 'num_balconies',\n",
       "       'age_group', 'super_built_up_area', 'built_up_area', 'carpet_area',\n",
       "       'floor_number', 'servant_room', 'study_room', 'pooja_room',\n",
       "       'other_additional_room', 'store_room', 'ac', 'bed', 'chimney',\n",
       "       'curtains', 'dining', 'exhaust', 'fan', 'fridge', 'geyser', 'light',\n",
       "       'microwave', 'modular', 'sofa', 'stove', 'tv', 'wardrobe', 'washing',\n",
       "       'water', 'Airy Rooms', 'Bank Attached Property',\n",
       "       'Centrally Air Conditioned', 'Club house / Community Center',\n",
       "       'False Ceiling Lighting', 'Feng Shui / Vaastu Compliant',\n",
       "       'Fitness Centre / GYM', 'High Ceiling Height', 'Intercom Facility',\n",
       "       'Internet/wi-fi connectivity', 'Lift(s)', 'Low Density Society',\n",
       "       'Maintenance Staff', 'Natural Light', 'No open drainage around', 'Park',\n",
       "       'Piped-gas', 'Power Back-up', 'Private Garden / Terrace',\n",
       "       'Rain Water Harvesting', 'Recently Renovated', 'Security / Fire Alarm',\n",
       "       'Security Personnel', 'Separate entry for servant room',\n",
       "       'Shopping Centre', 'Spacious Interiors', 'Swimming Pool',\n",
       "       'Visitor Parking', 'Waste Disposal', 'Water Storage', 'Water purifier',\n",
       "       'Water softening plant', 'total_num_rooms', 'furnished',\n",
       "       'floor_category'],\n",
       "      dtype='object')"
      ]
     },
     "execution_count": 148,
     "metadata": {},
     "output_type": "execute_result"
    }
   ],
   "source": [
    "data.columns"
   ]
  },
  {
   "cell_type": "markdown",
   "id": "b4dc1a4b",
   "metadata": {},
   "source": [
    "# Tree Based Feature Selection(Ordinal Encoding would work well)"
   ]
  },
  {
   "cell_type": "code",
   "execution_count": 149,
   "id": "5b76572e",
   "metadata": {},
   "outputs": [],
   "source": [
    "import copy\n",
    "\n",
    "original_data = copy.deepcopy(data) # storing a copy of data"
   ]
  },
  {
   "cell_type": "code",
   "execution_count": 31,
   "id": "9265f416",
   "metadata": {},
   "outputs": [],
   "source": [
    "from sklearn.preprocessing import OrdinalEncoder\n",
    "\n",
    "categorical_columns = data.select_dtypes(include=['object']).columns\n",
    "for column_name in categorical_columns:\n",
    "    data[column_name] = OrdinalEncoder().fit_transform(data[[column_name]])"
   ]
  },
  {
   "cell_type": "code",
   "execution_count": 32,
   "id": "303cab64",
   "metadata": {},
   "outputs": [
    {
     "data": {
      "text/html": [
       "<div>\n",
       "<style scoped>\n",
       "    .dataframe tbody tr th:only-of-type {\n",
       "        vertical-align: middle;\n",
       "    }\n",
       "\n",
       "    .dataframe tbody tr th {\n",
       "        vertical-align: top;\n",
       "    }\n",
       "\n",
       "    .dataframe thead th {\n",
       "        text-align: right;\n",
       "    }\n",
       "</style>\n",
       "<table border=\"1\" class=\"dataframe\">\n",
       "  <thead>\n",
       "    <tr style=\"text-align: right;\">\n",
       "      <th></th>\n",
       "      <th>price</th>\n",
       "      <th>sector</th>\n",
       "      <th>num_bedrooms</th>\n",
       "      <th>num_bathrooms</th>\n",
       "      <th>num_balconies</th>\n",
       "      <th>age_group</th>\n",
       "      <th>super_built_up_area</th>\n",
       "      <th>built_up_area</th>\n",
       "      <th>carpet_area</th>\n",
       "      <th>floor_number</th>\n",
       "      <th>...</th>\n",
       "      <th>Spacious Interiors</th>\n",
       "      <th>Swimming Pool</th>\n",
       "      <th>Visitor Parking</th>\n",
       "      <th>Waste Disposal</th>\n",
       "      <th>Water Storage</th>\n",
       "      <th>Water purifier</th>\n",
       "      <th>Water softening plant</th>\n",
       "      <th>total_num_rooms</th>\n",
       "      <th>furnished</th>\n",
       "      <th>floor_category</th>\n",
       "    </tr>\n",
       "  </thead>\n",
       "  <tbody>\n",
       "    <tr>\n",
       "      <th>239</th>\n",
       "      <td>0.90</td>\n",
       "      <td>81.0</td>\n",
       "      <td>3</td>\n",
       "      <td>3.0</td>\n",
       "      <td>3.0</td>\n",
       "      <td>4.0</td>\n",
       "      <td>1872.869333</td>\n",
       "      <td>1622.000000</td>\n",
       "      <td>1438.747516</td>\n",
       "      <td>3.0</td>\n",
       "      <td>...</td>\n",
       "      <td>0</td>\n",
       "      <td>1</td>\n",
       "      <td>1</td>\n",
       "      <td>0</td>\n",
       "      <td>0</td>\n",
       "      <td>0</td>\n",
       "      <td>0</td>\n",
       "      <td>10.0</td>\n",
       "      <td>0</td>\n",
       "      <td>1.0</td>\n",
       "    </tr>\n",
       "    <tr>\n",
       "      <th>1973</th>\n",
       "      <td>0.60</td>\n",
       "      <td>59.0</td>\n",
       "      <td>3</td>\n",
       "      <td>2.0</td>\n",
       "      <td>1.0</td>\n",
       "      <td>2.0</td>\n",
       "      <td>1000.000000</td>\n",
       "      <td>950.000000</td>\n",
       "      <td>900.000000</td>\n",
       "      <td>3.0</td>\n",
       "      <td>...</td>\n",
       "      <td>0</td>\n",
       "      <td>0</td>\n",
       "      <td>0</td>\n",
       "      <td>0</td>\n",
       "      <td>0</td>\n",
       "      <td>0</td>\n",
       "      <td>0</td>\n",
       "      <td>6.0</td>\n",
       "      <td>0</td>\n",
       "      <td>1.0</td>\n",
       "    </tr>\n",
       "    <tr>\n",
       "      <th>830</th>\n",
       "      <td>3.00</td>\n",
       "      <td>55.0</td>\n",
       "      <td>4</td>\n",
       "      <td>4.0</td>\n",
       "      <td>3.0</td>\n",
       "      <td>1.0</td>\n",
       "      <td>2383.000000</td>\n",
       "      <td>2200.000000</td>\n",
       "      <td>2000.000000</td>\n",
       "      <td>5.0</td>\n",
       "      <td>...</td>\n",
       "      <td>0</td>\n",
       "      <td>1</td>\n",
       "      <td>1</td>\n",
       "      <td>1</td>\n",
       "      <td>1</td>\n",
       "      <td>1</td>\n",
       "      <td>1</td>\n",
       "      <td>13.0</td>\n",
       "      <td>1</td>\n",
       "      <td>1.0</td>\n",
       "    </tr>\n",
       "    <tr>\n",
       "      <th>2538</th>\n",
       "      <td>0.89</td>\n",
       "      <td>88.0</td>\n",
       "      <td>2</td>\n",
       "      <td>2.0</td>\n",
       "      <td>2.0</td>\n",
       "      <td>4.0</td>\n",
       "      <td>1396.425000</td>\n",
       "      <td>1214.480076</td>\n",
       "      <td>1075.000000</td>\n",
       "      <td>3.0</td>\n",
       "      <td>...</td>\n",
       "      <td>0</td>\n",
       "      <td>0</td>\n",
       "      <td>0</td>\n",
       "      <td>0</td>\n",
       "      <td>0</td>\n",
       "      <td>0</td>\n",
       "      <td>0</td>\n",
       "      <td>7.0</td>\n",
       "      <td>1</td>\n",
       "      <td>1.0</td>\n",
       "    </tr>\n",
       "    <tr>\n",
       "      <th>1863</th>\n",
       "      <td>2.78</td>\n",
       "      <td>25.0</td>\n",
       "      <td>3</td>\n",
       "      <td>3.0</td>\n",
       "      <td>3.0</td>\n",
       "      <td>2.0</td>\n",
       "      <td>2690.000000</td>\n",
       "      <td>2599.000000</td>\n",
       "      <td>2450.000000</td>\n",
       "      <td>3.0</td>\n",
       "      <td>...</td>\n",
       "      <td>1</td>\n",
       "      <td>1</td>\n",
       "      <td>1</td>\n",
       "      <td>1</td>\n",
       "      <td>1</td>\n",
       "      <td>1</td>\n",
       "      <td>1</td>\n",
       "      <td>11.0</td>\n",
       "      <td>0</td>\n",
       "      <td>1.0</td>\n",
       "    </tr>\n",
       "  </tbody>\n",
       "</table>\n",
       "<p>5 rows × 68 columns</p>\n",
       "</div>"
      ],
      "text/plain": [
       "      price  sector  num_bedrooms  num_bathrooms  num_balconies  age_group  \\\n",
       "239    0.90    81.0             3            3.0            3.0        4.0   \n",
       "1973   0.60    59.0             3            2.0            1.0        2.0   \n",
       "830    3.00    55.0             4            4.0            3.0        1.0   \n",
       "2538   0.89    88.0             2            2.0            2.0        4.0   \n",
       "1863   2.78    25.0             3            3.0            3.0        2.0   \n",
       "\n",
       "      super_built_up_area  built_up_area  carpet_area  floor_number  ...  \\\n",
       "239           1872.869333    1622.000000  1438.747516           3.0  ...   \n",
       "1973          1000.000000     950.000000   900.000000           3.0  ...   \n",
       "830           2383.000000    2200.000000  2000.000000           5.0  ...   \n",
       "2538          1396.425000    1214.480076  1075.000000           3.0  ...   \n",
       "1863          2690.000000    2599.000000  2450.000000           3.0  ...   \n",
       "\n",
       "      Spacious Interiors  Swimming Pool  Visitor Parking  Waste Disposal  \\\n",
       "239                    0              1                1               0   \n",
       "1973                   0              0                0               0   \n",
       "830                    0              1                1               1   \n",
       "2538                   0              0                0               0   \n",
       "1863                   1              1                1               1   \n",
       "\n",
       "      Water Storage  Water purifier  Water softening plant  total_num_rooms  \\\n",
       "239               0               0                      0             10.0   \n",
       "1973              0               0                      0              6.0   \n",
       "830               1               1                      1             13.0   \n",
       "2538              0               0                      0              7.0   \n",
       "1863              1               1                      1             11.0   \n",
       "\n",
       "      furnished  floor_category  \n",
       "239           0             1.0  \n",
       "1973          0             1.0  \n",
       "830           1             1.0  \n",
       "2538          1             1.0  \n",
       "1863          0             1.0  \n",
       "\n",
       "[5 rows x 68 columns]"
      ]
     },
     "execution_count": 32,
     "metadata": {},
     "output_type": "execute_result"
    }
   ],
   "source": [
    "data.sample(5)"
   ]
  },
  {
   "cell_type": "code",
   "execution_count": 33,
   "id": "66f94bbf",
   "metadata": {},
   "outputs": [],
   "source": [
    "X = data.drop(columns=['price'])\n",
    "y = data['price']"
   ]
  },
  {
   "cell_type": "markdown",
   "id": "d4a8859e",
   "metadata": {},
   "source": [
    "# Removing Duplicate Columns"
   ]
  },
  {
   "cell_type": "code",
   "execution_count": 34,
   "id": "3b90d6a0",
   "metadata": {},
   "outputs": [],
   "source": [
    "def get_duplicate_columns(data):\n",
    "    \n",
    "    duplicate_columns = {}\n",
    "    seen_columns = {}\n",
    "\n",
    "    for column in data.columns:\n",
    "        current_column = data[column]\n",
    "\n",
    "        # Converting column data to bytes\n",
    "        try:\n",
    "            current_column_hash = current_column.values.tobytes()\n",
    "        except AttributeError:\n",
    "            current_column_hash = current_column.to_string().encode()\n",
    "\n",
    "        if current_column_hash in seen_columns:\n",
    "            if seen_columns[current_column_hash] in duplicate_columns:\n",
    "                duplicate_columns[seen_columns[current_column_hash]].append(column)\n",
    "            else:\n",
    "                duplicate_columns[seen_columns[current_column_hash]] = [column]\n",
    "        else:\n",
    "            seen_columns[current_column_hash] = column\n",
    "\n",
    "    return duplicate_columns"
   ]
  },
  {
   "cell_type": "code",
   "execution_count": 35,
   "id": "5ee5c502",
   "metadata": {},
   "outputs": [
    {
     "data": {
      "text/plain": [
       "{}"
      ]
     },
     "execution_count": 35,
     "metadata": {},
     "output_type": "execute_result"
    }
   ],
   "source": [
    "get_duplicate_columns(X)"
   ]
  },
  {
   "cell_type": "markdown",
   "id": "79a18a6a",
   "metadata": {},
   "source": [
    "There isn't any duplicate columns"
   ]
  },
  {
   "cell_type": "markdown",
   "id": "f816f76a",
   "metadata": {},
   "source": [
    "# Variance Threshold"
   ]
  },
  {
   "cell_type": "code",
   "execution_count": 36,
   "id": "b671584b",
   "metadata": {},
   "outputs": [
    {
     "data": {
      "text/html": [
       "<style>#sk-container-id-1 {color: black;}#sk-container-id-1 pre{padding: 0;}#sk-container-id-1 div.sk-toggleable {background-color: white;}#sk-container-id-1 label.sk-toggleable__label {cursor: pointer;display: block;width: 100%;margin-bottom: 0;padding: 0.3em;box-sizing: border-box;text-align: center;}#sk-container-id-1 label.sk-toggleable__label-arrow:before {content: \"▸\";float: left;margin-right: 0.25em;color: #696969;}#sk-container-id-1 label.sk-toggleable__label-arrow:hover:before {color: black;}#sk-container-id-1 div.sk-estimator:hover label.sk-toggleable__label-arrow:before {color: black;}#sk-container-id-1 div.sk-toggleable__content {max-height: 0;max-width: 0;overflow: hidden;text-align: left;background-color: #f0f8ff;}#sk-container-id-1 div.sk-toggleable__content pre {margin: 0.2em;color: black;border-radius: 0.25em;background-color: #f0f8ff;}#sk-container-id-1 input.sk-toggleable__control:checked~div.sk-toggleable__content {max-height: 200px;max-width: 100%;overflow: auto;}#sk-container-id-1 input.sk-toggleable__control:checked~label.sk-toggleable__label-arrow:before {content: \"▾\";}#sk-container-id-1 div.sk-estimator input.sk-toggleable__control:checked~label.sk-toggleable__label {background-color: #d4ebff;}#sk-container-id-1 div.sk-label input.sk-toggleable__control:checked~label.sk-toggleable__label {background-color: #d4ebff;}#sk-container-id-1 input.sk-hidden--visually {border: 0;clip: rect(1px 1px 1px 1px);clip: rect(1px, 1px, 1px, 1px);height: 1px;margin: -1px;overflow: hidden;padding: 0;position: absolute;width: 1px;}#sk-container-id-1 div.sk-estimator {font-family: monospace;background-color: #f0f8ff;border: 1px dotted black;border-radius: 0.25em;box-sizing: border-box;margin-bottom: 0.5em;}#sk-container-id-1 div.sk-estimator:hover {background-color: #d4ebff;}#sk-container-id-1 div.sk-parallel-item::after {content: \"\";width: 100%;border-bottom: 1px solid gray;flex-grow: 1;}#sk-container-id-1 div.sk-label:hover label.sk-toggleable__label {background-color: #d4ebff;}#sk-container-id-1 div.sk-serial::before {content: \"\";position: absolute;border-left: 1px solid gray;box-sizing: border-box;top: 0;bottom: 0;left: 50%;z-index: 0;}#sk-container-id-1 div.sk-serial {display: flex;flex-direction: column;align-items: center;background-color: white;padding-right: 0.2em;padding-left: 0.2em;position: relative;}#sk-container-id-1 div.sk-item {position: relative;z-index: 1;}#sk-container-id-1 div.sk-parallel {display: flex;align-items: stretch;justify-content: center;background-color: white;position: relative;}#sk-container-id-1 div.sk-item::before, #sk-container-id-1 div.sk-parallel-item::before {content: \"\";position: absolute;border-left: 1px solid gray;box-sizing: border-box;top: 0;bottom: 0;left: 50%;z-index: -1;}#sk-container-id-1 div.sk-parallel-item {display: flex;flex-direction: column;z-index: 1;position: relative;background-color: white;}#sk-container-id-1 div.sk-parallel-item:first-child::after {align-self: flex-end;width: 50%;}#sk-container-id-1 div.sk-parallel-item:last-child::after {align-self: flex-start;width: 50%;}#sk-container-id-1 div.sk-parallel-item:only-child::after {width: 0;}#sk-container-id-1 div.sk-dashed-wrapped {border: 1px dashed gray;margin: 0 0.4em 0.5em 0.4em;box-sizing: border-box;padding-bottom: 0.4em;background-color: white;}#sk-container-id-1 div.sk-label label {font-family: monospace;font-weight: bold;display: inline-block;line-height: 1.2em;}#sk-container-id-1 div.sk-label-container {text-align: center;}#sk-container-id-1 div.sk-container {/* jupyter's `normalize.less` sets `[hidden] { display: none; }` but bootstrap.min.css set `[hidden] { display: none !important; }` so we also need the `!important` here to be able to override the default hidden behavior on the sphinx rendered scikit-learn.org. See: https://github.com/scikit-learn/scikit-learn/issues/21755 */display: inline-block !important;position: relative;}#sk-container-id-1 div.sk-text-repr-fallback {display: none;}</style><div id=\"sk-container-id-1\" class=\"sk-top-container\"><div class=\"sk-text-repr-fallback\"><pre>VarianceThreshold(threshold=0.01)</pre><b>In a Jupyter environment, please rerun this cell to show the HTML representation or trust the notebook. <br />On GitHub, the HTML representation is unable to render, please try loading this page with nbviewer.org.</b></div><div class=\"sk-container\" hidden><div class=\"sk-item\"><div class=\"sk-estimator sk-toggleable\"><input class=\"sk-toggleable__control sk-hidden--visually\" id=\"sk-estimator-id-1\" type=\"checkbox\" checked><label for=\"sk-estimator-id-1\" class=\"sk-toggleable__label sk-toggleable__label-arrow\">VarianceThreshold</label><div class=\"sk-toggleable__content\"><pre>VarianceThreshold(threshold=0.01)</pre></div></div></div></div></div>"
      ],
      "text/plain": [
       "VarianceThreshold(threshold=0.01)"
      ]
     },
     "execution_count": 36,
     "metadata": {},
     "output_type": "execute_result"
    }
   ],
   "source": [
    "from sklearn.feature_selection import VarianceThreshold\n",
    "vt = VarianceThreshold(threshold=0.01)\n",
    "vt.fit(X)"
   ]
  },
  {
   "cell_type": "code",
   "execution_count": 37,
   "id": "73bbb8d8",
   "metadata": {},
   "outputs": [
    {
     "data": {
      "text/plain": [
       "67"
      ]
     },
     "execution_count": 37,
     "metadata": {},
     "output_type": "execute_result"
    }
   ],
   "source": [
    "sum(vt.get_support())"
   ]
  },
  {
   "cell_type": "markdown",
   "id": "60955431",
   "metadata": {},
   "source": [
    "All the columns have variance greater than threshold"
   ]
  },
  {
   "cell_type": "markdown",
   "id": "d80f4c3c",
   "metadata": {},
   "source": [
    "# Pearson Correlation Coefficient\n",
    "\n",
    "**Note: All these shows the extent to which these columns are 'linearly' related to output, and not overall relation.**\n",
    "\n",
    "- super_built_up_area > built_up_area > carpet_area, so can keep only super_built_up_area\n",
    "- num_bathrooms(0.59) > total_num_rooms(0.58) > num_bedrooms(0.50+) > servant_room(0.40+) > num_balconies(0.30+)\n",
    "- ac(0.4) > geyser(0.31) > wardrobe(0.25) > fan(0.25) > chimney(0.24) > stove(0.23) > light(0.22) > furnished(0.21)\n",
    "- floor_number(0.21) >>> floor_category(~0)\n",
    "- Separate entry for servant room(0.23) >  Intercom Facility(0.19) > Swimming Pool(0.17) > False Ceiling Lighting(0.16) > Piped-gas(0.15) > Spacious Interiors(0.15) > High Ceiling Height(0.15) > Centrally Air Conditioned(0.15) > Club house / Community Center(0.15) > Low Density Society(0.15) > No open drainage around(0.14) > Private Garden / Terrace(0.14)"
   ]
  },
  {
   "cell_type": "code",
   "execution_count": 38,
   "id": "946cda85",
   "metadata": {},
   "outputs": [
    {
     "data": {
      "text/plain": [
       "<Axes: >"
      ]
     },
     "execution_count": 38,
     "metadata": {},
     "output_type": "execute_result"
    },
    {
     "data": {
      "image/png": "[encoded data removed]",
      "text/plain": [
       "<Figure size 2000x2000 with 2 Axes>"
      ]
     },
     "metadata": {},
     "output_type": "display_data"
    }
   ],
   "source": [
    "plt.figure(figsize=(20, 20))\n",
    "\n",
    "sns.heatmap(X.corr(), cmap='coolwarm', linewidths=.5)"
   ]
  },
  {
   "cell_type": "markdown",
   "id": "80c488fb",
   "metadata": {},
   "source": [
    "- super_built_up_area, built_up_area and carpet_area have a strong positive correlation"
   ]
  },
  {
   "cell_type": "code",
   "execution_count": 39,
   "id": "bd4b8f66",
   "metadata": {},
   "outputs": [
    {
     "data": {
      "text/plain": [
       "0.8289840494464"
      ]
     },
     "execution_count": 39,
     "metadata": {},
     "output_type": "execute_result"
    }
   ],
   "source": [
    "data.corr()['num_bedrooms']['num_bathrooms']"
   ]
  },
  {
   "cell_type": "code",
   "execution_count": 40,
   "id": "a8814c8c",
   "metadata": {},
   "outputs": [
    {
     "data": {
      "text/plain": [
       "0.7571020727848129"
      ]
     },
     "execution_count": 40,
     "metadata": {},
     "output_type": "execute_result"
    }
   ],
   "source": [
    "data.corr()['super_built_up_area']['num_bedrooms']"
   ]
  },
  {
   "cell_type": "code",
   "execution_count": 41,
   "id": "ebb0f61d",
   "metadata": {},
   "outputs": [
    {
     "data": {
      "text/plain": [
       "-0.20518573344308078"
      ]
     },
     "execution_count": 41,
     "metadata": {},
     "output_type": "execute_result"
    }
   ],
   "source": [
    "# So the minimum correlation present in data(dark violet colored heatmap) is nearly -0.21.\n",
    "data.corr()['age_group']['Airy Rooms']"
   ]
  },
  {
   "cell_type": "code",
   "execution_count": 42,
   "id": "b7ca1552",
   "metadata": {},
   "outputs": [
    {
     "data": {
      "text/plain": [
       "0.8093381046687889"
      ]
     },
     "execution_count": 42,
     "metadata": {},
     "output_type": "execute_result"
    }
   ],
   "source": [
    "data.corr()['washing']['fridge']"
   ]
  },
  {
   "cell_type": "code",
   "execution_count": 43,
   "id": "68d79608",
   "metadata": {},
   "outputs": [],
   "source": [
    "corr_coef_price = data.corr()['price'].reset_index().rename(columns={'index': 'feature', 'price': 'correlation_coefficient'})"
   ]
  },
  {
   "cell_type": "code",
   "execution_count": 44,
   "id": "44483b65",
   "metadata": {},
   "outputs": [],
   "source": [
    "correlation_data = corr_coef_price.set_index('feature').squeeze().drop('price')"
   ]
  },
  {
   "cell_type": "code",
   "execution_count": 45,
   "id": "ed7f4bcf",
   "metadata": {},
   "outputs": [
    {
     "data": {
      "text/plain": [
       "feature\n",
       "sector                            -0.166491\n",
       "num_bedrooms                       0.559677\n",
       "num_bathrooms                      0.597765\n",
       "num_balconies                      0.354935\n",
       "age_group                          0.030605\n",
       "super_built_up_area                0.769239\n",
       "built_up_area                      0.767020\n",
       "carpet_area                        0.752244\n",
       "floor_number                       0.213710\n",
       "servant_room                       0.439156\n",
       "study_room                         0.071871\n",
       "pooja_room                         0.124570\n",
       "other_additional_room             -0.009828\n",
       "store_room                         0.063217\n",
       "ac                                 0.391944\n",
       "bed                               -0.016432\n",
       "chimney                            0.242581\n",
       "curtains                           0.040038\n",
       "dining                             0.029831\n",
       "exhaust                            0.126827\n",
       "fan                                0.246718\n",
       "fridge                             0.137384\n",
       "geyser                             0.310431\n",
       "light                              0.221981\n",
       "microwave                          0.210138\n",
       "modular                            0.189531\n",
       "sofa                              -0.001528\n",
       "stove                              0.233789\n",
       "tv                                 0.063446\n",
       "wardrobe                           0.247856\n",
       "washing                            0.148672\n",
       "water                              0.107491\n",
       "Airy Rooms                         0.111936\n",
       "Bank Attached Property             0.082279\n",
       "Centrally Air Conditioned          0.150844\n",
       "Club house / Community Center      0.146838\n",
       "False Ceiling Lighting             0.160462\n",
       "Feng Shui / Vaastu Compliant       0.103153\n",
       "Fitness Centre / GYM               0.136982\n",
       "High Ceiling Height                0.152018\n",
       "Intercom Facility                  0.188052\n",
       "Internet/wi-fi connectivity        0.139192\n",
       "Lift(s)                            0.095822\n",
       "Low Density Society                0.146057\n",
       "Maintenance Staff                  0.069045\n",
       "Natural Light                      0.096689\n",
       "No open drainage around            0.140941\n",
       "Park                               0.085104\n",
       "Piped-gas                          0.157757\n",
       "Power Back-up                      0.089999\n",
       "Private Garden / Terrace           0.140073\n",
       "Rain Water Harvesting              0.082424\n",
       "Recently Renovated                 0.092071\n",
       "Security / Fire Alarm              0.085144\n",
       "Security Personnel                 0.072575\n",
       "Separate entry for servant room    0.229246\n",
       "Shopping Centre                    0.081903\n",
       "Spacious Interiors                 0.154793\n",
       "Swimming Pool                      0.165342\n",
       "Visitor Parking                    0.076946\n",
       "Waste Disposal                     0.114762\n",
       "Water Storage                      0.064529\n",
       "Water purifier                     0.132511\n",
       "Water softening plant              0.140035\n",
       "total_num_rooms                    0.584510\n",
       "furnished                          0.214033\n",
       "floor_category                    -0.094231\n",
       "Name: correlation_coefficient, dtype: float64"
      ]
     },
     "execution_count": 45,
     "metadata": {},
     "output_type": "execute_result"
    }
   ],
   "source": [
    "correlation_data"
   ]
  },
  {
   "cell_type": "code",
   "execution_count": 46,
   "id": "22d01273",
   "metadata": {
    "scrolled": false
   },
   "outputs": [
    {
     "data": {
      "text/plain": [
       "{0: {'feature': 'price', 'correlation_coefficient': 1.0},\n",
       " 6: {'feature': 'super_built_up_area',\n",
       "  'correlation_coefficient': 0.7692385076257872},\n",
       " 7: {'feature': 'built_up_area',\n",
       "  'correlation_coefficient': 0.7670204865628875},\n",
       " 8: {'feature': 'carpet_area', 'correlation_coefficient': 0.7522444426409305},\n",
       " 3: {'feature': 'num_bathrooms',\n",
       "  'correlation_coefficient': 0.5977651640759484},\n",
       " 65: {'feature': 'total_num_rooms',\n",
       "  'correlation_coefficient': 0.5845095941460774},\n",
       " 2: {'feature': 'num_bedrooms', 'correlation_coefficient': 0.5596765609524958},\n",
       " 10: {'feature': 'servant_room',\n",
       "  'correlation_coefficient': 0.4391557377386093},\n",
       " 15: {'feature': 'ac', 'correlation_coefficient': 0.39194350829724006},\n",
       " 4: {'feature': 'num_balconies',\n",
       "  'correlation_coefficient': 0.35493545832756196},\n",
       " 23: {'feature': 'geyser', 'correlation_coefficient': 0.31043101323017736},\n",
       " 30: {'feature': 'wardrobe', 'correlation_coefficient': 0.24785566088119781},\n",
       " 21: {'feature': 'fan', 'correlation_coefficient': 0.24671806300503066},\n",
       " 17: {'feature': 'chimney', 'correlation_coefficient': 0.2425810706403011},\n",
       " 28: {'feature': 'stove', 'correlation_coefficient': 0.2337891353165259},\n",
       " 56: {'feature': 'Separate entry for servant room',\n",
       "  'correlation_coefficient': 0.2292457883906627},\n",
       " 24: {'feature': 'light', 'correlation_coefficient': 0.22198092468051997},\n",
       " 66: {'feature': 'furnished', 'correlation_coefficient': 0.21403311677142403},\n",
       " 9: {'feature': 'floor_number',\n",
       "  'correlation_coefficient': 0.21370998477614037},\n",
       " 25: {'feature': 'microwave', 'correlation_coefficient': 0.2101377498719164},\n",
       " 26: {'feature': 'modular', 'correlation_coefficient': 0.18953108976327002},\n",
       " 41: {'feature': 'Intercom Facility',\n",
       "  'correlation_coefficient': 0.18805185270928798},\n",
       " 59: {'feature': 'Swimming Pool',\n",
       "  'correlation_coefficient': 0.16534217063775344},\n",
       " 37: {'feature': 'False Ceiling Lighting',\n",
       "  'correlation_coefficient': 0.16046173232177158},\n",
       " 49: {'feature': 'Piped-gas', 'correlation_coefficient': 0.15775670367244726},\n",
       " 58: {'feature': 'Spacious Interiors',\n",
       "  'correlation_coefficient': 0.15479328199994616},\n",
       " 40: {'feature': 'High Ceiling Height',\n",
       "  'correlation_coefficient': 0.1520175376028425},\n",
       " 35: {'feature': 'Centrally Air Conditioned',\n",
       "  'correlation_coefficient': 0.1508440580424751},\n",
       " 31: {'feature': 'washing', 'correlation_coefficient': 0.14867153807925496},\n",
       " 36: {'feature': 'Club house / Community Center',\n",
       "  'correlation_coefficient': 0.1468380963175878},\n",
       " 44: {'feature': 'Low Density Society',\n",
       "  'correlation_coefficient': 0.14605718196569484},\n",
       " 47: {'feature': 'No open drainage around',\n",
       "  'correlation_coefficient': 0.14094089005819463},\n",
       " 51: {'feature': 'Private Garden / Terrace',\n",
       "  'correlation_coefficient': 0.14007287232824256},\n",
       " 64: {'feature': 'Water softening plant',\n",
       "  'correlation_coefficient': 0.14003466185025157},\n",
       " 42: {'feature': 'Internet/wi-fi connectivity',\n",
       "  'correlation_coefficient': 0.13919164423165103},\n",
       " 22: {'feature': 'fridge', 'correlation_coefficient': 0.13738418157860532},\n",
       " 39: {'feature': 'Fitness Centre / GYM',\n",
       "  'correlation_coefficient': 0.13698170584812236},\n",
       " 63: {'feature': 'Water purifier',\n",
       "  'correlation_coefficient': 0.13251099950604048},\n",
       " 20: {'feature': 'exhaust', 'correlation_coefficient': 0.1268273538767546},\n",
       " 12: {'feature': 'pooja_room', 'correlation_coefficient': 0.12456997096043752},\n",
       " 61: {'feature': 'Waste Disposal',\n",
       "  'correlation_coefficient': 0.11476189525867066},\n",
       " 33: {'feature': 'Airy Rooms', 'correlation_coefficient': 0.11193567356104608},\n",
       " 32: {'feature': 'water', 'correlation_coefficient': 0.10749060547983365},\n",
       " 38: {'feature': 'Feng Shui / Vaastu Compliant',\n",
       "  'correlation_coefficient': 0.10315330665577305},\n",
       " 46: {'feature': 'Natural Light',\n",
       "  'correlation_coefficient': 0.09668919798537333},\n",
       " 43: {'feature': 'Lift(s)', 'correlation_coefficient': 0.09582179242545362},\n",
       " 53: {'feature': 'Recently Renovated',\n",
       "  'correlation_coefficient': 0.09207113895785331},\n",
       " 50: {'feature': 'Power Back-up',\n",
       "  'correlation_coefficient': 0.08999887489182842},\n",
       " 54: {'feature': 'Security / Fire Alarm',\n",
       "  'correlation_coefficient': 0.08514378756508663},\n",
       " 48: {'feature': 'Park', 'correlation_coefficient': 0.0851038345989633},\n",
       " 52: {'feature': 'Rain Water Harvesting',\n",
       "  'correlation_coefficient': 0.08242439581510921},\n",
       " 34: {'feature': 'Bank Attached Property',\n",
       "  'correlation_coefficient': 0.08227918051118382},\n",
       " 57: {'feature': 'Shopping Centre',\n",
       "  'correlation_coefficient': 0.08190293758287077},\n",
       " 60: {'feature': 'Visitor Parking',\n",
       "  'correlation_coefficient': 0.07694649876299268},\n",
       " 55: {'feature': 'Security Personnel',\n",
       "  'correlation_coefficient': 0.07257495098819818},\n",
       " 11: {'feature': 'study_room', 'correlation_coefficient': 0.0718707842674589},\n",
       " 45: {'feature': 'Maintenance Staff',\n",
       "  'correlation_coefficient': 0.06904527949803414},\n",
       " 62: {'feature': 'Water Storage',\n",
       "  'correlation_coefficient': 0.06452850251218947},\n",
       " 29: {'feature': 'tv', 'correlation_coefficient': 0.06344646665313564},\n",
       " 14: {'feature': 'store_room', 'correlation_coefficient': 0.06321727494565599},\n",
       " 18: {'feature': 'curtains', 'correlation_coefficient': 0.040037936720483135},\n",
       " 5: {'feature': 'age_group', 'correlation_coefficient': 0.030605151871213012},\n",
       " 19: {'feature': 'dining', 'correlation_coefficient': 0.029830585871407873},\n",
       " 27: {'feature': 'sofa', 'correlation_coefficient': -0.0015276139266415909},\n",
       " 13: {'feature': 'other_additional_room',\n",
       "  'correlation_coefficient': -0.009828051045393875},\n",
       " 16: {'feature': 'bed', 'correlation_coefficient': -0.016431965839703463},\n",
       " 67: {'feature': 'floor_category',\n",
       "  'correlation_coefficient': -0.09423104971109175},\n",
       " 1: {'feature': 'sector', 'correlation_coefficient': -0.16649116780324008}}"
      ]
     },
     "execution_count": 46,
     "metadata": {},
     "output_type": "execute_result"
    }
   ],
   "source": [
    "corr_coef_price.sort_values('correlation_coefficient', ascending=False).T.to_dict()"
   ]
  },
  {
   "cell_type": "markdown",
   "id": "8d930b43",
   "metadata": {},
   "source": [
    "# Mutual Information\n",
    "\n",
    "- Unlike correlation coefficient, it can even capture non linear relationship.\n",
    "- super_built_up_area(0.89) >> built_up_area/carpet(0.72).\n",
    "- sector(0.61) is the next most important column.\n",
    "- total_num_rooms(0.43) > num_bathrooms(0.39) > num_bedrooms(0.32) > num_balconies(0.21) \n",
    "- ac(0.17) > wardrobe(0.12) > fan(0.11) > geyser(0.11)\n",
    "- servant_room(0.16) > > pooja_room(0.03) > study_room(0.02), store_room and other_additional_room are 0.\n",
    "- Swimming Pool(0.07) > Separate entry for servant room(0.07) > Club house / Community Center(0.06) > Water softening plant(0.06) > Water softening plant(0.05) > Water purifier(0.05) > Fitness Centre / GYM(0.05) > Feng Shui / Vaastu Compliant(0.05) > High Ceiling Height(0.05) > Maintenance Staff(0.05).\n",
    "- floor_number(0.06) > floor_category(0.03) "
   ]
  },
  {
   "cell_type": "code",
   "execution_count": 47,
   "id": "dc4c8f25",
   "metadata": {},
   "outputs": [],
   "source": [
    "from sklearn.feature_selection import mutual_info_regression\n",
    "\n",
    "mutual_info = mutual_info_regression(X, y)\n",
    "mutual_information_values = {}\n",
    "\n",
    "for feature_name, mutual_info_value in zip(X.columns, mutual_info):\n",
    "    mutual_information_values[feature_name] = mutual_info_value"
   ]
  },
  {
   "cell_type": "code",
   "execution_count": 48,
   "id": "9932cd4c",
   "metadata": {},
   "outputs": [],
   "source": [
    "mutual_information_values = dict(sorted(mutual_information_values.items(), key=lambda item: item[1], reverse=True))"
   ]
  },
  {
   "cell_type": "code",
   "execution_count": 49,
   "id": "6b38193e",
   "metadata": {},
   "outputs": [
    {
     "data": {
      "text/plain": [
       "{'super_built_up_area': 0.8832200741596052,\n",
       " 'built_up_area': 0.7416264281226415,\n",
       " 'carpet_area': 0.7104943019826475,\n",
       " 'sector': 0.5963286464324633,\n",
       " 'total_num_rooms': 0.41326094220467136,\n",
       " 'num_bathrooms': 0.39105084061208695,\n",
       " 'num_bedrooms': 0.33161411065438084,\n",
       " 'num_balconies': 0.20140558636437866,\n",
       " 'ac': 0.19098415540567304,\n",
       " 'servant_room': 0.16451643926263904,\n",
       " 'geyser': 0.13156561792321853,\n",
       " 'wardrobe': 0.11208220177865513,\n",
       " 'fan': 0.10587796963849527,\n",
       " 'Separate entry for servant room': 0.07344682436322669,\n",
       " 'floor_number': 0.06589781126025329,\n",
       " 'Swimming Pool': 0.062339549798119176,\n",
       " 'Intercom Facility': 0.0615710765195816,\n",
       " 'Feng Shui / Vaastu Compliant': 0.05907288824741119,\n",
       " 'Water softening plant': 0.058034847966148106,\n",
       " 'Club house / Community Center': 0.05737157260857595,\n",
       " 'Low Density Society': 0.05551699349032546,\n",
       " 'light': 0.055392227686690276,\n",
       " 'High Ceiling Height': 0.04810709975668104,\n",
       " 'floor_category': 0.04664465177935462,\n",
       " 'Recently Renovated': 0.045009528244524866,\n",
       " 'Lift(s)': 0.044974919847943884,\n",
       " 'Centrally Air Conditioned': 0.04443463265715275,\n",
       " 'Piped-gas': 0.04292650182385982,\n",
       " 'Internet/wi-fi connectivity': 0.04258967867801333,\n",
       " 'furnished': 0.041792011327057565,\n",
       " 'Airy Rooms': 0.041723875220907036,\n",
       " 'Visitor Parking': 0.041584430518827986,\n",
       " 'Fitness Centre / GYM': 0.041295645092954025,\n",
       " 'age_group': 0.04127419857064529,\n",
       " 'chimney': 0.041197626807489396,\n",
       " 'No open drainage around': 0.04077299952213398,\n",
       " 'Rain Water Harvesting': 0.03895572378868595,\n",
       " 'False Ceiling Lighting': 0.03729094039267533,\n",
       " 'Park': 0.0342097420438332,\n",
       " 'modular': 0.03352141577692613,\n",
       " 'Water Storage': 0.031665903797120976,\n",
       " 'stove': 0.02896999872565975,\n",
       " 'exhaust': 0.027819471278387464,\n",
       " 'Waste Disposal': 0.02736617042449696,\n",
       " 'microwave': 0.025316217342811864,\n",
       " 'Private Garden / Terrace': 0.02523451917490016,\n",
       " 'Maintenance Staff': 0.023524038325908325,\n",
       " 'Water purifier': 0.02343397429304339,\n",
       " 'Bank Attached Property': 0.023425774682679368,\n",
       " 'Natural Light': 0.022745257292215548,\n",
       " 'Spacious Interiors': 0.022254866128295525,\n",
       " 'fridge': 0.020309500201708186,\n",
       " 'Security / Fire Alarm': 0.019013330351228763,\n",
       " 'study_room': 0.018110030619131745,\n",
       " 'curtains': 0.017045626536269953,\n",
       " 'other_additional_room': 0.015135370166988293,\n",
       " 'Shopping Centre': 0.014805041967254073,\n",
       " 'water': 0.014638132172010598,\n",
       " 'tv': 0.010684741791251229,\n",
       " 'pooja_room': 0.010516953090537795,\n",
       " 'bed': 0.009229276861805635,\n",
       " 'sofa': 0.00587536797720789,\n",
       " 'Power Back-up': 0.005258831891646221,\n",
       " 'dining': 0.003941192328318799,\n",
       " 'Security Personnel': 0.002029179483765464,\n",
       " 'store_room': 0.0008271809627202753,\n",
       " 'washing': 0.00047676007910713025}"
      ]
     },
     "execution_count": 49,
     "metadata": {},
     "output_type": "execute_result"
    }
   ],
   "source": [
    "mutual_information_values"
   ]
  },
  {
   "cell_type": "code",
   "execution_count": 50,
   "id": "21270512",
   "metadata": {},
   "outputs": [
    {
     "data": {
      "text/plain": [
       "super_built_up_area                0.883220\n",
       "built_up_area                      0.741626\n",
       "carpet_area                        0.710494\n",
       "sector                             0.596329\n",
       "total_num_rooms                    0.413261\n",
       "num_bathrooms                      0.391051\n",
       "num_bedrooms                       0.331614\n",
       "num_balconies                      0.201406\n",
       "ac                                 0.190984\n",
       "servant_room                       0.164516\n",
       "geyser                             0.131566\n",
       "wardrobe                           0.112082\n",
       "fan                                0.105878\n",
       "Separate entry for servant room    0.073447\n",
       "floor_number                       0.065898\n",
       "Swimming Pool                      0.062340\n",
       "Intercom Facility                  0.061571\n",
       "Feng Shui / Vaastu Compliant       0.059073\n",
       "Water softening plant              0.058035\n",
       "Club house / Community Center      0.057372\n",
       "Low Density Society                0.055517\n",
       "light                              0.055392\n",
       "High Ceiling Height                0.048107\n",
       "floor_category                     0.046645\n",
       "Recently Renovated                 0.045010\n",
       "Lift(s)                            0.044975\n",
       "Centrally Air Conditioned          0.044435\n",
       "Piped-gas                          0.042927\n",
       "Internet/wi-fi connectivity        0.042590\n",
       "furnished                          0.041792\n",
       "Airy Rooms                         0.041724\n",
       "Visitor Parking                    0.041584\n",
       "Fitness Centre / GYM               0.041296\n",
       "age_group                          0.041274\n",
       "chimney                            0.041198\n",
       "No open drainage around            0.040773\n",
       "Rain Water Harvesting              0.038956\n",
       "False Ceiling Lighting             0.037291\n",
       "Park                               0.034210\n",
       "modular                            0.033521\n",
       "Water Storage                      0.031666\n",
       "stove                              0.028970\n",
       "exhaust                            0.027819\n",
       "Waste Disposal                     0.027366\n",
       "microwave                          0.025316\n",
       "Private Garden / Terrace           0.025235\n",
       "Maintenance Staff                  0.023524\n",
       "Water purifier                     0.023434\n",
       "Bank Attached Property             0.023426\n",
       "Natural Light                      0.022745\n",
       "Spacious Interiors                 0.022255\n",
       "fridge                             0.020310\n",
       "Security / Fire Alarm              0.019013\n",
       "study_room                         0.018110\n",
       "curtains                           0.017046\n",
       "other_additional_room              0.015135\n",
       "Shopping Centre                    0.014805\n",
       "water                              0.014638\n",
       "tv                                 0.010685\n",
       "pooja_room                         0.010517\n",
       "bed                                0.009229\n",
       "sofa                               0.005875\n",
       "Power Back-up                      0.005259\n",
       "dining                             0.003941\n",
       "Security Personnel                 0.002029\n",
       "store_room                         0.000827\n",
       "washing                            0.000477\n",
       "dtype: float64"
      ]
     },
     "execution_count": 50,
     "metadata": {},
     "output_type": "execute_result"
    }
   ],
   "source": [
    "mutual_info_data = pd.Series(mutual_information_values)\n",
    "mutual_info_data"
   ]
  },
  {
   "cell_type": "markdown",
   "id": "f141eb34",
   "metadata": {},
   "source": [
    "# Sequential Forward Selection\n",
    "\n",
    "- Clearly from above, we can see that very less features are important for price prediction, so we choose forward and not backward.\n",
    "- 'sector', 'num_balconies', 'super_built_up_area', 'servant_room', 'pooja_room', 'store_room', 'bed', 'Bank Attached Property', 'Centrally Air Conditioned', 'Lift(s)', 'Low Density Society', 'Natural Light', 'Private Garden / Terrace', 'Rain Water Harvesting', 'Spacious Interiors' are the 15 most important features according to Decision Tree."
   ]
  },
  {
   "cell_type": "code",
   "execution_count": 51,
   "id": "3768418b",
   "metadata": {},
   "outputs": [],
   "source": [
    "from mlxtend.feature_selection import SequentialFeatureSelector\n",
    "from sklearn.tree import DecisionTreeRegressor\n",
    "\n",
    "reg = DecisionTreeRegressor(random_state=42)\n",
    "sfs = SequentialFeatureSelector(reg, k_features=15, forward=True, floating=False, scoring='neg_mean_squared_error', cv=5)\n",
    "sfs.fit(X, y)\n",
    "selected_features = list(X.columns[list(sfs.k_feature_idx_)])"
   ]
  },
  {
   "cell_type": "code",
   "execution_count": 52,
   "id": "9065953a",
   "metadata": {},
   "outputs": [
    {
     "data": {
      "text/plain": [
       "['sector',\n",
       " 'num_balconies',\n",
       " 'super_built_up_area',\n",
       " 'servant_room',\n",
       " 'pooja_room',\n",
       " 'store_room',\n",
       " 'bed',\n",
       " 'Bank Attached Property',\n",
       " 'Centrally Air Conditioned',\n",
       " 'Lift(s)',\n",
       " 'Low Density Society',\n",
       " 'Natural Light',\n",
       " 'Private Garden / Terrace',\n",
       " 'Rain Water Harvesting',\n",
       " 'Spacious Interiors']"
      ]
     },
     "execution_count": 52,
     "metadata": {},
     "output_type": "execute_result"
    }
   ],
   "source": [
    "selected_features"
   ]
  },
  {
   "cell_type": "markdown",
   "id": "2abe37e7",
   "metadata": {},
   "source": [
    "# Random Forest Feature Importance\n",
    "\n",
    "- super_built_up_area(0.47) >> sector(0.13), rest are quite low."
   ]
  },
  {
   "cell_type": "code",
   "execution_count": 53,
   "id": "267d09bc",
   "metadata": {},
   "outputs": [],
   "source": [
    "from sklearn.ensemble import RandomForestRegressor\n",
    "\n",
    "rf = RandomForestRegressor(n_estimators=100, random_state=42)\n",
    "rf.fit(X, y)\n",
    "feature_importance_rf = pd.DataFrame({\n",
    "    'feature': X.columns,\n",
    "    'rf_importance': rf.feature_importances_\n",
    "}).sort_values(by='rf_importance', ascending=False)"
   ]
  },
  {
   "cell_type": "code",
   "execution_count": 54,
   "id": "22bf9b41",
   "metadata": {},
   "outputs": [],
   "source": [
    "random_forest_data = feature_importance_rf.set_index('feature').squeeze()"
   ]
  },
  {
   "cell_type": "code",
   "execution_count": 55,
   "id": "ec4e2d1f",
   "metadata": {},
   "outputs": [
    {
     "data": {
      "text/plain": [
       "feature\n",
       "super_built_up_area                0.472492\n",
       "built_up_area                      0.189758\n",
       "sector                             0.134084\n",
       "carpet_area                        0.022718\n",
       "floor_number                       0.020960\n",
       "geyser                             0.016957\n",
       "num_bathrooms                      0.015731\n",
       "total_num_rooms                    0.010793\n",
       "light                              0.008558\n",
       "num_balconies                      0.008475\n",
       "ac                                 0.007950\n",
       "age_group                          0.007406\n",
       "num_bedrooms                       0.005618\n",
       "fan                                0.005370\n",
       "wardrobe                           0.004924\n",
       "servant_room                       0.004041\n",
       "floor_category                     0.003183\n",
       "microwave                          0.003053\n",
       "Feng Shui / Vaastu Compliant       0.002796\n",
       "Park                               0.002336\n",
       "Security / Fire Alarm              0.002295\n",
       "curtains                           0.002267\n",
       "tv                                 0.002153\n",
       "study_room                         0.002045\n",
       "Maintenance Staff                  0.001937\n",
       "Water Storage                      0.001915\n",
       "chimney                            0.001839\n",
       "washing                            0.001800\n",
       "fridge                             0.001681\n",
       "Rain Water Harvesting              0.001678\n",
       "Lift(s)                            0.001549\n",
       "Visitor Parking                    0.001433\n",
       "Intercom Facility                  0.001407\n",
       "Security Personnel                 0.001391\n",
       "Power Back-up                      0.001381\n",
       "Piped-gas                          0.001377\n",
       "water                              0.001329\n",
       "Internet/wi-fi connectivity        0.001320\n",
       "Swimming Pool                      0.001291\n",
       "stove                              0.001231\n",
       "Separate entry for servant room    0.001210\n",
       "other_additional_room              0.001133\n",
       "modular                            0.000990\n",
       "Fitness Centre / GYM               0.000969\n",
       "High Ceiling Height                0.000967\n",
       "Club house / Community Center      0.000965\n",
       "Water softening plant              0.000950\n",
       "Shopping Centre                    0.000949\n",
       "Spacious Interiors                 0.000869\n",
       "Airy Rooms                         0.000804\n",
       "Recently Renovated                 0.000739\n",
       "Centrally Air Conditioned          0.000732\n",
       "pooja_room                         0.000704\n",
       "False Ceiling Lighting             0.000700\n",
       "Low Density Society                0.000692\n",
       "exhaust                            0.000690\n",
       "Waste Disposal                     0.000683\n",
       "dining                             0.000588\n",
       "Natural Light                      0.000558\n",
       "No open drainage around            0.000545\n",
       "bed                                0.000545\n",
       "store_room                         0.000516\n",
       "furnished                          0.000509\n",
       "Water purifier                     0.000425\n",
       "Bank Attached Property             0.000378\n",
       "Private Garden / Terrace           0.000359\n",
       "sofa                               0.000311\n",
       "Name: rf_importance, dtype: float64"
      ]
     },
     "execution_count": 55,
     "metadata": {},
     "output_type": "execute_result"
    }
   ],
   "source": [
    "random_forest_data"
   ]
  },
  {
   "cell_type": "markdown",
   "id": "5404b058",
   "metadata": {},
   "source": [
    "# Gradient Boosting Feature importances"
   ]
  },
  {
   "cell_type": "code",
   "execution_count": 56,
   "id": "2f76cf8d",
   "metadata": {},
   "outputs": [],
   "source": [
    "from sklearn.ensemble import GradientBoostingRegressor\n",
    "\n",
    "gb = GradientBoostingRegressor()\n",
    "gb.fit(X, y)\n",
    "\n",
    "feature_importance_gb = pd.DataFrame({\n",
    "    'feature': X.columns,\n",
    "    'gb_importance': gb.feature_importances_\n",
    "}).sort_values(by='gb_importance', ascending=False)"
   ]
  },
  {
   "cell_type": "code",
   "execution_count": 57,
   "id": "691fb7d0",
   "metadata": {},
   "outputs": [],
   "source": [
    "gradient_boosting_data = feature_importance_gb.set_index('feature').squeeze()"
   ]
  },
  {
   "cell_type": "code",
   "execution_count": 58,
   "id": "e0c1c16b",
   "metadata": {},
   "outputs": [
    {
     "data": {
      "text/plain": [
       "feature\n",
       "super_built_up_area                0.487095\n",
       "built_up_area                      0.200597\n",
       "sector                             0.167793\n",
       "num_bathrooms                      0.033454\n",
       "ac                                 0.017912\n",
       "geyser                             0.013198\n",
       "carpet_area                        0.012907\n",
       "floor_number                       0.012085\n",
       "servant_room                       0.005904\n",
       "Recently Renovated                 0.004403\n",
       "num_balconies                      0.003781\n",
       "total_num_rooms                    0.003578\n",
       "age_group                          0.003460\n",
       "light                              0.003319\n",
       "microwave                          0.003200\n",
       "tv                                 0.002686\n",
       "Water Storage                      0.002600\n",
       "Swimming Pool                      0.002462\n",
       "floor_category                     0.002359\n",
       "Security Personnel                 0.001914\n",
       "curtains                           0.001739\n",
       "chimney                            0.001426\n",
       "bed                                0.001031\n",
       "Intercom Facility                  0.001011\n",
       "fan                                0.000971\n",
       "washing                            0.000895\n",
       "wardrobe                           0.000799\n",
       "Maintenance Staff                  0.000772\n",
       "num_bedrooms                       0.000730\n",
       "fridge                             0.000713\n",
       "furnished                          0.000667\n",
       "Piped-gas                          0.000639\n",
       "study_room                         0.000463\n",
       "Shopping Centre                    0.000445\n",
       "Feng Shui / Vaastu Compliant       0.000417\n",
       "sofa                               0.000362\n",
       "water                              0.000332\n",
       "Security / Fire Alarm              0.000293\n",
       "store_room                         0.000259\n",
       "Visitor Parking                    0.000252\n",
       "Internet/wi-fi connectivity        0.000220\n",
       "Club house / Community Center      0.000175\n",
       "other_additional_room              0.000156\n",
       "pooja_room                         0.000149\n",
       "Centrally Air Conditioned          0.000131\n",
       "exhaust                            0.000131\n",
       "Bank Attached Property             0.000095\n",
       "modular                            0.000007\n",
       "Private Garden / Terrace           0.000006\n",
       "Lift(s)                            0.000005\n",
       "Waste Disposal                     0.000002\n",
       "Fitness Centre / GYM               0.000002\n",
       "Park                               0.000000\n",
       "Airy Rooms                         0.000000\n",
       "dining                             0.000000\n",
       "Water softening plant              0.000000\n",
       "Water purifier                     0.000000\n",
       "stove                              0.000000\n",
       "Spacious Interiors                 0.000000\n",
       "False Ceiling Lighting             0.000000\n",
       "No open drainage around            0.000000\n",
       "Separate entry for servant room    0.000000\n",
       "High Ceiling Height                0.000000\n",
       "Natural Light                      0.000000\n",
       "Rain Water Harvesting              0.000000\n",
       "Power Back-up                      0.000000\n",
       "Low Density Society                0.000000\n",
       "Name: gb_importance, dtype: float64"
      ]
     },
     "execution_count": 58,
     "metadata": {},
     "output_type": "execute_result"
    }
   ],
   "source": [
    "gradient_boosting_data"
   ]
  },
  {
   "cell_type": "markdown",
   "id": "ad33ec0f",
   "metadata": {},
   "source": [
    "# Permutation Importance"
   ]
  },
  {
   "cell_type": "code",
   "execution_count": 59,
   "id": "452eb012",
   "metadata": {},
   "outputs": [],
   "source": [
    "from sklearn.inspection import permutation_importance\n",
    "from sklearn.model_selection import train_test_split\n",
    "X_train_label, X_test_label, y_train_label, y_test_label = train_test_split(X, y, test_size=0.2, random_state=42)\n",
    "\n",
    "# Train a Random Forest regressor on label encoded data\n",
    "rf_label = RandomForestRegressor(n_estimators=100, random_state=42)\n",
    "rf_label.fit(X_train_label, y_train_label)\n",
    "\n",
    "# Calculate Permutation Importance\n",
    "perm_importance = permutation_importance(rf_label, X_test_label, y_test_label, n_repeats=30, random_state=42)\n",
    "\n",
    "# Organize results into a DataFrame\n",
    "perm_feature_importance = pd.DataFrame({\n",
    "    'feature': X.columns,\n",
    "    'permutation_importance': perm_importance.importances_mean\n",
    "}).sort_values(by='permutation_importance', ascending=False)"
   ]
  },
  {
   "cell_type": "code",
   "execution_count": 60,
   "id": "9ed6b774",
   "metadata": {},
   "outputs": [],
   "source": [
    "permutation_importance_data = perm_feature_importance.set_index('feature').squeeze()"
   ]
  },
  {
   "cell_type": "code",
   "execution_count": 61,
   "id": "5c6919c2",
   "metadata": {},
   "outputs": [
    {
     "data": {
      "text/plain": [
       "feature\n",
       "super_built_up_area                0.589144\n",
       "sector                             0.278015\n",
       "floor_number                       0.013902\n",
       "geyser                             0.011257\n",
       "servant_room                       0.006599\n",
       "num_balconies                      0.006239\n",
       "age_group                          0.006015\n",
       "microwave                          0.005369\n",
       "total_num_rooms                    0.004550\n",
       "Swimming Pool                      0.003535\n",
       "Security / Fire Alarm              0.003532\n",
       "num_bathrooms                      0.003036\n",
       "study_room                         0.002873\n",
       "fan                                0.002635\n",
       "num_bedrooms                       0.002516\n",
       "floor_category                     0.002418\n",
       "curtains                           0.002293\n",
       "Visitor Parking                    0.001720\n",
       "Fitness Centre / GYM               0.001665\n",
       "Security Personnel                 0.001658\n",
       "Feng Shui / Vaastu Compliant       0.001490\n",
       "light                              0.001451\n",
       "ac                                 0.001386\n",
       "wardrobe                           0.001032\n",
       "sofa                               0.000981\n",
       "Water softening plant              0.000933\n",
       "stove                              0.000913\n",
       "Intercom Facility                  0.000913\n",
       "Park                               0.000887\n",
       "tv                                 0.000772\n",
       "Spacious Interiors                 0.000742\n",
       "Club house / Community Center      0.000723\n",
       "Rain Water Harvesting              0.000649\n",
       "Recently Renovated                 0.000523\n",
       "water                              0.000480\n",
       "furnished                          0.000419\n",
       "dining                             0.000389\n",
       "Airy Rooms                         0.000360\n",
       "High Ceiling Height                0.000335\n",
       "Waste Disposal                     0.000295\n",
       "modular                            0.000286\n",
       "Private Garden / Terrace           0.000248\n",
       "Power Back-up                      0.000245\n",
       "Water purifier                     0.000244\n",
       "Water Storage                      0.000221\n",
       "Maintenance Staff                  0.000220\n",
       "Piped-gas                          0.000211\n",
       "exhaust                            0.000158\n",
       "Bank Attached Property             0.000125\n",
       "No open drainage around            0.000124\n",
       "fridge                             0.000106\n",
       "Low Density Society                0.000068\n",
       "bed                                0.000039\n",
       "store_room                         0.000021\n",
       "Lift(s)                           -0.000006\n",
       "Separate entry for servant room   -0.000035\n",
       "Centrally Air Conditioned         -0.000084\n",
       "Internet/wi-fi connectivity       -0.000098\n",
       "pooja_room                        -0.000111\n",
       "False Ceiling Lighting            -0.000130\n",
       "Natural Light                     -0.000304\n",
       "washing                           -0.000437\n",
       "Shopping Centre                   -0.000466\n",
       "other_additional_room             -0.001035\n",
       "chimney                           -0.001357\n",
       "built_up_area                     -0.012764\n",
       "carpet_area                       -0.015941\n",
       "Name: permutation_importance, dtype: float64"
      ]
     },
     "execution_count": 61,
     "metadata": {},
     "output_type": "execute_result"
    }
   ],
   "source": [
    "permutation_importance_data"
   ]
  },
  {
   "cell_type": "markdown",
   "id": "d18c2bc0",
   "metadata": {},
   "source": [
    "# Recursive Feature Elimination"
   ]
  },
  {
   "cell_type": "code",
   "execution_count": 62,
   "id": "c3cd58bb",
   "metadata": {},
   "outputs": [],
   "source": [
    "from sklearn.feature_selection import RFE\n",
    "\n",
    "# Initialize the base estimator\n",
    "estimator = RandomForestRegressor()\n",
    "\n",
    "# Apply RFE on the label-encoded and standardized training data\n",
    "selector_label = RFE(estimator, n_features_to_select=X.shape[1], step=1)\n",
    "selector_label = selector_label.fit(X, y)\n",
    "\n",
    "# Get the selected features based on RFE\n",
    "selected_features = X.columns[selector_label.support_]\n",
    "\n",
    "# Extract the coefficients for the selected features from the underlying linear regression model\n",
    "selected_coefficients = selector_label.estimator_.feature_importances_\n",
    "\n",
    "# Organize the results into a DataFrame\n",
    "rfe = pd.DataFrame({\n",
    "    'feature': selected_features,\n",
    "    'rfe_score': selected_coefficients\n",
    "}).sort_values(by='rfe_score', ascending=False)"
   ]
  },
  {
   "cell_type": "code",
   "execution_count": 63,
   "id": "7f5852b9",
   "metadata": {},
   "outputs": [],
   "source": [
    "recursive_feature_elimination_data = rfe.set_index('feature').squeeze()"
   ]
  },
  {
   "cell_type": "code",
   "execution_count": 64,
   "id": "b68ecf67",
   "metadata": {},
   "outputs": [
    {
     "data": {
      "text/plain": [
       "feature\n",
       "super_built_up_area                0.489849\n",
       "built_up_area                      0.168992\n",
       "sector                             0.133525\n",
       "carpet_area                        0.022322\n",
       "floor_number                       0.022172\n",
       "geyser                             0.018598\n",
       "num_bathrooms                      0.017206\n",
       "total_num_rooms                    0.010168\n",
       "age_group                          0.008432\n",
       "light                              0.008368\n",
       "num_balconies                      0.007094\n",
       "ac                                 0.006951\n",
       "num_bedrooms                       0.005195\n",
       "fan                                0.005097\n",
       "wardrobe                           0.004798\n",
       "servant_room                       0.004095\n",
       "microwave                          0.003844\n",
       "Security / Fire Alarm              0.003416\n",
       "tv                                 0.003257\n",
       "Feng Shui / Vaastu Compliant       0.002748\n",
       "floor_category                     0.002629\n",
       "study_room                         0.002214\n",
       "Security Personnel                 0.002156\n",
       "Park                               0.002135\n",
       "Water Storage                      0.002104\n",
       "Swimming Pool                      0.002033\n",
       "curtains                           0.001986\n",
       "fridge                             0.001832\n",
       "washing                            0.001770\n",
       "chimney                            0.001712\n",
       "Maintenance Staff                  0.001644\n",
       "water                              0.001467\n",
       "Piped-gas                          0.001439\n",
       "Lift(s)                            0.001433\n",
       "stove                              0.001427\n",
       "Water softening plant              0.001335\n",
       "Intercom Facility                  0.001319\n",
       "Rain Water Harvesting              0.001271\n",
       "Visitor Parking                    0.001220\n",
       "Shopping Centre                    0.001199\n",
       "other_additional_room              0.001180\n",
       "Fitness Centre / GYM               0.001130\n",
       "Power Back-up                      0.001098\n",
       "High Ceiling Height                0.000993\n",
       "Internet/wi-fi connectivity        0.000988\n",
       "pooja_room                         0.000943\n",
       "modular                            0.000925\n",
       "Recently Renovated                 0.000829\n",
       "exhaust                            0.000807\n",
       "Natural Light                      0.000789\n",
       "False Ceiling Lighting             0.000771\n",
       "Club house / Community Center      0.000748\n",
       "Spacious Interiors                 0.000733\n",
       "furnished                          0.000723\n",
       "dining                             0.000677\n",
       "Centrally Air Conditioned          0.000655\n",
       "Waste Disposal                     0.000652\n",
       "Separate entry for servant room    0.000645\n",
       "store_room                         0.000592\n",
       "Low Density Society                0.000548\n",
       "Airy Rooms                         0.000546\n",
       "Private Garden / Terrace           0.000525\n",
       "Water purifier                     0.000465\n",
       "No open drainage around            0.000439\n",
       "Bank Attached Property             0.000420\n",
       "sofa                               0.000418\n",
       "bed                                0.000310\n",
       "Name: rfe_score, dtype: float64"
      ]
     },
     "execution_count": 64,
     "metadata": {},
     "output_type": "execute_result"
    }
   ],
   "source": [
    "recursive_feature_elimination_data"
   ]
  },
  {
   "cell_type": "markdown",
   "id": "d6fdf31b",
   "metadata": {},
   "source": [
    "# SHAP"
   ]
  },
  {
   "cell_type": "code",
   "execution_count": 65,
   "id": "38abbeb6",
   "metadata": {},
   "outputs": [],
   "source": [
    "import shap\n",
    "\n",
    "# Compute SHAP values using the trained Random Forest model\n",
    "rf = RandomForestRegressor(n_estimators=100, random_state=42)\n",
    "rf.fit(X, y)\n",
    "\n",
    "explainer = shap.TreeExplainer(rf)\n",
    "shap_values = explainer.shap_values(X)\n",
    "\n",
    "# Summing the absolute SHAP values across all samples to get an overall measure of feature importance\n",
    "shap_sum = np.abs(shap_values).mean(axis=0)\n",
    "shap_score = pd.DataFrame({\n",
    "    'feature': X.columns,\n",
    "    'SHAP_score': np.abs(shap_values).mean(axis=0)\n",
    "}).sort_values(by='SHAP_score', ascending=False)"
   ]
  },
  {
   "cell_type": "code",
   "execution_count": 66,
   "id": "7dbddaa7",
   "metadata": {},
   "outputs": [],
   "source": [
    "shap_data = shap_score.set_index('feature').squeeze()"
   ]
  },
  {
   "cell_type": "code",
   "execution_count": 67,
   "id": "88ab09f3",
   "metadata": {},
   "outputs": [],
   "source": [
    "overall_ordinal_encoding_importance = correlation_data.apply(abs) + mutual_info_data.apply(abs) + random_forest_data.apply(abs) + gradient_boosting_data.apply(abs) + permutation_importance_data.apply(abs) + recursive_feature_elimination_data.apply(abs) + shap_data.apply(abs)"
   ]
  },
  {
   "cell_type": "code",
   "execution_count": 68,
   "id": "9885ee28",
   "metadata": {},
   "outputs": [
    {
     "data": {
      "text/plain": [
       "super_built_up_area                4.230647\n",
       "built_up_area                      2.235766\n",
       "sector                             1.769394\n",
       "carpet_area                        1.558096\n",
       "num_bathrooms                      1.092870\n",
       "total_num_rooms                    1.041292\n",
       "num_bedrooms                       0.915214\n",
       "ac                                 0.640467\n",
       "servant_room                       0.637620\n",
       "num_balconies                      0.595345\n",
       "geyser                             0.545310\n",
       "floor_number                       0.389797\n",
       "wardrobe                           0.375646\n",
       "fan                                0.371364\n",
       "Separate entry for servant room    0.306117\n",
       "light                              0.305527\n",
       "chimney                            0.294039\n",
       "stove                              0.270665\n",
       "Intercom Facility                  0.259771\n",
       "furnished                          0.258874\n",
       "microwave                          0.256923\n",
       "Swimming Pool                      0.241783\n",
       "modular                            0.226757\n",
       "Club house / Community Center      0.208856\n",
       "Piped-gas                          0.206251\n",
       "High Ceiling Height                0.204440\n",
       "Low Density Society                0.203939\n",
       "Water softening plant              0.203235\n",
       "False Ceiling Lighting             0.200549\n",
       "Centrally Air Conditioned          0.199236\n",
       "Internet/wi-fi connectivity        0.186039\n",
       "Fitness Centre / GYM               0.184641\n",
       "No open drainage around            0.183763\n",
       "Spacious Interiors                 0.180701\n",
       "Feng Shui / Vaastu Compliant       0.173395\n",
       "Private Garden / Terrace           0.167107\n",
       "fridge                             0.164569\n",
       "exhaust                            0.158316\n",
       "Water purifier                     0.157673\n",
       "floor_category                     0.157180\n",
       "washing                            0.157102\n",
       "Airy Rooms                         0.156567\n",
       "Lift(s)                            0.146504\n",
       "Waste Disposal                     0.144801\n",
       "Recently Renovated                 0.144385\n",
       "pooja_room                         0.137994\n",
       "Park                               0.128457\n",
       "water                              0.127129\n",
       "Rain Water Harvesting              0.127024\n",
       "Visitor Parking                    0.125918\n",
       "Natural Light                      0.122374\n",
       "Security / Fire Alarm              0.118756\n",
       "age_group                          0.113857\n",
       "Bank Attached Property             0.107521\n",
       "Water Storage                      0.107101\n",
       "Shopping Centre                    0.101262\n",
       "Maintenance Staff                  0.100342\n",
       "study_room                         0.099936\n",
       "Power Back-up                      0.099627\n",
       "Security Personnel                 0.084682\n",
       "tv                                 0.084003\n",
       "curtains                           0.067026\n",
       "store_room                         0.066349\n",
       "dining                             0.035902\n",
       "other_additional_room              0.029828\n",
       "bed                                0.028106\n",
       "sofa                               0.009847\n",
       "dtype: float64"
      ]
     },
     "execution_count": 68,
     "metadata": {},
     "output_type": "execute_result"
    }
   ],
   "source": [
    "overall_ordinal_encoding_importance.sort_values(ascending=False)"
   ]
  },
  {
   "cell_type": "markdown",
   "id": "676a9b96",
   "metadata": {},
   "source": [
    "# Encoding wrt Linear Models(One Hot Encoding)"
   ]
  },
  {
   "cell_type": "code",
   "execution_count": 69,
   "id": "c45b5c24",
   "metadata": {},
   "outputs": [],
   "source": [
    "data = copy.deepcopy(original_data)"
   ]
  },
  {
   "cell_type": "code",
   "execution_count": 70,
   "id": "3e0e553b",
   "metadata": {},
   "outputs": [
    {
     "name": "stdout",
     "output_type": "stream",
     "text": [
      "Index(['sector', 'age_group', 'floor_category'], dtype='object')\n"
     ]
    }
   ],
   "source": [
    "from sklearn.preprocessing import OneHotEncoder\n",
    "\n",
    "categorical_columns = data.select_dtypes(include=['object']).columns\n",
    "print(categorical_columns)"
   ]
  },
  {
   "cell_type": "markdown",
   "id": "c37a456f",
   "metadata": {},
   "source": [
    "So, all of them can be one hot encoded, as all are nominal features"
   ]
  },
  {
   "cell_type": "code",
   "execution_count": 153,
   "id": "203092a2",
   "metadata": {},
   "outputs": [],
   "source": [
    "for column_name in categorical_columns:\n",
    "    one_hot_encoded = pd.get_dummies(data[column_name], prefix=column_name, drop_first=True)\n",
    "    \n",
    "    data = data.drop(column_name, axis=1)\n",
    "\n",
    "    data = pd.concat([data, one_hot_encoded], axis=1)"
   ]
  },
  {
   "cell_type": "code",
   "execution_count": 154,
   "id": "b6c82267",
   "metadata": {},
   "outputs": [],
   "source": [
    "X = data.drop('price', axis=1)\n",
    "y = data['price']"
   ]
  },
  {
   "cell_type": "code",
   "execution_count": 73,
   "id": "01c9503e",
   "metadata": {},
   "outputs": [
    {
     "data": {
      "text/plain": [
       "Index(['price', 'num_bedrooms', 'num_bathrooms', 'num_balconies',\n",
       "       'super_built_up_area', 'built_up_area', 'carpet_area', 'floor_number',\n",
       "       'servant_room', 'study_room',\n",
       "       ...\n",
       "       'sector_sector 95', 'sector_sector 99', 'sector_shanti nagar',\n",
       "       'sector_sohna road', 'age_group_Moderately Old Flat',\n",
       "       'age_group_New Flat', 'age_group_Old Flat',\n",
       "       'age_group_Under Construction', 'floor_category_Low rise',\n",
       "       'floor_category_Mid rise'],\n",
       "      dtype='object', length=175)"
      ]
     },
     "execution_count": 73,
     "metadata": {},
     "output_type": "execute_result"
    }
   ],
   "source": [
    "data.columns"
   ]
  },
  {
   "cell_type": "code",
   "execution_count": 74,
   "id": "246bba73",
   "metadata": {},
   "outputs": [],
   "source": [
    "# dropping too high correlated input columns(since, inference would not be good due to multicollinearity)\n",
    "def get_highly_correlated_columns(X, correlation_threshold=0.9):\n",
    "    correlation_pairs = []\n",
    "\n",
    "    for i in range(len(X.columns)):\n",
    "        for j in range(i + 1, len(X.columns)):\n",
    "            col1 = X.columns[i]\n",
    "            col2 = X.columns[j]\n",
    "\n",
    "            # Calculate the correlation between the two columns\n",
    "            correlation = X[col1].corr(X[col2])\n",
    "\n",
    "            # Check if the correlation is greater than the threshold\n",
    "            if abs(correlation) > correlation_threshold:\n",
    "                correlation_pairs.append((col1, col2, correlation))\n",
    "    return correlation_pairs"
   ]
  },
  {
   "cell_type": "code",
   "execution_count": 75,
   "id": "b25c227e",
   "metadata": {},
   "outputs": [],
   "source": [
    "correlation_pairs = get_highly_correlated_columns(X)"
   ]
  },
  {
   "cell_type": "code",
   "execution_count": 76,
   "id": "d993aac7",
   "metadata": {},
   "outputs": [
    {
     "data": {
      "text/plain": [
       "[('super_built_up_area', 'built_up_area', 0.9905769957809325),\n",
       " ('super_built_up_area', 'carpet_area', 0.9793763721928429),\n",
       " ('built_up_area', 'carpet_area', 0.9901734404891087),\n",
       " ('Airy Rooms', 'Natural Light', 0.9072250607003409),\n",
       " ('Fitness Centre / GYM', 'Swimming Pool', 0.9047787834933723)]"
      ]
     },
     "execution_count": 76,
     "metadata": {},
     "output_type": "execute_result"
    }
   ],
   "source": [
    "correlation_pairs"
   ]
  },
  {
   "cell_type": "code",
   "execution_count": 77,
   "id": "c57bca13",
   "metadata": {},
   "outputs": [],
   "source": [
    " # dropping the columns from the pairs which had lower scores in tree based Feature selection\n",
    "X.drop(columns=['built_up_area', 'carpet_area', 'Natural Light', 'Fitness Centre / GYM'], inplace=True)"
   ]
  },
  {
   "cell_type": "markdown",
   "id": "ffa302eb",
   "metadata": {},
   "source": [
    "# Lasso\n",
    "\n",
    "- Whether your house is in the costly sectors/not varies price a lot.\n",
    "- Hence linear model suggests super_built_up_area, sector, ac, num_bathrooms, floor_number."
   ]
  },
  {
   "cell_type": "code",
   "execution_count": 78,
   "id": "c77ec753",
   "metadata": {},
   "outputs": [],
   "source": [
    "from sklearn.linear_model import Lasso\n",
    "from sklearn.preprocessing import StandardScaler\n",
    "\n",
    "scaler = StandardScaler()\n",
    "X_scaled = scaler.fit_transform(X)\n",
    "\n",
    "# Train a LASSO regression model\n",
    "# We'll use a relatively small value for alpha (the regularization strength) for demonstration purposes\n",
    "lasso = Lasso(alpha=0.01, random_state=42)\n",
    "lasso.fit(X_scaled, y)\n",
    "\n",
    "# Extract coefficients\n",
    "lasso = pd.DataFrame({\n",
    "    'feature': X.columns,\n",
    "    'lasso_coeff': lasso.coef_\n",
    "}).sort_values(by='lasso_coeff', ascending=False)"
   ]
  },
  {
   "cell_type": "code",
   "execution_count": 79,
   "id": "cf1b2571",
   "metadata": {
    "scrolled": false
   },
   "outputs": [],
   "source": [
    "lasso_scores = lasso.set_index('feature').squeeze().sort_values(ascending=False)"
   ]
  },
  {
   "cell_type": "code",
   "execution_count": 80,
   "id": "7371856d",
   "metadata": {
    "scrolled": false
   },
   "outputs": [
    {
     "data": {
      "text/plain": [
       "feature\n",
       "super_built_up_area                0.789324\n",
       "sector_sector 65                   0.217457\n",
       "sector_sector 54                   0.201092\n",
       "sector_sector 53                   0.198620\n",
       "sector_sector 62                   0.182267\n",
       "sector_sector 43                   0.141107\n",
       "sector_sector 63                   0.125005\n",
       "sector_sector 48                   0.106867\n",
       "sector_sector 50                   0.095920\n",
       "sector_sector 66                   0.095710\n",
       "sector_sector 59                   0.091880\n",
       "sector_sector 72                   0.090982\n",
       "sector_sector 28                   0.090398\n",
       "ac                                 0.081568\n",
       "sector_sector 67                   0.081466\n",
       "num_bathrooms                      0.079149\n",
       "floor_number                       0.078500\n",
       "sector_sector 61                   0.073428\n",
       "sector_sector 22                   0.067850\n",
       "sector_sector 112                  0.061722\n",
       "sector_sector 60                   0.061288\n",
       "sector_sector 58                   0.060713\n",
       "sector_sector 24                   0.056755\n",
       "sector_sector 113                  0.050108\n",
       "fridge                             0.049880\n",
       "sector_sector 49                   0.047028\n",
       "microwave                          0.043336\n",
       "sector_sector 111                  0.040044\n",
       "sector_sector 25                   0.035771\n",
       "sector_sector 31                   0.028684\n",
       "sector_sector 102                  0.028515\n",
       "sector_sector 29                   0.026116\n",
       "sector_sector 74                   0.025530\n",
       "sector_gwal pahari                 0.025194\n",
       "sector_sector 128                  0.023651\n",
       "sector_sector 30                   0.023607\n",
       "age_group_Under Construction       0.022046\n",
       "sector_sector 41                   0.020731\n",
       "Lift(s)                            0.019027\n",
       "sector_sector 57                   0.018549\n",
       "stove                              0.017596\n",
       "sector_sector 36                   0.017412\n",
       "sector_sector 108                  0.017146\n",
       "sector_sector 69                   0.016757\n",
       "Club house / Community Center      0.015623\n",
       "washing                            0.015038\n",
       "sector_sector 110                  0.014618\n",
       "sector_sector 33                   0.014543\n",
       "sector_sector 56                   0.014057\n",
       "Centrally Air Conditioned          0.013390\n",
       "Power Back-up                      0.012192\n",
       "sector_sector 32                   0.009351\n",
       "Intercom Facility                  0.009234\n",
       "age_group_New Flat                 0.006663\n",
       "Shopping Centre                    0.006627\n",
       "servant_room                       0.004868\n",
       "sector_sector 47                   0.002710\n",
       "wardrobe                           0.002589\n",
       "Swimming Pool                      0.001384\n",
       "Internet/wi-fi connectivity       -0.000000\n",
       "sector_dwarka expressway          -0.000000\n",
       "sector_faridabad road             -0.000000\n",
       "sector_golf course ext road       -0.000000\n",
       "sector_sector 7                   -0.000000\n",
       "sector_golf course road            0.000000\n",
       "age_group_Moderately Old Flat     -0.000000\n",
       "sector_sector 76                   0.000000\n",
       "floor_category_Low rise           -0.000000\n",
       "pooja_room                        -0.000000\n",
       "store_room                        -0.000000\n",
       "sector_sector 93                  -0.000000\n",
       "sector_ats marigold                0.000000\n",
       "sector_bptp                        0.000000\n",
       "sector_sector 71                  -0.000000\n",
       "sector_sector 68                   0.000000\n",
       "Water Storage                     -0.000000\n",
       "Waste Disposal                    -0.000000\n",
       "sector_sector 70                   0.000000\n",
       "Low Density Society               -0.000000\n",
       "Separate entry for servant room   -0.000000\n",
       "Security / Fire Alarm             -0.000000\n",
       "Recently Renovated                -0.000000\n",
       "Rain Water Harvesting              0.000000\n",
       "Private Garden / Terrace          -0.000000\n",
       "Piped-gas                         -0.000000\n",
       "Park                               0.000000\n",
       "total_num_rooms                   -0.000000\n",
       "chimney                            0.000000\n",
       "High Ceiling Height               -0.000000\n",
       "sector_sector 89                  -0.000000\n",
       "sector_sector 5                    0.000000\n",
       "sector_sector 23                  -0.000000\n",
       "sector_sector 3                    0.000000\n",
       "sector_sector 11                  -0.000000\n",
       "sector_sector 45                   0.000000\n",
       "sector_sector 35                  -0.000000\n",
       "sector_sector 6                   -0.000000\n",
       "sector_sector 105                 -0.000000\n",
       "sector_sector 88                   0.000000\n",
       "sector_sector 38                   0.000000\n",
       "sector_sector 2                    0.000000\n",
       "sector_sector 15                   0.000000\n",
       "sector_sector 4                   -0.000000\n",
       "sector_sector 55                  -0.000000\n",
       "sector_sector 44                  -0.000000\n",
       "sector_sector 79                  -0.000000\n",
       "num_bedrooms                       0.000000\n",
       "light                              0.000000\n",
       "modular                           -0.000000\n",
       "sector_sector 81                  -0.000000\n",
       "tv                                -0.000000\n",
       "fan                                0.000000\n",
       "Airy Rooms                        -0.000000\n",
       "Bank Attached Property            -0.000000\n",
       "False Ceiling Lighting            -0.000000\n",
       "geyser                             0.000000\n",
       "sector_samaspur                   -0.000000\n",
       "floor_category_Mid rise           -0.000121\n",
       "sector_sector 80                  -0.000456\n",
       "sector_sector 52                  -0.000556\n",
       "sector_shanti nagar               -0.000704\n",
       "sector_sector 21                  -0.000766\n",
       "Water purifier                    -0.001051\n",
       "sector_new gurgaon                -0.001269\n",
       "No open drainage around           -0.001588\n",
       "sector_sector 77                  -0.001719\n",
       "furnished                         -0.001817\n",
       "Spacious Interiors                -0.001917\n",
       "sector_sector 14                  -0.002389\n",
       "sector_sohna road                 -0.002434\n",
       "study_room                        -0.002721\n",
       "sector_sector 106                 -0.002776\n",
       "sector_sector 73                  -0.002871\n",
       "sofa                              -0.003136\n",
       "sector_sector 51                  -0.003415\n",
       "sector_sector 109                 -0.003697\n",
       "Feng Shui / Vaastu Compliant      -0.003980\n",
       "Water softening plant             -0.004591\n",
       "sector_sector 83                  -0.006596\n",
       "sector_sector 12                  -0.006753\n",
       "other_additional_room             -0.009545\n",
       "curtains                          -0.010378\n",
       "sector_sector 99                  -0.012186\n",
       "sector_sector 107                 -0.012636\n",
       "water                             -0.012794\n",
       "sector_sector 91                  -0.013041\n",
       "exhaust                           -0.013067\n",
       "sector_sector 86                  -0.013701\n",
       "sector_sector 103                 -0.014371\n",
       "sector_sector 10                  -0.014675\n",
       "sector_sector 104                 -0.015760\n",
       "sector_sector 9                   -0.016138\n",
       "sector_sector 78                  -0.016163\n",
       "num_balconies                     -0.016200\n",
       "Maintenance Staff                 -0.018639\n",
       "sector_sector 95                  -0.019990\n",
       "Visitor Parking                   -0.020833\n",
       "sector_sector 84                  -0.021145\n",
       "sector_sector 39                  -0.022520\n",
       "dining                            -0.023916\n",
       "sector_sector 82                  -0.024820\n",
       "sector_sector 1                   -0.029113\n",
       "bed                               -0.030985\n",
       "Security Personnel                -0.033141\n",
       "sector_sector 37                  -0.036012\n",
       "age_group_Old Flat                -0.038888\n",
       "sector_sector 85                  -0.046345\n",
       "sector_sector 90                  -0.055184\n",
       "sector_sector 92                  -0.077979\n",
       "sector_manesar                    -0.091571\n",
       "Name: lasso_coeff, dtype: float64"
      ]
     },
     "execution_count": 80,
     "metadata": {},
     "output_type": "execute_result"
    }
   ],
   "source": [
    "lasso_scores"
   ]
  },
  {
   "cell_type": "markdown",
   "id": "c95c8008",
   "metadata": {},
   "source": [
    "# Linear Regression Weights"
   ]
  },
  {
   "cell_type": "code",
   "execution_count": 81,
   "id": "c7f3c424",
   "metadata": {},
   "outputs": [],
   "source": [
    "from sklearn.linear_model import LinearRegression\n",
    "lin_reg = LinearRegression()\n",
    "lin_reg.fit(X_scaled, y)\n",
    "\n",
    "# Extract coefficients\n",
    "linear_regression_scores = pd.DataFrame({\n",
    "    'feature': X.columns,\n",
    "    'reg_coeffs': lin_reg.coef_\n",
    "}).sort_values(by='reg_coeffs', ascending=False)"
   ]
  },
  {
   "cell_type": "code",
   "execution_count": 82,
   "id": "51127715",
   "metadata": {},
   "outputs": [],
   "source": [
    "linear_regression_scores = linear_regression_scores.set_index('feature').squeeze().sort_values(ascending=False)"
   ]
  },
  {
   "cell_type": "code",
   "execution_count": 83,
   "id": "e671cbae",
   "metadata": {
    "scrolled": false
   },
   "outputs": [
    {
     "data": {
      "text/plain": [
       "feature\n",
       "total_num_rooms                    7.164476e+11\n",
       "super_built_up_area                7.710266e-01\n",
       "sector_sector 53                   1.783290e-01\n",
       "sector_sector 54                   1.750536e-01\n",
       "sector_sector 62                   1.558456e-01\n",
       "sector_sector 65                   1.404037e-01\n",
       "sector_sector 43                   1.186523e-01\n",
       "sector_sector 63                   8.482742e-02\n",
       "ac                                 7.819748e-02\n",
       "fridge                             7.298279e-02\n",
       "sector_sector 59                   7.232094e-02\n",
       "sector_sector 48                   7.199669e-02\n",
       "sector_sector 50                   6.613803e-02\n",
       "sector_sector 28                   6.295252e-02\n",
       "Centrally Air Conditioned          5.986214e-02\n",
       "sector_sector 24                   5.383682e-02\n",
       "sector_sector 66                   5.354500e-02\n",
       "sector_sector 72                   5.308914e-02\n",
       "microwave                          4.792786e-02\n",
       "sector_sector 58                   4.739380e-02\n",
       "Shopping Centre                    4.164124e-02\n",
       "wardrobe                           4.130173e-02\n",
       "Lift(s)                            3.848267e-02\n",
       "sector_sector 60                   3.686047e-02\n",
       "sector_sector 25                   3.586197e-02\n",
       "sector_sector 112                  3.325844e-02\n",
       "sector_sector 22                   2.841949e-02\n",
       "washing                            2.796936e-02\n",
       "sector_sector 128                  2.761745e-02\n",
       "stove                              2.619934e-02\n",
       "sector_sector 30                   2.563095e-02\n",
       "sector_sector 31                   2.287185e-02\n",
       "sector_sector 41                   2.209187e-02\n",
       "sector_sector 61                   2.097321e-02\n",
       "Airy Rooms                         1.931763e-02\n",
       "sector_sector 29                   1.911390e-02\n",
       "Intercom Facility                  1.863098e-02\n",
       "Power Back-up                      1.763535e-02\n",
       "floor_number                       1.733398e-02\n",
       "Swimming Pool                      1.705742e-02\n",
       "age_group_New Flat                 1.517868e-02\n",
       "fan                                1.371002e-02\n",
       "Internet/wi-fi connectivity        1.238251e-02\n",
       "sector_sector 67                   1.211548e-02\n",
       "age_group_Under Construction       1.183319e-02\n",
       "sector_sector 49                   1.172066e-02\n",
       "False Ceiling Lighting             1.160622e-02\n",
       "Club house / Community Center      1.036835e-02\n",
       "sector_sector 57                   9.952545e-03\n",
       "Rain Water Harvesting              9.456635e-03\n",
       "Park                               7.766724e-03\n",
       "Water Storage                      5.878448e-03\n",
       "Security / Fire Alarm              5.630493e-03\n",
       "Low Density Society                4.898071e-03\n",
       "sector_sector 32                   4.575729e-03\n",
       "chimney                            4.074097e-03\n",
       "sector_sector 111                  3.971100e-03\n",
       "Recently Renovated                 2.715707e-03\n",
       "High Ceiling Height                1.786709e-03\n",
       "sector_golf course road           -5.207062e-04\n",
       "Bank Attached Property            -6.370544e-04\n",
       "sector_gwal pahari                -9.574890e-04\n",
       "sector_sector 113                 -3.669739e-03\n",
       "Waste Disposal                    -4.671574e-03\n",
       "sector_bptp                       -5.216599e-03\n",
       "sector_sector 38                  -5.868912e-03\n",
       "light                             -5.905151e-03\n",
       "modular                           -6.042480e-03\n",
       "geyser                            -6.087303e-03\n",
       "sector_ats marigold               -6.105423e-03\n",
       "sector_sector 74                  -7.414818e-03\n",
       "sector_sector 44                  -7.856369e-03\n",
       "sector_sector 45                  -7.892609e-03\n",
       "sector_sector 47                  -9.237289e-03\n",
       "sector_sector 15                  -9.544373e-03\n",
       "exhaust                           -9.597778e-03\n",
       "sector_sector 56                  -1.000404e-02\n",
       "sector_sector 55                  -1.080060e-02\n",
       "sector_faridabad road             -1.271152e-02\n",
       "sector_sector 110                 -1.324081e-02\n",
       "tv                                -1.329803e-02\n",
       "sofa                              -1.356888e-02\n",
       "Private Garden / Terrace          -1.366043e-02\n",
       "sector_sector 5                   -1.371098e-02\n",
       "sector_sector 35                  -1.500416e-02\n",
       "No open drainage around           -1.562500e-02\n",
       "sector_sector 23                  -1.564980e-02\n",
       "sector_golf course ext road       -1.572609e-02\n",
       "sector_samaspur                   -1.605320e-02\n",
       "Separate entry for servant room   -1.760769e-02\n",
       "curtains                          -1.859283e-02\n",
       "sector_sector 14                  -1.967239e-02\n",
       "Water purifier                    -2.007103e-02\n",
       "sector_sector 6                   -2.027231e-02\n",
       "Visitor Parking                   -2.105713e-02\n",
       "sector_sector 36                  -2.209854e-02\n",
       "sector_sector 105                 -2.378273e-02\n",
       "Feng Shui / Vaastu Compliant      -2.437210e-02\n",
       "sector_shanti nagar               -2.538300e-02\n",
       "water                             -2.770233e-02\n",
       "sector_sector 76                  -2.770424e-02\n",
       "sector_sector 21                  -2.840614e-02\n",
       "dining                            -2.873230e-02\n",
       "age_group_Moderately Old Flat     -2.923584e-02\n",
       "sector_sector 73                  -3.040504e-02\n",
       "Piped-gas                         -3.078461e-02\n",
       "Spacious Interiors                -3.182220e-02\n",
       "sector_sector 7                   -3.185844e-02\n",
       "sector_sector 3                   -3.223896e-02\n",
       "sector_sector 80                  -3.348541e-02\n",
       "sector_new gurgaon                -3.350067e-02\n",
       "sector_dwarka expressway          -3.377342e-02\n",
       "sector_sector 93                  -3.453445e-02\n",
       "sector_sector 51                  -3.478718e-02\n",
       "sector_sector 11                  -3.534222e-02\n",
       "bed                               -3.867912e-02\n",
       "Water softening plant             -3.963804e-02\n",
       "Security Personnel                -3.987122e-02\n",
       "sector_sector 52                  -4.056311e-02\n",
       "sector_sector 39                  -4.427433e-02\n",
       "sector_sector 4                   -4.476738e-02\n",
       "sector_sector 12                  -4.480124e-02\n",
       "sector_sector 68                  -4.586220e-02\n",
       "sector_sector 10                  -4.625177e-02\n",
       "Maintenance Staff                 -4.647827e-02\n",
       "sector_sector 108                 -4.826546e-02\n",
       "sector_sector 9                   -4.876089e-02\n",
       "furnished                         -4.891968e-02\n",
       "sector_sector 71                  -4.950809e-02\n",
       "sector_sector 88                  -5.335999e-02\n",
       "sector_sector 2                   -5.609512e-02\n",
       "sector_sector 33                  -5.796051e-02\n",
       "sector_sector 1                   -5.824661e-02\n",
       "sector_sector 91                  -5.838203e-02\n",
       "sector_sector 78                  -6.409979e-02\n",
       "sector_sector 102                 -6.427956e-02\n",
       "sector_sector 77                  -6.428456e-02\n",
       "sector_sector 69                  -6.996918e-02\n",
       "sector_sector 106                 -7.456970e-02\n",
       "sector_sector 89                  -8.008575e-02\n",
       "sector_sector 109                 -8.460617e-02\n",
       "floor_category_Mid rise           -8.663559e-02\n",
       "age_group_Old Flat                -9.147644e-02\n",
       "sector_sector 103                 -9.293556e-02\n",
       "sector_sector 70                  -9.311771e-02\n",
       "sector_sector 99                  -9.355164e-02\n",
       "sector_sector 83                  -9.600067e-02\n",
       "sector_sector 81                  -9.837341e-02\n",
       "sector_sector 84                  -1.018443e-01\n",
       "sector_sector 79                  -1.029186e-01\n",
       "sector_sector 107                 -1.036701e-01\n",
       "sector_sector 104                 -1.069412e-01\n",
       "sector_sector 82                  -1.081905e-01\n",
       "sector_sector 86                  -1.082172e-01\n",
       "floor_category_Low rise           -1.156960e-01\n",
       "sector_sector 95                  -1.181159e-01\n",
       "sector_manesar                    -1.456337e-01\n",
       "sector_sohna road                 -1.477923e-01\n",
       "sector_sector 37                  -1.539001e-01\n",
       "sector_sector 90                  -1.577511e-01\n",
       "sector_sector 85                  -1.650610e-01\n",
       "sector_sector 92                  -1.913271e-01\n",
       "store_room                        -5.450438e+10\n",
       "other_additional_room             -7.389143e+10\n",
       "pooja_room                        -7.986557e+10\n",
       "study_room                        -8.937598e+10\n",
       "servant_room                      -1.147010e+11\n",
       "num_bedrooms                      -1.898241e+11\n",
       "num_bathrooms                     -2.514458e+11\n",
       "num_balconies                     -2.613475e+11\n",
       "Name: reg_coeffs, dtype: float64"
      ]
     },
     "execution_count": 83,
     "metadata": {},
     "output_type": "execute_result"
    }
   ],
   "source": [
    "linear_regression_scores # doesn't seem trustable"
   ]
  },
  {
   "cell_type": "code",
   "execution_count": 84,
   "id": "679085e5",
   "metadata": {},
   "outputs": [
    {
     "data": {
      "text/plain": [
       "super_built_up_area                4.230647\n",
       "built_up_area                      2.235766\n",
       "sector                             1.769394\n",
       "carpet_area                        1.558096\n",
       "num_bathrooms                      1.092870\n",
       "total_num_rooms                    1.041292\n",
       "num_bedrooms                       0.915214\n",
       "ac                                 0.640467\n",
       "servant_room                       0.637620\n",
       "num_balconies                      0.595345\n",
       "geyser                             0.545310\n",
       "floor_number                       0.389797\n",
       "wardrobe                           0.375646\n",
       "fan                                0.371364\n",
       "Separate entry for servant room    0.306117\n",
       "light                              0.305527\n",
       "chimney                            0.294039\n",
       "stove                              0.270665\n",
       "Intercom Facility                  0.259771\n",
       "furnished                          0.258874\n",
       "microwave                          0.256923\n",
       "Swimming Pool                      0.241783\n",
       "modular                            0.226757\n",
       "Club house / Community Center      0.208856\n",
       "Piped-gas                          0.206251\n",
       "High Ceiling Height                0.204440\n",
       "Low Density Society                0.203939\n",
       "Water softening plant              0.203235\n",
       "False Ceiling Lighting             0.200549\n",
       "Centrally Air Conditioned          0.199236\n",
       "Internet/wi-fi connectivity        0.186039\n",
       "Fitness Centre / GYM               0.184641\n",
       "No open drainage around            0.183763\n",
       "Spacious Interiors                 0.180701\n",
       "Feng Shui / Vaastu Compliant       0.173395\n",
       "Private Garden / Terrace           0.167107\n",
       "fridge                             0.164569\n",
       "exhaust                            0.158316\n",
       "Water purifier                     0.157673\n",
       "floor_category                     0.157180\n",
       "washing                            0.157102\n",
       "Airy Rooms                         0.156567\n",
       "Lift(s)                            0.146504\n",
       "Waste Disposal                     0.144801\n",
       "Recently Renovated                 0.144385\n",
       "pooja_room                         0.137994\n",
       "Park                               0.128457\n",
       "water                              0.127129\n",
       "Rain Water Harvesting              0.127024\n",
       "Visitor Parking                    0.125918\n",
       "Natural Light                      0.122374\n",
       "Security / Fire Alarm              0.118756\n",
       "age_group                          0.113857\n",
       "Bank Attached Property             0.107521\n",
       "Water Storage                      0.107101\n",
       "Shopping Centre                    0.101262\n",
       "Maintenance Staff                  0.100342\n",
       "study_room                         0.099936\n",
       "Power Back-up                      0.099627\n",
       "Security Personnel                 0.084682\n",
       "tv                                 0.084003\n",
       "curtains                           0.067026\n",
       "store_room                         0.066349\n",
       "dining                             0.035902\n",
       "other_additional_room              0.029828\n",
       "bed                                0.028106\n",
       "sofa                               0.009847\n",
       "dtype: float64"
      ]
     },
     "execution_count": 84,
     "metadata": {},
     "output_type": "execute_result"
    }
   ],
   "source": [
    "overall_ordinal_encoding_importance.sort_values(ascending=False)"
   ]
  },
  {
   "cell_type": "markdown",
   "id": "26efa2fc",
   "metadata": {},
   "source": [
    "# Final Decision"
   ]
  },
  {
   "cell_type": "code",
   "execution_count": 103,
   "id": "4e1fcd34",
   "metadata": {},
   "outputs": [],
   "source": [
    "important_columns = [\n",
    "    'sector',\n",
    "    'num_bedrooms',\n",
    "    'num_bathrooms',\n",
    "    'num_balconies',\n",
    "    'age_group', \n",
    "    'super_built_up_area', \n",
    "    'floor_number',\n",
    "    'servant_room',\n",
    "    'furnished',\n",
    "    'Centrally Air Conditioned',\n",
    "    'False Ceiling Lighting',\n",
    "    'Intercom Facility',\n",
    "    'Private Garden / Terrace',\n",
    "    'Separate entry for servant room',\n",
    "    'Spacious Interiors',\n",
    "    'Swimming Pool',\n",
    "    'Club house / Community Center',\n",
    "    'Piped-gas',\n",
    "    'ac',\n",
    "    'geyser',\n",
    "    'fan',\n",
    "    'wardrobe',\n",
    "    'light',\n",
    "    'Low Density Society',\n",
    "    'total_num_rooms',\n",
    "]"
   ]
  },
  {
   "cell_type": "markdown",
   "id": "ed33badd",
   "metadata": {},
   "source": [
    "# Initial Model"
   ]
  },
  {
   "cell_type": "code",
   "execution_count": 104,
   "id": "2f7315e7",
   "metadata": {},
   "outputs": [],
   "source": [
    "price_prediction_data = original_data[important_columns]"
   ]
  },
  {
   "cell_type": "code",
   "execution_count": 156,
   "id": "390ededd",
   "metadata": {},
   "outputs": [
    {
     "data": {
      "text/html": [
       "<div>\n",
       "<style scoped>\n",
       "    .dataframe tbody tr th:only-of-type {\n",
       "        vertical-align: middle;\n",
       "    }\n",
       "\n",
       "    .dataframe tbody tr th {\n",
       "        vertical-align: top;\n",
       "    }\n",
       "\n",
       "    .dataframe thead th {\n",
       "        text-align: right;\n",
       "    }\n",
       "</style>\n",
       "<table border=\"1\" class=\"dataframe\">\n",
       "  <thead>\n",
       "    <tr style=\"text-align: right;\">\n",
       "      <th></th>\n",
       "      <th>sector</th>\n",
       "      <th>num_bedrooms</th>\n",
       "      <th>num_bathrooms</th>\n",
       "      <th>num_balconies</th>\n",
       "      <th>age_group</th>\n",
       "      <th>super_built_up_area</th>\n",
       "      <th>floor_number</th>\n",
       "      <th>servant_room</th>\n",
       "      <th>furnished</th>\n",
       "      <th>Centrally Air Conditioned</th>\n",
       "      <th>...</th>\n",
       "      <th>Swimming Pool</th>\n",
       "      <th>Club house / Community Center</th>\n",
       "      <th>Piped-gas</th>\n",
       "      <th>ac</th>\n",
       "      <th>geyser</th>\n",
       "      <th>fan</th>\n",
       "      <th>wardrobe</th>\n",
       "      <th>light</th>\n",
       "      <th>Low Density Society</th>\n",
       "      <th>total_num_rooms</th>\n",
       "    </tr>\n",
       "  </thead>\n",
       "  <tbody>\n",
       "    <tr>\n",
       "      <th>1621</th>\n",
       "      <td>sector 95</td>\n",
       "      <td>3</td>\n",
       "      <td>3.0</td>\n",
       "      <td>2.0</td>\n",
       "      <td>Moderately New Flat</td>\n",
       "      <td>1965.00000</td>\n",
       "      <td>4.0</td>\n",
       "      <td>0</td>\n",
       "      <td>0</td>\n",
       "      <td>0</td>\n",
       "      <td>...</td>\n",
       "      <td>0</td>\n",
       "      <td>0</td>\n",
       "      <td>0</td>\n",
       "      <td>0</td>\n",
       "      <td>0</td>\n",
       "      <td>0</td>\n",
       "      <td>1</td>\n",
       "      <td>0</td>\n",
       "      <td>0</td>\n",
       "      <td>9.0</td>\n",
       "    </tr>\n",
       "    <tr>\n",
       "      <th>743</th>\n",
       "      <td>sector 112</td>\n",
       "      <td>3</td>\n",
       "      <td>5.0</td>\n",
       "      <td>4.0</td>\n",
       "      <td>Moderately New Flat</td>\n",
       "      <td>2802.00000</td>\n",
       "      <td>22.0</td>\n",
       "      <td>1</td>\n",
       "      <td>1</td>\n",
       "      <td>0</td>\n",
       "      <td>...</td>\n",
       "      <td>0</td>\n",
       "      <td>0</td>\n",
       "      <td>0</td>\n",
       "      <td>5</td>\n",
       "      <td>4</td>\n",
       "      <td>0</td>\n",
       "      <td>0</td>\n",
       "      <td>0</td>\n",
       "      <td>0</td>\n",
       "      <td>13.0</td>\n",
       "    </tr>\n",
       "    <tr>\n",
       "      <th>1503</th>\n",
       "      <td>sector 85</td>\n",
       "      <td>4</td>\n",
       "      <td>4.0</td>\n",
       "      <td>3.0</td>\n",
       "      <td>Moderately New Flat</td>\n",
       "      <td>2812.00000</td>\n",
       "      <td>7.0</td>\n",
       "      <td>1</td>\n",
       "      <td>0</td>\n",
       "      <td>0</td>\n",
       "      <td>...</td>\n",
       "      <td>0</td>\n",
       "      <td>0</td>\n",
       "      <td>0</td>\n",
       "      <td>6</td>\n",
       "      <td>0</td>\n",
       "      <td>0</td>\n",
       "      <td>0</td>\n",
       "      <td>0</td>\n",
       "      <td>0</td>\n",
       "      <td>14.0</td>\n",
       "    </tr>\n",
       "    <tr>\n",
       "      <th>2744</th>\n",
       "      <td>sector 37</td>\n",
       "      <td>3</td>\n",
       "      <td>3.0</td>\n",
       "      <td>3.0</td>\n",
       "      <td>Moderately New Flat</td>\n",
       "      <td>1920.00000</td>\n",
       "      <td>7.0</td>\n",
       "      <td>0</td>\n",
       "      <td>1</td>\n",
       "      <td>0</td>\n",
       "      <td>...</td>\n",
       "      <td>1</td>\n",
       "      <td>1</td>\n",
       "      <td>0</td>\n",
       "      <td>2</td>\n",
       "      <td>2</td>\n",
       "      <td>4</td>\n",
       "      <td>4</td>\n",
       "      <td>10</td>\n",
       "      <td>0</td>\n",
       "      <td>9.0</td>\n",
       "    </tr>\n",
       "    <tr>\n",
       "      <th>1307</th>\n",
       "      <td>sector 95</td>\n",
       "      <td>3</td>\n",
       "      <td>2.0</td>\n",
       "      <td>1.0</td>\n",
       "      <td>Moderately New Flat</td>\n",
       "      <td>836.71188</td>\n",
       "      <td>2.0</td>\n",
       "      <td>0</td>\n",
       "      <td>1</td>\n",
       "      <td>0</td>\n",
       "      <td>...</td>\n",
       "      <td>0</td>\n",
       "      <td>0</td>\n",
       "      <td>0</td>\n",
       "      <td>0</td>\n",
       "      <td>1</td>\n",
       "      <td>5</td>\n",
       "      <td>0</td>\n",
       "      <td>8</td>\n",
       "      <td>0</td>\n",
       "      <td>7.0</td>\n",
       "    </tr>\n",
       "  </tbody>\n",
       "</table>\n",
       "<p>5 rows × 25 columns</p>\n",
       "</div>"
      ],
      "text/plain": [
       "          sector  num_bedrooms  num_bathrooms  num_balconies  \\\n",
       "1621   sector 95             3            3.0            2.0   \n",
       "743   sector 112             3            5.0            4.0   \n",
       "1503   sector 85             4            4.0            3.0   \n",
       "2744   sector 37             3            3.0            3.0   \n",
       "1307   sector 95             3            2.0            1.0   \n",
       "\n",
       "                age_group  super_built_up_area  floor_number  servant_room  \\\n",
       "1621  Moderately New Flat           1965.00000           4.0             0   \n",
       "743   Moderately New Flat           2802.00000          22.0             1   \n",
       "1503  Moderately New Flat           2812.00000           7.0             1   \n",
       "2744  Moderately New Flat           1920.00000           7.0             0   \n",
       "1307  Moderately New Flat            836.71188           2.0             0   \n",
       "\n",
       "      furnished  Centrally Air Conditioned  ...  Swimming Pool  \\\n",
       "1621          0                          0  ...              0   \n",
       "743           1                          0  ...              0   \n",
       "1503          0                          0  ...              0   \n",
       "2744          1                          0  ...              1   \n",
       "1307          1                          0  ...              0   \n",
       "\n",
       "      Club house / Community Center  Piped-gas  ac  geyser  fan  wardrobe  \\\n",
       "1621                              0          0   0       0    0         1   \n",
       "743                               0          0   5       4    0         0   \n",
       "1503                              0          0   6       0    0         0   \n",
       "2744                              1          0   2       2    4         4   \n",
       "1307                              0          0   0       1    5         0   \n",
       "\n",
       "      light  Low Density Society  total_num_rooms  \n",
       "1621      0                    0              9.0  \n",
       "743       0                    0             13.0  \n",
       "1503      0                    0             14.0  \n",
       "2744     10                    0              9.0  \n",
       "1307      8                    0              7.0  \n",
       "\n",
       "[5 rows x 25 columns]"
      ]
     },
     "execution_count": 156,
     "metadata": {},
     "output_type": "execute_result"
    }
   ],
   "source": []
  },
  {
   "cell_type": "code",
   "execution_count": 105,
   "id": "d1246b7e",
   "metadata": {},
   "outputs": [],
   "source": [
    "X = price_prediction_data\n",
    "y = original_data['price']"
   ]
  },
  {
   "cell_type": "code",
   "execution_count": 106,
   "id": "63c05df4",
   "metadata": {},
   "outputs": [],
   "source": [
    "from sklearn.preprocessing import OrdinalEncoder\n",
    "\n",
    "categorical_columns = X.select_dtypes(include=['object']).columns\n",
    "for column_name in categorical_columns:\n",
    "    X[column_name] = OrdinalEncoder().fit_transform(X[[column_name]])"
   ]
  },
  {
   "cell_type": "code",
   "execution_count": 107,
   "id": "016c1174",
   "metadata": {},
   "outputs": [],
   "source": [
    "from sklearn.model_selection import cross_val_score\n",
    "from sklearn.ensemble import GradientBoostingRegressor\n",
    "\n",
    "gb = GradientBoostingRegressor(n_estimators=100, learning_rate=0.1, max_depth=3, random_state=42)\n",
    "\n",
    "scores = cross_val_score(gb, X, y, cv=5, scoring='r2')"
   ]
  },
  {
   "cell_type": "code",
   "execution_count": 108,
   "id": "dcc2d795",
   "metadata": {},
   "outputs": [
    {
     "data": {
      "text/plain": [
       "0.758560293382874"
      ]
     },
     "execution_count": 108,
     "metadata": {},
     "output_type": "execute_result"
    }
   ],
   "source": [
    "scores.mean()"
   ]
  },
  {
   "cell_type": "code",
   "execution_count": 109,
   "id": "63eb1d26",
   "metadata": {},
   "outputs": [
    {
     "name": "stdout",
     "output_type": "stream",
     "text": [
      "Mean Absolute Error: 0.3709284419541382\n"
     ]
    }
   ],
   "source": [
    "from sklearn.model_selection import train_test_split\n",
    "from sklearn.ensemble import GradientBoostingRegressor\n",
    "from sklearn.metrics import mean_absolute_error\n",
    "\n",
    "\n",
    "X_train, X_test, y_train, y_test = train_test_split(X, y, test_size=0.2, random_state=42)\n",
    "\n",
    "gb_regressor.fit(X_train, y_train.ravel())\n",
    "gb_regressor = GradientBoostingRegressor(n_estimators=100, learning_rate=0.1, max_depth=3, random_state=42)\n",
    "gb_regressor.fit(X_train, y_train.ravel())\n",
    "\n",
    "# Make predictions on the test set\n",
    "y_pred = gb_regressor.predict(X_test)\n",
    "\n",
    "# Calculate Mean Absolute Error on the test set\n",
    "mae = mean_absolute_error(y_test, y_pred)\n",
    "\n",
    "print(f'Mean Absolute Error: {mae}')"
   ]
  },
  {
   "cell_type": "code",
   "execution_count": 114,
   "id": "5e234833",
   "metadata": {},
   "outputs": [
    {
     "name": "stdout",
     "output_type": "stream",
     "text": [
      "Mean Absolute Error: 0.31323354219744254\n"
     ]
    }
   ],
   "source": [
    "from xgboost import XGBRegressor\n",
    "\n",
    "X_train, X_test, y_train, y_test = train_test_split(X, y, test_size=0.2, random_state=42)\n",
    "\n",
    "\n",
    "xgb_regressor = XGBRegressor()\n",
    "\n",
    "# Train the model on the training set\n",
    "xgb_regressor.fit(X_train, y_train)\n",
    "\n",
    "# Make predictions on the test set\n",
    "y_pred = xgb_regressor.predict(X_test)\n",
    "mae = mean_absolute_error(y_test, y_pred)\n",
    "\n",
    "print(f'Mean Absolute Error: {mae}')"
   ]
  },
  {
   "cell_type": "code",
   "execution_count": 115,
   "id": "8ca520d9",
   "metadata": {},
   "outputs": [
    {
     "data": {
      "text/plain": [
       "0.7496725029789144"
      ]
     },
     "execution_count": 115,
     "metadata": {},
     "output_type": "execute_result"
    }
   ],
   "source": [
    "from sklearn.metrics import r2_score\n",
    "r2_score(y_test, y_pred)"
   ]
  },
  {
   "cell_type": "code",
   "execution_count": 129,
   "id": "0090a1ed",
   "metadata": {},
   "outputs": [
    {
     "name": "stdout",
     "output_type": "stream",
     "text": [
      "100%|███████████████████████████████████████████████| 50/50 [01:20<00:00,  1.60s/trial, best loss: 0.35541783325290816]\n",
      "Best Hyperparameters:\n",
      "{'colsample_bytree': 0.503206723596417, 'gamma': 0.019010673210746596, 'learning_rate': 0.01860551689616581, 'max_depth': 15.0, 'n_estimators': 452.0, 'subsample': 0.817852356865858}\n"
     ]
    }
   ],
   "source": [
    "import xgboost as xgb\n",
    "from sklearn.model_selection import train_test_split\n",
    "from sklearn.metrics import mean_squared_error\n",
    "from hyperopt import fmin, tpe, hp\n",
    "import numpy as np\n",
    "\n",
    "price_prediction_data = original_data[important_columns]\n",
    "X = price_prediction_data\n",
    "y = original_data['price']\n",
    "X_train, X_test, y_train, y_test = train_test_split(X, y, test_size=0.2, random_state=42)\n",
    "\n",
    "\n",
    "# Define the objective function to minimize (Mean Squared Error)\n",
    "def objective(params):\n",
    "    model = xgb.XGBRegressor(\n",
    "        objective='reg:squarederror',\n",
    "        n_estimators=int(params['n_estimators']),\n",
    "        learning_rate=params['learning_rate'],\n",
    "        max_depth=int(params['max_depth']),\n",
    "        subsample=params['subsample'],\n",
    "        gamma=params['gamma'],\n",
    "        colsample_bytree=params['colsample_bytree']\n",
    "    )\n",
    "\n",
    "    model.fit(X_train, y_train.ravel())\n",
    "    y_pred = model.predict(X_test)\n",
    "    mse = mean_squared_error(y_test, y_pred)\n",
    "    return mse\n",
    "\n",
    "# Define the search space for hyperparameters\n",
    "space = {\n",
    "    'n_estimators': hp.quniform('n_estimators', 50, 500, 1),\n",
    "    'learning_rate': hp.loguniform('learning_rate', -5, 0),\n",
    "    'max_depth': hp.quniform('max_depth', 3, 15, 1),\n",
    "    'subsample': hp.uniform('subsample', 0.5, 1),\n",
    "    'gamma': hp.loguniform('gamma', -5, 0),\n",
    "    'colsample_bytree': hp.uniform('colsample_bytree', 0.5, 1)\n",
    "}\n",
    "\n",
    "# Use Hyperopt to find the best hyperparameters\n",
    "best = fmin(fn=objective, space=space, algo=tpe.suggest, max_evals=50, rstate=np.random.default_rng(42))\n",
    "\n",
    "# Print the best hyperparameters found\n",
    "print(\"Best Hyperparameters:\")\n",
    "print(best)\n"
   ]
  },
  {
   "cell_type": "code",
   "execution_count": 130,
   "id": "a702ac87",
   "metadata": {},
   "outputs": [
    {
     "name": "stdout",
     "output_type": "stream",
     "text": [
      "Mean Absolute Error: 0.2858711842609035\n"
     ]
    }
   ],
   "source": [
    "best_params = {\n",
    "    'colsample_bytree': 0.503206723596417, \n",
    "    'gamma': 0.019010673210746596, \n",
    "    'learning_rate': 0.01860551689616581, \n",
    "    'max_depth': 15.0, \n",
    "    'n_estimators': 452.0, \n",
    "    'subsample': 0.817852356865858\n",
    "}\n",
    "\n",
    "# Create an instance of XGBRegressor with the best hyperparameters\n",
    "xgb_regressor = xgb.XGBRegressor(\n",
    "    objective='reg:squarederror',\n",
    "    n_estimators=int(best_params['n_estimators']),\n",
    "    learning_rate=best_params['learning_rate'],\n",
    "    max_depth=int(best_params['max_depth']),\n",
    "    subsample=best_params['subsample'],\n",
    "    gamma=best_params['gamma'],\n",
    "    colsample_bytree=best_params['colsample_bytree']\n",
    ")\n",
    "\n",
    "# Train the model on the training set\n",
    "xgb_regressor.fit(X_train, y_train.ravel())\n",
    "\n",
    "# Make predictions on the test set\n",
    "y_pred = xgb_regressor.predict(X_test)\n",
    "\n",
    "# Calculate Mean Absolute Error on the test set\n",
    "mae = mean_absolute_error(y_test, y_pred)\n",
    "print(f'Mean Absolute Error: {mae}')"
   ]
  },
  {
   "cell_type": "code",
   "execution_count": 131,
   "id": "83f646e0",
   "metadata": {},
   "outputs": [
    {
     "data": {
      "text/plain": [
       "0.7925914621242851"
      ]
     },
     "execution_count": 131,
     "metadata": {},
     "output_type": "execute_result"
    }
   ],
   "source": [
    "r2_score(y_test, y_pred)"
   ]
  }
 ],
 "metadata": {
  "kernelspec": {
   "display_name": "Python 3 (ipykernel)",
   "language": "python",
   "name": "python3"
  },
  "language_info": {
   "codemirror_mode": {
    "name": "ipython",
    "version": 3
   },
   "file_extension": ".py",
   "mimetype": "text/x-python",
   "name": "python",
   "nbconvert_exporter": "python",
   "pygments_lexer": "ipython3",
   "version": "3.9.13"
  }
 },
 "nbformat": 4,
 "nbformat_minor": 5
}
