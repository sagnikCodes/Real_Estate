{
 "cells": [
  {
   "cell_type": "code",
   "execution_count": 1,
   "id": "3983fd5f",
   "metadata": {},
   "outputs": [],
   "source": [
    "import numpy as np\n",
    "import pandas as pd\n",
    "import matplotlib.pyplot as plt\n",
    "import seaborn as sns"
   ]
  },
  {
   "cell_type": "code",
   "execution_count": 2,
   "id": "ea3c97a0",
   "metadata": {},
   "outputs": [],
   "source": [
    "data = pd.read_csv('cleaned_data_v2.csv')"
   ]
  },
  {
   "cell_type": "code",
   "execution_count": 3,
   "id": "234b5c6e",
   "metadata": {},
   "outputs": [
    {
     "name": "stdout",
     "output_type": "stream",
     "text": [
      "<class 'pandas.core.frame.DataFrame'>\n",
      "RangeIndex: 2860 entries, 0 to 2859\n",
      "Data columns (total 84 columns):\n",
      " #   Column                           Non-Null Count  Dtype  \n",
      "---  ------                           --------------  -----  \n",
      " 0   price                            2860 non-null   float64\n",
      " 1   facing                           2054 non-null   object \n",
      " 2   property_id                      2860 non-null   object \n",
      " 3   sector                           2860 non-null   object \n",
      " 4   society_name                     2860 non-null   object \n",
      " 5   society_stars                    1646 non-null   float64\n",
      " 6   num_bedrooms                     2860 non-null   int64  \n",
      " 7   num_bathrooms                    2860 non-null   float64\n",
      " 8   num_balconies                    2860 non-null   float64\n",
      " 9   age_group                        2860 non-null   object \n",
      " 10  super_built_up_area              2860 non-null   float64\n",
      " 11  built_up_area                    2860 non-null   float64\n",
      " 12  carpet_area                      2860 non-null   float64\n",
      " 13  price_per_sqft                   2860 non-null   float64\n",
      " 14  floor_number                     2860 non-null   float64\n",
      " 15  total_floors                     2860 non-null   float64\n",
      " 16  servant_room                     2860 non-null   int64  \n",
      " 17  study_room                       2860 non-null   int64  \n",
      " 18  pooja_room                       2860 non-null   int64  \n",
      " 19  other_additional_room            2860 non-null   int64  \n",
      " 20  store_room                       2860 non-null   int64  \n",
      " 21  ac                               2860 non-null   int64  \n",
      " 22  bed                              2860 non-null   int64  \n",
      " 23  chimney                          2860 non-null   int64  \n",
      " 24  curtains                         2860 non-null   int64  \n",
      " 25  dining                           2860 non-null   int64  \n",
      " 26  exhaust                          2860 non-null   int64  \n",
      " 27  fan                              2860 non-null   int64  \n",
      " 28  fridge                           2860 non-null   int64  \n",
      " 29  geyser                           2860 non-null   int64  \n",
      " 30  light                            2860 non-null   int64  \n",
      " 31  microwave                        2860 non-null   int64  \n",
      " 32  modular                          2860 non-null   int64  \n",
      " 33  sofa                             2860 non-null   int64  \n",
      " 34  stove                            2860 non-null   int64  \n",
      " 35  tv                               2860 non-null   int64  \n",
      " 36  wardrobe                         2860 non-null   int64  \n",
      " 37  washing                          2860 non-null   int64  \n",
      " 38  water                            2860 non-null   int64  \n",
      " 39  Airy Rooms                       2860 non-null   int64  \n",
      " 40  Bank Attached Property           2860 non-null   int64  \n",
      " 41  Centrally Air Conditioned        2860 non-null   int64  \n",
      " 42  Club house / Community Center    2860 non-null   int64  \n",
      " 43  False Ceiling Lighting           2860 non-null   int64  \n",
      " 44  Feng Shui / Vaastu Compliant     2860 non-null   int64  \n",
      " 45  Fitness Centre / GYM             2860 non-null   int64  \n",
      " 46  High Ceiling Height              2860 non-null   int64  \n",
      " 47  Intercom Facility                2860 non-null   int64  \n",
      " 48  Internet/wi-fi connectivity      2860 non-null   int64  \n",
      " 49  Lift(s)                          2860 non-null   int64  \n",
      " 50  Low Density Society              2860 non-null   int64  \n",
      " 51  Maintenance Staff                2860 non-null   int64  \n",
      " 52  Natural Light                    2860 non-null   int64  \n",
      " 53  No open drainage around          2860 non-null   int64  \n",
      " 54  Park                             2860 non-null   int64  \n",
      " 55  Piped-gas                        2860 non-null   int64  \n",
      " 56  Power Back-up                    2860 non-null   int64  \n",
      " 57  Private Garden / Terrace         2860 non-null   int64  \n",
      " 58  Rain Water Harvesting            2860 non-null   int64  \n",
      " 59  Recently Renovated               2860 non-null   int64  \n",
      " 60  Security / Fire Alarm            2860 non-null   int64  \n",
      " 61  Security Personnel               2860 non-null   int64  \n",
      " 62  Separate entry for servant room  2860 non-null   int64  \n",
      " 63  Shopping Centre                  2860 non-null   int64  \n",
      " 64  Spacious Interiors               2860 non-null   int64  \n",
      " 65  Swimming Pool                    2860 non-null   int64  \n",
      " 66  Visitor Parking                  2860 non-null   int64  \n",
      " 67  Waste Disposal                   2860 non-null   int64  \n",
      " 68  Water Storage                    2860 non-null   int64  \n",
      " 69  Water purifier                   2860 non-null   int64  \n",
      " 70  Water softening plant            2860 non-null   int64  \n",
      " 71  amenities_rating                 1657 non-null   float64\n",
      " 72  connectivity_rating              2536 non-null   float64\n",
      " 73  construction_rating              1657 non-null   float64\n",
      " 74  environment_rating               879 non-null    float64\n",
      " 75  green area_rating                1657 non-null   float64\n",
      " 76  lifestyle_rating                 879 non-null    float64\n",
      " 77  management_rating                1657 non-null   float64\n",
      " 78  safety_rating                    879 non-null    float64\n",
      " 79  nearby_locations                 2777 non-null   object \n",
      " 80  description_keywords             2860 non-null   object \n",
      " 81  total_num_rooms                  2860 non-null   float64\n",
      " 82  furnished                        2860 non-null   int64  \n",
      " 83  floor_category                   2860 non-null   object \n",
      "dtypes: float64(19), int64(57), object(8)\n",
      "memory usage: 1.8+ MB\n"
     ]
    }
   ],
   "source": [
    "data.info()"
   ]
  },
  {
   "cell_type": "code",
   "execution_count": 5,
   "id": "b3a7d7c7",
   "metadata": {},
   "outputs": [
    {
     "data": {
      "image/png": "[encoded data removed]",
      "text/plain": [
       "<Figure size 640x480 with 1 Axes>"
      ]
     },
     "metadata": {},
     "output_type": "display_data"
    }
   ],
   "source": [
    "sns.boxplot(x=data['price'])\n",
    "plt.show()"
   ]
  },
  {
   "cell_type": "code",
   "execution_count": 12,
   "id": "5b92db9b",
   "metadata": {},
   "outputs": [],
   "source": [
    "data = data[data['price'] < 8.5]"
   ]
  },
  {
   "cell_type": "code",
   "execution_count": 13,
   "id": "1f7c3cd2",
   "metadata": {},
   "outputs": [
    {
     "data": {
      "image/png": "[encoded data removed]",
      "text/plain": [
       "<Figure size 640x480 with 1 Axes>"
      ]
     },
     "metadata": {},
     "output_type": "display_data"
    }
   ],
   "source": [
    "sns.boxplot(x=data['price'])\n",
    "plt.show()"
   ]
  },
  {
   "cell_type": "code",
   "execution_count": 14,
   "id": "83b06d21",
   "metadata": {},
   "outputs": [
    {
     "data": {
      "text/plain": [
       "3    1386\n",
       "2     888\n",
       "4     448\n",
       "1      96\n",
       "5      27\n",
       "6       2\n",
       "Name: num_bedrooms, dtype: int64"
      ]
     },
     "execution_count": 14,
     "metadata": {},
     "output_type": "execute_result"
    }
   ],
   "source": [
    "data['num_bedrooms'].value_counts() # only 2 6 BHK"
   ]
  },
  {
   "cell_type": "code",
   "execution_count": 15,
   "id": "d7cdc4d1",
   "metadata": {},
   "outputs": [],
   "source": [
    "data = data[data['num_bedrooms'] < 6]"
   ]
  },
  {
   "cell_type": "code",
   "execution_count": 16,
   "id": "e1572db9",
   "metadata": {},
   "outputs": [
    {
     "data": {
      "text/plain": [
       "2.0    981\n",
       "3.0    952\n",
       "4.0    610\n",
       "5.0    160\n",
       "1.0    106\n",
       "6.0     34\n",
       "7.0      2\n",
       "Name: num_bathrooms, dtype: int64"
      ]
     },
     "execution_count": 16,
     "metadata": {},
     "output_type": "execute_result"
    }
   ],
   "source": [
    "data['num_bathrooms'].value_counts()"
   ]
  },
  {
   "cell_type": "code",
   "execution_count": 17,
   "id": "0bc80490",
   "metadata": {},
   "outputs": [],
   "source": [
    "data = data[data['num_bathrooms'] < 7.0]"
   ]
  },
  {
   "cell_type": "code",
   "execution_count": 18,
   "id": "d6709542",
   "metadata": {},
   "outputs": [
    {
     "data": {
      "text/plain": [
       "<Axes: xlabel='super_built_up_area'>"
      ]
     },
     "execution_count": 18,
     "metadata": {},
     "output_type": "execute_result"
    },
    {
     "data": {
      "image/png": "[encoded data removed]",
      "text/plain": [
       "<Figure size 640x480 with 1 Axes>"
      ]
     },
     "metadata": {},
     "output_type": "display_data"
    }
   ],
   "source": [
    "sns.boxplot(x=data['super_built_up_area'])"
   ]
  },
  {
   "cell_type": "code",
   "execution_count": 20,
   "id": "c9955ba8",
   "metadata": {},
   "outputs": [
    {
     "data": {
      "text/html": [
       "<div>\n",
       "<style scoped>\n",
       "    .dataframe tbody tr th:only-of-type {\n",
       "        vertical-align: middle;\n",
       "    }\n",
       "\n",
       "    .dataframe tbody tr th {\n",
       "        vertical-align: top;\n",
       "    }\n",
       "\n",
       "    .dataframe thead th {\n",
       "        text-align: right;\n",
       "    }\n",
       "</style>\n",
       "<table border=\"1\" class=\"dataframe\">\n",
       "  <thead>\n",
       "    <tr style=\"text-align: right;\">\n",
       "      <th></th>\n",
       "      <th>price</th>\n",
       "      <th>facing</th>\n",
       "      <th>property_id</th>\n",
       "      <th>sector</th>\n",
       "      <th>society_name</th>\n",
       "      <th>society_stars</th>\n",
       "      <th>num_bedrooms</th>\n",
       "      <th>num_bathrooms</th>\n",
       "      <th>num_balconies</th>\n",
       "      <th>age_group</th>\n",
       "      <th>...</th>\n",
       "      <th>environment_rating</th>\n",
       "      <th>green area_rating</th>\n",
       "      <th>lifestyle_rating</th>\n",
       "      <th>management_rating</th>\n",
       "      <th>safety_rating</th>\n",
       "      <th>nearby_locations</th>\n",
       "      <th>description_keywords</th>\n",
       "      <th>total_num_rooms</th>\n",
       "      <th>furnished</th>\n",
       "      <th>floor_category</th>\n",
       "    </tr>\n",
       "  </thead>\n",
       "  <tbody>\n",
       "    <tr>\n",
       "      <th>695</th>\n",
       "      <td>4.45</td>\n",
       "      <td>North</td>\n",
       "      <td>W69548040</td>\n",
       "      <td>sector 104</td>\n",
       "      <td>ats triumph</td>\n",
       "      <td>3.9</td>\n",
       "      <td>4</td>\n",
       "      <td>5.0</td>\n",
       "      <td>4.0</td>\n",
       "      <td>Moderately New Flat</td>\n",
       "      <td>...</td>\n",
       "      <td>NaN</td>\n",
       "      <td>4.0</td>\n",
       "      <td>NaN</td>\n",
       "      <td>5.0</td>\n",
       "      <td>NaN</td>\n",
       "      <td>iffco chowk metro station|the esplanade mall|d...</td>\n",
       "      <td>at|triumph|popular|destination|buy|flat|sector...</td>\n",
       "      <td>13.0</td>\n",
       "      <td>0</td>\n",
       "      <td>High rise</td>\n",
       "    </tr>\n",
       "    <tr>\n",
       "      <th>787</th>\n",
       "      <td>6.00</td>\n",
       "      <td>North</td>\n",
       "      <td>M69605454</td>\n",
       "      <td>sector 113</td>\n",
       "      <td>tata gurgaon gateway</td>\n",
       "      <td>3.8</td>\n",
       "      <td>5</td>\n",
       "      <td>6.0</td>\n",
       "      <td>4.0</td>\n",
       "      <td>Moderately Old Flat</td>\n",
       "      <td>...</td>\n",
       "      <td>NaN</td>\n",
       "      <td>4.0</td>\n",
       "      <td>NaN</td>\n",
       "      <td>4.0</td>\n",
       "      <td>NaN</td>\n",
       "      <td>dwarka sector 21 metro station|gurgaon dreamz ...</td>\n",
       "      <td>situate|sector|gurgaon|tata|gurgaon|gateway|pl...</td>\n",
       "      <td>15.0</td>\n",
       "      <td>0</td>\n",
       "      <td>High rise</td>\n",
       "    </tr>\n",
       "  </tbody>\n",
       "</table>\n",
       "<p>2 rows × 84 columns</p>\n",
       "</div>"
      ],
      "text/plain": [
       "     price facing property_id      sector          society_name  \\\n",
       "695   4.45  North   W69548040  sector 104           ats triumph   \n",
       "787   6.00  North   M69605454  sector 113  tata gurgaon gateway   \n",
       "\n",
       "     society_stars  num_bedrooms  num_bathrooms  num_balconies  \\\n",
       "695            3.9             4            5.0            4.0   \n",
       "787            3.8             5            6.0            4.0   \n",
       "\n",
       "               age_group  ...  environment_rating  green area_rating  \\\n",
       "695  Moderately New Flat  ...                 NaN                4.0   \n",
       "787  Moderately Old Flat  ...                 NaN                4.0   \n",
       "\n",
       "     lifestyle_rating  management_rating  safety_rating  \\\n",
       "695               NaN                5.0            NaN   \n",
       "787               NaN                4.0            NaN   \n",
       "\n",
       "                                      nearby_locations  \\\n",
       "695  iffco chowk metro station|the esplanade mall|d...   \n",
       "787  dwarka sector 21 metro station|gurgaon dreamz ...   \n",
       "\n",
       "                                  description_keywords  total_num_rooms  \\\n",
       "695  at|triumph|popular|destination|buy|flat|sector...             13.0   \n",
       "787  situate|sector|gurgaon|tata|gurgaon|gateway|pl...             15.0   \n",
       "\n",
       "     furnished  floor_category  \n",
       "695          0       High rise  \n",
       "787          0       High rise  \n",
       "\n",
       "[2 rows x 84 columns]"
      ]
     },
     "execution_count": 20,
     "metadata": {},
     "output_type": "execute_result"
    }
   ],
   "source": [
    "data[data['super_built_up_area'] > 7000]"
   ]
  },
  {
   "cell_type": "code",
   "execution_count": 21,
   "id": "1c90b96e",
   "metadata": {},
   "outputs": [],
   "source": [
    "data = data[data['super_built_up_area'] < 7000]"
   ]
  },
  {
   "cell_type": "code",
   "execution_count": 22,
   "id": "29f1eacd",
   "metadata": {},
   "outputs": [
    {
     "data": {
      "text/plain": [
       "<Axes: xlabel='price_per_sqft'>"
      ]
     },
     "execution_count": 22,
     "metadata": {},
     "output_type": "execute_result"
    },
    {
     "data": {
      "image/png": "[encoded data removed]",
      "text/plain": [
       "<Figure size 640x480 with 1 Axes>"
      ]
     },
     "metadata": {},
     "output_type": "display_data"
    }
   ],
   "source": [
    "sns.boxplot(x=data['price_per_sqft'])"
   ]
  },
  {
   "cell_type": "code",
   "execution_count": 23,
   "id": "20d4b203",
   "metadata": {},
   "outputs": [
    {
     "data": {
      "text/html": [
       "<div>\n",
       "<style scoped>\n",
       "    .dataframe tbody tr th:only-of-type {\n",
       "        vertical-align: middle;\n",
       "    }\n",
       "\n",
       "    .dataframe tbody tr th {\n",
       "        vertical-align: top;\n",
       "    }\n",
       "\n",
       "    .dataframe thead th {\n",
       "        text-align: right;\n",
       "    }\n",
       "</style>\n",
       "<table border=\"1\" class=\"dataframe\">\n",
       "  <thead>\n",
       "    <tr style=\"text-align: right;\">\n",
       "      <th></th>\n",
       "      <th>price</th>\n",
       "      <th>facing</th>\n",
       "      <th>property_id</th>\n",
       "      <th>sector</th>\n",
       "      <th>society_name</th>\n",
       "      <th>society_stars</th>\n",
       "      <th>num_bedrooms</th>\n",
       "      <th>num_bathrooms</th>\n",
       "      <th>num_balconies</th>\n",
       "      <th>age_group</th>\n",
       "      <th>...</th>\n",
       "      <th>environment_rating</th>\n",
       "      <th>green area_rating</th>\n",
       "      <th>lifestyle_rating</th>\n",
       "      <th>management_rating</th>\n",
       "      <th>safety_rating</th>\n",
       "      <th>nearby_locations</th>\n",
       "      <th>description_keywords</th>\n",
       "      <th>total_num_rooms</th>\n",
       "      <th>furnished</th>\n",
       "      <th>floor_category</th>\n",
       "    </tr>\n",
       "  </thead>\n",
       "  <tbody>\n",
       "    <tr>\n",
       "      <th>280</th>\n",
       "      <td>5.7</td>\n",
       "      <td>East</td>\n",
       "      <td>N68022370</td>\n",
       "      <td>sector 54</td>\n",
       "      <td>dlf the grove</td>\n",
       "      <td>NaN</td>\n",
       "      <td>3</td>\n",
       "      <td>3.0</td>\n",
       "      <td>3.0</td>\n",
       "      <td>Under Construction</td>\n",
       "      <td>...</td>\n",
       "      <td>4.0</td>\n",
       "      <td>NaN</td>\n",
       "      <td>5.0</td>\n",
       "      <td>NaN</td>\n",
       "      <td>4.0</td>\n",
       "      <td>sector 54 chowk metro station|sector 53-54 met...</td>\n",
       "      <td>multistorey|apartment|resale|dlf|grove|sector|...</td>\n",
       "      <td>9.0</td>\n",
       "      <td>0</td>\n",
       "      <td>Low rise</td>\n",
       "    </tr>\n",
       "    <tr>\n",
       "      <th>1612</th>\n",
       "      <td>8.0</td>\n",
       "      <td>South-East</td>\n",
       "      <td>I68296122</td>\n",
       "      <td>sector 50</td>\n",
       "      <td>the penthouses at the hibiscus</td>\n",
       "      <td>NaN</td>\n",
       "      <td>4</td>\n",
       "      <td>3.0</td>\n",
       "      <td>3.0</td>\n",
       "      <td>Moderately Old Flat</td>\n",
       "      <td>...</td>\n",
       "      <td>5.0</td>\n",
       "      <td>NaN</td>\n",
       "      <td>5.0</td>\n",
       "      <td>NaN</td>\n",
       "      <td>4.0</td>\n",
       "      <td>sector 55-56 metro station|good earth city cen...</td>\n",
       "      <td>bedroom|sq|ft|middle|floor|penthouse|available...</td>\n",
       "      <td>11.0</td>\n",
       "      <td>0</td>\n",
       "      <td>Mid rise</td>\n",
       "    </tr>\n",
       "    <tr>\n",
       "      <th>2254</th>\n",
       "      <td>2.6</td>\n",
       "      <td>NaN</td>\n",
       "      <td>Z62308464</td>\n",
       "      <td>sohna road</td>\n",
       "      <td>breez global hill view</td>\n",
       "      <td>NaN</td>\n",
       "      <td>2</td>\n",
       "      <td>2.0</td>\n",
       "      <td>2.0</td>\n",
       "      <td>New Flat</td>\n",
       "      <td>...</td>\n",
       "      <td>4.0</td>\n",
       "      <td>NaN</td>\n",
       "      <td>4.0</td>\n",
       "      <td>NaN</td>\n",
       "      <td>4.0</td>\n",
       "      <td>huda city centre|omaxe city centre|ninex city ...</td>\n",
       "      <td>proud|owner|bhk|apartment|available|sohna|gurg...</td>\n",
       "      <td>6.0</td>\n",
       "      <td>0</td>\n",
       "      <td>Low rise</td>\n",
       "    </tr>\n",
       "  </tbody>\n",
       "</table>\n",
       "<p>3 rows × 84 columns</p>\n",
       "</div>"
      ],
      "text/plain": [
       "      price      facing property_id      sector  \\\n",
       "280     5.7        East   N68022370   sector 54   \n",
       "1612    8.0  South-East   I68296122   sector 50   \n",
       "2254    2.6         NaN   Z62308464  sohna road   \n",
       "\n",
       "                        society_name  society_stars  num_bedrooms  \\\n",
       "280                    dlf the grove            NaN             3   \n",
       "1612  the penthouses at the hibiscus            NaN             4   \n",
       "2254          breez global hill view            NaN             2   \n",
       "\n",
       "      num_bathrooms  num_balconies            age_group  ...  \\\n",
       "280             3.0            3.0   Under Construction  ...   \n",
       "1612            3.0            3.0  Moderately Old Flat  ...   \n",
       "2254            2.0            2.0             New Flat  ...   \n",
       "\n",
       "      environment_rating  green area_rating  lifestyle_rating  \\\n",
       "280                  4.0                NaN               5.0   \n",
       "1612                 5.0                NaN               5.0   \n",
       "2254                 4.0                NaN               4.0   \n",
       "\n",
       "      management_rating  safety_rating  \\\n",
       "280                 NaN            4.0   \n",
       "1612                NaN            4.0   \n",
       "2254                NaN            4.0   \n",
       "\n",
       "                                       nearby_locations  \\\n",
       "280   sector 54 chowk metro station|sector 53-54 met...   \n",
       "1612  sector 55-56 metro station|good earth city cen...   \n",
       "2254  huda city centre|omaxe city centre|ninex city ...   \n",
       "\n",
       "                                   description_keywords  total_num_rooms  \\\n",
       "280   multistorey|apartment|resale|dlf|grove|sector|...              9.0   \n",
       "1612  bedroom|sq|ft|middle|floor|penthouse|available...             11.0   \n",
       "2254  proud|owner|bhk|apartment|available|sohna|gurg...              6.0   \n",
       "\n",
       "      furnished  floor_category  \n",
       "280           0        Low rise  \n",
       "1612          0        Mid rise  \n",
       "2254          0        Low rise  \n",
       "\n",
       "[3 rows x 84 columns]"
      ]
     },
     "execution_count": 23,
     "metadata": {},
     "output_type": "execute_result"
    }
   ],
   "source": [
    "data[data['price_per_sqft'] > 30000]"
   ]
  },
  {
   "cell_type": "code",
   "execution_count": 24,
   "id": "6cb6f63e",
   "metadata": {},
   "outputs": [],
   "source": [
    "data = data[data['price_per_sqft'] < 30000]"
   ]
  },
  {
   "cell_type": "code",
   "execution_count": 25,
   "id": "452d2878",
   "metadata": {},
   "outputs": [
    {
     "data": {
      "text/plain": [
       "2838"
      ]
     },
     "execution_count": 25,
     "metadata": {},
     "output_type": "execute_result"
    }
   ],
   "source": [
    "data.shape[0]"
   ]
  },
  {
   "cell_type": "code",
   "execution_count": 26,
   "id": "6a813410",
   "metadata": {},
   "outputs": [],
   "source": [
    "data.to_csv('data_cleaned_v3.csv', index=False)"
   ]
  },
  {
   "cell_type": "code",
   "execution_count": null,
   "id": "ebaeed25",
   "metadata": {},
   "outputs": [],
   "source": []
  }
 ],
 "metadata": {
  "kernelspec": {
   "display_name": "Python 3 (ipykernel)",
   "language": "python",
   "name": "python3"
  },
  "language_info": {
   "codemirror_mode": {
    "name": "ipython",
    "version": 3
   },
   "file_extension": ".py",
   "mimetype": "text/x-python",
   "name": "python",
   "nbconvert_exporter": "python",
   "pygments_lexer": "ipython3",
   "version": "3.9.13"
  }
 },
 "nbformat": 4,
 "nbformat_minor": 5
}
